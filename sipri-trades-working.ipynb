{
 "cells": [
  {
   "source": [
    "# Lords of War: An Arms Trade Analysis"
   ],
   "cell_type": "markdown",
   "metadata": {}
  },
  {
   "cell_type": "markdown",
   "metadata": {
    "toc": true
   },
   "source": [
    "<h1>Table of Contents<span class=\"tocSkip\"></span></h1>\n",
    "<div class=\"toc\"><ul class=\"toc-item\"><li><span><a href=\"#Loading-in-libraries-and-data\" data-toc-modified-id=\"Loading-in-libraries-and-data-1\"><span class=\"toc-item-num\">1&nbsp;&nbsp;</span>Loading in libraries and data</a></span><ul class=\"toc-item\"><li><span><a href=\"#Setting-presentation-style\" data-toc-modified-id=\"Setting-presentation-style-1.1\"><span class=\"toc-item-num\">1.1&nbsp;&nbsp;</span>Setting presentation style</a></span></li><li><span><a href=\"#Delimeter-&quot;\\t&quot;-leads-to-a-lot-of-mess-upon-import\" data-toc-modified-id=\"Delimeter-&quot;\\t&quot;-leads-to-a-lot-of-mess-upon-import-1.2\"><span class=\"toc-item-num\">1.2&nbsp;&nbsp;</span>Delimeter \"\\t\" leads to a lot of mess upon import</a></span><ul class=\"toc-item\"><li><span><a href=\"#Focus-in-on-Recipient-and-Supplier-column,-the-entities/actors-trading\" data-toc-modified-id=\"Focus-in-on-Recipient-and-Supplier-column,-the-entities/actors-trading-1.2.1\"><span class=\"toc-item-num\">1.2.1&nbsp;&nbsp;</span>Focus in on Recipient and Supplier column, the entities/actors trading</a></span></li><li><span><a href=\"#Get-recipients-via.-finding-&quot;R:&quot;,-drop-nans(?),-get-suppliers-at-R---1-before.\" data-toc-modified-id=\"Get-recipients-via.-finding-&quot;R:&quot;,-drop-nans(?),-get-suppliers-at-R---1-before.-1.2.2\"><span class=\"toc-item-num\">1.2.2&nbsp;&nbsp;</span>Get recipients via. finding \"R:\", drop nans(?), get suppliers at R - 1 before.</a></span></li></ul></li><li><span><a href=\"#Inserting-new-columns----Supplier\" data-toc-modified-id=\"Inserting-new-columns----Supplier-1.3\"><span class=\"toc-item-num\">1.3&nbsp;&nbsp;</span>Inserting new columns -- Supplier</a></span></li><li><span><a href=\"#Creating-a-dataframe-of-shifted-values-to-the-Suppliers-column,-as-the-columns-are-shifted-off\" data-toc-modified-id=\"Creating-a-dataframe-of-shifted-values-to-the-Suppliers-column,-as-the-columns-are-shifted-off-1.4\"><span class=\"toc-item-num\">1.4&nbsp;&nbsp;</span>Creating a dataframe of shifted values to the Suppliers column, as the columns are shifted off</a></span><ul class=\"toc-item\"><li><span><a href=\"#Replace-original-with-shifted\" data-toc-modified-id=\"Replace-original-with-shifted-1.4.1\"><span class=\"toc-item-num\">1.4.1&nbsp;&nbsp;</span>Replace original with shifted</a></span></li></ul></li><li><span><a href=\"#Repeating-Supplier-process-for-Recipient-column\" data-toc-modified-id=\"Repeating-Supplier-process-for-Recipient-column-1.5\"><span class=\"toc-item-num\">1.5&nbsp;&nbsp;</span>Repeating Supplier process for Recipient column</a></span></li></ul></li><li><span><a href=\"#Dropping-null-columns\" data-toc-modified-id=\"Dropping-null-columns-2\"><span class=\"toc-item-num\">2&nbsp;&nbsp;</span>Dropping null columns</a></span><ul class=\"toc-item\"><li><ul class=\"toc-item\"><li><span><a href=\"#With-recipient-and-supplier-separated,-drop-the-combined-column\" data-toc-modified-id=\"With-recipient-and-supplier-separated,-drop-the-combined-column-2.0.1\"><span class=\"toc-item-num\">2.0.1&nbsp;&nbsp;</span>With recipient and supplier separated, drop the combined column</a></span></li><li><span><a href=\"#Removing-&quot;R:&quot;-from-Recipient\" data-toc-modified-id=\"Removing-&quot;R:&quot;-from-Recipient-2.0.2\"><span class=\"toc-item-num\">2.0.2&nbsp;&nbsp;</span>Removing \"R:\" from Recipient</a></span></li></ul></li></ul></li><li><span><a href=\"#Renaming-remaining-columns-appropriately\" data-toc-modified-id=\"Renaming-remaining-columns-appropriately-3\"><span class=\"toc-item-num\">3&nbsp;&nbsp;</span>Renaming remaining columns appropriately</a></span><ul class=\"toc-item\"><li><span><a href=\"#Blank-column,-not-NaN-but-empty-string\" data-toc-modified-id=\"Blank-column,-not-NaN-but-empty-string-3.1\"><span class=\"toc-item-num\">3.1&nbsp;&nbsp;</span>Blank column, not NaN but empty string</a></span></li><li><span><a href=\"#Forward-fill-repeated-Suppliers\" data-toc-modified-id=\"Forward-fill-repeated-Suppliers-3.2\"><span class=\"toc-item-num\">3.2&nbsp;&nbsp;</span>Forward fill repeated Suppliers</a></span><ul class=\"toc-item\"><li><span><a href=\"#As-the-first-occurrences-are-always-just-indicating-suppliers,-they-can-be-dropped\" data-toc-modified-id=\"As-the-first-occurrences-are-always-just-indicating-suppliers,-they-can-be-dropped-3.2.1\"><span class=\"toc-item-num\">3.2.1&nbsp;&nbsp;</span>As the first occurrences are always just indicating suppliers, they can be dropped</a></span></li></ul></li></ul></li><li><span><a href=\"#Saving-cleaned-df2-to-csv\" data-toc-modified-id=\"Saving-cleaned-df2-to-csv-4\"><span class=\"toc-item-num\">4&nbsp;&nbsp;</span>Saving cleaned df2 to csv</a></span><ul class=\"toc-item\"><li><span><a href=\"#NaN-in-DeliveryYear-and-NDelivered-represent-pending-deals-per-SIPRI\" data-toc-modified-id=\"NaN-in-DeliveryYear-and-NDelivered-represent-pending-deals-per-SIPRI-4.1\"><span class=\"toc-item-num\">4.1&nbsp;&nbsp;</span>NaN in DeliveryYear and NDelivered represent pending deals per SIPRI</a></span><ul class=\"toc-item\"><li><span><a href=\"#Lack-of-comments-replaced-with-&quot;None&quot;\" data-toc-modified-id=\"Lack-of-comments-replaced-with-&quot;None&quot;-4.1.1\"><span class=\"toc-item-num\">4.1.1&nbsp;&nbsp;</span>Lack of comments replaced with \"None\"</a></span></li></ul></li><li><span><a href=\"#Forward-filling-recipients-and-not-just-suppliers\" data-toc-modified-id=\"Forward-filling-recipients-and-not-just-suppliers-4.2\"><span class=\"toc-item-num\">4.2&nbsp;&nbsp;</span>Forward filling recipients and not just suppliers</a></span></li><li><span><a href=\"#Removing-(-and-)-from-no.-Ordered-and-Delivered\" data-toc-modified-id=\"Removing-(-and-)-from-no.-Ordered-and-Delivered-4.3\"><span class=\"toc-item-num\">4.3&nbsp;&nbsp;</span>Removing ( and ) from no. Ordered and Delivered</a></span></li></ul></li><li><span><a href=\"#Beginning-work-on-an-OrderYear-time-series\" data-toc-modified-id=\"Beginning-work-on-an-OrderYear-time-series-5\"><span class=\"toc-item-num\">5&nbsp;&nbsp;</span>Beginning work on an OrderYear time series</a></span></li><li><span><a href=\"#Plotting:-big-difference-in-Suppliers-vs.-Recipients\" data-toc-modified-id=\"Plotting:-big-difference-in-Suppliers-vs.-Recipients-6\"><span class=\"toc-item-num\">6&nbsp;&nbsp;</span>Plotting: big difference in Suppliers vs. Recipients</a></span><ul class=\"toc-item\"><li><span><a href=\"#Recipient-+-supplier-combos-df\" data-toc-modified-id=\"Recipient-+-supplier-combos-df-6.1\"><span class=\"toc-item-num\">6.1&nbsp;&nbsp;</span>Recipient + supplier combos df</a></span></li></ul></li><li><span><a href=\"#Top-trading-partners-plot,-the-US-is-the-biggest-supplier\" data-toc-modified-id=\"Top-trading-partners-plot,-the-US-is-the-biggest-supplier-7\"><span class=\"toc-item-num\">7&nbsp;&nbsp;</span>Top trading partners plot, the US is the biggest supplier</a></span></li><li><span><a href=\"#Dataframe-of-the-US-vs.-all-other-Suppliers\" data-toc-modified-id=\"Dataframe-of-the-US-vs.-all-other-Suppliers-8\"><span class=\"toc-item-num\">8&nbsp;&nbsp;</span>Dataframe of the US vs. all other Suppliers</a></span></li><li><span><a href=\"#Replace-with-mean-year-of-delivery-year-estimations----should-do-this-on-other-DFs\" data-toc-modified-id=\"Replace-with-mean-year-of-delivery-year-estimations----should-do-this-on-other-DFs-9\"><span class=\"toc-item-num\">9&nbsp;&nbsp;</span>Replace with mean year of delivery year estimations -- should do this on other DFs</a></span></li><li><span><a href=\"#Cleaning-up-Recipient-and-mostly-Supplier-for-trailing-whitespace-and-difficult-characters-for-Neo4j\" data-toc-modified-id=\"Cleaning-up-Recipient-and-mostly-Supplier-for-trailing-whitespace-and-difficult-characters-for-Neo4j-10\"><span class=\"toc-item-num\">10&nbsp;&nbsp;</span>Cleaning up Recipient and mostly Supplier for trailing whitespace and difficult characters for Neo4j</a></span><ul class=\"toc-item\"><li><span><a href=\"#problems-with-'-with-neo4j-querying-means-it-needs-to-be-removed\" data-toc-modified-id=\"problems-with-'-with-neo4j-querying-means-it-needs-to-be-removed-10.1\"><span class=\"toc-item-num\">10.1&nbsp;&nbsp;</span>problems with ' with neo4j querying means it needs to be removed</a></span></li></ul></li><li><span><a href=\"#Py2Neo:-Neo4j-integration----creating-Actors-for-states-with-Names\" data-toc-modified-id=\"Py2Neo:-Neo4j-integration----creating-Actors-for-states-with-Names-11\"><span class=\"toc-item-num\">11&nbsp;&nbsp;</span>Py2Neo: Neo4j integration -- creating Actors for states with Names</a></span><ul class=\"toc-item\"><li><span><a href=\"#Creates-Actors-that-supply-and-receive-in-Neo4j\" data-toc-modified-id=\"Creates-Actors-that-supply-and-receive-in-Neo4j-11.1\"><span class=\"toc-item-num\">11.1&nbsp;&nbsp;</span>Creates Actors that supply and receive in Neo4j</a></span></li><li><span><a href=\"#In-retrospect-the-above-could've-been-performed-on-the-columns-I-clean-anyway.-Womp.\" data-toc-modified-id=\"In-retrospect-the-above-could've-been-performed-on-the-columns-I-clean-anyway.-Womp.-11.2\"><span class=\"toc-item-num\">11.2&nbsp;&nbsp;</span>In retrospect the above could've been performed on the columns I clean anyway. Womp.</a></span></li><li><span><a href=\"#Creates-relationship-of-Actor-supplied--->-Actor-with-properties-minus-Comments-of-columns,-takes-a-hot-minute----TBD:-Clean-up-comment-text-to-include\" data-toc-modified-id=\"Creates-relationship-of-Actor-supplied--->-Actor-with-properties-minus-Comments-of-columns,-takes-a-hot-minute----TBD:-Clean-up-comment-text-to-include-11.3\"><span class=\"toc-item-num\">11.3&nbsp;&nbsp;</span>Creates relationship of Actor supplied --&gt; Actor with properties minus Comments of columns, takes a hot minute -- TBD: Clean up comment text to include</a></span><ul class=\"toc-item\"><li><span><a href=\"#Amount-of-transactions-in-final_df-for-sense-of-scale-of-the-produced-graph-DB\" data-toc-modified-id=\"Amount-of-transactions-in-final_df-for-sense-of-scale-of-the-produced-graph-DB-11.3.1\"><span class=\"toc-item-num\">11.3.1&nbsp;&nbsp;</span>Amount of transactions in final_df for sense of scale of the produced graph DB</a></span></li></ul></li></ul></li><li><span><a href=\"#NLP-Exploration-of-Comments\" data-toc-modified-id=\"NLP-Exploration-of-Comments-12\"><span class=\"toc-item-num\">12&nbsp;&nbsp;</span>NLP Exploration of Comments</a></span><ul class=\"toc-item\"><li><span><a href=\"#T-sne-and-UMAP-on-text-off-Comments:-need-to-clean-up-previous-bool_df\" data-toc-modified-id=\"T-sne-and-UMAP-on-text-off-Comments:-need-to-clean-up-previous-bool_df-12.1\"><span class=\"toc-item-num\">12.1&nbsp;&nbsp;</span>T-sne and UMAP on text off Comments: need to clean up previous bool_df</a></span></li><li><span><a href=\"#Comments-T-SNE-with-y-of-Supplier\" data-toc-modified-id=\"Comments-T-SNE-with-y-of-Supplier-12.2\"><span class=\"toc-item-num\">12.2&nbsp;&nbsp;</span>Comments T-SNE with y of Supplier</a></span></li><li><span><a href=\"#UMAP-version-of-above\" data-toc-modified-id=\"UMAP-version-of-above-12.3\"><span class=\"toc-item-num\">12.3&nbsp;&nbsp;</span>UMAP version of above</a></span></li><li><span><a href=\"#UMAP-Clustering-all-comments-with-corresponding-words-to-clusters\" data-toc-modified-id=\"UMAP-Clustering-all-comments-with-corresponding-words-to-clusters-12.4\"><span class=\"toc-item-num\">12.4&nbsp;&nbsp;</span>UMAP Clustering all comments with corresponding words to clusters</a></span></li><li><span><a href=\"#Wordcloud-because-I'm-basic----second-hand-and-aid-dominate\" data-toc-modified-id=\"Wordcloud-because-I'm-basic----second-hand-and-aid-dominate-12.5\"><span class=\"toc-item-num\">12.5&nbsp;&nbsp;</span>Wordcloud because I'm basic -- second hand and aid dominate</a></span></li></ul></li><li><span><a href=\"#New-Library-and-NetworkX-time\" data-toc-modified-id=\"New-Library-and-NetworkX-time-13\"><span class=\"toc-item-num\">13&nbsp;&nbsp;</span>New Library and NetworkX time</a></span><ul class=\"toc-item\"><li><span><a href=\"#Centrality-algorithms---Bolivia-is-pagerank'd-and-otherwise-the-US-is-central\" data-toc-modified-id=\"Centrality-algorithms---Bolivia-is-pagerank'd-and-otherwise-the-US-is-central-13.1\"><span class=\"toc-item-num\">13.1&nbsp;&nbsp;</span>Centrality algorithms - Bolivia is pagerank'd and otherwise the US is central</a></span></li><li><span><a href=\"#Deriving-propogation-communities-of-interacting-nodes\" data-toc-modified-id=\"Deriving-propogation-communities-of-interacting-nodes-13.2\"><span class=\"toc-item-num\">13.2&nbsp;&nbsp;</span>Deriving propogation communities of interacting nodes</a></span></li><li><span><a href=\"#Removing-all-singleton-groups\" data-toc-modified-id=\"Removing-all-singleton-groups-13.3\"><span class=\"toc-item-num\">13.3&nbsp;&nbsp;</span>Removing all singleton groups</a></span></li><li><span><a href=\"#Checking-if-component-nodes-are-connected----all-are\" data-toc-modified-id=\"Checking-if-component-nodes-are-connected----all-are-13.4\"><span class=\"toc-item-num\">13.4&nbsp;&nbsp;</span>Checking if component nodes are connected -- all are</a></span></li></ul></li><li><span><a href=\"#Geospatial-work---TBD/WORK-IN-PROGRESS\" data-toc-modified-id=\"Geospatial-work---TBD/WORK-IN-PROGRESS-14\"><span class=\"toc-item-num\">14&nbsp;&nbsp;</span>Geospatial work - TBD/WORK IN PROGRESS</a></span><ul class=\"toc-item\"><li><ul class=\"toc-item\"><li><span><a href=\"#Groups-linked-to-countries-need-to-be-changed-to-that-country-for-this-mapping\" data-toc-modified-id=\"Groups-linked-to-countries-need-to-be-changed-to-that-country-for-this-mapping-14.0.1\"><span class=\"toc-item-num\">14.0.1&nbsp;&nbsp;</span>Groups linked to countries need to be changed to that country for this mapping</a></span></li></ul></li></ul></li><li><span><a href=\"#Data-prep-for-binary-classification-of-U.S.-or-not-as-supplier\" data-toc-modified-id=\"Data-prep-for-binary-classification-of-U.S.-or-not-as-supplier-15\"><span class=\"toc-item-num\">15&nbsp;&nbsp;</span>Data prep for binary classification of U.S. or not as supplier</a></span><ul class=\"toc-item\"><li><span><a href=\"#Dropping-Comments,-N-Ordered-and-Delivered\" data-toc-modified-id=\"Dropping-Comments,-N-Ordered-and-Delivered-15.1\"><span class=\"toc-item-num\">15.1&nbsp;&nbsp;</span>Dropping Comments, N Ordered and Delivered</a></span></li><li><span><a href=\"#Saving-modeling-dataframe\" data-toc-modified-id=\"Saving-modeling-dataframe-15.2\"><span class=\"toc-item-num\">15.2&nbsp;&nbsp;</span>Saving modeling dataframe</a></span></li><li><span><a href=\"#Test-train-split\" data-toc-modified-id=\"Test-train-split-15.3\"><span class=\"toc-item-num\">15.3&nbsp;&nbsp;</span>Test-train split</a></span></li></ul></li><li><span><a href=\"#Comparing-performance-with-scaling-encoded-features\" data-toc-modified-id=\"Comparing-performance-with-scaling-encoded-features-16\"><span class=\"toc-item-num\">16&nbsp;&nbsp;</span>Comparing performance with scaling encoded features</a></span><ul class=\"toc-item\"><li><span><a href=\"#Test-train-split\" data-toc-modified-id=\"Test-train-split-16.1\"><span class=\"toc-item-num\">16.1&nbsp;&nbsp;</span>Test-train split</a></span></li></ul></li><li><span><a href=\"#Up-to-1000-dummy-variables-per-feature,-brought-down-via.-PCA\" data-toc-modified-id=\"Up-to-1000-dummy-variables-per-feature,-brought-down-via.-PCA-17\"><span class=\"toc-item-num\">17&nbsp;&nbsp;</span>Up to 1000 dummy variables per feature, brought down via. PCA</a></span><ul class=\"toc-item\"><li><span><a href=\"#Examination-of-rare-categories\" data-toc-modified-id=\"Examination-of-rare-categories-17.1\"><span class=\"toc-item-num\">17.1&nbsp;&nbsp;</span>Examination of rare categories</a></span></li></ul></li></ul></div>"
   ]
  },
  {
   "source": [
    "# ( Information from the Stockholm International Peace Research Institute (SIPRI), https://www.sipri.org/ )"
   ],
   "cell_type": "markdown",
   "metadata": {}
  },
  {
   "source": [
    "# Loading in libraries and data"
   ],
   "cell_type": "markdown",
   "metadata": {}
  },
  {
   "cell_type": "code",
   "execution_count": 1,
   "metadata": {
    "ExecuteTime": {
     "end_time": "2021-02-08T14:26:53.859636Z",
     "start_time": "2021-02-08T14:26:52.410177Z"
    }
   },
   "outputs": [],
   "source": [
    "import pandas as pd \n",
    "import matplotlib.pyplot as plt \n",
    "import seaborn as sns\n",
    "import numpy as np "
   ]
  },
  {
   "cell_type": "markdown",
   "metadata": {},
   "source": [
    "## Setting presentation style"
   ]
  },
  {
   "cell_type": "code",
   "execution_count": 4,
   "metadata": {
    "ExecuteTime": {
     "end_time": "2021-02-08T14:27:07.854752Z",
     "start_time": "2021-02-08T14:27:07.845719Z"
    }
   },
   "outputs": [],
   "source": [
    "sns.set_style(\"dark\")\n",
    "sns.set_context(\"poster\")"
   ]
  },
  {
   "cell_type": "markdown",
   "metadata": {},
   "source": [
    "## Delimeter \"\\t\" leads to a lot of mess upon import but is the best way found to load in (TBD: Refactor to data prep/loading function)"
   ]
  },
  {
   "cell_type": "code",
   "execution_count": 5,
   "metadata": {
    "ExecuteTime": {
     "end_time": "2021-02-01T18:00:57.351837Z",
     "start_time": "2021-02-01T18:00:57.242168Z"
    }
   },
   "outputs": [
    {
     "output_type": "execute_result",
     "data": {
      "text/plain": [
       "        Unnamed: 0 Unnamed: 1  Unnamed: 2 Unnamed: 3         Year(s)  \\\n",
       "0              NaN        NaN         NaN        NaN     NaN     NaN   \n",
       "1              NaN        NaN         NaN        NaN     NaN     NaN   \n",
       "2          Albania        NaN         NaN        NaN     NaN     NaN   \n",
       "3  R: Burkina Faso       (12)  M-43 120mm     Mortar  (2011)    2011   \n",
       "4              NaN        NaN         NaN        NaN     NaN     NaN   \n",
       "\n",
       "  Unnamed: 6             Supplier/ Unnamed: 8  No.  ...  No.   Unnamed: 15  \\\n",
       "0        NaN                   NaN        NaN  NaN  ...   NaN          NaN   \n",
       "1        NaN                   NaN        NaN  NaN  ...   NaN          NaN   \n",
       "2        NaN                   NaN        NaN  NaN  ...   NaN          NaN   \n",
       "3         12  Probably second-hand        NaN  NaN  ...   NaN          NaN   \n",
       "4        NaN                   NaN        NaN  NaN  ...   NaN          NaN   \n",
       "\n",
       "   recipient (R)  ordered  designation  description  of order  delivery  \\\n",
       "0            NaN      NaN          NaN          NaN       NaN       NaN   \n",
       "1            NaN      NaN          NaN          NaN       NaN       NaN   \n",
       "2            NaN      NaN          NaN          NaN       NaN       NaN   \n",
       "3            NaN      NaN          NaN          NaN       NaN       NaN   \n",
       "4            NaN      NaN          NaN          NaN       NaN       NaN   \n",
       "\n",
       "   delivered  Comments  \n",
       "0        NaN       NaN  \n",
       "1        NaN       NaN  \n",
       "2        NaN       NaN  \n",
       "3        NaN       NaN  \n",
       "4        NaN       NaN  \n",
       "\n",
       "[5 rows x 24 columns]"
      ],
      "text/html": "<div>\n<style scoped>\n    .dataframe tbody tr th:only-of-type {\n        vertical-align: middle;\n    }\n\n    .dataframe tbody tr th {\n        vertical-align: top;\n    }\n\n    .dataframe thead th {\n        text-align: right;\n    }\n</style>\n<table border=\"1\" class=\"dataframe\">\n  <thead>\n    <tr style=\"text-align: right;\">\n      <th></th>\n      <th>Unnamed: 0</th>\n      <th>Unnamed: 1</th>\n      <th>Unnamed: 2</th>\n      <th>Unnamed: 3</th>\n      <th></th>\n      <th>Year(s)</th>\n      <th>Unnamed: 6</th>\n      <th>Supplier/</th>\n      <th>Unnamed: 8</th>\n      <th>No.</th>\n      <th>...</th>\n      <th>No.</th>\n      <th>Unnamed: 15</th>\n      <th>recipient (R)</th>\n      <th>ordered</th>\n      <th>designation</th>\n      <th>description</th>\n      <th>of order</th>\n      <th>delivery</th>\n      <th>delivered</th>\n      <th>Comments</th>\n    </tr>\n  </thead>\n  <tbody>\n    <tr>\n      <th>0</th>\n      <td>NaN</td>\n      <td>NaN</td>\n      <td>NaN</td>\n      <td>NaN</td>\n      <td>NaN</td>\n      <td>NaN</td>\n      <td>NaN</td>\n      <td>NaN</td>\n      <td>NaN</td>\n      <td>NaN</td>\n      <td>...</td>\n      <td>NaN</td>\n      <td>NaN</td>\n      <td>NaN</td>\n      <td>NaN</td>\n      <td>NaN</td>\n      <td>NaN</td>\n      <td>NaN</td>\n      <td>NaN</td>\n      <td>NaN</td>\n      <td>NaN</td>\n    </tr>\n    <tr>\n      <th>1</th>\n      <td>NaN</td>\n      <td>NaN</td>\n      <td>NaN</td>\n      <td>NaN</td>\n      <td>NaN</td>\n      <td>NaN</td>\n      <td>NaN</td>\n      <td>NaN</td>\n      <td>NaN</td>\n      <td>NaN</td>\n      <td>...</td>\n      <td>NaN</td>\n      <td>NaN</td>\n      <td>NaN</td>\n      <td>NaN</td>\n      <td>NaN</td>\n      <td>NaN</td>\n      <td>NaN</td>\n      <td>NaN</td>\n      <td>NaN</td>\n      <td>NaN</td>\n    </tr>\n    <tr>\n      <th>2</th>\n      <td>Albania</td>\n      <td>NaN</td>\n      <td>NaN</td>\n      <td>NaN</td>\n      <td>NaN</td>\n      <td>NaN</td>\n      <td>NaN</td>\n      <td>NaN</td>\n      <td>NaN</td>\n      <td>NaN</td>\n      <td>...</td>\n      <td>NaN</td>\n      <td>NaN</td>\n      <td>NaN</td>\n      <td>NaN</td>\n      <td>NaN</td>\n      <td>NaN</td>\n      <td>NaN</td>\n      <td>NaN</td>\n      <td>NaN</td>\n      <td>NaN</td>\n    </tr>\n    <tr>\n      <th>3</th>\n      <td>R: Burkina Faso</td>\n      <td>(12)</td>\n      <td>M-43 120mm</td>\n      <td>Mortar</td>\n      <td>(2011)</td>\n      <td>2011</td>\n      <td>12</td>\n      <td>Probably second-hand</td>\n      <td>NaN</td>\n      <td>NaN</td>\n      <td>...</td>\n      <td>NaN</td>\n      <td>NaN</td>\n      <td>NaN</td>\n      <td>NaN</td>\n      <td>NaN</td>\n      <td>NaN</td>\n      <td>NaN</td>\n      <td>NaN</td>\n      <td>NaN</td>\n      <td>NaN</td>\n    </tr>\n    <tr>\n      <th>4</th>\n      <td>NaN</td>\n      <td>NaN</td>\n      <td>NaN</td>\n      <td>NaN</td>\n      <td>NaN</td>\n      <td>NaN</td>\n      <td>NaN</td>\n      <td>NaN</td>\n      <td>NaN</td>\n      <td>NaN</td>\n      <td>...</td>\n      <td>NaN</td>\n      <td>NaN</td>\n      <td>NaN</td>\n      <td>NaN</td>\n      <td>NaN</td>\n      <td>NaN</td>\n      <td>NaN</td>\n      <td>NaN</td>\n      <td>NaN</td>\n      <td>NaN</td>\n    </tr>\n  </tbody>\n</table>\n<p>5 rows × 24 columns</p>\n</div>"
     },
     "metadata": {},
     "execution_count": 5
    }
   ],
   "source": [
    "df = pd.read_csv('./data/Trade-Register-1950-2019-suppliers copy.txt',delimiter= \"\\t\", index_col=False)\n",
    "\n",
    "df.head()"
   ]
  },
  {
   "source": [
    "# OBTAIN/SCRUB/EXPLORE"
   ],
   "cell_type": "markdown",
   "metadata": {}
  },
  {
   "source": [
    "From initially looking at this data, Unnamed: 0 is \"Supplier/Recipient(R)\" in the original text"
   ],
   "cell_type": "markdown",
   "metadata": {}
  },
  {
   "source": [
    "# TBD: RENAME COLUMN?"
   ],
   "cell_type": "markdown",
   "metadata": {}
  },
  {
   "cell_type": "code",
   "execution_count": 6,
   "metadata": {},
   "outputs": [
    {
     "output_type": "stream",
     "name": "stdout",
     "text": [
      "<class 'pandas.core.frame.DataFrame'>\nRangeIndex: 27035 entries, 0 to 27034\nData columns (total 24 columns):\n #   Column         Non-Null Count  Dtype  \n---  ------         --------------  -----  \n 0   Unnamed: 0     26898 non-null  object \n 1   Unnamed: 1     3317 non-null   object \n 2   Unnamed: 2     26649 non-null  object \n 3   Unnamed: 3     26762 non-null  object \n 4                  26762 non-null  object \n 5   Year(s)        26685 non-null  object \n 6   Unnamed: 6     25998 non-null  object \n 7   Supplier/      25540 non-null  object \n 8   Unnamed: 8     18901 non-null  object \n 9   No.            0 non-null      float64\n 10  Weapon         0 non-null      float64\n 11  Weapon.1       0 non-null      float64\n 12  Year           0 non-null      float64\n 13  of             0 non-null      float64\n 14  No.            0 non-null      float64\n 15  Unnamed: 15    0 non-null      float64\n 16  recipient (R)  0 non-null      float64\n 17  ordered        0 non-null      float64\n 18  designation    0 non-null      float64\n 19  description    0 non-null      float64\n 20  of order       0 non-null      float64\n 21  delivery       0 non-null      float64\n 22  delivered      0 non-null      float64\n 23  Comments       0 non-null      float64\ndtypes: float64(15), object(9)\nmemory usage: 5.0+ MB\n"
     ]
    }
   ],
   "source": [
    "df.info()"
   ]
  },
  {
   "source": [
    "## Dropping all null columns(16 of 24)"
   ],
   "cell_type": "markdown",
   "metadata": {}
  },
  {
   "cell_type": "code",
   "execution_count": 7,
   "metadata": {},
   "outputs": [
    {
     "output_type": "stream",
     "name": "stdout",
     "text": [
      "<class 'pandas.core.frame.DataFrame'>\nRangeIndex: 27035 entries, 0 to 27034\nData columns (total 9 columns):\n #   Column      Non-Null Count  Dtype \n---  ------      --------------  ----- \n 0   Unnamed: 0  26898 non-null  object\n 1   Unnamed: 1  3317 non-null   object\n 2   Unnamed: 2  26649 non-null  object\n 3   Unnamed: 3  26762 non-null  object\n 4               26762 non-null  object\n 5   Year(s)     26685 non-null  object\n 6   Unnamed: 6  25998 non-null  object\n 7   Supplier/   25540 non-null  object\n 8   Unnamed: 8  18901 non-null  object\ndtypes: object(9)\nmemory usage: 1.9+ MB\n"
     ]
    }
   ],
   "source": [
    "df = df.dropna(axis=1, how='all')\n",
    "\n",
    "df.info()"
   ]
  },
  {
   "cell_type": "markdown",
   "metadata": {},
   "source": [
    "### Our initial focus will be on Unnamed:0, being renamed as a Recipient and Supplier column, to indicate the pair of entities/actors trading"
   ]
  },
  {
   "cell_type": "code",
   "execution_count": 8,
   "metadata": {
    "ExecuteTime": {
     "end_time": "2021-02-01T18:01:00.501815Z",
     "start_time": "2021-02-01T18:01:00.488914Z"
    }
   },
   "outputs": [
    {
     "output_type": "execute_result",
     "data": {
      "text/plain": [
       "Index(['RecipientSupplier', 'Unnamed: 1', 'Unnamed: 2', 'Unnamed: 3', ' ',\n",
       "       'Year(s)', 'Unnamed: 6', 'Supplier/', 'Unnamed: 8'],\n",
       "      dtype='object')"
      ]
     },
     "metadata": {},
     "execution_count": 8
    }
   ],
   "source": [
    "df = df.rename(columns={'Unnamed: 0': 'RecipientSupplier'})\n",
    "df.columns"
   ]
  },
  {
   "source": [
    "## Drop all-Nan rows"
   ],
   "cell_type": "markdown",
   "metadata": {}
  },
  {
   "cell_type": "code",
   "execution_count": 9,
   "metadata": {},
   "outputs": [
    {
     "output_type": "execute_result",
     "data": {
      "text/plain": [
       "     RecipientSupplier Unnamed: 1     Unnamed: 2          Unnamed: 3          \\\n",
       "0                  NaN        NaN            NaN                 NaN     NaN   \n",
       "1                  NaN        NaN            NaN                 NaN     NaN   \n",
       "2              Albania        NaN            NaN                 NaN     NaN   \n",
       "3      R: Burkina Faso       (12)     M-43 120mm              Mortar  (2011)   \n",
       "4                  NaN        NaN            NaN                 NaN     NaN   \n",
       "5              Algeria        NaN            NaN                 NaN     NaN   \n",
       "6            R: Angola          4  N-262 Fregate  Transport aircraft    1980   \n",
       "7              Nigeria        (2)          Il-28     Bomber aircraft    1967   \n",
       "8       Western Sahara        (3)       BTR-60PB                 APC  (2016)   \n",
       "9                  NaN        NaN            NaN                 NaN     NaN   \n",
       "\n",
       "  Year(s) Unnamed: 6                 Supplier/ Unnamed: 8  \n",
       "0     NaN        NaN                       NaN        NaN  \n",
       "1     NaN        NaN                       NaN        NaN  \n",
       "2     NaN        NaN                       NaN        NaN  \n",
       "3    2011         12      Probably second-hand        NaN  \n",
       "4     NaN        NaN                       NaN        NaN  \n",
       "5     NaN        NaN                       NaN        NaN  \n",
       "6    1980          4  Second-hand; incl for MP        NaN  \n",
       "7    1968        (2)               Second-hand        NaN  \n",
       "8    2016        (3)          Second-hand; aid        NaN  \n",
       "9     NaN        NaN                       NaN        NaN  "
      ],
      "text/html": "<div>\n<style scoped>\n    .dataframe tbody tr th:only-of-type {\n        vertical-align: middle;\n    }\n\n    .dataframe tbody tr th {\n        vertical-align: top;\n    }\n\n    .dataframe thead th {\n        text-align: right;\n    }\n</style>\n<table border=\"1\" class=\"dataframe\">\n  <thead>\n    <tr style=\"text-align: right;\">\n      <th></th>\n      <th>RecipientSupplier</th>\n      <th>Unnamed: 1</th>\n      <th>Unnamed: 2</th>\n      <th>Unnamed: 3</th>\n      <th></th>\n      <th>Year(s)</th>\n      <th>Unnamed: 6</th>\n      <th>Supplier/</th>\n      <th>Unnamed: 8</th>\n    </tr>\n  </thead>\n  <tbody>\n    <tr>\n      <th>0</th>\n      <td>NaN</td>\n      <td>NaN</td>\n      <td>NaN</td>\n      <td>NaN</td>\n      <td>NaN</td>\n      <td>NaN</td>\n      <td>NaN</td>\n      <td>NaN</td>\n      <td>NaN</td>\n    </tr>\n    <tr>\n      <th>1</th>\n      <td>NaN</td>\n      <td>NaN</td>\n      <td>NaN</td>\n      <td>NaN</td>\n      <td>NaN</td>\n      <td>NaN</td>\n      <td>NaN</td>\n      <td>NaN</td>\n      <td>NaN</td>\n    </tr>\n    <tr>\n      <th>2</th>\n      <td>Albania</td>\n      <td>NaN</td>\n      <td>NaN</td>\n      <td>NaN</td>\n      <td>NaN</td>\n      <td>NaN</td>\n      <td>NaN</td>\n      <td>NaN</td>\n      <td>NaN</td>\n    </tr>\n    <tr>\n      <th>3</th>\n      <td>R: Burkina Faso</td>\n      <td>(12)</td>\n      <td>M-43 120mm</td>\n      <td>Mortar</td>\n      <td>(2011)</td>\n      <td>2011</td>\n      <td>12</td>\n      <td>Probably second-hand</td>\n      <td>NaN</td>\n    </tr>\n    <tr>\n      <th>4</th>\n      <td>NaN</td>\n      <td>NaN</td>\n      <td>NaN</td>\n      <td>NaN</td>\n      <td>NaN</td>\n      <td>NaN</td>\n      <td>NaN</td>\n      <td>NaN</td>\n      <td>NaN</td>\n    </tr>\n    <tr>\n      <th>5</th>\n      <td>Algeria</td>\n      <td>NaN</td>\n      <td>NaN</td>\n      <td>NaN</td>\n      <td>NaN</td>\n      <td>NaN</td>\n      <td>NaN</td>\n      <td>NaN</td>\n      <td>NaN</td>\n    </tr>\n    <tr>\n      <th>6</th>\n      <td>R: Angola</td>\n      <td>4</td>\n      <td>N-262 Fregate</td>\n      <td>Transport aircraft</td>\n      <td>1980</td>\n      <td>1980</td>\n      <td>4</td>\n      <td>Second-hand; incl for MP</td>\n      <td>NaN</td>\n    </tr>\n    <tr>\n      <th>7</th>\n      <td>Nigeria</td>\n      <td>(2)</td>\n      <td>Il-28</td>\n      <td>Bomber aircraft</td>\n      <td>1967</td>\n      <td>1968</td>\n      <td>(2)</td>\n      <td>Second-hand</td>\n      <td>NaN</td>\n    </tr>\n    <tr>\n      <th>8</th>\n      <td>Western Sahara</td>\n      <td>(3)</td>\n      <td>BTR-60PB</td>\n      <td>APC</td>\n      <td>(2016)</td>\n      <td>2016</td>\n      <td>(3)</td>\n      <td>Second-hand; aid</td>\n      <td>NaN</td>\n    </tr>\n    <tr>\n      <th>9</th>\n      <td>NaN</td>\n      <td>NaN</td>\n      <td>NaN</td>\n      <td>NaN</td>\n      <td>NaN</td>\n      <td>NaN</td>\n      <td>NaN</td>\n      <td>NaN</td>\n      <td>NaN</td>\n    </tr>\n  </tbody>\n</table>\n</div>"
     },
     "metadata": {},
     "execution_count": 9
    }
   ],
   "source": [
    "df.head(10)"
   ]
  },
  {
   "cell_type": "code",
   "execution_count": 10,
   "metadata": {},
   "outputs": [
    {
     "output_type": "execute_result",
     "data": {
      "text/plain": [
       "      RecipientSupplier Unnamed: 1     Unnamed: 2          Unnamed: 3          \\\n",
       "2               Albania        NaN            NaN                 NaN     NaN   \n",
       "3       R: Burkina Faso       (12)     M-43 120mm              Mortar  (2011)   \n",
       "5               Algeria        NaN            NaN                 NaN     NaN   \n",
       "6             R: Angola          4  N-262 Fregate  Transport aircraft    1980   \n",
       "7               Nigeria        (2)          Il-28     Bomber aircraft    1967   \n",
       "8        Western Sahara        (3)       BTR-60PB                 APC  (2016)   \n",
       "10               Angola        NaN            NaN                 NaN     NaN   \n",
       "11             R: Congo          1       Noratlas  Transport aircraft    1979   \n",
       "12        Cote d'Ivoire        (2)          BMP-2                 IFV    2002   \n",
       "13                             NaN              2                T-55    Tank   \n",
       "\n",
       "   Year(s) Unnamed: 6                                  Supplier/  \\\n",
       "2      NaN        NaN                                        NaN   \n",
       "3     2011         12                       Probably second-hand   \n",
       "5      NaN        NaN                                        NaN   \n",
       "6     1980          4                   Second-hand; incl for MP   \n",
       "7     1968        (2)                                Second-hand   \n",
       "8     2016        (3)                           Second-hand; aid   \n",
       "10     NaN        NaN                                        NaN   \n",
       "11    1979          1                           Second-hand; aid   \n",
       "12    2002        (2)  Second-hand; for use against fight rebels   \n",
       "13    2002       2002                                          2   \n",
       "\n",
       "                             Unnamed: 8  \n",
       "2                                   NaN  \n",
       "3                                   NaN  \n",
       "5                                   NaN  \n",
       "6                                   NaN  \n",
       "7                                   NaN  \n",
       "8                                   NaN  \n",
       "10                                  NaN  \n",
       "11                                  NaN  \n",
       "12                                  NaN  \n",
       "13  Second-hand; for use against rebels  "
      ],
      "text/html": "<div>\n<style scoped>\n    .dataframe tbody tr th:only-of-type {\n        vertical-align: middle;\n    }\n\n    .dataframe tbody tr th {\n        vertical-align: top;\n    }\n\n    .dataframe thead th {\n        text-align: right;\n    }\n</style>\n<table border=\"1\" class=\"dataframe\">\n  <thead>\n    <tr style=\"text-align: right;\">\n      <th></th>\n      <th>RecipientSupplier</th>\n      <th>Unnamed: 1</th>\n      <th>Unnamed: 2</th>\n      <th>Unnamed: 3</th>\n      <th></th>\n      <th>Year(s)</th>\n      <th>Unnamed: 6</th>\n      <th>Supplier/</th>\n      <th>Unnamed: 8</th>\n    </tr>\n  </thead>\n  <tbody>\n    <tr>\n      <th>2</th>\n      <td>Albania</td>\n      <td>NaN</td>\n      <td>NaN</td>\n      <td>NaN</td>\n      <td>NaN</td>\n      <td>NaN</td>\n      <td>NaN</td>\n      <td>NaN</td>\n      <td>NaN</td>\n    </tr>\n    <tr>\n      <th>3</th>\n      <td>R: Burkina Faso</td>\n      <td>(12)</td>\n      <td>M-43 120mm</td>\n      <td>Mortar</td>\n      <td>(2011)</td>\n      <td>2011</td>\n      <td>12</td>\n      <td>Probably second-hand</td>\n      <td>NaN</td>\n    </tr>\n    <tr>\n      <th>5</th>\n      <td>Algeria</td>\n      <td>NaN</td>\n      <td>NaN</td>\n      <td>NaN</td>\n      <td>NaN</td>\n      <td>NaN</td>\n      <td>NaN</td>\n      <td>NaN</td>\n      <td>NaN</td>\n    </tr>\n    <tr>\n      <th>6</th>\n      <td>R: Angola</td>\n      <td>4</td>\n      <td>N-262 Fregate</td>\n      <td>Transport aircraft</td>\n      <td>1980</td>\n      <td>1980</td>\n      <td>4</td>\n      <td>Second-hand; incl for MP</td>\n      <td>NaN</td>\n    </tr>\n    <tr>\n      <th>7</th>\n      <td>Nigeria</td>\n      <td>(2)</td>\n      <td>Il-28</td>\n      <td>Bomber aircraft</td>\n      <td>1967</td>\n      <td>1968</td>\n      <td>(2)</td>\n      <td>Second-hand</td>\n      <td>NaN</td>\n    </tr>\n    <tr>\n      <th>8</th>\n      <td>Western Sahara</td>\n      <td>(3)</td>\n      <td>BTR-60PB</td>\n      <td>APC</td>\n      <td>(2016)</td>\n      <td>2016</td>\n      <td>(3)</td>\n      <td>Second-hand; aid</td>\n      <td>NaN</td>\n    </tr>\n    <tr>\n      <th>10</th>\n      <td>Angola</td>\n      <td>NaN</td>\n      <td>NaN</td>\n      <td>NaN</td>\n      <td>NaN</td>\n      <td>NaN</td>\n      <td>NaN</td>\n      <td>NaN</td>\n      <td>NaN</td>\n    </tr>\n    <tr>\n      <th>11</th>\n      <td>R: Congo</td>\n      <td>1</td>\n      <td>Noratlas</td>\n      <td>Transport aircraft</td>\n      <td>1979</td>\n      <td>1979</td>\n      <td>1</td>\n      <td>Second-hand; aid</td>\n      <td>NaN</td>\n    </tr>\n    <tr>\n      <th>12</th>\n      <td>Cote d'Ivoire</td>\n      <td>(2)</td>\n      <td>BMP-2</td>\n      <td>IFV</td>\n      <td>2002</td>\n      <td>2002</td>\n      <td>(2)</td>\n      <td>Second-hand; for use against fight rebels</td>\n      <td>NaN</td>\n    </tr>\n    <tr>\n      <th>13</th>\n      <td></td>\n      <td>NaN</td>\n      <td>2</td>\n      <td>T-55</td>\n      <td>Tank</td>\n      <td>2002</td>\n      <td>2002</td>\n      <td>2</td>\n      <td>Second-hand; for use against rebels</td>\n    </tr>\n  </tbody>\n</table>\n</div>"
     },
     "metadata": {},
     "execution_count": 10
    }
   ],
   "source": [
    "df = df.dropna(axis = 0, how = 'all')\n",
    "\n",
    "df.head(10)"
   ]
  },
  {
   "cell_type": "code",
   "execution_count": null,
   "metadata": {},
   "outputs": [],
   "source": []
  },
  {
   "cell_type": "markdown",
   "metadata": {},
   "source": [
    "# Data prep: Get Suppliers \n",
    "- Supplier are indicated by being an index before a row where RecipientSupplier starts with R: "
   ]
  },
  {
   "cell_type": "code",
   "execution_count": 11,
   "metadata": {},
   "outputs": [
    {
     "output_type": "execute_result",
     "data": {
      "text/plain": [
       "      RecipientSupplier Unnamed: 1            Unnamed: 2          Unnamed: 3  \\\n",
       "3       R: Burkina Faso       (12)            M-43 120mm              Mortar   \n",
       "6             R: Angola          4         N-262 Fregate  Transport aircraft   \n",
       "11             R: Congo          1              Noratlas  Transport aircraft   \n",
       "18           R: Bolivia       (37)    M-3/M-5 Half-track                 APC   \n",
       "46             R: Sudan          1                 An-32  Transport aircraft   \n",
       "...                 ...        ...                   ...                 ...   \n",
       "26962        R: Bolivia          9           F-86F Sabre    Fighter aircraft   \n",
       "26974       R: Cambodia          2  Project-206/Shershen        Patrol craft   \n",
       "26979           R: Iraq       (75)            D-30 122mm           Towed gun   \n",
       "27029        R: Liberia          1         DHC-4 Caribou  Transport aircraft   \n",
       "27032        R: Czechia         10             2S1 122mm  Self-propelled gun   \n",
       "\n",
       "                 Year(s) Unnamed: 6  \\\n",
       "3      (2011)       2011         12   \n",
       "6        1980       1980          4   \n",
       "11       1979       1979          1   \n",
       "18       2006       2006       (37)   \n",
       "46     (2005)       2006          1   \n",
       "...       ...        ...        ...   \n",
       "26962  (1973)       1975          9   \n",
       "26974  (2005)       2006          2   \n",
       "26979  (1988)  1989-1990       (75)   \n",
       "27029    1989       1990          1   \n",
       "27032  (2000)       2001         10   \n",
       "\n",
       "                                               Supplier/ Unnamed: 8  \n",
       "3                                   Probably second-hand        NaN  \n",
       "6                               Second-hand; incl for MP        NaN  \n",
       "11                                      Second-hand; aid        NaN  \n",
       "18                Second-hand; aid; M-5 and M-9 versions        NaN  \n",
       "46     Second-hand; probably; ordered via Ukraine; mo...        NaN  \n",
       "...                                                  ...        ...  \n",
       "26962                                        Second-hand        NaN  \n",
       "26974                                   Second-hand; aid        NaN  \n",
       "26979                                                NaN        NaN  \n",
       "27029  Second-hand (modernized in Malta before delivery)        NaN  \n",
       "27032                                        Second-hand        NaN  \n",
       "\n",
       "[136 rows x 9 columns]"
      ],
      "text/html": "<div>\n<style scoped>\n    .dataframe tbody tr th:only-of-type {\n        vertical-align: middle;\n    }\n\n    .dataframe tbody tr th {\n        vertical-align: top;\n    }\n\n    .dataframe thead th {\n        text-align: right;\n    }\n</style>\n<table border=\"1\" class=\"dataframe\">\n  <thead>\n    <tr style=\"text-align: right;\">\n      <th></th>\n      <th>RecipientSupplier</th>\n      <th>Unnamed: 1</th>\n      <th>Unnamed: 2</th>\n      <th>Unnamed: 3</th>\n      <th></th>\n      <th>Year(s)</th>\n      <th>Unnamed: 6</th>\n      <th>Supplier/</th>\n      <th>Unnamed: 8</th>\n    </tr>\n  </thead>\n  <tbody>\n    <tr>\n      <th>3</th>\n      <td>R: Burkina Faso</td>\n      <td>(12)</td>\n      <td>M-43 120mm</td>\n      <td>Mortar</td>\n      <td>(2011)</td>\n      <td>2011</td>\n      <td>12</td>\n      <td>Probably second-hand</td>\n      <td>NaN</td>\n    </tr>\n    <tr>\n      <th>6</th>\n      <td>R: Angola</td>\n      <td>4</td>\n      <td>N-262 Fregate</td>\n      <td>Transport aircraft</td>\n      <td>1980</td>\n      <td>1980</td>\n      <td>4</td>\n      <td>Second-hand; incl for MP</td>\n      <td>NaN</td>\n    </tr>\n    <tr>\n      <th>11</th>\n      <td>R: Congo</td>\n      <td>1</td>\n      <td>Noratlas</td>\n      <td>Transport aircraft</td>\n      <td>1979</td>\n      <td>1979</td>\n      <td>1</td>\n      <td>Second-hand; aid</td>\n      <td>NaN</td>\n    </tr>\n    <tr>\n      <th>18</th>\n      <td>R: Bolivia</td>\n      <td>(37)</td>\n      <td>M-3/M-5 Half-track</td>\n      <td>APC</td>\n      <td>2006</td>\n      <td>2006</td>\n      <td>(37)</td>\n      <td>Second-hand; aid; M-5 and M-9 versions</td>\n      <td>NaN</td>\n    </tr>\n    <tr>\n      <th>46</th>\n      <td>R: Sudan</td>\n      <td>1</td>\n      <td>An-32</td>\n      <td>Transport aircraft</td>\n      <td>(2005)</td>\n      <td>2006</td>\n      <td>1</td>\n      <td>Second-hand; probably; ordered via Ukraine; mo...</td>\n      <td>NaN</td>\n    </tr>\n    <tr>\n      <th>...</th>\n      <td>...</td>\n      <td>...</td>\n      <td>...</td>\n      <td>...</td>\n      <td>...</td>\n      <td>...</td>\n      <td>...</td>\n      <td>...</td>\n      <td>...</td>\n    </tr>\n    <tr>\n      <th>26962</th>\n      <td>R: Bolivia</td>\n      <td>9</td>\n      <td>F-86F Sabre</td>\n      <td>Fighter aircraft</td>\n      <td>(1973)</td>\n      <td>1975</td>\n      <td>9</td>\n      <td>Second-hand</td>\n      <td>NaN</td>\n    </tr>\n    <tr>\n      <th>26974</th>\n      <td>R: Cambodia</td>\n      <td>2</td>\n      <td>Project-206/Shershen</td>\n      <td>Patrol craft</td>\n      <td>(2005)</td>\n      <td>2006</td>\n      <td>2</td>\n      <td>Second-hand; aid</td>\n      <td>NaN</td>\n    </tr>\n    <tr>\n      <th>26979</th>\n      <td>R: Iraq</td>\n      <td>(75)</td>\n      <td>D-30 122mm</td>\n      <td>Towed gun</td>\n      <td>(1988)</td>\n      <td>1989-1990</td>\n      <td>(75)</td>\n      <td>NaN</td>\n      <td>NaN</td>\n    </tr>\n    <tr>\n      <th>27029</th>\n      <td>R: Liberia</td>\n      <td>1</td>\n      <td>DHC-4 Caribou</td>\n      <td>Transport aircraft</td>\n      <td>1989</td>\n      <td>1990</td>\n      <td>1</td>\n      <td>Second-hand (modernized in Malta before delivery)</td>\n      <td>NaN</td>\n    </tr>\n    <tr>\n      <th>27032</th>\n      <td>R: Czechia</td>\n      <td>10</td>\n      <td>2S1 122mm</td>\n      <td>Self-propelled gun</td>\n      <td>(2000)</td>\n      <td>2001</td>\n      <td>10</td>\n      <td>Second-hand</td>\n      <td>NaN</td>\n    </tr>\n  </tbody>\n</table>\n<p>136 rows × 9 columns</p>\n</div>"
     },
     "metadata": {},
     "execution_count": 11
    }
   ],
   "source": [
    "# selecting by partial substring in column, replacing NaN with false to be able to contains\n",
    "recipients = df[df['RecipientSupplier'].str.contains(\"R:\", na=False)]\n",
    "recipients"
   ]
  },
  {
   "source": [
    "# List of Suppliers"
   ],
   "cell_type": "markdown",
   "metadata": {}
  },
  {
   "cell_type": "code",
   "execution_count": 12,
   "metadata": {},
   "outputs": [
    {
     "output_type": "execute_result",
     "data": {
      "text/plain": [
       "      RecipientSupplier Unnamed: 1 Unnamed: 2 Unnamed: 3      Year(s)  \\\n",
       "2               Albania        NaN        NaN        NaN  NaN     NaN   \n",
       "5               Algeria        NaN        NaN        NaN  NaN     NaN   \n",
       "10               Angola        NaN        NaN        NaN  NaN     NaN   \n",
       "17            Argentina        NaN        NaN        NaN  NaN     NaN   \n",
       "45              Armenia        NaN        NaN        NaN  NaN     NaN   \n",
       "...                 ...        ...        ...        ...  ...     ...   \n",
       "26961         Venezuela        NaN        NaN        NaN  NaN     NaN   \n",
       "26973          Viet Nam        NaN        NaN        NaN  NaN     NaN   \n",
       "26978        Yugoslavia        NaN        NaN        NaN  NaN     NaN   \n",
       "27028            Zambia        NaN        NaN        NaN  NaN     NaN   \n",
       "27031          Zimbabwe        NaN        NaN        NaN  NaN     NaN   \n",
       "\n",
       "      Unnamed: 6 Supplier/ Unnamed: 8  \n",
       "2            NaN       NaN        NaN  \n",
       "5            NaN       NaN        NaN  \n",
       "10           NaN       NaN        NaN  \n",
       "17           NaN       NaN        NaN  \n",
       "45           NaN       NaN        NaN  \n",
       "...          ...       ...        ...  \n",
       "26961        NaN       NaN        NaN  \n",
       "26973        NaN       NaN        NaN  \n",
       "26978        NaN       NaN        NaN  \n",
       "27028        NaN       NaN        NaN  \n",
       "27031        NaN       NaN        NaN  \n",
       "\n",
       "[136 rows x 9 columns]"
      ],
      "text/html": "<div>\n<style scoped>\n    .dataframe tbody tr th:only-of-type {\n        vertical-align: middle;\n    }\n\n    .dataframe tbody tr th {\n        vertical-align: top;\n    }\n\n    .dataframe thead th {\n        text-align: right;\n    }\n</style>\n<table border=\"1\" class=\"dataframe\">\n  <thead>\n    <tr style=\"text-align: right;\">\n      <th></th>\n      <th>RecipientSupplier</th>\n      <th>Unnamed: 1</th>\n      <th>Unnamed: 2</th>\n      <th>Unnamed: 3</th>\n      <th></th>\n      <th>Year(s)</th>\n      <th>Unnamed: 6</th>\n      <th>Supplier/</th>\n      <th>Unnamed: 8</th>\n    </tr>\n  </thead>\n  <tbody>\n    <tr>\n      <th>2</th>\n      <td>Albania</td>\n      <td>NaN</td>\n      <td>NaN</td>\n      <td>NaN</td>\n      <td>NaN</td>\n      <td>NaN</td>\n      <td>NaN</td>\n      <td>NaN</td>\n      <td>NaN</td>\n    </tr>\n    <tr>\n      <th>5</th>\n      <td>Algeria</td>\n      <td>NaN</td>\n      <td>NaN</td>\n      <td>NaN</td>\n      <td>NaN</td>\n      <td>NaN</td>\n      <td>NaN</td>\n      <td>NaN</td>\n      <td>NaN</td>\n    </tr>\n    <tr>\n      <th>10</th>\n      <td>Angola</td>\n      <td>NaN</td>\n      <td>NaN</td>\n      <td>NaN</td>\n      <td>NaN</td>\n      <td>NaN</td>\n      <td>NaN</td>\n      <td>NaN</td>\n      <td>NaN</td>\n    </tr>\n    <tr>\n      <th>17</th>\n      <td>Argentina</td>\n      <td>NaN</td>\n      <td>NaN</td>\n      <td>NaN</td>\n      <td>NaN</td>\n      <td>NaN</td>\n      <td>NaN</td>\n      <td>NaN</td>\n      <td>NaN</td>\n    </tr>\n    <tr>\n      <th>45</th>\n      <td>Armenia</td>\n      <td>NaN</td>\n      <td>NaN</td>\n      <td>NaN</td>\n      <td>NaN</td>\n      <td>NaN</td>\n      <td>NaN</td>\n      <td>NaN</td>\n      <td>NaN</td>\n    </tr>\n    <tr>\n      <th>...</th>\n      <td>...</td>\n      <td>...</td>\n      <td>...</td>\n      <td>...</td>\n      <td>...</td>\n      <td>...</td>\n      <td>...</td>\n      <td>...</td>\n      <td>...</td>\n    </tr>\n    <tr>\n      <th>26961</th>\n      <td>Venezuela</td>\n      <td>NaN</td>\n      <td>NaN</td>\n      <td>NaN</td>\n      <td>NaN</td>\n      <td>NaN</td>\n      <td>NaN</td>\n      <td>NaN</td>\n      <td>NaN</td>\n    </tr>\n    <tr>\n      <th>26973</th>\n      <td>Viet Nam</td>\n      <td>NaN</td>\n      <td>NaN</td>\n      <td>NaN</td>\n      <td>NaN</td>\n      <td>NaN</td>\n      <td>NaN</td>\n      <td>NaN</td>\n      <td>NaN</td>\n    </tr>\n    <tr>\n      <th>26978</th>\n      <td>Yugoslavia</td>\n      <td>NaN</td>\n      <td>NaN</td>\n      <td>NaN</td>\n      <td>NaN</td>\n      <td>NaN</td>\n      <td>NaN</td>\n      <td>NaN</td>\n      <td>NaN</td>\n    </tr>\n    <tr>\n      <th>27028</th>\n      <td>Zambia</td>\n      <td>NaN</td>\n      <td>NaN</td>\n      <td>NaN</td>\n      <td>NaN</td>\n      <td>NaN</td>\n      <td>NaN</td>\n      <td>NaN</td>\n      <td>NaN</td>\n    </tr>\n    <tr>\n      <th>27031</th>\n      <td>Zimbabwe</td>\n      <td>NaN</td>\n      <td>NaN</td>\n      <td>NaN</td>\n      <td>NaN</td>\n      <td>NaN</td>\n      <td>NaN</td>\n      <td>NaN</td>\n      <td>NaN</td>\n    </tr>\n  </tbody>\n</table>\n<p>136 rows × 9 columns</p>\n</div>"
     },
     "metadata": {},
     "execution_count": 12
    }
   ],
   "source": [
    "suppliers = df.loc[recipients.index.values - 1]\n",
    "suppliers"
   ]
  },
  {
   "source": [
    "# New Supplier Column"
   ],
   "cell_type": "markdown",
   "metadata": {}
  },
  {
   "cell_type": "code",
   "execution_count": 13,
   "metadata": {},
   "outputs": [
    {
     "output_type": "execute_result",
     "data": {
      "text/plain": [
       "      RecipientSupplier Unnamed: 1 Unnamed: 2 Unnamed: 3      Year(s)  \\\n",
       "2               Albania        NaN        NaN        NaN  NaN     NaN   \n",
       "5               Algeria        NaN        NaN        NaN  NaN     NaN   \n",
       "10               Angola        NaN        NaN        NaN  NaN     NaN   \n",
       "17            Argentina        NaN        NaN        NaN  NaN     NaN   \n",
       "45              Armenia        NaN        NaN        NaN  NaN     NaN   \n",
       "...                 ...        ...        ...        ...  ...     ...   \n",
       "26961         Venezuela        NaN        NaN        NaN  NaN     NaN   \n",
       "26973          Viet Nam        NaN        NaN        NaN  NaN     NaN   \n",
       "26978        Yugoslavia        NaN        NaN        NaN  NaN     NaN   \n",
       "27028            Zambia        NaN        NaN        NaN  NaN     NaN   \n",
       "27031          Zimbabwe        NaN        NaN        NaN  NaN     NaN   \n",
       "\n",
       "      Unnamed: 6 Supplier/ Unnamed: 8  \n",
       "2            NaN       NaN        NaN  \n",
       "5            NaN       NaN        NaN  \n",
       "10           NaN       NaN        NaN  \n",
       "17           NaN       NaN        NaN  \n",
       "45           NaN       NaN        NaN  \n",
       "...          ...       ...        ...  \n",
       "26961        NaN       NaN        NaN  \n",
       "26973        NaN       NaN        NaN  \n",
       "26978        NaN       NaN        NaN  \n",
       "27028        NaN       NaN        NaN  \n",
       "27031        NaN       NaN        NaN  \n",
       "\n",
       "[136 rows x 9 columns]"
      ],
      "text/html": "<div>\n<style scoped>\n    .dataframe tbody tr th:only-of-type {\n        vertical-align: middle;\n    }\n\n    .dataframe tbody tr th {\n        vertical-align: top;\n    }\n\n    .dataframe thead th {\n        text-align: right;\n    }\n</style>\n<table border=\"1\" class=\"dataframe\">\n  <thead>\n    <tr style=\"text-align: right;\">\n      <th></th>\n      <th>RecipientSupplier</th>\n      <th>Unnamed: 1</th>\n      <th>Unnamed: 2</th>\n      <th>Unnamed: 3</th>\n      <th></th>\n      <th>Year(s)</th>\n      <th>Unnamed: 6</th>\n      <th>Supplier/</th>\n      <th>Unnamed: 8</th>\n    </tr>\n  </thead>\n  <tbody>\n    <tr>\n      <th>2</th>\n      <td>Albania</td>\n      <td>NaN</td>\n      <td>NaN</td>\n      <td>NaN</td>\n      <td>NaN</td>\n      <td>NaN</td>\n      <td>NaN</td>\n      <td>NaN</td>\n      <td>NaN</td>\n    </tr>\n    <tr>\n      <th>5</th>\n      <td>Algeria</td>\n      <td>NaN</td>\n      <td>NaN</td>\n      <td>NaN</td>\n      <td>NaN</td>\n      <td>NaN</td>\n      <td>NaN</td>\n      <td>NaN</td>\n      <td>NaN</td>\n    </tr>\n    <tr>\n      <th>10</th>\n      <td>Angola</td>\n      <td>NaN</td>\n      <td>NaN</td>\n      <td>NaN</td>\n      <td>NaN</td>\n      <td>NaN</td>\n      <td>NaN</td>\n      <td>NaN</td>\n      <td>NaN</td>\n    </tr>\n    <tr>\n      <th>17</th>\n      <td>Argentina</td>\n      <td>NaN</td>\n      <td>NaN</td>\n      <td>NaN</td>\n      <td>NaN</td>\n      <td>NaN</td>\n      <td>NaN</td>\n      <td>NaN</td>\n      <td>NaN</td>\n    </tr>\n    <tr>\n      <th>45</th>\n      <td>Armenia</td>\n      <td>NaN</td>\n      <td>NaN</td>\n      <td>NaN</td>\n      <td>NaN</td>\n      <td>NaN</td>\n      <td>NaN</td>\n      <td>NaN</td>\n      <td>NaN</td>\n    </tr>\n    <tr>\n      <th>...</th>\n      <td>...</td>\n      <td>...</td>\n      <td>...</td>\n      <td>...</td>\n      <td>...</td>\n      <td>...</td>\n      <td>...</td>\n      <td>...</td>\n      <td>...</td>\n    </tr>\n    <tr>\n      <th>26961</th>\n      <td>Venezuela</td>\n      <td>NaN</td>\n      <td>NaN</td>\n      <td>NaN</td>\n      <td>NaN</td>\n      <td>NaN</td>\n      <td>NaN</td>\n      <td>NaN</td>\n      <td>NaN</td>\n    </tr>\n    <tr>\n      <th>26973</th>\n      <td>Viet Nam</td>\n      <td>NaN</td>\n      <td>NaN</td>\n      <td>NaN</td>\n      <td>NaN</td>\n      <td>NaN</td>\n      <td>NaN</td>\n      <td>NaN</td>\n      <td>NaN</td>\n    </tr>\n    <tr>\n      <th>26978</th>\n      <td>Yugoslavia</td>\n      <td>NaN</td>\n      <td>NaN</td>\n      <td>NaN</td>\n      <td>NaN</td>\n      <td>NaN</td>\n      <td>NaN</td>\n      <td>NaN</td>\n      <td>NaN</td>\n    </tr>\n    <tr>\n      <th>27028</th>\n      <td>Zambia</td>\n      <td>NaN</td>\n      <td>NaN</td>\n      <td>NaN</td>\n      <td>NaN</td>\n      <td>NaN</td>\n      <td>NaN</td>\n      <td>NaN</td>\n      <td>NaN</td>\n    </tr>\n    <tr>\n      <th>27031</th>\n      <td>Zimbabwe</td>\n      <td>NaN</td>\n      <td>NaN</td>\n      <td>NaN</td>\n      <td>NaN</td>\n      <td>NaN</td>\n      <td>NaN</td>\n      <td>NaN</td>\n      <td>NaN</td>\n    </tr>\n  </tbody>\n</table>\n<p>136 rows × 9 columns</p>\n</div>"
     },
     "metadata": {},
     "execution_count": 13
    }
   ],
   "source": [
    "suppliers"
   ]
  },
  {
   "cell_type": "code",
   "execution_count": 14,
   "metadata": {},
   "outputs": [],
   "source": [
    "df['Supplier'] = suppliers['RecipientSupplier']"
   ]
  },
  {
   "cell_type": "code",
   "execution_count": 15,
   "metadata": {},
   "outputs": [
    {
     "output_type": "execute_result",
     "data": {
      "text/plain": [
       "NaN                 26762\n",
       "New Zealand             1\n",
       "United States           1\n",
       "Seychelles              1\n",
       "Guyana                  1\n",
       "                    ...  \n",
       "Uzbekistan              1\n",
       "United Nations**        1\n",
       "Belgium                 1\n",
       "Mexico                  1\n",
       "Slovakia                1\n",
       "Name: Supplier, Length: 137, dtype: int64"
      ]
     },
     "metadata": {},
     "execution_count": 15
    }
   ],
   "source": [
    "df['Supplier'].value_counts(dropna=False)"
   ]
  },
  {
   "cell_type": "code",
   "execution_count": 16,
   "metadata": {},
   "outputs": [
    {
     "output_type": "execute_result",
     "data": {
      "text/plain": [
       "2         Albania\n",
       "3             NaN\n",
       "5         Algeria\n",
       "6             NaN\n",
       "7             NaN\n",
       "           ...   \n",
       "27029         NaN\n",
       "27031    Zimbabwe\n",
       "27032         NaN\n",
       "27033         NaN\n",
       "27034         NaN\n",
       "Name: Supplier, Length: 26898, dtype: object"
      ]
     },
     "metadata": {},
     "execution_count": 16
    }
   ],
   "source": [
    "df['Supplier']"
   ]
  },
  {
   "cell_type": "code",
   "execution_count": 17,
   "metadata": {},
   "outputs": [
    {
     "output_type": "execute_result",
     "data": {
      "text/plain": [
       "      RecipientSupplier Unnamed: 1          Unnamed: 2          Unnamed: 3  \\\n",
       "2               Albania        NaN                 NaN                 NaN   \n",
       "3       R: Burkina Faso       (12)          M-43 120mm              Mortar   \n",
       "5               Algeria        NaN                 NaN                 NaN   \n",
       "6             R: Angola          4       N-262 Fregate  Transport aircraft   \n",
       "7               Nigeria        (2)               Il-28     Bomber aircraft   \n",
       "8        Western Sahara        (3)            BTR-60PB                 APC   \n",
       "10               Angola        NaN                 NaN                 NaN   \n",
       "11             R: Congo          1            Noratlas  Transport aircraft   \n",
       "12        Cote d'Ivoire        (2)               BMP-2                 IFV   \n",
       "13                             NaN                   2                T-55   \n",
       "14        Guinea-Bissau          1               Do-27      Light aircraft   \n",
       "15        United States        250      FIM-92 Stinger        Portable SAM   \n",
       "17            Argentina        NaN                 NaN                 NaN   \n",
       "18           R: Bolivia       (37)  M-3/M-5 Half-track                 APC   \n",
       "19             Colombia          3       IA-58A Pucara    Ground attack ac   \n",
       "20              Denmark          1                Lynx      ASW helicopter   \n",
       "21                             NaN                   3                 Gem   \n",
       "22              Ecuador         18       M-101A1 105mm           Towed gun   \n",
       "23             Honduras       (60)    MO-120-M65 120mm              Mortar   \n",
       "24             Paraguay          3              CV-440  Transport aircraft   \n",
       "\n",
       "                  Year(s) Unnamed: 6  \\\n",
       "2          NaN        NaN        NaN   \n",
       "3       (2011)       2011         12   \n",
       "5          NaN        NaN        NaN   \n",
       "6         1980       1980          4   \n",
       "7         1967       1968        (2)   \n",
       "8       (2016)       2016        (3)   \n",
       "10         NaN        NaN        NaN   \n",
       "11        1979       1979          1   \n",
       "12        2002       2002        (2)   \n",
       "13        Tank       2002       2002   \n",
       "14        1980       1980          1   \n",
       "15        1992       1992        250   \n",
       "17         NaN        NaN        NaN   \n",
       "18        2006       2006       (37)   \n",
       "19        1989       1990          3   \n",
       "20      (1987)       1987          1   \n",
       "21  Turboshaft       1988       1988   \n",
       "22      (1995)       1995         18   \n",
       "23      (1980)  1981-1983       (60)   \n",
       "24        1962       1962          3   \n",
       "\n",
       "                                            Supplier/  \\\n",
       "2                                                 NaN   \n",
       "3                                Probably second-hand   \n",
       "5                                                 NaN   \n",
       "6                            Second-hand; incl for MP   \n",
       "7                                         Second-hand   \n",
       "8                                    Second-hand; aid   \n",
       "10                                                NaN   \n",
       "11                                   Second-hand; aid   \n",
       "12          Second-hand; for use against fight rebels   \n",
       "13                                                  2   \n",
       "14                      Second-hand; status uncertain   \n",
       "15  Second-hand; delivered in 1980s as aid to UNIT...   \n",
       "17                                                NaN   \n",
       "18             Second-hand; aid; M-5 and M-9 versions   \n",
       "19    Second-hand; aid; for anti-narcotics operations   \n",
       "20                           Second-hand; $3.5 m deal   \n",
       "21                                                  3   \n",
       "22  Second-hand but modernized before delivery; pa...   \n",
       "23                                                NaN   \n",
       "24           Second-hand; $0.7 m deal; CV-440 version   \n",
       "\n",
       "                                  Unnamed: 8   Supplier  \n",
       "2                                        NaN    Albania  \n",
       "3                                        NaN        NaN  \n",
       "5                                        NaN    Algeria  \n",
       "6                                        NaN        NaN  \n",
       "7                                        NaN        NaN  \n",
       "8                                        NaN        NaN  \n",
       "10                                       NaN     Angola  \n",
       "11                                       NaN        NaN  \n",
       "12                                       NaN        NaN  \n",
       "13       Second-hand; for use against rebels        NaN  \n",
       "14                                       NaN        NaN  \n",
       "15                                       NaN        NaN  \n",
       "17                                       NaN  Argentina  \n",
       "18                                       NaN        NaN  \n",
       "19                                       NaN        NaN  \n",
       "20                                       NaN        NaN  \n",
       "21  Second-hand; spares for Lynx helicopters        NaN  \n",
       "22                                       NaN        NaN  \n",
       "23                                       NaN        NaN  \n",
       "24                                       NaN        NaN  "
      ],
      "text/html": "<div>\n<style scoped>\n    .dataframe tbody tr th:only-of-type {\n        vertical-align: middle;\n    }\n\n    .dataframe tbody tr th {\n        vertical-align: top;\n    }\n\n    .dataframe thead th {\n        text-align: right;\n    }\n</style>\n<table border=\"1\" class=\"dataframe\">\n  <thead>\n    <tr style=\"text-align: right;\">\n      <th></th>\n      <th>RecipientSupplier</th>\n      <th>Unnamed: 1</th>\n      <th>Unnamed: 2</th>\n      <th>Unnamed: 3</th>\n      <th></th>\n      <th>Year(s)</th>\n      <th>Unnamed: 6</th>\n      <th>Supplier/</th>\n      <th>Unnamed: 8</th>\n      <th>Supplier</th>\n    </tr>\n  </thead>\n  <tbody>\n    <tr>\n      <th>2</th>\n      <td>Albania</td>\n      <td>NaN</td>\n      <td>NaN</td>\n      <td>NaN</td>\n      <td>NaN</td>\n      <td>NaN</td>\n      <td>NaN</td>\n      <td>NaN</td>\n      <td>NaN</td>\n      <td>Albania</td>\n    </tr>\n    <tr>\n      <th>3</th>\n      <td>R: Burkina Faso</td>\n      <td>(12)</td>\n      <td>M-43 120mm</td>\n      <td>Mortar</td>\n      <td>(2011)</td>\n      <td>2011</td>\n      <td>12</td>\n      <td>Probably second-hand</td>\n      <td>NaN</td>\n      <td>NaN</td>\n    </tr>\n    <tr>\n      <th>5</th>\n      <td>Algeria</td>\n      <td>NaN</td>\n      <td>NaN</td>\n      <td>NaN</td>\n      <td>NaN</td>\n      <td>NaN</td>\n      <td>NaN</td>\n      <td>NaN</td>\n      <td>NaN</td>\n      <td>Algeria</td>\n    </tr>\n    <tr>\n      <th>6</th>\n      <td>R: Angola</td>\n      <td>4</td>\n      <td>N-262 Fregate</td>\n      <td>Transport aircraft</td>\n      <td>1980</td>\n      <td>1980</td>\n      <td>4</td>\n      <td>Second-hand; incl for MP</td>\n      <td>NaN</td>\n      <td>NaN</td>\n    </tr>\n    <tr>\n      <th>7</th>\n      <td>Nigeria</td>\n      <td>(2)</td>\n      <td>Il-28</td>\n      <td>Bomber aircraft</td>\n      <td>1967</td>\n      <td>1968</td>\n      <td>(2)</td>\n      <td>Second-hand</td>\n      <td>NaN</td>\n      <td>NaN</td>\n    </tr>\n    <tr>\n      <th>8</th>\n      <td>Western Sahara</td>\n      <td>(3)</td>\n      <td>BTR-60PB</td>\n      <td>APC</td>\n      <td>(2016)</td>\n      <td>2016</td>\n      <td>(3)</td>\n      <td>Second-hand; aid</td>\n      <td>NaN</td>\n      <td>NaN</td>\n    </tr>\n    <tr>\n      <th>10</th>\n      <td>Angola</td>\n      <td>NaN</td>\n      <td>NaN</td>\n      <td>NaN</td>\n      <td>NaN</td>\n      <td>NaN</td>\n      <td>NaN</td>\n      <td>NaN</td>\n      <td>NaN</td>\n      <td>Angola</td>\n    </tr>\n    <tr>\n      <th>11</th>\n      <td>R: Congo</td>\n      <td>1</td>\n      <td>Noratlas</td>\n      <td>Transport aircraft</td>\n      <td>1979</td>\n      <td>1979</td>\n      <td>1</td>\n      <td>Second-hand; aid</td>\n      <td>NaN</td>\n      <td>NaN</td>\n    </tr>\n    <tr>\n      <th>12</th>\n      <td>Cote d'Ivoire</td>\n      <td>(2)</td>\n      <td>BMP-2</td>\n      <td>IFV</td>\n      <td>2002</td>\n      <td>2002</td>\n      <td>(2)</td>\n      <td>Second-hand; for use against fight rebels</td>\n      <td>NaN</td>\n      <td>NaN</td>\n    </tr>\n    <tr>\n      <th>13</th>\n      <td></td>\n      <td>NaN</td>\n      <td>2</td>\n      <td>T-55</td>\n      <td>Tank</td>\n      <td>2002</td>\n      <td>2002</td>\n      <td>2</td>\n      <td>Second-hand; for use against rebels</td>\n      <td>NaN</td>\n    </tr>\n    <tr>\n      <th>14</th>\n      <td>Guinea-Bissau</td>\n      <td>1</td>\n      <td>Do-27</td>\n      <td>Light aircraft</td>\n      <td>1980</td>\n      <td>1980</td>\n      <td>1</td>\n      <td>Second-hand; status uncertain</td>\n      <td>NaN</td>\n      <td>NaN</td>\n    </tr>\n    <tr>\n      <th>15</th>\n      <td>United States</td>\n      <td>250</td>\n      <td>FIM-92 Stinger</td>\n      <td>Portable SAM</td>\n      <td>1992</td>\n      <td>1992</td>\n      <td>250</td>\n      <td>Second-hand; delivered in 1980s as aid to UNIT...</td>\n      <td>NaN</td>\n      <td>NaN</td>\n    </tr>\n    <tr>\n      <th>17</th>\n      <td>Argentina</td>\n      <td>NaN</td>\n      <td>NaN</td>\n      <td>NaN</td>\n      <td>NaN</td>\n      <td>NaN</td>\n      <td>NaN</td>\n      <td>NaN</td>\n      <td>NaN</td>\n      <td>Argentina</td>\n    </tr>\n    <tr>\n      <th>18</th>\n      <td>R: Bolivia</td>\n      <td>(37)</td>\n      <td>M-3/M-5 Half-track</td>\n      <td>APC</td>\n      <td>2006</td>\n      <td>2006</td>\n      <td>(37)</td>\n      <td>Second-hand; aid; M-5 and M-9 versions</td>\n      <td>NaN</td>\n      <td>NaN</td>\n    </tr>\n    <tr>\n      <th>19</th>\n      <td>Colombia</td>\n      <td>3</td>\n      <td>IA-58A Pucara</td>\n      <td>Ground attack ac</td>\n      <td>1989</td>\n      <td>1990</td>\n      <td>3</td>\n      <td>Second-hand; aid; for anti-narcotics operations</td>\n      <td>NaN</td>\n      <td>NaN</td>\n    </tr>\n    <tr>\n      <th>20</th>\n      <td>Denmark</td>\n      <td>1</td>\n      <td>Lynx</td>\n      <td>ASW helicopter</td>\n      <td>(1987)</td>\n      <td>1987</td>\n      <td>1</td>\n      <td>Second-hand; $3.5 m deal</td>\n      <td>NaN</td>\n      <td>NaN</td>\n    </tr>\n    <tr>\n      <th>21</th>\n      <td></td>\n      <td>NaN</td>\n      <td>3</td>\n      <td>Gem</td>\n      <td>Turboshaft</td>\n      <td>1988</td>\n      <td>1988</td>\n      <td>3</td>\n      <td>Second-hand; spares for Lynx helicopters</td>\n      <td>NaN</td>\n    </tr>\n    <tr>\n      <th>22</th>\n      <td>Ecuador</td>\n      <td>18</td>\n      <td>M-101A1 105mm</td>\n      <td>Towed gun</td>\n      <td>(1995)</td>\n      <td>1995</td>\n      <td>18</td>\n      <td>Second-hand but modernized before delivery; pa...</td>\n      <td>NaN</td>\n      <td>NaN</td>\n    </tr>\n    <tr>\n      <th>23</th>\n      <td>Honduras</td>\n      <td>(60)</td>\n      <td>MO-120-M65 120mm</td>\n      <td>Mortar</td>\n      <td>(1980)</td>\n      <td>1981-1983</td>\n      <td>(60)</td>\n      <td>NaN</td>\n      <td>NaN</td>\n      <td>NaN</td>\n    </tr>\n    <tr>\n      <th>24</th>\n      <td>Paraguay</td>\n      <td>3</td>\n      <td>CV-440</td>\n      <td>Transport aircraft</td>\n      <td>1962</td>\n      <td>1962</td>\n      <td>3</td>\n      <td>Second-hand; $0.7 m deal; CV-440 version</td>\n      <td>NaN</td>\n      <td>NaN</td>\n    </tr>\n  </tbody>\n</table>\n</div>"
     },
     "metadata": {},
     "execution_count": 17
    }
   ],
   "source": [
    "df.head(20)"
   ]
  },
  {
   "cell_type": "code",
   "execution_count": 18,
   "metadata": {},
   "outputs": [
    {
     "output_type": "execute_result",
     "data": {
      "text/plain": [
       "array(['Albania', nan, 'Algeria', 'Angola', 'Argentina', 'Armenia',\n",
       "       'Aruba', 'Australia', 'Austria', 'Bahamas', 'Bahrain',\n",
       "       'Bangladesh', 'Belarus', 'Belgium', 'Bosnia-Herzegovina', 'Brazil',\n",
       "       'Brunei', 'Bulgaria', 'Cambodia', 'Canada', 'Chad', 'Chile',\n",
       "       'China', 'Colombia', 'Costa Rica', \"Cote d'Ivoire\", 'Croatia',\n",
       "       'Cuba', 'Cyprus', 'Czechia', 'Czechoslovakia', 'Denmark',\n",
       "       'Dominican Republic', 'DR Congo', 'East Germany (GDR)', 'Ecuador',\n",
       "       'Egypt', 'Eritrea', 'Estonia', 'Ethiopia', 'European Union**',\n",
       "       'Europe multi-state', 'Fiji', 'Finland', 'FMLN (El Salvador)*',\n",
       "       'France', 'Gabon', 'Georgia', 'Germany', 'Ghana', 'Greece',\n",
       "       'Guatemala', 'Guyana', 'Hungary', 'Iceland', 'India', 'Indonesia',\n",
       "       'Iran', 'Iraq', 'Ireland', 'Israel', 'Italy', 'Japan', 'Jordan',\n",
       "       'Kazakhstan', 'Kenya', 'Kuwait', 'Kyrgyzstan', 'Latvia', 'Lebanon',\n",
       "       'Libya', 'Libya HoR', 'Lithuania', 'Luxembourg', 'Malawi',\n",
       "       'Malaysia', 'Malta', 'Mexico', 'Moldova', 'Montenegro', 'Morocco',\n",
       "       'Mozambique', 'Mujahedin (Afghanistan)*', '(multiple sellers)',\n",
       "       'Netherlands', 'New Zealand', 'Nicaragua', 'Niger', 'Nigeria',\n",
       "       'North Korea', 'North Yemen', 'Norway', 'Oman', 'Pakistan',\n",
       "       'Panama', 'Peru', 'Philippines', 'Poland', 'Portugal', 'Qatar',\n",
       "       'Romania', 'Russia', 'Saudi Arabia', 'Senegal', 'Serbia',\n",
       "       'Seychelles', 'Singapore', 'Slovakia', 'Slovenia', 'South Africa',\n",
       "       'South Korea', 'South Vietnam', 'South Yemen', 'Soviet Union',\n",
       "       'Spain', 'Sri Lanka', 'Sudan', 'Sweden', 'Switzerland', 'Syria',\n",
       "       'Taiwan', 'Thailand', 'Turkey', 'UAE', 'Uganda', 'Ukraine',\n",
       "       'United Kingdom', 'United Nations**', 'United States',\n",
       "       'Unknown supplier(s)', 'Uruguay', 'Uzbekistan', 'Venezuela',\n",
       "       'Viet Nam', 'Yugoslavia', 'Zambia', 'Zimbabwe'], dtype=object)"
      ]
     },
     "metadata": {},
     "execution_count": 18
    }
   ],
   "source": [
    "df['Supplier'].unique()"
   ]
  },
  {
   "cell_type": "code",
   "execution_count": 19,
   "metadata": {},
   "outputs": [],
   "source": [
    "df['Supplier']= df[['Supplier']].ffill()"
   ]
  },
  {
   "cell_type": "code",
   "execution_count": 20,
   "metadata": {},
   "outputs": [
    {
     "output_type": "execute_result",
     "data": {
      "text/plain": [
       "2         Albania\n",
       "3         Albania\n",
       "5         Algeria\n",
       "6         Algeria\n",
       "7         Algeria\n",
       "           ...   \n",
       "27029      Zambia\n",
       "27031    Zimbabwe\n",
       "27032    Zimbabwe\n",
       "27033    Zimbabwe\n",
       "27034    Zimbabwe\n",
       "Name: Supplier, Length: 26898, dtype: object"
      ]
     },
     "metadata": {},
     "execution_count": 20
    }
   ],
   "source": [
    "df['Supplier']"
   ]
  },
  {
   "cell_type": "code",
   "execution_count": 21,
   "metadata": {},
   "outputs": [
    {
     "output_type": "execute_result",
     "data": {
      "text/plain": [
       "      RecipientSupplier Unnamed: 1          Unnamed: 2          Unnamed: 3  \\\n",
       "2               Albania        NaN                 NaN                 NaN   \n",
       "3       R: Burkina Faso       (12)          M-43 120mm              Mortar   \n",
       "5               Algeria        NaN                 NaN                 NaN   \n",
       "6             R: Angola          4       N-262 Fregate  Transport aircraft   \n",
       "7               Nigeria        (2)               Il-28     Bomber aircraft   \n",
       "8        Western Sahara        (3)            BTR-60PB                 APC   \n",
       "10               Angola        NaN                 NaN                 NaN   \n",
       "11             R: Congo          1            Noratlas  Transport aircraft   \n",
       "12        Cote d'Ivoire        (2)               BMP-2                 IFV   \n",
       "13                             NaN                   2                T-55   \n",
       "14        Guinea-Bissau          1               Do-27      Light aircraft   \n",
       "15        United States        250      FIM-92 Stinger        Portable SAM   \n",
       "17            Argentina        NaN                 NaN                 NaN   \n",
       "18           R: Bolivia       (37)  M-3/M-5 Half-track                 APC   \n",
       "19             Colombia          3       IA-58A Pucara    Ground attack ac   \n",
       "20              Denmark          1                Lynx      ASW helicopter   \n",
       "21                             NaN                   3                 Gem   \n",
       "22              Ecuador         18       M-101A1 105mm           Towed gun   \n",
       "23             Honduras       (60)    MO-120-M65 120mm              Mortar   \n",
       "24             Paraguay          3              CV-440  Transport aircraft   \n",
       "\n",
       "                  Year(s) Unnamed: 6  \\\n",
       "2          NaN        NaN        NaN   \n",
       "3       (2011)       2011         12   \n",
       "5          NaN        NaN        NaN   \n",
       "6         1980       1980          4   \n",
       "7         1967       1968        (2)   \n",
       "8       (2016)       2016        (3)   \n",
       "10         NaN        NaN        NaN   \n",
       "11        1979       1979          1   \n",
       "12        2002       2002        (2)   \n",
       "13        Tank       2002       2002   \n",
       "14        1980       1980          1   \n",
       "15        1992       1992        250   \n",
       "17         NaN        NaN        NaN   \n",
       "18        2006       2006       (37)   \n",
       "19        1989       1990          3   \n",
       "20      (1987)       1987          1   \n",
       "21  Turboshaft       1988       1988   \n",
       "22      (1995)       1995         18   \n",
       "23      (1980)  1981-1983       (60)   \n",
       "24        1962       1962          3   \n",
       "\n",
       "                                            Supplier/  \\\n",
       "2                                                 NaN   \n",
       "3                                Probably second-hand   \n",
       "5                                                 NaN   \n",
       "6                            Second-hand; incl for MP   \n",
       "7                                         Second-hand   \n",
       "8                                    Second-hand; aid   \n",
       "10                                                NaN   \n",
       "11                                   Second-hand; aid   \n",
       "12          Second-hand; for use against fight rebels   \n",
       "13                                                  2   \n",
       "14                      Second-hand; status uncertain   \n",
       "15  Second-hand; delivered in 1980s as aid to UNIT...   \n",
       "17                                                NaN   \n",
       "18             Second-hand; aid; M-5 and M-9 versions   \n",
       "19    Second-hand; aid; for anti-narcotics operations   \n",
       "20                           Second-hand; $3.5 m deal   \n",
       "21                                                  3   \n",
       "22  Second-hand but modernized before delivery; pa...   \n",
       "23                                                NaN   \n",
       "24           Second-hand; $0.7 m deal; CV-440 version   \n",
       "\n",
       "                                  Unnamed: 8   Supplier  \n",
       "2                                        NaN    Albania  \n",
       "3                                        NaN    Albania  \n",
       "5                                        NaN    Algeria  \n",
       "6                                        NaN    Algeria  \n",
       "7                                        NaN    Algeria  \n",
       "8                                        NaN    Algeria  \n",
       "10                                       NaN     Angola  \n",
       "11                                       NaN     Angola  \n",
       "12                                       NaN     Angola  \n",
       "13       Second-hand; for use against rebels     Angola  \n",
       "14                                       NaN     Angola  \n",
       "15                                       NaN     Angola  \n",
       "17                                       NaN  Argentina  \n",
       "18                                       NaN  Argentina  \n",
       "19                                       NaN  Argentina  \n",
       "20                                       NaN  Argentina  \n",
       "21  Second-hand; spares for Lynx helicopters  Argentina  \n",
       "22                                       NaN  Argentina  \n",
       "23                                       NaN  Argentina  \n",
       "24                                       NaN  Argentina  "
      ],
      "text/html": "<div>\n<style scoped>\n    .dataframe tbody tr th:only-of-type {\n        vertical-align: middle;\n    }\n\n    .dataframe tbody tr th {\n        vertical-align: top;\n    }\n\n    .dataframe thead th {\n        text-align: right;\n    }\n</style>\n<table border=\"1\" class=\"dataframe\">\n  <thead>\n    <tr style=\"text-align: right;\">\n      <th></th>\n      <th>RecipientSupplier</th>\n      <th>Unnamed: 1</th>\n      <th>Unnamed: 2</th>\n      <th>Unnamed: 3</th>\n      <th></th>\n      <th>Year(s)</th>\n      <th>Unnamed: 6</th>\n      <th>Supplier/</th>\n      <th>Unnamed: 8</th>\n      <th>Supplier</th>\n    </tr>\n  </thead>\n  <tbody>\n    <tr>\n      <th>2</th>\n      <td>Albania</td>\n      <td>NaN</td>\n      <td>NaN</td>\n      <td>NaN</td>\n      <td>NaN</td>\n      <td>NaN</td>\n      <td>NaN</td>\n      <td>NaN</td>\n      <td>NaN</td>\n      <td>Albania</td>\n    </tr>\n    <tr>\n      <th>3</th>\n      <td>R: Burkina Faso</td>\n      <td>(12)</td>\n      <td>M-43 120mm</td>\n      <td>Mortar</td>\n      <td>(2011)</td>\n      <td>2011</td>\n      <td>12</td>\n      <td>Probably second-hand</td>\n      <td>NaN</td>\n      <td>Albania</td>\n    </tr>\n    <tr>\n      <th>5</th>\n      <td>Algeria</td>\n      <td>NaN</td>\n      <td>NaN</td>\n      <td>NaN</td>\n      <td>NaN</td>\n      <td>NaN</td>\n      <td>NaN</td>\n      <td>NaN</td>\n      <td>NaN</td>\n      <td>Algeria</td>\n    </tr>\n    <tr>\n      <th>6</th>\n      <td>R: Angola</td>\n      <td>4</td>\n      <td>N-262 Fregate</td>\n      <td>Transport aircraft</td>\n      <td>1980</td>\n      <td>1980</td>\n      <td>4</td>\n      <td>Second-hand; incl for MP</td>\n      <td>NaN</td>\n      <td>Algeria</td>\n    </tr>\n    <tr>\n      <th>7</th>\n      <td>Nigeria</td>\n      <td>(2)</td>\n      <td>Il-28</td>\n      <td>Bomber aircraft</td>\n      <td>1967</td>\n      <td>1968</td>\n      <td>(2)</td>\n      <td>Second-hand</td>\n      <td>NaN</td>\n      <td>Algeria</td>\n    </tr>\n    <tr>\n      <th>8</th>\n      <td>Western Sahara</td>\n      <td>(3)</td>\n      <td>BTR-60PB</td>\n      <td>APC</td>\n      <td>(2016)</td>\n      <td>2016</td>\n      <td>(3)</td>\n      <td>Second-hand; aid</td>\n      <td>NaN</td>\n      <td>Algeria</td>\n    </tr>\n    <tr>\n      <th>10</th>\n      <td>Angola</td>\n      <td>NaN</td>\n      <td>NaN</td>\n      <td>NaN</td>\n      <td>NaN</td>\n      <td>NaN</td>\n      <td>NaN</td>\n      <td>NaN</td>\n      <td>NaN</td>\n      <td>Angola</td>\n    </tr>\n    <tr>\n      <th>11</th>\n      <td>R: Congo</td>\n      <td>1</td>\n      <td>Noratlas</td>\n      <td>Transport aircraft</td>\n      <td>1979</td>\n      <td>1979</td>\n      <td>1</td>\n      <td>Second-hand; aid</td>\n      <td>NaN</td>\n      <td>Angola</td>\n    </tr>\n    <tr>\n      <th>12</th>\n      <td>Cote d'Ivoire</td>\n      <td>(2)</td>\n      <td>BMP-2</td>\n      <td>IFV</td>\n      <td>2002</td>\n      <td>2002</td>\n      <td>(2)</td>\n      <td>Second-hand; for use against fight rebels</td>\n      <td>NaN</td>\n      <td>Angola</td>\n    </tr>\n    <tr>\n      <th>13</th>\n      <td></td>\n      <td>NaN</td>\n      <td>2</td>\n      <td>T-55</td>\n      <td>Tank</td>\n      <td>2002</td>\n      <td>2002</td>\n      <td>2</td>\n      <td>Second-hand; for use against rebels</td>\n      <td>Angola</td>\n    </tr>\n    <tr>\n      <th>14</th>\n      <td>Guinea-Bissau</td>\n      <td>1</td>\n      <td>Do-27</td>\n      <td>Light aircraft</td>\n      <td>1980</td>\n      <td>1980</td>\n      <td>1</td>\n      <td>Second-hand; status uncertain</td>\n      <td>NaN</td>\n      <td>Angola</td>\n    </tr>\n    <tr>\n      <th>15</th>\n      <td>United States</td>\n      <td>250</td>\n      <td>FIM-92 Stinger</td>\n      <td>Portable SAM</td>\n      <td>1992</td>\n      <td>1992</td>\n      <td>250</td>\n      <td>Second-hand; delivered in 1980s as aid to UNIT...</td>\n      <td>NaN</td>\n      <td>Angola</td>\n    </tr>\n    <tr>\n      <th>17</th>\n      <td>Argentina</td>\n      <td>NaN</td>\n      <td>NaN</td>\n      <td>NaN</td>\n      <td>NaN</td>\n      <td>NaN</td>\n      <td>NaN</td>\n      <td>NaN</td>\n      <td>NaN</td>\n      <td>Argentina</td>\n    </tr>\n    <tr>\n      <th>18</th>\n      <td>R: Bolivia</td>\n      <td>(37)</td>\n      <td>M-3/M-5 Half-track</td>\n      <td>APC</td>\n      <td>2006</td>\n      <td>2006</td>\n      <td>(37)</td>\n      <td>Second-hand; aid; M-5 and M-9 versions</td>\n      <td>NaN</td>\n      <td>Argentina</td>\n    </tr>\n    <tr>\n      <th>19</th>\n      <td>Colombia</td>\n      <td>3</td>\n      <td>IA-58A Pucara</td>\n      <td>Ground attack ac</td>\n      <td>1989</td>\n      <td>1990</td>\n      <td>3</td>\n      <td>Second-hand; aid; for anti-narcotics operations</td>\n      <td>NaN</td>\n      <td>Argentina</td>\n    </tr>\n    <tr>\n      <th>20</th>\n      <td>Denmark</td>\n      <td>1</td>\n      <td>Lynx</td>\n      <td>ASW helicopter</td>\n      <td>(1987)</td>\n      <td>1987</td>\n      <td>1</td>\n      <td>Second-hand; $3.5 m deal</td>\n      <td>NaN</td>\n      <td>Argentina</td>\n    </tr>\n    <tr>\n      <th>21</th>\n      <td></td>\n      <td>NaN</td>\n      <td>3</td>\n      <td>Gem</td>\n      <td>Turboshaft</td>\n      <td>1988</td>\n      <td>1988</td>\n      <td>3</td>\n      <td>Second-hand; spares for Lynx helicopters</td>\n      <td>Argentina</td>\n    </tr>\n    <tr>\n      <th>22</th>\n      <td>Ecuador</td>\n      <td>18</td>\n      <td>M-101A1 105mm</td>\n      <td>Towed gun</td>\n      <td>(1995)</td>\n      <td>1995</td>\n      <td>18</td>\n      <td>Second-hand but modernized before delivery; pa...</td>\n      <td>NaN</td>\n      <td>Argentina</td>\n    </tr>\n    <tr>\n      <th>23</th>\n      <td>Honduras</td>\n      <td>(60)</td>\n      <td>MO-120-M65 120mm</td>\n      <td>Mortar</td>\n      <td>(1980)</td>\n      <td>1981-1983</td>\n      <td>(60)</td>\n      <td>NaN</td>\n      <td>NaN</td>\n      <td>Argentina</td>\n    </tr>\n    <tr>\n      <th>24</th>\n      <td>Paraguay</td>\n      <td>3</td>\n      <td>CV-440</td>\n      <td>Transport aircraft</td>\n      <td>1962</td>\n      <td>1962</td>\n      <td>3</td>\n      <td>Second-hand; $0.7 m deal; CV-440 version</td>\n      <td>NaN</td>\n      <td>Argentina</td>\n    </tr>\n  </tbody>\n</table>\n</div>"
     },
     "metadata": {},
     "execution_count": 21
    }
   ],
   "source": [
    "df.head(20)"
   ]
  },
  {
   "source": [
    "# Checking for Supplier is Recipient Supplier -> this line indicates the Supplier itself and is redundant"
   ],
   "cell_type": "markdown",
   "metadata": {}
  },
  {
   "cell_type": "code",
   "execution_count": 22,
   "metadata": {},
   "outputs": [
    {
     "output_type": "execute_result",
     "data": {
      "text/plain": [
       "         RecipientSupplier Unnamed: 1     Unnamed: 2          Unnamed: 3  \\\n",
       "3          R: Burkina Faso       (12)     M-43 120mm              Mortar   \n",
       "6                R: Angola          4  N-262 Fregate  Transport aircraft   \n",
       "7                  Nigeria        (2)          Il-28     Bomber aircraft   \n",
       "8           Western Sahara        (3)       BTR-60PB                 APC   \n",
       "11                R: Congo          1       Noratlas  Transport aircraft   \n",
       "...                    ...        ...            ...                 ...   \n",
       "27026                             NaN              4         J-1 Jastreb   \n",
       "27029           R: Liberia          1  DHC-4 Caribou  Transport aircraft   \n",
       "27032           R: Czechia         10      2S1 122mm  Self-propelled gun   \n",
       "27033               Zambia       (28)         Ferret                 APV   \n",
       "27034                             NaN              2            Pembroke   \n",
       "\n",
       "                          Year(s) Unnamed: 6  \\\n",
       "3                  (2011)    2011         12   \n",
       "6                    1980    1980          4   \n",
       "7                    1967    1968        (2)   \n",
       "8                  (2016)    2016        (3)   \n",
       "11                   1979    1979          1   \n",
       "...                   ...     ...        ...   \n",
       "27026    Ground attack ac    1970       1971   \n",
       "27029                1989    1990          1   \n",
       "27032              (2000)    2001         10   \n",
       "27033                1964    1964       (28)   \n",
       "27034  Light transport ac    1964       1964   \n",
       "\n",
       "                                               Supplier/  \\\n",
       "3                                   Probably second-hand   \n",
       "6                               Second-hand; incl for MP   \n",
       "7                                            Second-hand   \n",
       "8                                       Second-hand; aid   \n",
       "11                                      Second-hand; aid   \n",
       "...                                                  ...   \n",
       "27026                                                  4   \n",
       "27029  Second-hand (modernized in Malta before delivery)   \n",
       "27032                                        Second-hand   \n",
       "27033    Ex-Rhodesian; taken over as aid on independence   \n",
       "27034                                                  2   \n",
       "\n",
       "                                              Unnamed: 8    Supplier  \n",
       "3                                                    NaN     Albania  \n",
       "6                                                    NaN     Algeria  \n",
       "7                                                    NaN     Algeria  \n",
       "8                                                    NaN     Algeria  \n",
       "11                                                   NaN      Angola  \n",
       "...                                                  ...         ...  \n",
       "27026  J-1E version; possibly incl 2 RJ-1E reconnaiss...  Yugoslavia  \n",
       "27029                                                NaN      Zambia  \n",
       "27032                                                NaN    Zimbabwe  \n",
       "27033                                                NaN    Zimbabwe  \n",
       "27034  Ex-Rhodesian; taken over on independence; Pemb...    Zimbabwe  \n",
       "\n",
       "[26762 rows x 10 columns]"
      ],
      "text/html": "<div>\n<style scoped>\n    .dataframe tbody tr th:only-of-type {\n        vertical-align: middle;\n    }\n\n    .dataframe tbody tr th {\n        vertical-align: top;\n    }\n\n    .dataframe thead th {\n        text-align: right;\n    }\n</style>\n<table border=\"1\" class=\"dataframe\">\n  <thead>\n    <tr style=\"text-align: right;\">\n      <th></th>\n      <th>RecipientSupplier</th>\n      <th>Unnamed: 1</th>\n      <th>Unnamed: 2</th>\n      <th>Unnamed: 3</th>\n      <th></th>\n      <th>Year(s)</th>\n      <th>Unnamed: 6</th>\n      <th>Supplier/</th>\n      <th>Unnamed: 8</th>\n      <th>Supplier</th>\n    </tr>\n  </thead>\n  <tbody>\n    <tr>\n      <th>3</th>\n      <td>R: Burkina Faso</td>\n      <td>(12)</td>\n      <td>M-43 120mm</td>\n      <td>Mortar</td>\n      <td>(2011)</td>\n      <td>2011</td>\n      <td>12</td>\n      <td>Probably second-hand</td>\n      <td>NaN</td>\n      <td>Albania</td>\n    </tr>\n    <tr>\n      <th>6</th>\n      <td>R: Angola</td>\n      <td>4</td>\n      <td>N-262 Fregate</td>\n      <td>Transport aircraft</td>\n      <td>1980</td>\n      <td>1980</td>\n      <td>4</td>\n      <td>Second-hand; incl for MP</td>\n      <td>NaN</td>\n      <td>Algeria</td>\n    </tr>\n    <tr>\n      <th>7</th>\n      <td>Nigeria</td>\n      <td>(2)</td>\n      <td>Il-28</td>\n      <td>Bomber aircraft</td>\n      <td>1967</td>\n      <td>1968</td>\n      <td>(2)</td>\n      <td>Second-hand</td>\n      <td>NaN</td>\n      <td>Algeria</td>\n    </tr>\n    <tr>\n      <th>8</th>\n      <td>Western Sahara</td>\n      <td>(3)</td>\n      <td>BTR-60PB</td>\n      <td>APC</td>\n      <td>(2016)</td>\n      <td>2016</td>\n      <td>(3)</td>\n      <td>Second-hand; aid</td>\n      <td>NaN</td>\n      <td>Algeria</td>\n    </tr>\n    <tr>\n      <th>11</th>\n      <td>R: Congo</td>\n      <td>1</td>\n      <td>Noratlas</td>\n      <td>Transport aircraft</td>\n      <td>1979</td>\n      <td>1979</td>\n      <td>1</td>\n      <td>Second-hand; aid</td>\n      <td>NaN</td>\n      <td>Angola</td>\n    </tr>\n    <tr>\n      <th>...</th>\n      <td>...</td>\n      <td>...</td>\n      <td>...</td>\n      <td>...</td>\n      <td>...</td>\n      <td>...</td>\n      <td>...</td>\n      <td>...</td>\n      <td>...</td>\n      <td>...</td>\n    </tr>\n    <tr>\n      <th>27026</th>\n      <td></td>\n      <td>NaN</td>\n      <td>4</td>\n      <td>J-1 Jastreb</td>\n      <td>Ground attack ac</td>\n      <td>1970</td>\n      <td>1971</td>\n      <td>4</td>\n      <td>J-1E version; possibly incl 2 RJ-1E reconnaiss...</td>\n      <td>Yugoslavia</td>\n    </tr>\n    <tr>\n      <th>27029</th>\n      <td>R: Liberia</td>\n      <td>1</td>\n      <td>DHC-4 Caribou</td>\n      <td>Transport aircraft</td>\n      <td>1989</td>\n      <td>1990</td>\n      <td>1</td>\n      <td>Second-hand (modernized in Malta before delivery)</td>\n      <td>NaN</td>\n      <td>Zambia</td>\n    </tr>\n    <tr>\n      <th>27032</th>\n      <td>R: Czechia</td>\n      <td>10</td>\n      <td>2S1 122mm</td>\n      <td>Self-propelled gun</td>\n      <td>(2000)</td>\n      <td>2001</td>\n      <td>10</td>\n      <td>Second-hand</td>\n      <td>NaN</td>\n      <td>Zimbabwe</td>\n    </tr>\n    <tr>\n      <th>27033</th>\n      <td>Zambia</td>\n      <td>(28)</td>\n      <td>Ferret</td>\n      <td>APV</td>\n      <td>1964</td>\n      <td>1964</td>\n      <td>(28)</td>\n      <td>Ex-Rhodesian; taken over as aid on independence</td>\n      <td>NaN</td>\n      <td>Zimbabwe</td>\n    </tr>\n    <tr>\n      <th>27034</th>\n      <td></td>\n      <td>NaN</td>\n      <td>2</td>\n      <td>Pembroke</td>\n      <td>Light transport ac</td>\n      <td>1964</td>\n      <td>1964</td>\n      <td>2</td>\n      <td>Ex-Rhodesian; taken over on independence; Pemb...</td>\n      <td>Zimbabwe</td>\n    </tr>\n  </tbody>\n</table>\n<p>26762 rows × 10 columns</p>\n</div>"
     },
     "metadata": {},
     "execution_count": 22
    }
   ],
   "source": [
    "df = df.drop(df[df['Supplier'] == df['RecipientSupplier']].index)\n",
    "\n",
    "df"
   ]
  },
  {
   "source": [
    "# Creating Recipient column"
   ],
   "cell_type": "markdown",
   "metadata": {}
  },
  {
   "cell_type": "code",
   "execution_count": 23,
   "metadata": {},
   "outputs": [],
   "source": [
    "df['Recipient'] = df['RecipientSupplier']"
   ]
  },
  {
   "cell_type": "code",
   "execution_count": 24,
   "metadata": {},
   "outputs": [
    {
     "output_type": "execute_result",
     "data": {
      "text/plain": [
       "3            R: Burkina Faso\n",
       "6                  R: Angola\n",
       "7                    Nigeria\n",
       "8             Western Sahara\n",
       "11                  R: Congo\n",
       "                ...         \n",
       "27026                       \n",
       "27029             R: Liberia\n",
       "27032             R: Czechia\n",
       "27033                 Zambia\n",
       "27034                       \n",
       "Name: Recipient, Length: 26762, dtype: object"
      ]
     },
     "metadata": {},
     "execution_count": 24
    }
   ],
   "source": [
    "df['Recipient'].loc[df.index.isin(suppliers.index.values)] = \"None\"\n",
    "\n",
    "df['Recipient']"
   ]
  },
  {
   "source": [
    "## Getting rid of \"R\" in recipient column as it gives no information, only indicates recipients beginning"
   ],
   "cell_type": "markdown",
   "metadata": {}
  },
  {
   "cell_type": "code",
   "execution_count": 25,
   "metadata": {},
   "outputs": [
    {
     "output_type": "execute_result",
     "data": {
      "text/plain": [
       "3               Burkina Faso\n",
       "6                     Angola\n",
       "7                    Nigeria\n",
       "8             Western Sahara\n",
       "11                     Congo\n",
       "                ...         \n",
       "27026                       \n",
       "27029                Liberia\n",
       "27032                Czechia\n",
       "27033                 Zambia\n",
       "27034                       \n",
       "Name: Recipient, Length: 26762, dtype: object"
      ]
     },
     "metadata": {},
     "execution_count": 25
    }
   ],
   "source": [
    "df['Recipient'] = df['Recipient'].str.replace('R: ', '')\n",
    "\n",
    "df['Recipient']"
   ]
  },
  {
   "cell_type": "code",
   "execution_count": 26,
   "metadata": {},
   "outputs": [
    {
     "output_type": "execute_result",
     "data": {
      "text/plain": [
       "                      23427\n",
       "     Egypt               46\n",
       "     United States       45\n",
       "     Pakistan            40\n",
       "     India               40\n",
       "                      ...  \n",
       "Chile                     1\n",
       "Pakistan                  1\n",
       "     Tuvalu               1\n",
       "Philippines               1\n",
       "Ecuador                   1\n",
       "Name: Recipient, Length: 336, dtype: int64"
      ]
     },
     "metadata": {},
     "execution_count": 26
    }
   ],
   "source": [
    "df[\"Recipient\"].value_counts(dropna=False)"
   ]
  },
  {
   "cell_type": "code",
   "execution_count": 27,
   "metadata": {},
   "outputs": [
    {
     "output_type": "execute_result",
     "data": {
      "text/plain": [
       "array(['Burkina Faso', 'Angola', '     Nigeria', '     Western Sahara',\n",
       "       'Congo', \"     Cote d'Ivoire\", '     ', '     Guinea-Bissau',\n",
       "       '     United States', 'Bolivia', '     Colombia', '     Denmark',\n",
       "       '     Ecuador', '     Honduras', '     Paraguay', '     Spain',\n",
       "       '     Sri Lanka', '     Uruguay', 'Sudan', 'Israel', 'India',\n",
       "       '     Jordan', '     Malaysia', '     New Zealand',\n",
       "       '     United Kingdom', '     Brazil', '     Brunei',\n",
       "       '     Cambodia', '     Canada', '     Chad', '     Chile',\n",
       "       '     Fiji', '     Ghana', '     India', '     Indonesia',\n",
       "       '     Iraq', '     Jamaica', '     Japan', '     Kiribati',\n",
       "       '     Kuwait', '     Laos', '     Lesotho',\n",
       "       '     Marshall Islands', '     Micronesia', '     Nepal',\n",
       "       '     Netherlands', '     Oman', '     Pakistan', '     Palau',\n",
       "       '     Papua New Guinea', '     Philippines', '     Samoa',\n",
       "       '     Singapore', '     Solomon Islands', '     Sweden',\n",
       "       '     Thailand', '     Timor-Leste', '     Tonga',\n",
       "       '     Trinidad and Tobago', '     Tuvalu', '     UAE',\n",
       "       '     Vanuatu', '     Yemen', 'Australia', '     Uganda',\n",
       "       '     Argentina', '     Belgium', '     Czechia', '     Greece',\n",
       "       '     Portugal', '     Saudi Arabia', '     Slovenia',\n",
       "       '     Australia', '     Bangladesh', '     Bolivia',\n",
       "       '     Botswana', '     Burkina Faso', '     Egypt', '     France',\n",
       "       '     Gabon', '     Germany', '     Iran', '     Israel',\n",
       "       '     Italy', '     Latvia', '     Libya', '     Montenegro',\n",
       "       '     Morocco', '     Myanmar', '     Niger', '     OSCE**',\n",
       "       '     Poland', '     Tunisia', '     Turkmenistan',\n",
       "       '     Venezuela', '     Yugoslavia', 'Denmark', 'Chile',\n",
       "       'Singapore', 'Afghanistan', '     Viet Nam', '     Algeria',\n",
       "       '     Angola', '     Armenia', '     Azerbaijan', '     China',\n",
       "       '     Djibouti', '     DR Congo', '     Eritrea', '     Ethiopia',\n",
       "       '     Hungary', '     Libya HoR', '     Peru', '     Rwanda',\n",
       "       '     Serbia', '     Sierra Leone', '     Sudan', '     Syria',\n",
       "       'Indonesia', '     Austria', '     Bahrain', '     Benin',\n",
       "       '     Bulgaria', '     Estonia', '     Katanga', '     Lebanon',\n",
       "       '     Mexico', '     NATO**', '     Norway', '     Panama',\n",
       "       '     Qatar', '     Turkey', '     United Nations**',\n",
       "       '     Zimbabwe', '     Cameroon', '     Afghanistan',\n",
       "       '     Cabo Verde', '     Comoros', '     Cyprus',\n",
       "       '     Dominican Republic', '     Guyana', '     Mali',\n",
       "       '     Mauritania', '     Mozambique', '     Namibia',\n",
       "       '     South Korea', '     Suriname', '     Togo',\n",
       "       '     Unknown recipient(s)', '     Congo', '     Georgia',\n",
       "       '     Lithuania', '     Macedonia', '     Nicaragua',\n",
       "       '     Romania', '     Senegal', '     Southern rebels (Yemen)*',\n",
       "       '     Soviet Union', '     Tajikistan', 'LTTE (Sri Lanka)*',\n",
       "       '     MTA (Myanmar)*', 'Syria', '     African Union**',\n",
       "       '     Croatia', '     Cuba', '     Finland', '     Guatemala',\n",
       "       '     Haiti', '     Ireland', '     Kazakhstan', '     Kenya',\n",
       "       '     North Yemen', '     South Africa', '     South Yemen',\n",
       "       '     Switzerland', '     Taiwan', '     Tanzania', '     Ukraine',\n",
       "       '     Uzbekistan', '     Zambia', 'United States',\n",
       "       'Dominican Republic', '     El Salvador', '     Mauritius',\n",
       "       '     Albania', '     Somalia', '     North Korea', '     Bahamas',\n",
       "       '     Belarus', '     Bosnia-Herzegovina', '     Burundi',\n",
       "       '     Central African Republic', '     Equatorial Guinea',\n",
       "       '     FNLA (Angola)*', '     Gambia', '     Guinea',\n",
       "       '     Khmer Rouge (Cambodia)*', '     Kyrgyzstan',\n",
       "       '     Mujahedin (Afghanistan)*', '     Seychelles',\n",
       "       '     Slovakia', '     South Sudan',\n",
       "       '     United Wa State (Myanmar)*', '     Viet Minh (France)*',\n",
       "       'Guatemala', 'Guyana', 'Benin', 'Germany', 'Peru', '     Russia',\n",
       "       'East Germany (GDR)', '     East Germany (GDR)', 'Greece',\n",
       "       '     Iceland', 'Colombia', 'France', 'Albania',\n",
       "       '     PLO (Israel)*', 'Uruguay', 'African Union**',\n",
       "       '     Palestine', '     Yemen Arab Republic', 'SNA (Somalia)*',\n",
       "       '     UIC (Somalia)*', 'Iraq', 'Eritrea', 'Mali', 'Spain',\n",
       "       'United Kingdom', 'UAE', 'Nicaragua', '     Madagascar',\n",
       "       '     Bhutan', '     Biafra', '     Malawi', '     South Vietnam',\n",
       "       '     UNITA (Angola)*', 'Azerbaijan', 'Malaysia',\n",
       "       '     Costa Rica', '     Luxembourg', '     Malta', 'DR Congo',\n",
       "       'Canada', 'Soviet Union', '     Czechoslovakia', 'Finland',\n",
       "       'Maldives', '     Maldives', 'Senegal',\n",
       "       '     Hezbollah (Lebanon)*', '     Houthi rebels (Yemen)*',\n",
       "       'Djibouti', '     LF (Lebanon)*', '     Eswatini',\n",
       "       '     SLA (Lebanon)*', 'Algeria', 'Austria', 'Botswana', 'Brazil',\n",
       "       'Jordan', '     GUNT (Chad)*', '     MNLF (Philippines)*',\n",
       "       '     Provisional IRA (UK)*', 'Darfur rebels (Sudan)*',\n",
       "       'Cabo Verde', 'Bangladesh', 'Bahrain', 'Ecuador', 'Armenia',\n",
       "       'Zimbabwe', 'Nigeria', '     Barbados', '     FMLN (El Salvador)*',\n",
       "       'Mauritania', 'Ghana', '     Hamas (Palestine)*',\n",
       "       '     PRC (Israel/Palestine)*', 'Costa Rica', '     Mongolia',\n",
       "       'Bosnia-Herzegovina', '     NTC (Libya)*', '     Liberia',\n",
       "       '     Moldova', '     Northern Alliance (Afghanistan)*',\n",
       "       '     Ukraine Rebels*', 'Morocco', 'Gabon', 'Cambodia',\n",
       "       '     Northern Cyprus', 'Laos', 'Ethiopia',\n",
       "       '     ANC (South Africa)*', '     Grenada',\n",
       "       '     Pathet Lao (Laos)*', '     Viet Cong (South Vietnam)*',\n",
       "       '     ZAPU (Zimbabwe)*', 'Philippines', 'Kuwait',\n",
       "       '     Unknown country', 'Amal (Lebanon)*', '     ELF (Ethiopia)*',\n",
       "       '     Lebanon Palestinian rebels*', 'Pakistan', 'Libya GNC',\n",
       "       '     Kosovo', '     Libya GNC', '     Syria rebels*', 'Lebanon',\n",
       "       '     RUF (Sierra Leone)*', '     Belize',\n",
       "       '     Anti-Castro rebels (Cuba)*', '     Armas (Guatemala)*',\n",
       "       '     Contras (Nicaragua)*', '     Haiti rebels*',\n",
       "       '     Indonesia rebels*', '     Regional Security System**',\n",
       "       '     Saint Kitts and Nevis', '     Saint Vincent', 'North Yemen',\n",
       "       '     EPLF (Ethiopia)*', '     FAN (Chad)*',\n",
       "       '     FRELIMO (Portugal)*', '     LRA (Uganda)*',\n",
       "       '     LTTE (Sri Lanka)*', '     MPLA (Portugal)*',\n",
       "       '     NLA (Macedonia)*', '     PAIGC (Portugal)*',\n",
       "       '     PIJ (Israel/Palestine)*', '     PKK (Turkey)*',\n",
       "       '     RPF (Rwanda)*', '     SPLA (Sudan)*',\n",
       "       '     Unknown rebel group*', 'China', 'Liberia', 'Czechia'],\n",
       "      dtype=object)"
      ]
     },
     "metadata": {},
     "execution_count": 27
    }
   ],
   "source": [
    "df['Recipient'].unique()"
   ]
  },
  {
   "source": [
    "## Dropping RecipientSupplier original column in favor of separate columns"
   ],
   "cell_type": "markdown",
   "metadata": {}
  },
  {
   "cell_type": "code",
   "execution_count": 28,
   "metadata": {
    "ExecuteTime": {
     "end_time": "2021-02-01T18:01:11.238050Z",
     "start_time": "2021-02-01T18:01:11.221078Z"
    },
    "scrolled": true
   },
   "outputs": [
    {
     "output_type": "execute_result",
     "data": {
      "text/plain": [
       "   Unnamed: 1          Unnamed: 2          Unnamed: 3         Year(s)  \\\n",
       "3        (12)          M-43 120mm              Mortar  (2011)    2011   \n",
       "6           4       N-262 Fregate  Transport aircraft    1980    1980   \n",
       "7         (2)               Il-28     Bomber aircraft    1967    1968   \n",
       "8         (3)            BTR-60PB                 APC  (2016)    2016   \n",
       "11          1            Noratlas  Transport aircraft    1979    1979   \n",
       "12        (2)               BMP-2                 IFV    2002    2002   \n",
       "13        NaN                   2                T-55    Tank    2002   \n",
       "14          1               Do-27      Light aircraft    1980    1980   \n",
       "15        250      FIM-92 Stinger        Portable SAM    1992    1992   \n",
       "18       (37)  M-3/M-5 Half-track                 APC    2006    2006   \n",
       "\n",
       "   Unnamed: 6                                          Supplier/  \\\n",
       "3          12                               Probably second-hand   \n",
       "6           4                           Second-hand; incl for MP   \n",
       "7         (2)                                        Second-hand   \n",
       "8         (3)                                   Second-hand; aid   \n",
       "11          1                                   Second-hand; aid   \n",
       "12        (2)          Second-hand; for use against fight rebels   \n",
       "13       2002                                                  2   \n",
       "14          1                      Second-hand; status uncertain   \n",
       "15        250  Second-hand; delivered in 1980s as aid to UNIT...   \n",
       "18       (37)             Second-hand; aid; M-5 and M-9 versions   \n",
       "\n",
       "                             Unnamed: 8   Supplier            Recipient  \n",
       "3                                   NaN    Albania         Burkina Faso  \n",
       "6                                   NaN    Algeria               Angola  \n",
       "7                                   NaN    Algeria              Nigeria  \n",
       "8                                   NaN    Algeria       Western Sahara  \n",
       "11                                  NaN     Angola                Congo  \n",
       "12                                  NaN     Angola        Cote d'Ivoire  \n",
       "13  Second-hand; for use against rebels     Angola                       \n",
       "14                                  NaN     Angola        Guinea-Bissau  \n",
       "15                                  NaN     Angola        United States  \n",
       "18                                  NaN  Argentina              Bolivia  "
      ],
      "text/html": "<div>\n<style scoped>\n    .dataframe tbody tr th:only-of-type {\n        vertical-align: middle;\n    }\n\n    .dataframe tbody tr th {\n        vertical-align: top;\n    }\n\n    .dataframe thead th {\n        text-align: right;\n    }\n</style>\n<table border=\"1\" class=\"dataframe\">\n  <thead>\n    <tr style=\"text-align: right;\">\n      <th></th>\n      <th>Unnamed: 1</th>\n      <th>Unnamed: 2</th>\n      <th>Unnamed: 3</th>\n      <th></th>\n      <th>Year(s)</th>\n      <th>Unnamed: 6</th>\n      <th>Supplier/</th>\n      <th>Unnamed: 8</th>\n      <th>Supplier</th>\n      <th>Recipient</th>\n    </tr>\n  </thead>\n  <tbody>\n    <tr>\n      <th>3</th>\n      <td>(12)</td>\n      <td>M-43 120mm</td>\n      <td>Mortar</td>\n      <td>(2011)</td>\n      <td>2011</td>\n      <td>12</td>\n      <td>Probably second-hand</td>\n      <td>NaN</td>\n      <td>Albania</td>\n      <td>Burkina Faso</td>\n    </tr>\n    <tr>\n      <th>6</th>\n      <td>4</td>\n      <td>N-262 Fregate</td>\n      <td>Transport aircraft</td>\n      <td>1980</td>\n      <td>1980</td>\n      <td>4</td>\n      <td>Second-hand; incl for MP</td>\n      <td>NaN</td>\n      <td>Algeria</td>\n      <td>Angola</td>\n    </tr>\n    <tr>\n      <th>7</th>\n      <td>(2)</td>\n      <td>Il-28</td>\n      <td>Bomber aircraft</td>\n      <td>1967</td>\n      <td>1968</td>\n      <td>(2)</td>\n      <td>Second-hand</td>\n      <td>NaN</td>\n      <td>Algeria</td>\n      <td>Nigeria</td>\n    </tr>\n    <tr>\n      <th>8</th>\n      <td>(3)</td>\n      <td>BTR-60PB</td>\n      <td>APC</td>\n      <td>(2016)</td>\n      <td>2016</td>\n      <td>(3)</td>\n      <td>Second-hand; aid</td>\n      <td>NaN</td>\n      <td>Algeria</td>\n      <td>Western Sahara</td>\n    </tr>\n    <tr>\n      <th>11</th>\n      <td>1</td>\n      <td>Noratlas</td>\n      <td>Transport aircraft</td>\n      <td>1979</td>\n      <td>1979</td>\n      <td>1</td>\n      <td>Second-hand; aid</td>\n      <td>NaN</td>\n      <td>Angola</td>\n      <td>Congo</td>\n    </tr>\n    <tr>\n      <th>12</th>\n      <td>(2)</td>\n      <td>BMP-2</td>\n      <td>IFV</td>\n      <td>2002</td>\n      <td>2002</td>\n      <td>(2)</td>\n      <td>Second-hand; for use against fight rebels</td>\n      <td>NaN</td>\n      <td>Angola</td>\n      <td>Cote d'Ivoire</td>\n    </tr>\n    <tr>\n      <th>13</th>\n      <td>NaN</td>\n      <td>2</td>\n      <td>T-55</td>\n      <td>Tank</td>\n      <td>2002</td>\n      <td>2002</td>\n      <td>2</td>\n      <td>Second-hand; for use against rebels</td>\n      <td>Angola</td>\n      <td></td>\n    </tr>\n    <tr>\n      <th>14</th>\n      <td>1</td>\n      <td>Do-27</td>\n      <td>Light aircraft</td>\n      <td>1980</td>\n      <td>1980</td>\n      <td>1</td>\n      <td>Second-hand; status uncertain</td>\n      <td>NaN</td>\n      <td>Angola</td>\n      <td>Guinea-Bissau</td>\n    </tr>\n    <tr>\n      <th>15</th>\n      <td>250</td>\n      <td>FIM-92 Stinger</td>\n      <td>Portable SAM</td>\n      <td>1992</td>\n      <td>1992</td>\n      <td>250</td>\n      <td>Second-hand; delivered in 1980s as aid to UNIT...</td>\n      <td>NaN</td>\n      <td>Angola</td>\n      <td>United States</td>\n    </tr>\n    <tr>\n      <th>18</th>\n      <td>(37)</td>\n      <td>M-3/M-5 Half-track</td>\n      <td>APC</td>\n      <td>2006</td>\n      <td>2006</td>\n      <td>(37)</td>\n      <td>Second-hand; aid; M-5 and M-9 versions</td>\n      <td>NaN</td>\n      <td>Argentina</td>\n      <td>Bolivia</td>\n    </tr>\n  </tbody>\n</table>\n</div>"
     },
     "metadata": {},
     "execution_count": 28
    }
   ],
   "source": [
    "df = df.drop('RecipientSupplier',axis=1)\n",
    "\n",
    "df.head(10)"
   ]
  },
  {
   "cell_type": "markdown",
   "metadata": {},
   "source": [
    "# Renaming remaining columns appropriately"
   ]
  },
  {
   "cell_type": "code",
   "execution_count": 29,
   "metadata": {
    "ExecuteTime": {
     "end_time": "2021-02-01T18:01:14.012453Z",
     "start_time": "2021-02-01T18:01:13.991919Z"
    }
   },
   "outputs": [
    {
     "output_type": "execute_result",
     "data": {
      "text/plain": [
       "   NOrdered  NoDesignation   WeaponDescription OrderYear DeliveryYear  \\\n",
       "3      (12)     M-43 120mm              Mortar    (2011)         2011   \n",
       "6         4  N-262 Fregate  Transport aircraft      1980         1980   \n",
       "7       (2)          Il-28     Bomber aircraft      1967         1968   \n",
       "8       (3)       BTR-60PB                 APC    (2016)         2016   \n",
       "11        1       Noratlas  Transport aircraft      1979         1979   \n",
       "\n",
       "   NDelivered                  Comments Unnamed: 8 Supplier  \\\n",
       "3          12      Probably second-hand        NaN  Albania   \n",
       "6           4  Second-hand; incl for MP        NaN  Algeria   \n",
       "7         (2)               Second-hand        NaN  Algeria   \n",
       "8         (3)          Second-hand; aid        NaN  Algeria   \n",
       "11          1          Second-hand; aid        NaN   Angola   \n",
       "\n",
       "              Recipient  \n",
       "3          Burkina Faso  \n",
       "6                Angola  \n",
       "7               Nigeria  \n",
       "8        Western Sahara  \n",
       "11                Congo  "
      ],
      "text/html": "<div>\n<style scoped>\n    .dataframe tbody tr th:only-of-type {\n        vertical-align: middle;\n    }\n\n    .dataframe tbody tr th {\n        vertical-align: top;\n    }\n\n    .dataframe thead th {\n        text-align: right;\n    }\n</style>\n<table border=\"1\" class=\"dataframe\">\n  <thead>\n    <tr style=\"text-align: right;\">\n      <th></th>\n      <th>NOrdered</th>\n      <th>NoDesignation</th>\n      <th>WeaponDescription</th>\n      <th>OrderYear</th>\n      <th>DeliveryYear</th>\n      <th>NDelivered</th>\n      <th>Comments</th>\n      <th>Unnamed: 8</th>\n      <th>Supplier</th>\n      <th>Recipient</th>\n    </tr>\n  </thead>\n  <tbody>\n    <tr>\n      <th>3</th>\n      <td>(12)</td>\n      <td>M-43 120mm</td>\n      <td>Mortar</td>\n      <td>(2011)</td>\n      <td>2011</td>\n      <td>12</td>\n      <td>Probably second-hand</td>\n      <td>NaN</td>\n      <td>Albania</td>\n      <td>Burkina Faso</td>\n    </tr>\n    <tr>\n      <th>6</th>\n      <td>4</td>\n      <td>N-262 Fregate</td>\n      <td>Transport aircraft</td>\n      <td>1980</td>\n      <td>1980</td>\n      <td>4</td>\n      <td>Second-hand; incl for MP</td>\n      <td>NaN</td>\n      <td>Algeria</td>\n      <td>Angola</td>\n    </tr>\n    <tr>\n      <th>7</th>\n      <td>(2)</td>\n      <td>Il-28</td>\n      <td>Bomber aircraft</td>\n      <td>1967</td>\n      <td>1968</td>\n      <td>(2)</td>\n      <td>Second-hand</td>\n      <td>NaN</td>\n      <td>Algeria</td>\n      <td>Nigeria</td>\n    </tr>\n    <tr>\n      <th>8</th>\n      <td>(3)</td>\n      <td>BTR-60PB</td>\n      <td>APC</td>\n      <td>(2016)</td>\n      <td>2016</td>\n      <td>(3)</td>\n      <td>Second-hand; aid</td>\n      <td>NaN</td>\n      <td>Algeria</td>\n      <td>Western Sahara</td>\n    </tr>\n    <tr>\n      <th>11</th>\n      <td>1</td>\n      <td>Noratlas</td>\n      <td>Transport aircraft</td>\n      <td>1979</td>\n      <td>1979</td>\n      <td>1</td>\n      <td>Second-hand; aid</td>\n      <td>NaN</td>\n      <td>Angola</td>\n      <td>Congo</td>\n    </tr>\n  </tbody>\n</table>\n</div>"
     },
     "metadata": {},
     "execution_count": 29
    }
   ],
   "source": [
    "df = df.rename(columns={'Unnamed: 1': 'NOrdered','Unnamed: 2': 'NoDesignation', 'Unnamed: 3': 'WeaponDescription',' ':'OrderYear','Year(s)':'DeliveryYear','Unnamed: 6':'NDelivered','Supplier/':'Comments' })\n",
    "\n",
    "df.head()"
   ]
  },
  {
   "cell_type": "code",
   "execution_count": 30,
   "metadata": {
    "ExecuteTime": {
     "end_time": "2021-02-01T18:01:14.349280Z",
     "start_time": "2021-02-01T18:01:14.331981Z"
    }
   },
   "outputs": [
    {
     "output_type": "stream",
     "name": "stdout",
     "text": [
      "<class 'pandas.core.frame.DataFrame'>\nInt64Index: 26762 entries, 3 to 27034\nData columns (total 10 columns):\n #   Column             Non-Null Count  Dtype \n---  ------             --------------  ----- \n 0   NOrdered           3317 non-null   object\n 1   NoDesignation      26649 non-null  object\n 2   WeaponDescription  26762 non-null  object\n 3   OrderYear          26762 non-null  object\n 4   DeliveryYear       26685 non-null  object\n 5   NDelivered         25998 non-null  object\n 6   Comments           25540 non-null  object\n 7   Unnamed: 8         18901 non-null  object\n 8   Supplier           26762 non-null  object\n 9   Recipient          26762 non-null  object\ndtypes: object(10)\nmemory usage: 2.2+ MB\n"
     ]
    }
   ],
   "source": [
    "df.info()"
   ]
  },
  {
   "cell_type": "markdown",
   "metadata": {},
   "source": [
    "## These should be in comments column, in these rows they are shifted over incorrectly"
   ]
  },
  {
   "cell_type": "code",
   "execution_count": 31,
   "metadata": {
    "ExecuteTime": {
     "end_time": "2021-02-01T18:01:15.000011Z",
     "start_time": "2021-02-01T18:01:14.990121Z"
    }
   },
   "outputs": [
    {
     "output_type": "execute_result",
     "data": {
      "text/plain": [
       "Second-hand                                                                                                     1750\n",
       "Second-hand; aid                                                                                                 490\n",
       "Probably second-hand                                                                                             120\n",
       "Aid                                                                                                               97\n",
       "Second-hand; 'MAP' aid                                                                                            90\n",
       "                                                                                                                ... \n",
       "Recipient is/are unidentified Middle Eastern country/countries (probably UAE, Oman and/or Bahrain or Israel)       1\n",
       "Second-hand; for use against Islamic State rebels                                                                  1\n",
       "Delivery 2020; aid financed by EU; incl 1 command post and 2 ambulance version                                     1\n",
       "For SPADA SAM systems from Italy                                                                                   1\n",
       "For 97 Piranha/LAV-25 (ASLAV) APC and IFV from Canada; 6V-53T version                                              1\n",
       "Name: Unnamed: 8, Length: 12804, dtype: int64"
      ]
     },
     "metadata": {},
     "execution_count": 31
    }
   ],
   "source": [
    "df['Unnamed: 8'].value_counts()"
   ]
  },
  {
   "source": [
    "### Examining deliveries"
   ],
   "cell_type": "markdown",
   "metadata": {}
  },
  {
   "cell_type": "code",
   "execution_count": 32,
   "metadata": {
    "ExecuteTime": {
     "end_time": "2021-02-01T18:01:34.156765Z",
     "start_time": "2021-02-01T18:01:34.148788Z"
    }
   },
   "outputs": [
    {
     "output_type": "execute_result",
     "data": {
      "text/plain": [
       "2014         346\n",
       "2015         342\n",
       "(1980)       332\n",
       "(1970)       310\n",
       "(1965)       308\n",
       "            ... \n",
       "1995-2002      1\n",
       "1972-1994      1\n",
       "1950-1957      1\n",
       "1970-1979      1\n",
       "1971-1990      1\n",
       "Name: DeliveryYear, Length: 542, dtype: int64"
      ]
     },
     "metadata": {},
     "execution_count": 32
    }
   ],
   "source": [
    "df.DeliveryYear.value_counts(dropna=False)"
   ]
  },
  {
   "cell_type": "code",
   "execution_count": 33,
   "metadata": {
    "ExecuteTime": {
     "end_time": "2021-02-01T18:01:34.710082Z",
     "start_time": "2021-02-01T18:01:34.688902Z"
    }
   },
   "outputs": [
    {
     "output_type": "execute_result",
     "data": {
      "text/plain": [
       "     NOrdered         NoDesignation        WeaponDescription OrderYear  \\\n",
       "66          2                 Perry                  Frigate      2019   \n",
       "158         2              Guardian             Patrol craft    (2017)   \n",
       "166       NaN                R-400S               IFV turret      2019   \n",
       "191        22              Pandur-2                      IFV      2019   \n",
       "507        12  EMB-314 Super Tucano        Trainer/combat ac      2018   \n",
       "508         5                 C-390       Transport aircraft      2019   \n",
       "509        24                 B-250  Trainer/combat aircraft      2019   \n",
       "624         6  EMB-314 Super Tucano        Trainer/combat ac      2017   \n",
       "2268       18            T3C-928-90            Diesel engine    (2017)   \n",
       "2324        4                L-39NG  Trainer/combat aircraft      2018   \n",
       "2473       31          Scanter-6000     Air/sea search radar      2017   \n",
       "2475       12          Scanter-6000     Air/sea search radar      2018   \n",
       "2525      NaN          MFSR-2100/33         Air search radar    (2017)   \n",
       "2542        3          StanFlex-300             FAC/MCM ship      2017   \n",
       "2622      NaN              Mirage-5             FGA aircraft      2019   \n",
       "2675       16             NH-90 TTH     Transport helicopter    (2018)   \n",
       "2698      238               AMV-IFV                      IFV      2013   \n",
       "2766        9                 FLASH                ASW sonar    (2019)   \n",
       "2768       16             NH-90 TTH     Transport helicopter      2018   \n",
       "2817       62                 TITUS                      APC      2019   \n",
       "2872        6           Gowind-2500                  Frigate      2014   \n",
       "4741       50               Mistral             Portable SAM      2019   \n",
       "5200        8              MTU-1163            Diesel engine    (2017)   \n",
       "5202        5              MAN-3240            Diesel engine      2015   \n",
       "5259        4            MEKO PC-IN                  Frigate      2015   \n",
       "5863        4              TP400-D6                Turboprop      2003   \n",
       "6509        2                NGMMCB     Coast defence system    (2019)   \n",
       "6530        4               L&T 35m             Patrol craft      2016   \n",
       "6533        1              CN-235MP              MP aircraft      2017   \n",
       "6626       22           UT-25/UT-30               IFV turret      2019   \n",
       "6627      . .              Spike-ER        Anti-tank missile      2018   \n",
       "\n",
       "     DeliveryYear NDelivered  \\\n",
       "66            NaN        NaN   \n",
       "158           NaN        NaN   \n",
       "166           NaN        NaN   \n",
       "191           NaN        NaN   \n",
       "507           NaN        NaN   \n",
       "508           NaN        NaN   \n",
       "509           NaN        NaN   \n",
       "624           NaN        NaN   \n",
       "2268          NaN        NaN   \n",
       "2324          NaN        NaN   \n",
       "2473          NaN        NaN   \n",
       "2475          NaN        NaN   \n",
       "2525          NaN        NaN   \n",
       "2542          NaN        NaN   \n",
       "2622          NaN        NaN   \n",
       "2675          NaN        NaN   \n",
       "2698          NaN        NaN   \n",
       "2766          NaN        NaN   \n",
       "2768          NaN        NaN   \n",
       "2817          NaN        NaN   \n",
       "2872          NaN        NaN   \n",
       "4741          NaN        NaN   \n",
       "5200          NaN        NaN   \n",
       "5202          NaN        NaN   \n",
       "5259          NaN        NaN   \n",
       "5863          NaN        NaN   \n",
       "6509          NaN        NaN   \n",
       "6530          NaN        NaN   \n",
       "6533          NaN        NaN   \n",
       "6626          NaN        NaN   \n",
       "6627          NaN        NaN   \n",
       "\n",
       "                                               Comments Unnamed: 8  \\\n",
       "66                                          Second-hand        NaN   \n",
       "158                          Aid; delivery planned 2023        NaN   \n",
       "166   AED1.6 b ($316 m) deal; probably incl for Nimr...        NaN   \n",
       "191   $80 m deal; from Czech production line; Indone...        NaN   \n",
       "507   $329 m deal; from US production line; delivery...        NaN   \n",
       "508   $920 m deal (incl 12 years support and product...        NaN   \n",
       "509             AED2.3 b ($620 m) deal; produced in UAE        NaN   \n",
       "624   PHP5 b ($100 m) deal; incl for combat role; de...        NaN   \n",
       "2268      For 18 CAESAR self-propelled guns from France        NaN   \n",
       "2324  Mainly for combat role; delivery planned 2020-...        NaN   \n",
       "2473  Scanter-6002 version; incl production in India...        NaN   \n",
       "2475  Scanter-6002 version; for 12 OPV-80 (Sea-1180 ...        NaN   \n",
       "2525           For MGBADS SAM system produced in Norway        NaN   \n",
       "2542                                        Second-hand        NaN   \n",
       "2622                                        Second-hand        NaN   \n",
       "2675  Part of EUR1.5 b deal (incl 7 NH-90 NFH versio...        NaN   \n",
       "2698  ZAR8.8 b ($1.2 b) 'Hoefyster' programme (incl ...        NaN   \n",
       "2766  ASQ22 ALFS version; for 9 MH-60R ASW helicopte...        NaN   \n",
       "2768    Part of EUR3 b deal; delivery planned 2022-2025        NaN   \n",
       "2817  CZK6b ($264 m) deal (produced in Czech Republi...        NaN   \n",
       "2872  'SGVP-LCS' programme; Malaysian designation Ma...        NaN   \n",
       "4741       Mistral M3 version; incl for PASARS-16 SPAAG        NaN   \n",
       "5200  For 2 HHI-2600 (Rizal) frigates from South Kor...        NaN   \n",
       "5202  For 1 BPE (Anadolu) AALS from Spain; probably ...        NaN   \n",
       "5259  EUR430 m deal (incl EUR115 m paid by Germany; ...        NaN   \n",
       "5863          For 1 A400M transport aircraft from Spain        NaN   \n",
       "6509      Selected 2019 but not yet ordered by end-2019        NaN   \n",
       "6530                      $100 m deal; for border guard        NaN   \n",
       "6533                                 CN-235-220 version        NaN   \n",
       "6626  UT-30 Mk-2 version; from Brazilian production ...        NaN   \n",
       "6627  Part of EUR108 m deal; Spike-ER2 version; for ...        NaN   \n",
       "\n",
       "                Supplier          Recipient  \n",
       "66             Australia              Chile  \n",
       "158            Australia        Timor-Leste  \n",
       "166            Australia                UAE  \n",
       "191              Austria          Indonesia  \n",
       "507               Brazil            Nigeria  \n",
       "508               Brazil           Portugal  \n",
       "509               Brazil                UAE  \n",
       "624               Brazil        Philippines  \n",
       "2268             Czechia            Denmark  \n",
       "2324             Czechia            Senegal  \n",
       "2473             Denmark              India  \n",
       "2475             Denmark          Australia  \n",
       "2525             Denmark             Norway  \n",
       "2542             Denmark            Ukraine  \n",
       "2622               Egypt           Pakistan  \n",
       "2675  Europe multi-state              Spain  \n",
       "2698             Finland       South Africa  \n",
       "2766              France            Denmark  \n",
       "2768              France              Qatar  \n",
       "2817              France            Czechia  \n",
       "2872              France           Malaysia  \n",
       "4741              France             Serbia  \n",
       "5200             Germany        Philippines  \n",
       "5202             Germany             Turkey  \n",
       "5259             Germany             Israel  \n",
       "5863             Germany         Luxembourg  \n",
       "6509               India        Philippines  \n",
       "6530               India           Viet Nam  \n",
       "6533           Indonesia            Senegal  \n",
       "6626              Israel          Indonesia  \n",
       "6627              Israel             Latvia  "
      ],
      "text/html": "<div>\n<style scoped>\n    .dataframe tbody tr th:only-of-type {\n        vertical-align: middle;\n    }\n\n    .dataframe tbody tr th {\n        vertical-align: top;\n    }\n\n    .dataframe thead th {\n        text-align: right;\n    }\n</style>\n<table border=\"1\" class=\"dataframe\">\n  <thead>\n    <tr style=\"text-align: right;\">\n      <th></th>\n      <th>NOrdered</th>\n      <th>NoDesignation</th>\n      <th>WeaponDescription</th>\n      <th>OrderYear</th>\n      <th>DeliveryYear</th>\n      <th>NDelivered</th>\n      <th>Comments</th>\n      <th>Unnamed: 8</th>\n      <th>Supplier</th>\n      <th>Recipient</th>\n    </tr>\n  </thead>\n  <tbody>\n    <tr>\n      <th>66</th>\n      <td>2</td>\n      <td>Perry</td>\n      <td>Frigate</td>\n      <td>2019</td>\n      <td>NaN</td>\n      <td>NaN</td>\n      <td>Second-hand</td>\n      <td>NaN</td>\n      <td>Australia</td>\n      <td>Chile</td>\n    </tr>\n    <tr>\n      <th>158</th>\n      <td>2</td>\n      <td>Guardian</td>\n      <td>Patrol craft</td>\n      <td>(2017)</td>\n      <td>NaN</td>\n      <td>NaN</td>\n      <td>Aid; delivery planned 2023</td>\n      <td>NaN</td>\n      <td>Australia</td>\n      <td>Timor-Leste</td>\n    </tr>\n    <tr>\n      <th>166</th>\n      <td>NaN</td>\n      <td>R-400S</td>\n      <td>IFV turret</td>\n      <td>2019</td>\n      <td>NaN</td>\n      <td>NaN</td>\n      <td>AED1.6 b ($316 m) deal; probably incl for Nimr...</td>\n      <td>NaN</td>\n      <td>Australia</td>\n      <td>UAE</td>\n    </tr>\n    <tr>\n      <th>191</th>\n      <td>22</td>\n      <td>Pandur-2</td>\n      <td>IFV</td>\n      <td>2019</td>\n      <td>NaN</td>\n      <td>NaN</td>\n      <td>$80 m deal; from Czech production line; Indone...</td>\n      <td>NaN</td>\n      <td>Austria</td>\n      <td>Indonesia</td>\n    </tr>\n    <tr>\n      <th>507</th>\n      <td>12</td>\n      <td>EMB-314 Super Tucano</td>\n      <td>Trainer/combat ac</td>\n      <td>2018</td>\n      <td>NaN</td>\n      <td>NaN</td>\n      <td>$329 m deal; from US production line; delivery...</td>\n      <td>NaN</td>\n      <td>Brazil</td>\n      <td>Nigeria</td>\n    </tr>\n    <tr>\n      <th>508</th>\n      <td>5</td>\n      <td>C-390</td>\n      <td>Transport aircraft</td>\n      <td>2019</td>\n      <td>NaN</td>\n      <td>NaN</td>\n      <td>$920 m deal (incl 12 years support and product...</td>\n      <td>NaN</td>\n      <td>Brazil</td>\n      <td>Portugal</td>\n    </tr>\n    <tr>\n      <th>509</th>\n      <td>24</td>\n      <td>B-250</td>\n      <td>Trainer/combat aircraft</td>\n      <td>2019</td>\n      <td>NaN</td>\n      <td>NaN</td>\n      <td>AED2.3 b ($620 m) deal; produced in UAE</td>\n      <td>NaN</td>\n      <td>Brazil</td>\n      <td>UAE</td>\n    </tr>\n    <tr>\n      <th>624</th>\n      <td>6</td>\n      <td>EMB-314 Super Tucano</td>\n      <td>Trainer/combat ac</td>\n      <td>2017</td>\n      <td>NaN</td>\n      <td>NaN</td>\n      <td>PHP5 b ($100 m) deal; incl for combat role; de...</td>\n      <td>NaN</td>\n      <td>Brazil</td>\n      <td>Philippines</td>\n    </tr>\n    <tr>\n      <th>2268</th>\n      <td>18</td>\n      <td>T3C-928-90</td>\n      <td>Diesel engine</td>\n      <td>(2017)</td>\n      <td>NaN</td>\n      <td>NaN</td>\n      <td>For 18 CAESAR self-propelled guns from France</td>\n      <td>NaN</td>\n      <td>Czechia</td>\n      <td>Denmark</td>\n    </tr>\n    <tr>\n      <th>2324</th>\n      <td>4</td>\n      <td>L-39NG</td>\n      <td>Trainer/combat aircraft</td>\n      <td>2018</td>\n      <td>NaN</td>\n      <td>NaN</td>\n      <td>Mainly for combat role; delivery planned 2020-...</td>\n      <td>NaN</td>\n      <td>Czechia</td>\n      <td>Senegal</td>\n    </tr>\n    <tr>\n      <th>2473</th>\n      <td>31</td>\n      <td>Scanter-6000</td>\n      <td>Air/sea search radar</td>\n      <td>2017</td>\n      <td>NaN</td>\n      <td>NaN</td>\n      <td>Scanter-6002 version; incl production in India...</td>\n      <td>NaN</td>\n      <td>Denmark</td>\n      <td>India</td>\n    </tr>\n    <tr>\n      <th>2475</th>\n      <td>12</td>\n      <td>Scanter-6000</td>\n      <td>Air/sea search radar</td>\n      <td>2018</td>\n      <td>NaN</td>\n      <td>NaN</td>\n      <td>Scanter-6002 version; for 12 OPV-80 (Sea-1180 ...</td>\n      <td>NaN</td>\n      <td>Denmark</td>\n      <td>Australia</td>\n    </tr>\n    <tr>\n      <th>2525</th>\n      <td>NaN</td>\n      <td>MFSR-2100/33</td>\n      <td>Air search radar</td>\n      <td>(2017)</td>\n      <td>NaN</td>\n      <td>NaN</td>\n      <td>For MGBADS SAM system produced in Norway</td>\n      <td>NaN</td>\n      <td>Denmark</td>\n      <td>Norway</td>\n    </tr>\n    <tr>\n      <th>2542</th>\n      <td>3</td>\n      <td>StanFlex-300</td>\n      <td>FAC/MCM ship</td>\n      <td>2017</td>\n      <td>NaN</td>\n      <td>NaN</td>\n      <td>Second-hand</td>\n      <td>NaN</td>\n      <td>Denmark</td>\n      <td>Ukraine</td>\n    </tr>\n    <tr>\n      <th>2622</th>\n      <td>NaN</td>\n      <td>Mirage-5</td>\n      <td>FGA aircraft</td>\n      <td>2019</td>\n      <td>NaN</td>\n      <td>NaN</td>\n      <td>Second-hand</td>\n      <td>NaN</td>\n      <td>Egypt</td>\n      <td>Pakistan</td>\n    </tr>\n    <tr>\n      <th>2675</th>\n      <td>16</td>\n      <td>NH-90 TTH</td>\n      <td>Transport helicopter</td>\n      <td>(2018)</td>\n      <td>NaN</td>\n      <td>NaN</td>\n      <td>Part of EUR1.5 b deal (incl 7 NH-90 NFH versio...</td>\n      <td>NaN</td>\n      <td>Europe multi-state</td>\n      <td>Spain</td>\n    </tr>\n    <tr>\n      <th>2698</th>\n      <td>238</td>\n      <td>AMV-IFV</td>\n      <td>IFV</td>\n      <td>2013</td>\n      <td>NaN</td>\n      <td>NaN</td>\n      <td>ZAR8.8 b ($1.2 b) 'Hoefyster' programme (incl ...</td>\n      <td>NaN</td>\n      <td>Finland</td>\n      <td>South Africa</td>\n    </tr>\n    <tr>\n      <th>2766</th>\n      <td>9</td>\n      <td>FLASH</td>\n      <td>ASW sonar</td>\n      <td>(2019)</td>\n      <td>NaN</td>\n      <td>NaN</td>\n      <td>ASQ22 ALFS version; for 9 MH-60R ASW helicopte...</td>\n      <td>NaN</td>\n      <td>France</td>\n      <td>Denmark</td>\n    </tr>\n    <tr>\n      <th>2768</th>\n      <td>16</td>\n      <td>NH-90 TTH</td>\n      <td>Transport helicopter</td>\n      <td>2018</td>\n      <td>NaN</td>\n      <td>NaN</td>\n      <td>Part of EUR3 b deal; delivery planned 2022-2025</td>\n      <td>NaN</td>\n      <td>France</td>\n      <td>Qatar</td>\n    </tr>\n    <tr>\n      <th>2817</th>\n      <td>62</td>\n      <td>TITUS</td>\n      <td>APC</td>\n      <td>2019</td>\n      <td>NaN</td>\n      <td>NaN</td>\n      <td>CZK6b ($264 m) deal (produced in Czech Republi...</td>\n      <td>NaN</td>\n      <td>France</td>\n      <td>Czechia</td>\n    </tr>\n    <tr>\n      <th>2872</th>\n      <td>6</td>\n      <td>Gowind-2500</td>\n      <td>Frigate</td>\n      <td>2014</td>\n      <td>NaN</td>\n      <td>NaN</td>\n      <td>'SGVP-LCS' programme; Malaysian designation Ma...</td>\n      <td>NaN</td>\n      <td>France</td>\n      <td>Malaysia</td>\n    </tr>\n    <tr>\n      <th>4741</th>\n      <td>50</td>\n      <td>Mistral</td>\n      <td>Portable SAM</td>\n      <td>2019</td>\n      <td>NaN</td>\n      <td>NaN</td>\n      <td>Mistral M3 version; incl for PASARS-16 SPAAG</td>\n      <td>NaN</td>\n      <td>France</td>\n      <td>Serbia</td>\n    </tr>\n    <tr>\n      <th>5200</th>\n      <td>8</td>\n      <td>MTU-1163</td>\n      <td>Diesel engine</td>\n      <td>(2017)</td>\n      <td>NaN</td>\n      <td>NaN</td>\n      <td>For 2 HHI-2600 (Rizal) frigates from South Kor...</td>\n      <td>NaN</td>\n      <td>Germany</td>\n      <td>Philippines</td>\n    </tr>\n    <tr>\n      <th>5202</th>\n      <td>5</td>\n      <td>MAN-3240</td>\n      <td>Diesel engine</td>\n      <td>2015</td>\n      <td>NaN</td>\n      <td>NaN</td>\n      <td>For 1 BPE (Anadolu) AALS from Spain; probably ...</td>\n      <td>NaN</td>\n      <td>Germany</td>\n      <td>Turkey</td>\n    </tr>\n    <tr>\n      <th>5259</th>\n      <td>4</td>\n      <td>MEKO PC-IN</td>\n      <td>Frigate</td>\n      <td>2015</td>\n      <td>NaN</td>\n      <td>NaN</td>\n      <td>EUR430 m deal (incl EUR115 m paid by Germany; ...</td>\n      <td>NaN</td>\n      <td>Germany</td>\n      <td>Israel</td>\n    </tr>\n    <tr>\n      <th>5863</th>\n      <td>4</td>\n      <td>TP400-D6</td>\n      <td>Turboprop</td>\n      <td>2003</td>\n      <td>NaN</td>\n      <td>NaN</td>\n      <td>For 1 A400M transport aircraft from Spain</td>\n      <td>NaN</td>\n      <td>Germany</td>\n      <td>Luxembourg</td>\n    </tr>\n    <tr>\n      <th>6509</th>\n      <td>2</td>\n      <td>NGMMCB</td>\n      <td>Coast defence system</td>\n      <td>(2019)</td>\n      <td>NaN</td>\n      <td>NaN</td>\n      <td>Selected 2019 but not yet ordered by end-2019</td>\n      <td>NaN</td>\n      <td>India</td>\n      <td>Philippines</td>\n    </tr>\n    <tr>\n      <th>6530</th>\n      <td>4</td>\n      <td>L&amp;T 35m</td>\n      <td>Patrol craft</td>\n      <td>2016</td>\n      <td>NaN</td>\n      <td>NaN</td>\n      <td>$100 m deal; for border guard</td>\n      <td>NaN</td>\n      <td>India</td>\n      <td>Viet Nam</td>\n    </tr>\n    <tr>\n      <th>6533</th>\n      <td>1</td>\n      <td>CN-235MP</td>\n      <td>MP aircraft</td>\n      <td>2017</td>\n      <td>NaN</td>\n      <td>NaN</td>\n      <td>CN-235-220 version</td>\n      <td>NaN</td>\n      <td>Indonesia</td>\n      <td>Senegal</td>\n    </tr>\n    <tr>\n      <th>6626</th>\n      <td>22</td>\n      <td>UT-25/UT-30</td>\n      <td>IFV turret</td>\n      <td>2019</td>\n      <td>NaN</td>\n      <td>NaN</td>\n      <td>UT-30 Mk-2 version; from Brazilian production ...</td>\n      <td>NaN</td>\n      <td>Israel</td>\n      <td>Indonesia</td>\n    </tr>\n    <tr>\n      <th>6627</th>\n      <td>. .</td>\n      <td>Spike-ER</td>\n      <td>Anti-tank missile</td>\n      <td>2018</td>\n      <td>NaN</td>\n      <td>NaN</td>\n      <td>Part of EUR108 m deal; Spike-ER2 version; for ...</td>\n      <td>NaN</td>\n      <td>Israel</td>\n      <td>Latvia</td>\n    </tr>\n  </tbody>\n</table>\n</div>"
     },
     "metadata": {},
     "execution_count": 33
    }
   ],
   "source": [
    "df[df.DeliveryYear.isna()][:31]"
   ]
  },
  {
   "cell_type": "code",
   "execution_count": 34,
   "metadata": {},
   "outputs": [
    {
     "output_type": "execute_result",
     "data": {
      "text/plain": [
       "77"
      ]
     },
     "metadata": {},
     "execution_count": 34
    }
   ],
   "source": [
    "len(df[df.DeliveryYear.isna()])"
   ]
  },
  {
   "cell_type": "markdown",
   "metadata": {},
   "source": [
    "## NaN in DeliveryYear and NDelivered represent pending deals per SIPRI, filling accordingly\n",
    "### TBD: Find reference"
   ]
  },
  {
   "cell_type": "code",
   "execution_count": 35,
   "metadata": {
    "ExecuteTime": {
     "end_time": "2021-02-01T18:01:36.501528Z",
     "start_time": "2021-02-01T18:01:36.494831Z"
    }
   },
   "outputs": [
    {
     "output_type": "execute_result",
     "data": {
      "text/plain": [
       "764"
      ]
     },
     "metadata": {},
     "execution_count": 35
    }
   ],
   "source": [
    "len(df[df.NDelivered.isna()])"
   ]
  },
  {
   "cell_type": "code",
   "execution_count": 36,
   "metadata": {
    "ExecuteTime": {
     "end_time": "2021-02-01T18:01:37.201463Z",
     "start_time": "2021-02-01T18:01:37.188445Z"
    }
   },
   "outputs": [
    {
     "output_type": "execute_result",
     "data": {
      "text/plain": [
       "0"
      ]
     },
     "metadata": {},
     "execution_count": 36
    }
   ],
   "source": [
    "df.fillna({'DeliveryYear':'Pending', 'NDelivered':'Pending'}, inplace=True)\n",
    "\n",
    "len(df[df.DeliveryYear.isna()])"
   ]
  },
  {
   "cell_type": "code",
   "execution_count": 37,
   "metadata": {
    "ExecuteTime": {
     "end_time": "2021-02-01T18:01:37.938147Z",
     "start_time": "2021-02-01T18:01:37.924344Z"
    }
   },
   "outputs": [
    {
     "output_type": "stream",
     "name": "stdout",
     "text": [
      "<class 'pandas.core.frame.DataFrame'>\nInt64Index: 26762 entries, 3 to 27034\nData columns (total 10 columns):\n #   Column             Non-Null Count  Dtype \n---  ------             --------------  ----- \n 0   NOrdered           3317 non-null   object\n 1   NoDesignation      26649 non-null  object\n 2   WeaponDescription  26762 non-null  object\n 3   OrderYear          26762 non-null  object\n 4   DeliveryYear       26762 non-null  object\n 5   NDelivered         26762 non-null  object\n 6   Comments           25540 non-null  object\n 7   Unnamed: 8         18901 non-null  object\n 8   Supplier           26762 non-null  object\n 9   Recipient          26762 non-null  object\ndtypes: object(10)\nmemory usage: 2.2+ MB\n"
     ]
    }
   ],
   "source": [
    "df.info()"
   ]
  },
  {
   "source": [
    "## Examining null NOrdered values"
   ],
   "cell_type": "markdown",
   "metadata": {}
  },
  {
   "cell_type": "code",
   "execution_count": 38,
   "metadata": {
    "ExecuteTime": {
     "end_time": "2021-02-01T18:01:38.521082Z",
     "start_time": "2021-02-01T18:01:38.516316Z"
    }
   },
   "outputs": [
    {
     "output_type": "execute_result",
     "data": {
      "text/plain": [
       "23445"
      ]
     },
     "metadata": {},
     "execution_count": 38
    }
   ],
   "source": [
    "len(df[df.NOrdered.isna()])"
   ]
  },
  {
   "cell_type": "code",
   "execution_count": 39,
   "metadata": {
    "ExecuteTime": {
     "end_time": "2021-02-01T18:01:39.062294Z",
     "start_time": "2021-02-01T18:01:39.046097Z"
    }
   },
   "outputs": [
    {
     "output_type": "execute_result",
     "data": {
      "text/plain": [
       "      NOrdered NoDesignation WeaponDescription           OrderYear  \\\n",
       "13         NaN             2              T-55                Tank   \n",
       "21         NaN             3               Gem          Turboshaft   \n",
       "25         NaN             3          Bouchard                 OPV   \n",
       "26         NaN             1        G-21 Goose  Light transport ac   \n",
       "27         NaN             1       DHC-3 Otter  Light transport ac   \n",
       "...        ...           ...               ...                 ...   \n",
       "27022      NaN             1             PN-13              Tanker   \n",
       "27023      NaN             5           DTM-211       Landing craft   \n",
       "27025      NaN             2        G-2A Galeb    Trainer aircraft   \n",
       "27026      NaN             4       J-1 Jastreb    Ground attack ac   \n",
       "27034      NaN             2          Pembroke  Light transport ac   \n",
       "\n",
       "      DeliveryYear NDelivered Comments  \\\n",
       "13            2002       2002        2   \n",
       "21            1988       1988        3   \n",
       "25            1964  1964-1968        3   \n",
       "26          (1966)       1967        1   \n",
       "27          (1970)       1972        1   \n",
       "...            ...        ...      ...   \n",
       "27022         1969       1969        1   \n",
       "27023       (1990)       1991        5   \n",
       "27025         1970       1971        2   \n",
       "27026         1970       1971        4   \n",
       "27034         1964       1964        2   \n",
       "\n",
       "                                              Unnamed: 8    Supplier Recipient  \n",
       "13                   Second-hand; for use against rebels      Angola            \n",
       "21              Second-hand; spares for Lynx helicopters   Argentina            \n",
       "25                                           Second-hand   Argentina            \n",
       "26                                      Second-hand; aid   Argentina            \n",
       "27                                      Second-hand; aid   Argentina            \n",
       "...                                                  ...         ...       ...  \n",
       "27022  Second-hand but modernized before delivery; Su...  Yugoslavia            \n",
       "27023                              Designation uncertain  Yugoslavia            \n",
       "27025                                      G-2AE version  Yugoslavia            \n",
       "27026  J-1E version; possibly incl 2 RJ-1E reconnaiss...  Yugoslavia            \n",
       "27034  Ex-Rhodesian; taken over on independence; Pemb...    Zimbabwe            \n",
       "\n",
       "[23445 rows x 10 columns]"
      ],
      "text/html": "<div>\n<style scoped>\n    .dataframe tbody tr th:only-of-type {\n        vertical-align: middle;\n    }\n\n    .dataframe tbody tr th {\n        vertical-align: top;\n    }\n\n    .dataframe thead th {\n        text-align: right;\n    }\n</style>\n<table border=\"1\" class=\"dataframe\">\n  <thead>\n    <tr style=\"text-align: right;\">\n      <th></th>\n      <th>NOrdered</th>\n      <th>NoDesignation</th>\n      <th>WeaponDescription</th>\n      <th>OrderYear</th>\n      <th>DeliveryYear</th>\n      <th>NDelivered</th>\n      <th>Comments</th>\n      <th>Unnamed: 8</th>\n      <th>Supplier</th>\n      <th>Recipient</th>\n    </tr>\n  </thead>\n  <tbody>\n    <tr>\n      <th>13</th>\n      <td>NaN</td>\n      <td>2</td>\n      <td>T-55</td>\n      <td>Tank</td>\n      <td>2002</td>\n      <td>2002</td>\n      <td>2</td>\n      <td>Second-hand; for use against rebels</td>\n      <td>Angola</td>\n      <td></td>\n    </tr>\n    <tr>\n      <th>21</th>\n      <td>NaN</td>\n      <td>3</td>\n      <td>Gem</td>\n      <td>Turboshaft</td>\n      <td>1988</td>\n      <td>1988</td>\n      <td>3</td>\n      <td>Second-hand; spares for Lynx helicopters</td>\n      <td>Argentina</td>\n      <td></td>\n    </tr>\n    <tr>\n      <th>25</th>\n      <td>NaN</td>\n      <td>3</td>\n      <td>Bouchard</td>\n      <td>OPV</td>\n      <td>1964</td>\n      <td>1964-1968</td>\n      <td>3</td>\n      <td>Second-hand</td>\n      <td>Argentina</td>\n      <td></td>\n    </tr>\n    <tr>\n      <th>26</th>\n      <td>NaN</td>\n      <td>1</td>\n      <td>G-21 Goose</td>\n      <td>Light transport ac</td>\n      <td>(1966)</td>\n      <td>1967</td>\n      <td>1</td>\n      <td>Second-hand; aid</td>\n      <td>Argentina</td>\n      <td></td>\n    </tr>\n    <tr>\n      <th>27</th>\n      <td>NaN</td>\n      <td>1</td>\n      <td>DHC-3 Otter</td>\n      <td>Light transport ac</td>\n      <td>(1970)</td>\n      <td>1972</td>\n      <td>1</td>\n      <td>Second-hand; aid</td>\n      <td>Argentina</td>\n      <td></td>\n    </tr>\n    <tr>\n      <th>...</th>\n      <td>...</td>\n      <td>...</td>\n      <td>...</td>\n      <td>...</td>\n      <td>...</td>\n      <td>...</td>\n      <td>...</td>\n      <td>...</td>\n      <td>...</td>\n      <td>...</td>\n    </tr>\n    <tr>\n      <th>27022</th>\n      <td>NaN</td>\n      <td>1</td>\n      <td>PN-13</td>\n      <td>Tanker</td>\n      <td>1969</td>\n      <td>1969</td>\n      <td>1</td>\n      <td>Second-hand but modernized before delivery; Su...</td>\n      <td>Yugoslavia</td>\n      <td></td>\n    </tr>\n    <tr>\n      <th>27023</th>\n      <td>NaN</td>\n      <td>5</td>\n      <td>DTM-211</td>\n      <td>Landing craft</td>\n      <td>(1990)</td>\n      <td>1991</td>\n      <td>5</td>\n      <td>Designation uncertain</td>\n      <td>Yugoslavia</td>\n      <td></td>\n    </tr>\n    <tr>\n      <th>27025</th>\n      <td>NaN</td>\n      <td>2</td>\n      <td>G-2A Galeb</td>\n      <td>Trainer aircraft</td>\n      <td>1970</td>\n      <td>1971</td>\n      <td>2</td>\n      <td>G-2AE version</td>\n      <td>Yugoslavia</td>\n      <td></td>\n    </tr>\n    <tr>\n      <th>27026</th>\n      <td>NaN</td>\n      <td>4</td>\n      <td>J-1 Jastreb</td>\n      <td>Ground attack ac</td>\n      <td>1970</td>\n      <td>1971</td>\n      <td>4</td>\n      <td>J-1E version; possibly incl 2 RJ-1E reconnaiss...</td>\n      <td>Yugoslavia</td>\n      <td></td>\n    </tr>\n    <tr>\n      <th>27034</th>\n      <td>NaN</td>\n      <td>2</td>\n      <td>Pembroke</td>\n      <td>Light transport ac</td>\n      <td>1964</td>\n      <td>1964</td>\n      <td>2</td>\n      <td>Ex-Rhodesian; taken over on independence; Pemb...</td>\n      <td>Zimbabwe</td>\n      <td></td>\n    </tr>\n  </tbody>\n</table>\n<p>23445 rows × 10 columns</p>\n</div>"
     },
     "metadata": {},
     "execution_count": 39
    }
   ],
   "source": [
    "df[df.NOrdered.isna()]"
   ]
  },
  {
   "source": [
    "## DF is shifted at rows needing to be corrected"
   ],
   "cell_type": "markdown",
   "metadata": {
    "ExecuteTime": {
     "end_time": "2021-02-01T18:01:39.864368Z",
     "start_time": "2021-02-01T18:01:39.844881Z"
    }
   }
  },
  {
   "cell_type": "markdown",
   "metadata": {},
   "source": [
    "### Qucik detour: Lack of comments replaced with \"None\""
   ]
  },
  {
   "cell_type": "code",
   "execution_count": 40,
   "metadata": {
    "ExecuteTime": {
     "end_time": "2021-02-01T18:01:41.005509Z",
     "start_time": "2021-02-01T18:01:41.001075Z"
    },
    "scrolled": true
   },
   "outputs": [],
   "source": [
    "df['Comments'] = df[\"Comments\"].fillna(\"None\")"
   ]
  },
  {
   "cell_type": "markdown",
   "metadata": {},
   "source": [
    "## Forward filling recipients and not just suppliers"
   ]
  },
  {
   "cell_type": "code",
   "execution_count": 41,
   "metadata": {},
   "outputs": [
    {
     "output_type": "execute_result",
     "data": {
      "text/plain": [
       "   NOrdered       NoDesignation   WeaponDescription OrderYear DeliveryYear  \\\n",
       "3      (12)          M-43 120mm              Mortar    (2011)         2011   \n",
       "6         4       N-262 Fregate  Transport aircraft      1980         1980   \n",
       "7       (2)               Il-28     Bomber aircraft      1967         1968   \n",
       "8       (3)            BTR-60PB                 APC    (2016)         2016   \n",
       "11        1            Noratlas  Transport aircraft      1979         1979   \n",
       "12      (2)               BMP-2                 IFV      2002         2002   \n",
       "13      NaN                   2                T-55      Tank         2002   \n",
       "14        1               Do-27      Light aircraft      1980         1980   \n",
       "15      250      FIM-92 Stinger        Portable SAM      1992         1992   \n",
       "18     (37)  M-3/M-5 Half-track                 APC      2006         2006   \n",
       "\n",
       "   NDelivered                                           Comments  \\\n",
       "3          12                               Probably second-hand   \n",
       "6           4                           Second-hand; incl for MP   \n",
       "7         (2)                                        Second-hand   \n",
       "8         (3)                                   Second-hand; aid   \n",
       "11          1                                   Second-hand; aid   \n",
       "12        (2)          Second-hand; for use against fight rebels   \n",
       "13       2002                                                  2   \n",
       "14          1                      Second-hand; status uncertain   \n",
       "15        250  Second-hand; delivered in 1980s as aid to UNIT...   \n",
       "18       (37)             Second-hand; aid; M-5 and M-9 versions   \n",
       "\n",
       "                             Unnamed: 8   Supplier            Recipient  \n",
       "3                                   NaN    Albania         Burkina Faso  \n",
       "6                                   NaN    Algeria               Angola  \n",
       "7                                   NaN    Algeria              Nigeria  \n",
       "8                                   NaN    Algeria       Western Sahara  \n",
       "11                                  NaN     Angola                Congo  \n",
       "12                                  NaN     Angola        Cote d'Ivoire  \n",
       "13  Second-hand; for use against rebels     Angola                       \n",
       "14                                  NaN     Angola        Guinea-Bissau  \n",
       "15                                  NaN     Angola        United States  \n",
       "18                                  NaN  Argentina              Bolivia  "
      ],
      "text/html": "<div>\n<style scoped>\n    .dataframe tbody tr th:only-of-type {\n        vertical-align: middle;\n    }\n\n    .dataframe tbody tr th {\n        vertical-align: top;\n    }\n\n    .dataframe thead th {\n        text-align: right;\n    }\n</style>\n<table border=\"1\" class=\"dataframe\">\n  <thead>\n    <tr style=\"text-align: right;\">\n      <th></th>\n      <th>NOrdered</th>\n      <th>NoDesignation</th>\n      <th>WeaponDescription</th>\n      <th>OrderYear</th>\n      <th>DeliveryYear</th>\n      <th>NDelivered</th>\n      <th>Comments</th>\n      <th>Unnamed: 8</th>\n      <th>Supplier</th>\n      <th>Recipient</th>\n    </tr>\n  </thead>\n  <tbody>\n    <tr>\n      <th>3</th>\n      <td>(12)</td>\n      <td>M-43 120mm</td>\n      <td>Mortar</td>\n      <td>(2011)</td>\n      <td>2011</td>\n      <td>12</td>\n      <td>Probably second-hand</td>\n      <td>NaN</td>\n      <td>Albania</td>\n      <td>Burkina Faso</td>\n    </tr>\n    <tr>\n      <th>6</th>\n      <td>4</td>\n      <td>N-262 Fregate</td>\n      <td>Transport aircraft</td>\n      <td>1980</td>\n      <td>1980</td>\n      <td>4</td>\n      <td>Second-hand; incl for MP</td>\n      <td>NaN</td>\n      <td>Algeria</td>\n      <td>Angola</td>\n    </tr>\n    <tr>\n      <th>7</th>\n      <td>(2)</td>\n      <td>Il-28</td>\n      <td>Bomber aircraft</td>\n      <td>1967</td>\n      <td>1968</td>\n      <td>(2)</td>\n      <td>Second-hand</td>\n      <td>NaN</td>\n      <td>Algeria</td>\n      <td>Nigeria</td>\n    </tr>\n    <tr>\n      <th>8</th>\n      <td>(3)</td>\n      <td>BTR-60PB</td>\n      <td>APC</td>\n      <td>(2016)</td>\n      <td>2016</td>\n      <td>(3)</td>\n      <td>Second-hand; aid</td>\n      <td>NaN</td>\n      <td>Algeria</td>\n      <td>Western Sahara</td>\n    </tr>\n    <tr>\n      <th>11</th>\n      <td>1</td>\n      <td>Noratlas</td>\n      <td>Transport aircraft</td>\n      <td>1979</td>\n      <td>1979</td>\n      <td>1</td>\n      <td>Second-hand; aid</td>\n      <td>NaN</td>\n      <td>Angola</td>\n      <td>Congo</td>\n    </tr>\n    <tr>\n      <th>12</th>\n      <td>(2)</td>\n      <td>BMP-2</td>\n      <td>IFV</td>\n      <td>2002</td>\n      <td>2002</td>\n      <td>(2)</td>\n      <td>Second-hand; for use against fight rebels</td>\n      <td>NaN</td>\n      <td>Angola</td>\n      <td>Cote d'Ivoire</td>\n    </tr>\n    <tr>\n      <th>13</th>\n      <td>NaN</td>\n      <td>2</td>\n      <td>T-55</td>\n      <td>Tank</td>\n      <td>2002</td>\n      <td>2002</td>\n      <td>2</td>\n      <td>Second-hand; for use against rebels</td>\n      <td>Angola</td>\n      <td></td>\n    </tr>\n    <tr>\n      <th>14</th>\n      <td>1</td>\n      <td>Do-27</td>\n      <td>Light aircraft</td>\n      <td>1980</td>\n      <td>1980</td>\n      <td>1</td>\n      <td>Second-hand; status uncertain</td>\n      <td>NaN</td>\n      <td>Angola</td>\n      <td>Guinea-Bissau</td>\n    </tr>\n    <tr>\n      <th>15</th>\n      <td>250</td>\n      <td>FIM-92 Stinger</td>\n      <td>Portable SAM</td>\n      <td>1992</td>\n      <td>1992</td>\n      <td>250</td>\n      <td>Second-hand; delivered in 1980s as aid to UNIT...</td>\n      <td>NaN</td>\n      <td>Angola</td>\n      <td>United States</td>\n    </tr>\n    <tr>\n      <th>18</th>\n      <td>(37)</td>\n      <td>M-3/M-5 Half-track</td>\n      <td>APC</td>\n      <td>2006</td>\n      <td>2006</td>\n      <td>(37)</td>\n      <td>Second-hand; aid; M-5 and M-9 versions</td>\n      <td>NaN</td>\n      <td>Argentina</td>\n      <td>Bolivia</td>\n    </tr>\n  </tbody>\n</table>\n</div>"
     },
     "metadata": {},
     "execution_count": 41
    }
   ],
   "source": [
    "df.head(10)"
   ]
  },
  {
   "cell_type": "code",
   "execution_count": 42,
   "metadata": {
    "ExecuteTime": {
     "end_time": "2021-02-01T18:01:41.812228Z",
     "start_time": "2021-02-01T18:01:41.796454Z"
    }
   },
   "outputs": [
    {
     "output_type": "stream",
     "name": "stdout",
     "text": [
      "<class 'pandas.core.frame.DataFrame'>\nInt64Index: 26762 entries, 3 to 27034\nData columns (total 10 columns):\n #   Column             Non-Null Count  Dtype \n---  ------             --------------  ----- \n 0   NOrdered           3317 non-null   object\n 1   NoDesignation      26649 non-null  object\n 2   WeaponDescription  26762 non-null  object\n 3   OrderYear          26762 non-null  object\n 4   DeliveryYear       26762 non-null  object\n 5   NDelivered         26762 non-null  object\n 6   Comments           26762 non-null  object\n 7   Unnamed: 8         18901 non-null  object\n 8   Supplier           26762 non-null  object\n 9   Recipient          26762 non-null  object\ndtypes: object(10)\nmemory usage: 2.2+ MB\n"
     ]
    }
   ],
   "source": [
    "df['Recipient'] = df['Recipient'].ffill()\n",
    "\n",
    "df.info()"
   ]
  },
  {
   "source": [
    "### Removing parenthesis from OrderYear"
   ],
   "cell_type": "markdown",
   "metadata": {}
  },
  {
   "cell_type": "code",
   "execution_count": 43,
   "metadata": {
    "ExecuteTime": {
     "end_time": "2021-02-01T18:01:42.148084Z",
     "start_time": "2021-02-01T18:01:42.113152Z"
    }
   },
   "outputs": [
    {
     "output_type": "execute_result",
     "data": {
      "text/plain": [
       "   NOrdered       NoDesignation   WeaponDescription OrderYear DeliveryYear  \\\n",
       "3      (12)          M-43 120mm              Mortar      2011         2011   \n",
       "6         4       N-262 Fregate  Transport aircraft      1980         1980   \n",
       "7       (2)               Il-28     Bomber aircraft      1967         1968   \n",
       "8       (3)            BTR-60PB                 APC      2016         2016   \n",
       "11        1            Noratlas  Transport aircraft      1979         1979   \n",
       "12      (2)               BMP-2                 IFV      2002         2002   \n",
       "13      NaN                   2                T-55      Tank         2002   \n",
       "14        1               Do-27      Light aircraft      1980         1980   \n",
       "15      250      FIM-92 Stinger        Portable SAM      1992         1992   \n",
       "18     (37)  M-3/M-5 Half-track                 APC      2006         2006   \n",
       "\n",
       "   NDelivered                                           Comments  \\\n",
       "3          12                               Probably second-hand   \n",
       "6           4                           Second-hand; incl for MP   \n",
       "7         (2)                                        Second-hand   \n",
       "8         (3)                                   Second-hand; aid   \n",
       "11          1                                   Second-hand; aid   \n",
       "12        (2)          Second-hand; for use against fight rebels   \n",
       "13       2002                                                  2   \n",
       "14          1                      Second-hand; status uncertain   \n",
       "15        250  Second-hand; delivered in 1980s as aid to UNIT...   \n",
       "18       (37)             Second-hand; aid; M-5 and M-9 versions   \n",
       "\n",
       "                             Unnamed: 8   Supplier            Recipient  \n",
       "3                                   NaN    Albania         Burkina Faso  \n",
       "6                                   NaN    Algeria               Angola  \n",
       "7                                   NaN    Algeria              Nigeria  \n",
       "8                                   NaN    Algeria       Western Sahara  \n",
       "11                                  NaN     Angola                Congo  \n",
       "12                                  NaN     Angola        Cote d'Ivoire  \n",
       "13  Second-hand; for use against rebels     Angola                       \n",
       "14                                  NaN     Angola        Guinea-Bissau  \n",
       "15                                  NaN     Angola        United States  \n",
       "18                                  NaN  Argentina              Bolivia  "
      ],
      "text/html": "<div>\n<style scoped>\n    .dataframe tbody tr th:only-of-type {\n        vertical-align: middle;\n    }\n\n    .dataframe tbody tr th {\n        vertical-align: top;\n    }\n\n    .dataframe thead th {\n        text-align: right;\n    }\n</style>\n<table border=\"1\" class=\"dataframe\">\n  <thead>\n    <tr style=\"text-align: right;\">\n      <th></th>\n      <th>NOrdered</th>\n      <th>NoDesignation</th>\n      <th>WeaponDescription</th>\n      <th>OrderYear</th>\n      <th>DeliveryYear</th>\n      <th>NDelivered</th>\n      <th>Comments</th>\n      <th>Unnamed: 8</th>\n      <th>Supplier</th>\n      <th>Recipient</th>\n    </tr>\n  </thead>\n  <tbody>\n    <tr>\n      <th>3</th>\n      <td>(12)</td>\n      <td>M-43 120mm</td>\n      <td>Mortar</td>\n      <td>2011</td>\n      <td>2011</td>\n      <td>12</td>\n      <td>Probably second-hand</td>\n      <td>NaN</td>\n      <td>Albania</td>\n      <td>Burkina Faso</td>\n    </tr>\n    <tr>\n      <th>6</th>\n      <td>4</td>\n      <td>N-262 Fregate</td>\n      <td>Transport aircraft</td>\n      <td>1980</td>\n      <td>1980</td>\n      <td>4</td>\n      <td>Second-hand; incl for MP</td>\n      <td>NaN</td>\n      <td>Algeria</td>\n      <td>Angola</td>\n    </tr>\n    <tr>\n      <th>7</th>\n      <td>(2)</td>\n      <td>Il-28</td>\n      <td>Bomber aircraft</td>\n      <td>1967</td>\n      <td>1968</td>\n      <td>(2)</td>\n      <td>Second-hand</td>\n      <td>NaN</td>\n      <td>Algeria</td>\n      <td>Nigeria</td>\n    </tr>\n    <tr>\n      <th>8</th>\n      <td>(3)</td>\n      <td>BTR-60PB</td>\n      <td>APC</td>\n      <td>2016</td>\n      <td>2016</td>\n      <td>(3)</td>\n      <td>Second-hand; aid</td>\n      <td>NaN</td>\n      <td>Algeria</td>\n      <td>Western Sahara</td>\n    </tr>\n    <tr>\n      <th>11</th>\n      <td>1</td>\n      <td>Noratlas</td>\n      <td>Transport aircraft</td>\n      <td>1979</td>\n      <td>1979</td>\n      <td>1</td>\n      <td>Second-hand; aid</td>\n      <td>NaN</td>\n      <td>Angola</td>\n      <td>Congo</td>\n    </tr>\n    <tr>\n      <th>12</th>\n      <td>(2)</td>\n      <td>BMP-2</td>\n      <td>IFV</td>\n      <td>2002</td>\n      <td>2002</td>\n      <td>(2)</td>\n      <td>Second-hand; for use against fight rebels</td>\n      <td>NaN</td>\n      <td>Angola</td>\n      <td>Cote d'Ivoire</td>\n    </tr>\n    <tr>\n      <th>13</th>\n      <td>NaN</td>\n      <td>2</td>\n      <td>T-55</td>\n      <td>Tank</td>\n      <td>2002</td>\n      <td>2002</td>\n      <td>2</td>\n      <td>Second-hand; for use against rebels</td>\n      <td>Angola</td>\n      <td></td>\n    </tr>\n    <tr>\n      <th>14</th>\n      <td>1</td>\n      <td>Do-27</td>\n      <td>Light aircraft</td>\n      <td>1980</td>\n      <td>1980</td>\n      <td>1</td>\n      <td>Second-hand; status uncertain</td>\n      <td>NaN</td>\n      <td>Angola</td>\n      <td>Guinea-Bissau</td>\n    </tr>\n    <tr>\n      <th>15</th>\n      <td>250</td>\n      <td>FIM-92 Stinger</td>\n      <td>Portable SAM</td>\n      <td>1992</td>\n      <td>1992</td>\n      <td>250</td>\n      <td>Second-hand; delivered in 1980s as aid to UNIT...</td>\n      <td>NaN</td>\n      <td>Angola</td>\n      <td>United States</td>\n    </tr>\n    <tr>\n      <th>18</th>\n      <td>(37)</td>\n      <td>M-3/M-5 Half-track</td>\n      <td>APC</td>\n      <td>2006</td>\n      <td>2006</td>\n      <td>(37)</td>\n      <td>Second-hand; aid; M-5 and M-9 versions</td>\n      <td>NaN</td>\n      <td>Argentina</td>\n      <td>Bolivia</td>\n    </tr>\n  </tbody>\n</table>\n</div>"
     },
     "metadata": {},
     "execution_count": 43
    }
   ],
   "source": [
    "\n",
    "df['OrderYear'] = df['OrderYear'].str.replace(\"[()]\", \"\")\n",
    "\n",
    "df.head(10)"
   ]
  },
  {
   "source": [
    "## Identifying columns that need to be shifted(NaN in NOrdered leftmost column)"
   ],
   "cell_type": "markdown",
   "metadata": {}
  },
  {
   "cell_type": "code",
   "execution_count": 44,
   "metadata": {},
   "outputs": [
    {
     "output_type": "execute_result",
     "data": {
      "text/plain": [
       "   NOrdered       NoDesignation   WeaponDescription OrderYear DeliveryYear  \\\n",
       "13        2                T-55                Tank      2002         2002   \n",
       "21        3                 Gem          Turboshaft      1988         1988   \n",
       "25        3            Bouchard                 OPV      1964    1964-1968   \n",
       "26        1          G-21 Goose  Light transport ac    (1966)         1967   \n",
       "27        1         DHC-3 Otter  Light transport ac    (1970)         1972   \n",
       "28        1                 LSM        Landing ship      1972         1972   \n",
       "29       10           T-6 Texan    Trainer aircraft    (1975)         1976   \n",
       "30        1  DC-3/C-47 Skytrain  Transport aircraft      1979         1979   \n",
       "31        3             Firefly                Tank      1980         1980   \n",
       "32        6         M-4 Sherman                Tank    (1982)         1982   \n",
       "\n",
       "   NDelivered                                    Comments Unnamed: 8 Supplier  \\\n",
       "13          2         Second-hand; for use against rebels     Angola            \n",
       "21          3    Second-hand; spares for Lynx helicopters  Argentina            \n",
       "25          3                                 Second-hand  Argentina            \n",
       "26          1                            Second-hand; aid  Argentina            \n",
       "27          1                            Second-hand; aid  Argentina            \n",
       "28          1  Ex-Argentinian; modernized before delivery  Argentina            \n",
       "29         10                            Second-hand; aid  Argentina            \n",
       "30          1                            Second-hand; aid  Argentina            \n",
       "31          3                                 Second-hand  Argentina            \n",
       "32        (6)                                 Second-hand  Argentina            \n",
       "\n",
       "   Recipient  \n",
       "13       NaN  \n",
       "21       NaN  \n",
       "25       NaN  \n",
       "26       NaN  \n",
       "27       NaN  \n",
       "28       NaN  \n",
       "29       NaN  \n",
       "30       NaN  \n",
       "31       NaN  \n",
       "32       NaN  "
      ],
      "text/html": "<div>\n<style scoped>\n    .dataframe tbody tr th:only-of-type {\n        vertical-align: middle;\n    }\n\n    .dataframe tbody tr th {\n        vertical-align: top;\n    }\n\n    .dataframe thead th {\n        text-align: right;\n    }\n</style>\n<table border=\"1\" class=\"dataframe\">\n  <thead>\n    <tr style=\"text-align: right;\">\n      <th></th>\n      <th>NOrdered</th>\n      <th>NoDesignation</th>\n      <th>WeaponDescription</th>\n      <th>OrderYear</th>\n      <th>DeliveryYear</th>\n      <th>NDelivered</th>\n      <th>Comments</th>\n      <th>Unnamed: 8</th>\n      <th>Supplier</th>\n      <th>Recipient</th>\n    </tr>\n  </thead>\n  <tbody>\n    <tr>\n      <th>13</th>\n      <td>2</td>\n      <td>T-55</td>\n      <td>Tank</td>\n      <td>2002</td>\n      <td>2002</td>\n      <td>2</td>\n      <td>Second-hand; for use against rebels</td>\n      <td>Angola</td>\n      <td></td>\n      <td>NaN</td>\n    </tr>\n    <tr>\n      <th>21</th>\n      <td>3</td>\n      <td>Gem</td>\n      <td>Turboshaft</td>\n      <td>1988</td>\n      <td>1988</td>\n      <td>3</td>\n      <td>Second-hand; spares for Lynx helicopters</td>\n      <td>Argentina</td>\n      <td></td>\n      <td>NaN</td>\n    </tr>\n    <tr>\n      <th>25</th>\n      <td>3</td>\n      <td>Bouchard</td>\n      <td>OPV</td>\n      <td>1964</td>\n      <td>1964-1968</td>\n      <td>3</td>\n      <td>Second-hand</td>\n      <td>Argentina</td>\n      <td></td>\n      <td>NaN</td>\n    </tr>\n    <tr>\n      <th>26</th>\n      <td>1</td>\n      <td>G-21 Goose</td>\n      <td>Light transport ac</td>\n      <td>(1966)</td>\n      <td>1967</td>\n      <td>1</td>\n      <td>Second-hand; aid</td>\n      <td>Argentina</td>\n      <td></td>\n      <td>NaN</td>\n    </tr>\n    <tr>\n      <th>27</th>\n      <td>1</td>\n      <td>DHC-3 Otter</td>\n      <td>Light transport ac</td>\n      <td>(1970)</td>\n      <td>1972</td>\n      <td>1</td>\n      <td>Second-hand; aid</td>\n      <td>Argentina</td>\n      <td></td>\n      <td>NaN</td>\n    </tr>\n    <tr>\n      <th>28</th>\n      <td>1</td>\n      <td>LSM</td>\n      <td>Landing ship</td>\n      <td>1972</td>\n      <td>1972</td>\n      <td>1</td>\n      <td>Ex-Argentinian; modernized before delivery</td>\n      <td>Argentina</td>\n      <td></td>\n      <td>NaN</td>\n    </tr>\n    <tr>\n      <th>29</th>\n      <td>10</td>\n      <td>T-6 Texan</td>\n      <td>Trainer aircraft</td>\n      <td>(1975)</td>\n      <td>1976</td>\n      <td>10</td>\n      <td>Second-hand; aid</td>\n      <td>Argentina</td>\n      <td></td>\n      <td>NaN</td>\n    </tr>\n    <tr>\n      <th>30</th>\n      <td>1</td>\n      <td>DC-3/C-47 Skytrain</td>\n      <td>Transport aircraft</td>\n      <td>1979</td>\n      <td>1979</td>\n      <td>1</td>\n      <td>Second-hand; aid</td>\n      <td>Argentina</td>\n      <td></td>\n      <td>NaN</td>\n    </tr>\n    <tr>\n      <th>31</th>\n      <td>3</td>\n      <td>Firefly</td>\n      <td>Tank</td>\n      <td>1980</td>\n      <td>1980</td>\n      <td>3</td>\n      <td>Second-hand</td>\n      <td>Argentina</td>\n      <td></td>\n      <td>NaN</td>\n    </tr>\n    <tr>\n      <th>32</th>\n      <td>6</td>\n      <td>M-4 Sherman</td>\n      <td>Tank</td>\n      <td>(1982)</td>\n      <td>1982</td>\n      <td>(6)</td>\n      <td>Second-hand</td>\n      <td>Argentina</td>\n      <td></td>\n      <td>NaN</td>\n    </tr>\n  </tbody>\n</table>\n</div>"
     },
     "metadata": {},
     "execution_count": 44
    }
   ],
   "source": [
    "shift_cols = df.loc[df['NOrdered'].isna()].shift(-1,axis=1)\n",
    "\n",
    "shift_cols.head(10)"
   ]
  },
  {
   "source": [
    "## Shifting 'Unnamed: 8' values that are Suppliers over by 1 to correct"
   ],
   "cell_type": "markdown",
   "metadata": {}
  },
  {
   "cell_type": "code",
   "execution_count": 45,
   "metadata": {},
   "outputs": [
    {
     "output_type": "execute_result",
     "data": {
      "text/plain": [
       "   NOrdered       NoDesignation   WeaponDescription OrderYear DeliveryYear  \\\n",
       "13        2                T-55                Tank      2002         2002   \n",
       "21        3                 Gem          Turboshaft      1988         1988   \n",
       "25        3            Bouchard                 OPV      1964    1964-1968   \n",
       "26        1          G-21 Goose  Light transport ac    (1966)         1967   \n",
       "27        1         DHC-3 Otter  Light transport ac    (1970)         1972   \n",
       "28        1                 LSM        Landing ship      1972         1972   \n",
       "29       10           T-6 Texan    Trainer aircraft    (1975)         1976   \n",
       "30        1  DC-3/C-47 Skytrain  Transport aircraft      1979         1979   \n",
       "31        3             Firefly                Tank      1980         1980   \n",
       "32        6         M-4 Sherman                Tank    (1982)         1982   \n",
       "\n",
       "   NDelivered                                    Comments Unnamed: 8  \\\n",
       "13          2         Second-hand; for use against rebels     Angola   \n",
       "21          3    Second-hand; spares for Lynx helicopters  Argentina   \n",
       "25          3                                 Second-hand  Argentina   \n",
       "26          1                            Second-hand; aid  Argentina   \n",
       "27          1                            Second-hand; aid  Argentina   \n",
       "28          1  Ex-Argentinian; modernized before delivery  Argentina   \n",
       "29         10                            Second-hand; aid  Argentina   \n",
       "30          1                            Second-hand; aid  Argentina   \n",
       "31          3                                 Second-hand  Argentina   \n",
       "32        (6)                                 Second-hand  Argentina   \n",
       "\n",
       "     Supplier Recipient  \n",
       "13     Angola       NaN  \n",
       "21  Argentina       NaN  \n",
       "25  Argentina       NaN  \n",
       "26  Argentina       NaN  \n",
       "27  Argentina       NaN  \n",
       "28  Argentina       NaN  \n",
       "29  Argentina       NaN  \n",
       "30  Argentina       NaN  \n",
       "31  Argentina       NaN  \n",
       "32  Argentina       NaN  "
      ],
      "text/html": "<div>\n<style scoped>\n    .dataframe tbody tr th:only-of-type {\n        vertical-align: middle;\n    }\n\n    .dataframe tbody tr th {\n        vertical-align: top;\n    }\n\n    .dataframe thead th {\n        text-align: right;\n    }\n</style>\n<table border=\"1\" class=\"dataframe\">\n  <thead>\n    <tr style=\"text-align: right;\">\n      <th></th>\n      <th>NOrdered</th>\n      <th>NoDesignation</th>\n      <th>WeaponDescription</th>\n      <th>OrderYear</th>\n      <th>DeliveryYear</th>\n      <th>NDelivered</th>\n      <th>Comments</th>\n      <th>Unnamed: 8</th>\n      <th>Supplier</th>\n      <th>Recipient</th>\n    </tr>\n  </thead>\n  <tbody>\n    <tr>\n      <th>13</th>\n      <td>2</td>\n      <td>T-55</td>\n      <td>Tank</td>\n      <td>2002</td>\n      <td>2002</td>\n      <td>2</td>\n      <td>Second-hand; for use against rebels</td>\n      <td>Angola</td>\n      <td>Angola</td>\n      <td>NaN</td>\n    </tr>\n    <tr>\n      <th>21</th>\n      <td>3</td>\n      <td>Gem</td>\n      <td>Turboshaft</td>\n      <td>1988</td>\n      <td>1988</td>\n      <td>3</td>\n      <td>Second-hand; spares for Lynx helicopters</td>\n      <td>Argentina</td>\n      <td>Argentina</td>\n      <td>NaN</td>\n    </tr>\n    <tr>\n      <th>25</th>\n      <td>3</td>\n      <td>Bouchard</td>\n      <td>OPV</td>\n      <td>1964</td>\n      <td>1964-1968</td>\n      <td>3</td>\n      <td>Second-hand</td>\n      <td>Argentina</td>\n      <td>Argentina</td>\n      <td>NaN</td>\n    </tr>\n    <tr>\n      <th>26</th>\n      <td>1</td>\n      <td>G-21 Goose</td>\n      <td>Light transport ac</td>\n      <td>(1966)</td>\n      <td>1967</td>\n      <td>1</td>\n      <td>Second-hand; aid</td>\n      <td>Argentina</td>\n      <td>Argentina</td>\n      <td>NaN</td>\n    </tr>\n    <tr>\n      <th>27</th>\n      <td>1</td>\n      <td>DHC-3 Otter</td>\n      <td>Light transport ac</td>\n      <td>(1970)</td>\n      <td>1972</td>\n      <td>1</td>\n      <td>Second-hand; aid</td>\n      <td>Argentina</td>\n      <td>Argentina</td>\n      <td>NaN</td>\n    </tr>\n    <tr>\n      <th>28</th>\n      <td>1</td>\n      <td>LSM</td>\n      <td>Landing ship</td>\n      <td>1972</td>\n      <td>1972</td>\n      <td>1</td>\n      <td>Ex-Argentinian; modernized before delivery</td>\n      <td>Argentina</td>\n      <td>Argentina</td>\n      <td>NaN</td>\n    </tr>\n    <tr>\n      <th>29</th>\n      <td>10</td>\n      <td>T-6 Texan</td>\n      <td>Trainer aircraft</td>\n      <td>(1975)</td>\n      <td>1976</td>\n      <td>10</td>\n      <td>Second-hand; aid</td>\n      <td>Argentina</td>\n      <td>Argentina</td>\n      <td>NaN</td>\n    </tr>\n    <tr>\n      <th>30</th>\n      <td>1</td>\n      <td>DC-3/C-47 Skytrain</td>\n      <td>Transport aircraft</td>\n      <td>1979</td>\n      <td>1979</td>\n      <td>1</td>\n      <td>Second-hand; aid</td>\n      <td>Argentina</td>\n      <td>Argentina</td>\n      <td>NaN</td>\n    </tr>\n    <tr>\n      <th>31</th>\n      <td>3</td>\n      <td>Firefly</td>\n      <td>Tank</td>\n      <td>1980</td>\n      <td>1980</td>\n      <td>3</td>\n      <td>Second-hand</td>\n      <td>Argentina</td>\n      <td>Argentina</td>\n      <td>NaN</td>\n    </tr>\n    <tr>\n      <th>32</th>\n      <td>6</td>\n      <td>M-4 Sherman</td>\n      <td>Tank</td>\n      <td>(1982)</td>\n      <td>1982</td>\n      <td>(6)</td>\n      <td>Second-hand</td>\n      <td>Argentina</td>\n      <td>Argentina</td>\n      <td>NaN</td>\n    </tr>\n  </tbody>\n</table>\n</div>"
     },
     "metadata": {},
     "execution_count": 45
    }
   ],
   "source": [
    "shift_cols['Supplier'] =shift_cols['Unnamed: 8']\n",
    "shift_cols.head(10)\n"
   ]
  },
  {
   "cell_type": "code",
   "execution_count": 46,
   "metadata": {},
   "outputs": [
    {
     "output_type": "execute_result",
     "data": {
      "text/plain": [
       "   NOrdered NoDesignation   WeaponDescription OrderYear DeliveryYear  \\\n",
       "13        2          T-55                Tank      2002         2002   \n",
       "21        3           Gem          Turboshaft      1988         1988   \n",
       "25        3      Bouchard                 OPV      1964    1964-1968   \n",
       "26        1    G-21 Goose  Light transport ac    (1966)         1967   \n",
       "27        1   DHC-3 Otter  Light transport ac    (1970)         1972   \n",
       "\n",
       "   NDelivered                                  Comments   Supplier Recipient  \n",
       "13          2       Second-hand; for use against rebels     Angola       NaN  \n",
       "21          3  Second-hand; spares for Lynx helicopters  Argentina       NaN  \n",
       "25          3                               Second-hand  Argentina       NaN  \n",
       "26          1                          Second-hand; aid  Argentina       NaN  \n",
       "27          1                          Second-hand; aid  Argentina       NaN  "
      ],
      "text/html": "<div>\n<style scoped>\n    .dataframe tbody tr th:only-of-type {\n        vertical-align: middle;\n    }\n\n    .dataframe tbody tr th {\n        vertical-align: top;\n    }\n\n    .dataframe thead th {\n        text-align: right;\n    }\n</style>\n<table border=\"1\" class=\"dataframe\">\n  <thead>\n    <tr style=\"text-align: right;\">\n      <th></th>\n      <th>NOrdered</th>\n      <th>NoDesignation</th>\n      <th>WeaponDescription</th>\n      <th>OrderYear</th>\n      <th>DeliveryYear</th>\n      <th>NDelivered</th>\n      <th>Comments</th>\n      <th>Supplier</th>\n      <th>Recipient</th>\n    </tr>\n  </thead>\n  <tbody>\n    <tr>\n      <th>13</th>\n      <td>2</td>\n      <td>T-55</td>\n      <td>Tank</td>\n      <td>2002</td>\n      <td>2002</td>\n      <td>2</td>\n      <td>Second-hand; for use against rebels</td>\n      <td>Angola</td>\n      <td>NaN</td>\n    </tr>\n    <tr>\n      <th>21</th>\n      <td>3</td>\n      <td>Gem</td>\n      <td>Turboshaft</td>\n      <td>1988</td>\n      <td>1988</td>\n      <td>3</td>\n      <td>Second-hand; spares for Lynx helicopters</td>\n      <td>Argentina</td>\n      <td>NaN</td>\n    </tr>\n    <tr>\n      <th>25</th>\n      <td>3</td>\n      <td>Bouchard</td>\n      <td>OPV</td>\n      <td>1964</td>\n      <td>1964-1968</td>\n      <td>3</td>\n      <td>Second-hand</td>\n      <td>Argentina</td>\n      <td>NaN</td>\n    </tr>\n    <tr>\n      <th>26</th>\n      <td>1</td>\n      <td>G-21 Goose</td>\n      <td>Light transport ac</td>\n      <td>(1966)</td>\n      <td>1967</td>\n      <td>1</td>\n      <td>Second-hand; aid</td>\n      <td>Argentina</td>\n      <td>NaN</td>\n    </tr>\n    <tr>\n      <th>27</th>\n      <td>1</td>\n      <td>DHC-3 Otter</td>\n      <td>Light transport ac</td>\n      <td>(1970)</td>\n      <td>1972</td>\n      <td>1</td>\n      <td>Second-hand; aid</td>\n      <td>Argentina</td>\n      <td>NaN</td>\n    </tr>\n  </tbody>\n</table>\n</div>"
     },
     "metadata": {},
     "execution_count": 46
    }
   ],
   "source": [
    "shift_cols= shift_cols.drop('Unnamed: 8',axis=1)\n",
    "\n",
    "shift_cols.head()"
   ]
  },
  {
   "source": [
    "## Shifted columns being replaced back into original df"
   ],
   "cell_type": "markdown",
   "metadata": {}
  },
  {
   "cell_type": "code",
   "execution_count": 47,
   "metadata": {},
   "outputs": [
    {
     "output_type": "execute_result",
     "data": {
      "text/plain": [
       "   NOrdered       NoDesignation   WeaponDescription OrderYear DeliveryYear  \\\n",
       "3      (12)          M-43 120mm              Mortar      2011         2011   \n",
       "6         4       N-262 Fregate  Transport aircraft      1980         1980   \n",
       "7       (2)               Il-28     Bomber aircraft      1967         1968   \n",
       "8       (3)            BTR-60PB                 APC      2016         2016   \n",
       "11        1            Noratlas  Transport aircraft      1979         1979   \n",
       "12      (2)               BMP-2                 IFV      2002         2002   \n",
       "13        2                T-55                Tank      2002         2002   \n",
       "14        1               Do-27      Light aircraft      1980         1980   \n",
       "15      250      FIM-92 Stinger        Portable SAM      1992         1992   \n",
       "18     (37)  M-3/M-5 Half-track                 APC      2006         2006   \n",
       "\n",
       "   NDelivered                                           Comments  \\\n",
       "3          12                               Probably second-hand   \n",
       "6           4                           Second-hand; incl for MP   \n",
       "7         (2)                                        Second-hand   \n",
       "8         (3)                                   Second-hand; aid   \n",
       "11          1                                   Second-hand; aid   \n",
       "12        (2)          Second-hand; for use against fight rebels   \n",
       "13          2                Second-hand; for use against rebels   \n",
       "14          1                      Second-hand; status uncertain   \n",
       "15        250  Second-hand; delivered in 1980s as aid to UNIT...   \n",
       "18       (37)             Second-hand; aid; M-5 and M-9 versions   \n",
       "\n",
       "                             Unnamed: 8   Supplier            Recipient  \n",
       "3                                   NaN    Albania         Burkina Faso  \n",
       "6                                   NaN    Algeria               Angola  \n",
       "7                                   NaN    Algeria              Nigeria  \n",
       "8                                   NaN    Algeria       Western Sahara  \n",
       "11                                  NaN     Angola                Congo  \n",
       "12                                  NaN     Angola        Cote d'Ivoire  \n",
       "13  Second-hand; for use against rebels     Angola                       \n",
       "14                                  NaN     Angola        Guinea-Bissau  \n",
       "15                                  NaN     Angola        United States  \n",
       "18                                  NaN  Argentina              Bolivia  "
      ],
      "text/html": "<div>\n<style scoped>\n    .dataframe tbody tr th:only-of-type {\n        vertical-align: middle;\n    }\n\n    .dataframe tbody tr th {\n        vertical-align: top;\n    }\n\n    .dataframe thead th {\n        text-align: right;\n    }\n</style>\n<table border=\"1\" class=\"dataframe\">\n  <thead>\n    <tr style=\"text-align: right;\">\n      <th></th>\n      <th>NOrdered</th>\n      <th>NoDesignation</th>\n      <th>WeaponDescription</th>\n      <th>OrderYear</th>\n      <th>DeliveryYear</th>\n      <th>NDelivered</th>\n      <th>Comments</th>\n      <th>Unnamed: 8</th>\n      <th>Supplier</th>\n      <th>Recipient</th>\n    </tr>\n  </thead>\n  <tbody>\n    <tr>\n      <th>3</th>\n      <td>(12)</td>\n      <td>M-43 120mm</td>\n      <td>Mortar</td>\n      <td>2011</td>\n      <td>2011</td>\n      <td>12</td>\n      <td>Probably second-hand</td>\n      <td>NaN</td>\n      <td>Albania</td>\n      <td>Burkina Faso</td>\n    </tr>\n    <tr>\n      <th>6</th>\n      <td>4</td>\n      <td>N-262 Fregate</td>\n      <td>Transport aircraft</td>\n      <td>1980</td>\n      <td>1980</td>\n      <td>4</td>\n      <td>Second-hand; incl for MP</td>\n      <td>NaN</td>\n      <td>Algeria</td>\n      <td>Angola</td>\n    </tr>\n    <tr>\n      <th>7</th>\n      <td>(2)</td>\n      <td>Il-28</td>\n      <td>Bomber aircraft</td>\n      <td>1967</td>\n      <td>1968</td>\n      <td>(2)</td>\n      <td>Second-hand</td>\n      <td>NaN</td>\n      <td>Algeria</td>\n      <td>Nigeria</td>\n    </tr>\n    <tr>\n      <th>8</th>\n      <td>(3)</td>\n      <td>BTR-60PB</td>\n      <td>APC</td>\n      <td>2016</td>\n      <td>2016</td>\n      <td>(3)</td>\n      <td>Second-hand; aid</td>\n      <td>NaN</td>\n      <td>Algeria</td>\n      <td>Western Sahara</td>\n    </tr>\n    <tr>\n      <th>11</th>\n      <td>1</td>\n      <td>Noratlas</td>\n      <td>Transport aircraft</td>\n      <td>1979</td>\n      <td>1979</td>\n      <td>1</td>\n      <td>Second-hand; aid</td>\n      <td>NaN</td>\n      <td>Angola</td>\n      <td>Congo</td>\n    </tr>\n    <tr>\n      <th>12</th>\n      <td>(2)</td>\n      <td>BMP-2</td>\n      <td>IFV</td>\n      <td>2002</td>\n      <td>2002</td>\n      <td>(2)</td>\n      <td>Second-hand; for use against fight rebels</td>\n      <td>NaN</td>\n      <td>Angola</td>\n      <td>Cote d'Ivoire</td>\n    </tr>\n    <tr>\n      <th>13</th>\n      <td>2</td>\n      <td>T-55</td>\n      <td>Tank</td>\n      <td>2002</td>\n      <td>2002</td>\n      <td>2</td>\n      <td>Second-hand; for use against rebels</td>\n      <td>Second-hand; for use against rebels</td>\n      <td>Angola</td>\n      <td></td>\n    </tr>\n    <tr>\n      <th>14</th>\n      <td>1</td>\n      <td>Do-27</td>\n      <td>Light aircraft</td>\n      <td>1980</td>\n      <td>1980</td>\n      <td>1</td>\n      <td>Second-hand; status uncertain</td>\n      <td>NaN</td>\n      <td>Angola</td>\n      <td>Guinea-Bissau</td>\n    </tr>\n    <tr>\n      <th>15</th>\n      <td>250</td>\n      <td>FIM-92 Stinger</td>\n      <td>Portable SAM</td>\n      <td>1992</td>\n      <td>1992</td>\n      <td>250</td>\n      <td>Second-hand; delivered in 1980s as aid to UNIT...</td>\n      <td>NaN</td>\n      <td>Angola</td>\n      <td>United States</td>\n    </tr>\n    <tr>\n      <th>18</th>\n      <td>(37)</td>\n      <td>M-3/M-5 Half-track</td>\n      <td>APC</td>\n      <td>2006</td>\n      <td>2006</td>\n      <td>(37)</td>\n      <td>Second-hand; aid; M-5 and M-9 versions</td>\n      <td>NaN</td>\n      <td>Argentina</td>\n      <td>Bolivia</td>\n    </tr>\n  </tbody>\n</table>\n</div>"
     },
     "metadata": {},
     "execution_count": 47
    }
   ],
   "source": [
    "df.update(shift_cols, join='left', overwrite=True)\n",
    "\n",
    "df.head(10)"
   ]
  },
  {
   "source": [
    "## Filling shifted columns' missing Recipients"
   ],
   "cell_type": "markdown",
   "metadata": {}
  },
  {
   "source": [
    "### First replacing empty strings with NaN to ffill"
   ],
   "cell_type": "markdown",
   "metadata": {}
  },
  {
   "cell_type": "code",
   "execution_count": 48,
   "metadata": {},
   "outputs": [
    {
     "output_type": "execute_result",
     "data": {
      "text/plain": [
       "   NOrdered       NoDesignation   WeaponDescription OrderYear DeliveryYear  \\\n",
       "3      (12)          M-43 120mm              Mortar      2011         2011   \n",
       "6         4       N-262 Fregate  Transport aircraft      1980         1980   \n",
       "7       (2)               Il-28     Bomber aircraft      1967         1968   \n",
       "8       (3)            BTR-60PB                 APC      2016         2016   \n",
       "11        1            Noratlas  Transport aircraft      1979         1979   \n",
       "12      (2)               BMP-2                 IFV      2002         2002   \n",
       "13        2                T-55                Tank      2002         2002   \n",
       "14        1               Do-27      Light aircraft      1980         1980   \n",
       "15      250      FIM-92 Stinger        Portable SAM      1992         1992   \n",
       "18     (37)  M-3/M-5 Half-track                 APC      2006         2006   \n",
       "\n",
       "   NDelivered                                           Comments  \\\n",
       "3          12                               Probably second-hand   \n",
       "6           4                           Second-hand; incl for MP   \n",
       "7         (2)                                        Second-hand   \n",
       "8         (3)                                   Second-hand; aid   \n",
       "11          1                                   Second-hand; aid   \n",
       "12        (2)          Second-hand; for use against fight rebels   \n",
       "13          2                Second-hand; for use against rebels   \n",
       "14          1                      Second-hand; status uncertain   \n",
       "15        250  Second-hand; delivered in 1980s as aid to UNIT...   \n",
       "18       (37)             Second-hand; aid; M-5 and M-9 versions   \n",
       "\n",
       "                             Unnamed: 8   Supplier            Recipient  \n",
       "3                                   NaN    Albania         Burkina Faso  \n",
       "6                                   NaN    Algeria               Angola  \n",
       "7                                   NaN    Algeria              Nigeria  \n",
       "8                                   NaN    Algeria       Western Sahara  \n",
       "11                                  NaN     Angola                Congo  \n",
       "12                                  NaN     Angola        Cote d'Ivoire  \n",
       "13  Second-hand; for use against rebels     Angola                  NaN  \n",
       "14                                  NaN     Angola        Guinea-Bissau  \n",
       "15                                  NaN     Angola        United States  \n",
       "18                                  NaN  Argentina              Bolivia  "
      ],
      "text/html": "<div>\n<style scoped>\n    .dataframe tbody tr th:only-of-type {\n        vertical-align: middle;\n    }\n\n    .dataframe tbody tr th {\n        vertical-align: top;\n    }\n\n    .dataframe thead th {\n        text-align: right;\n    }\n</style>\n<table border=\"1\" class=\"dataframe\">\n  <thead>\n    <tr style=\"text-align: right;\">\n      <th></th>\n      <th>NOrdered</th>\n      <th>NoDesignation</th>\n      <th>WeaponDescription</th>\n      <th>OrderYear</th>\n      <th>DeliveryYear</th>\n      <th>NDelivered</th>\n      <th>Comments</th>\n      <th>Unnamed: 8</th>\n      <th>Supplier</th>\n      <th>Recipient</th>\n    </tr>\n  </thead>\n  <tbody>\n    <tr>\n      <th>3</th>\n      <td>(12)</td>\n      <td>M-43 120mm</td>\n      <td>Mortar</td>\n      <td>2011</td>\n      <td>2011</td>\n      <td>12</td>\n      <td>Probably second-hand</td>\n      <td>NaN</td>\n      <td>Albania</td>\n      <td>Burkina Faso</td>\n    </tr>\n    <tr>\n      <th>6</th>\n      <td>4</td>\n      <td>N-262 Fregate</td>\n      <td>Transport aircraft</td>\n      <td>1980</td>\n      <td>1980</td>\n      <td>4</td>\n      <td>Second-hand; incl for MP</td>\n      <td>NaN</td>\n      <td>Algeria</td>\n      <td>Angola</td>\n    </tr>\n    <tr>\n      <th>7</th>\n      <td>(2)</td>\n      <td>Il-28</td>\n      <td>Bomber aircraft</td>\n      <td>1967</td>\n      <td>1968</td>\n      <td>(2)</td>\n      <td>Second-hand</td>\n      <td>NaN</td>\n      <td>Algeria</td>\n      <td>Nigeria</td>\n    </tr>\n    <tr>\n      <th>8</th>\n      <td>(3)</td>\n      <td>BTR-60PB</td>\n      <td>APC</td>\n      <td>2016</td>\n      <td>2016</td>\n      <td>(3)</td>\n      <td>Second-hand; aid</td>\n      <td>NaN</td>\n      <td>Algeria</td>\n      <td>Western Sahara</td>\n    </tr>\n    <tr>\n      <th>11</th>\n      <td>1</td>\n      <td>Noratlas</td>\n      <td>Transport aircraft</td>\n      <td>1979</td>\n      <td>1979</td>\n      <td>1</td>\n      <td>Second-hand; aid</td>\n      <td>NaN</td>\n      <td>Angola</td>\n      <td>Congo</td>\n    </tr>\n    <tr>\n      <th>12</th>\n      <td>(2)</td>\n      <td>BMP-2</td>\n      <td>IFV</td>\n      <td>2002</td>\n      <td>2002</td>\n      <td>(2)</td>\n      <td>Second-hand; for use against fight rebels</td>\n      <td>NaN</td>\n      <td>Angola</td>\n      <td>Cote d'Ivoire</td>\n    </tr>\n    <tr>\n      <th>13</th>\n      <td>2</td>\n      <td>T-55</td>\n      <td>Tank</td>\n      <td>2002</td>\n      <td>2002</td>\n      <td>2</td>\n      <td>Second-hand; for use against rebels</td>\n      <td>Second-hand; for use against rebels</td>\n      <td>Angola</td>\n      <td>NaN</td>\n    </tr>\n    <tr>\n      <th>14</th>\n      <td>1</td>\n      <td>Do-27</td>\n      <td>Light aircraft</td>\n      <td>1980</td>\n      <td>1980</td>\n      <td>1</td>\n      <td>Second-hand; status uncertain</td>\n      <td>NaN</td>\n      <td>Angola</td>\n      <td>Guinea-Bissau</td>\n    </tr>\n    <tr>\n      <th>15</th>\n      <td>250</td>\n      <td>FIM-92 Stinger</td>\n      <td>Portable SAM</td>\n      <td>1992</td>\n      <td>1992</td>\n      <td>250</td>\n      <td>Second-hand; delivered in 1980s as aid to UNIT...</td>\n      <td>NaN</td>\n      <td>Angola</td>\n      <td>United States</td>\n    </tr>\n    <tr>\n      <th>18</th>\n      <td>(37)</td>\n      <td>M-3/M-5 Half-track</td>\n      <td>APC</td>\n      <td>2006</td>\n      <td>2006</td>\n      <td>(37)</td>\n      <td>Second-hand; aid; M-5 and M-9 versions</td>\n      <td>NaN</td>\n      <td>Argentina</td>\n      <td>Bolivia</td>\n    </tr>\n  </tbody>\n</table>\n</div>"
     },
     "metadata": {},
     "execution_count": 48
    }
   ],
   "source": [
    "df.replace({'     ': np.nan}, inplace=True)\n",
    "df.head(10)"
   ]
  },
  {
   "cell_type": "code",
   "execution_count": 49,
   "metadata": {},
   "outputs": [
    {
     "output_type": "execute_result",
     "data": {
      "text/plain": [
       "   NOrdered       NoDesignation   WeaponDescription OrderYear DeliveryYear  \\\n",
       "3      (12)          M-43 120mm              Mortar      2011         2011   \n",
       "6         4       N-262 Fregate  Transport aircraft      1980         1980   \n",
       "7       (2)               Il-28     Bomber aircraft      1967         1968   \n",
       "8       (3)            BTR-60PB                 APC      2016         2016   \n",
       "11        1            Noratlas  Transport aircraft      1979         1979   \n",
       "12      (2)               BMP-2                 IFV      2002         2002   \n",
       "13        2                T-55                Tank      2002         2002   \n",
       "14        1               Do-27      Light aircraft      1980         1980   \n",
       "15      250      FIM-92 Stinger        Portable SAM      1992         1992   \n",
       "18     (37)  M-3/M-5 Half-track                 APC      2006         2006   \n",
       "\n",
       "   NDelivered                                           Comments  \\\n",
       "3          12                               Probably second-hand   \n",
       "6           4                           Second-hand; incl for MP   \n",
       "7         (2)                                        Second-hand   \n",
       "8         (3)                                   Second-hand; aid   \n",
       "11          1                                   Second-hand; aid   \n",
       "12        (2)          Second-hand; for use against fight rebels   \n",
       "13          2                Second-hand; for use against rebels   \n",
       "14          1                      Second-hand; status uncertain   \n",
       "15        250  Second-hand; delivered in 1980s as aid to UNIT...   \n",
       "18       (37)             Second-hand; aid; M-5 and M-9 versions   \n",
       "\n",
       "                             Unnamed: 8   Supplier            Recipient  \n",
       "3                                   NaN    Albania         Burkina Faso  \n",
       "6                                   NaN    Algeria               Angola  \n",
       "7                                   NaN    Algeria              Nigeria  \n",
       "8                                   NaN    Algeria       Western Sahara  \n",
       "11                                  NaN     Angola                Congo  \n",
       "12                                  NaN     Angola        Cote d'Ivoire  \n",
       "13  Second-hand; for use against rebels     Angola        Cote d'Ivoire  \n",
       "14                                  NaN     Angola        Guinea-Bissau  \n",
       "15                                  NaN     Angola        United States  \n",
       "18                                  NaN  Argentina              Bolivia  "
      ],
      "text/html": "<div>\n<style scoped>\n    .dataframe tbody tr th:only-of-type {\n        vertical-align: middle;\n    }\n\n    .dataframe tbody tr th {\n        vertical-align: top;\n    }\n\n    .dataframe thead th {\n        text-align: right;\n    }\n</style>\n<table border=\"1\" class=\"dataframe\">\n  <thead>\n    <tr style=\"text-align: right;\">\n      <th></th>\n      <th>NOrdered</th>\n      <th>NoDesignation</th>\n      <th>WeaponDescription</th>\n      <th>OrderYear</th>\n      <th>DeliveryYear</th>\n      <th>NDelivered</th>\n      <th>Comments</th>\n      <th>Unnamed: 8</th>\n      <th>Supplier</th>\n      <th>Recipient</th>\n    </tr>\n  </thead>\n  <tbody>\n    <tr>\n      <th>3</th>\n      <td>(12)</td>\n      <td>M-43 120mm</td>\n      <td>Mortar</td>\n      <td>2011</td>\n      <td>2011</td>\n      <td>12</td>\n      <td>Probably second-hand</td>\n      <td>NaN</td>\n      <td>Albania</td>\n      <td>Burkina Faso</td>\n    </tr>\n    <tr>\n      <th>6</th>\n      <td>4</td>\n      <td>N-262 Fregate</td>\n      <td>Transport aircraft</td>\n      <td>1980</td>\n      <td>1980</td>\n      <td>4</td>\n      <td>Second-hand; incl for MP</td>\n      <td>NaN</td>\n      <td>Algeria</td>\n      <td>Angola</td>\n    </tr>\n    <tr>\n      <th>7</th>\n      <td>(2)</td>\n      <td>Il-28</td>\n      <td>Bomber aircraft</td>\n      <td>1967</td>\n      <td>1968</td>\n      <td>(2)</td>\n      <td>Second-hand</td>\n      <td>NaN</td>\n      <td>Algeria</td>\n      <td>Nigeria</td>\n    </tr>\n    <tr>\n      <th>8</th>\n      <td>(3)</td>\n      <td>BTR-60PB</td>\n      <td>APC</td>\n      <td>2016</td>\n      <td>2016</td>\n      <td>(3)</td>\n      <td>Second-hand; aid</td>\n      <td>NaN</td>\n      <td>Algeria</td>\n      <td>Western Sahara</td>\n    </tr>\n    <tr>\n      <th>11</th>\n      <td>1</td>\n      <td>Noratlas</td>\n      <td>Transport aircraft</td>\n      <td>1979</td>\n      <td>1979</td>\n      <td>1</td>\n      <td>Second-hand; aid</td>\n      <td>NaN</td>\n      <td>Angola</td>\n      <td>Congo</td>\n    </tr>\n    <tr>\n      <th>12</th>\n      <td>(2)</td>\n      <td>BMP-2</td>\n      <td>IFV</td>\n      <td>2002</td>\n      <td>2002</td>\n      <td>(2)</td>\n      <td>Second-hand; for use against fight rebels</td>\n      <td>NaN</td>\n      <td>Angola</td>\n      <td>Cote d'Ivoire</td>\n    </tr>\n    <tr>\n      <th>13</th>\n      <td>2</td>\n      <td>T-55</td>\n      <td>Tank</td>\n      <td>2002</td>\n      <td>2002</td>\n      <td>2</td>\n      <td>Second-hand; for use against rebels</td>\n      <td>Second-hand; for use against rebels</td>\n      <td>Angola</td>\n      <td>Cote d'Ivoire</td>\n    </tr>\n    <tr>\n      <th>14</th>\n      <td>1</td>\n      <td>Do-27</td>\n      <td>Light aircraft</td>\n      <td>1980</td>\n      <td>1980</td>\n      <td>1</td>\n      <td>Second-hand; status uncertain</td>\n      <td>NaN</td>\n      <td>Angola</td>\n      <td>Guinea-Bissau</td>\n    </tr>\n    <tr>\n      <th>15</th>\n      <td>250</td>\n      <td>FIM-92 Stinger</td>\n      <td>Portable SAM</td>\n      <td>1992</td>\n      <td>1992</td>\n      <td>250</td>\n      <td>Second-hand; delivered in 1980s as aid to UNIT...</td>\n      <td>NaN</td>\n      <td>Angola</td>\n      <td>United States</td>\n    </tr>\n    <tr>\n      <th>18</th>\n      <td>(37)</td>\n      <td>M-3/M-5 Half-track</td>\n      <td>APC</td>\n      <td>2006</td>\n      <td>2006</td>\n      <td>(37)</td>\n      <td>Second-hand; aid; M-5 and M-9 versions</td>\n      <td>NaN</td>\n      <td>Argentina</td>\n      <td>Bolivia</td>\n    </tr>\n  </tbody>\n</table>\n</div>"
     },
     "metadata": {},
     "execution_count": 49
    }
   ],
   "source": [
    "df['Recipient']= df[['Recipient']].ffill()\n",
    "\n",
    "df.head(10)"
   ]
  },
  {
   "source": [
    "### Dropping meaningless leftover col"
   ],
   "cell_type": "markdown",
   "metadata": {}
  },
  {
   "cell_type": "code",
   "execution_count": 50,
   "metadata": {},
   "outputs": [
    {
     "output_type": "execute_result",
     "data": {
      "text/plain": [
       "   NOrdered  NoDesignation   WeaponDescription OrderYear DeliveryYear  \\\n",
       "3      (12)     M-43 120mm              Mortar      2011         2011   \n",
       "6         4  N-262 Fregate  Transport aircraft      1980         1980   \n",
       "7       (2)          Il-28     Bomber aircraft      1967         1968   \n",
       "8       (3)       BTR-60PB                 APC      2016         2016   \n",
       "11        1       Noratlas  Transport aircraft      1979         1979   \n",
       "\n",
       "   NDelivered                  Comments Supplier            Recipient  \n",
       "3          12      Probably second-hand  Albania         Burkina Faso  \n",
       "6           4  Second-hand; incl for MP  Algeria               Angola  \n",
       "7         (2)               Second-hand  Algeria              Nigeria  \n",
       "8         (3)          Second-hand; aid  Algeria       Western Sahara  \n",
       "11          1          Second-hand; aid   Angola                Congo  "
      ],
      "text/html": "<div>\n<style scoped>\n    .dataframe tbody tr th:only-of-type {\n        vertical-align: middle;\n    }\n\n    .dataframe tbody tr th {\n        vertical-align: top;\n    }\n\n    .dataframe thead th {\n        text-align: right;\n    }\n</style>\n<table border=\"1\" class=\"dataframe\">\n  <thead>\n    <tr style=\"text-align: right;\">\n      <th></th>\n      <th>NOrdered</th>\n      <th>NoDesignation</th>\n      <th>WeaponDescription</th>\n      <th>OrderYear</th>\n      <th>DeliveryYear</th>\n      <th>NDelivered</th>\n      <th>Comments</th>\n      <th>Supplier</th>\n      <th>Recipient</th>\n    </tr>\n  </thead>\n  <tbody>\n    <tr>\n      <th>3</th>\n      <td>(12)</td>\n      <td>M-43 120mm</td>\n      <td>Mortar</td>\n      <td>2011</td>\n      <td>2011</td>\n      <td>12</td>\n      <td>Probably second-hand</td>\n      <td>Albania</td>\n      <td>Burkina Faso</td>\n    </tr>\n    <tr>\n      <th>6</th>\n      <td>4</td>\n      <td>N-262 Fregate</td>\n      <td>Transport aircraft</td>\n      <td>1980</td>\n      <td>1980</td>\n      <td>4</td>\n      <td>Second-hand; incl for MP</td>\n      <td>Algeria</td>\n      <td>Angola</td>\n    </tr>\n    <tr>\n      <th>7</th>\n      <td>(2)</td>\n      <td>Il-28</td>\n      <td>Bomber aircraft</td>\n      <td>1967</td>\n      <td>1968</td>\n      <td>(2)</td>\n      <td>Second-hand</td>\n      <td>Algeria</td>\n      <td>Nigeria</td>\n    </tr>\n    <tr>\n      <th>8</th>\n      <td>(3)</td>\n      <td>BTR-60PB</td>\n      <td>APC</td>\n      <td>2016</td>\n      <td>2016</td>\n      <td>(3)</td>\n      <td>Second-hand; aid</td>\n      <td>Algeria</td>\n      <td>Western Sahara</td>\n    </tr>\n    <tr>\n      <th>11</th>\n      <td>1</td>\n      <td>Noratlas</td>\n      <td>Transport aircraft</td>\n      <td>1979</td>\n      <td>1979</td>\n      <td>1</td>\n      <td>Second-hand; aid</td>\n      <td>Angola</td>\n      <td>Congo</td>\n    </tr>\n  </tbody>\n</table>\n</div>"
     },
     "metadata": {},
     "execution_count": 50
    }
   ],
   "source": [
    "df = df.drop('Unnamed: 8',axis=1)\n",
    "\n",
    "df.head()"
   ]
  },
  {
   "source": [
    "## Removing parens from NOrdered and NDelivered"
   ],
   "cell_type": "markdown",
   "metadata": {}
  },
  {
   "cell_type": "code",
   "execution_count": 51,
   "metadata": {
    "ExecuteTime": {
     "end_time": "2021-02-01T18:01:42.766442Z",
     "start_time": "2021-02-01T18:01:42.742541Z"
    }
   },
   "outputs": [
    {
     "output_type": "execute_result",
     "data": {
      "text/plain": [
       "   NOrdered  NoDesignation   WeaponDescription OrderYear DeliveryYear  \\\n",
       "3        12     M-43 120mm              Mortar      2011         2011   \n",
       "6         4  N-262 Fregate  Transport aircraft      1980         1980   \n",
       "7         2          Il-28     Bomber aircraft      1967         1968   \n",
       "8         3       BTR-60PB                 APC      2016         2016   \n",
       "11        1       Noratlas  Transport aircraft      1979         1979   \n",
       "\n",
       "   NDelivered                  Comments Supplier            Recipient  \n",
       "3          12      Probably second-hand  Albania         Burkina Faso  \n",
       "6           4  Second-hand; incl for MP  Algeria               Angola  \n",
       "7         (2)               Second-hand  Algeria              Nigeria  \n",
       "8         (3)          Second-hand; aid  Algeria       Western Sahara  \n",
       "11          1          Second-hand; aid   Angola                Congo  "
      ],
      "text/html": "<div>\n<style scoped>\n    .dataframe tbody tr th:only-of-type {\n        vertical-align: middle;\n    }\n\n    .dataframe tbody tr th {\n        vertical-align: top;\n    }\n\n    .dataframe thead th {\n        text-align: right;\n    }\n</style>\n<table border=\"1\" class=\"dataframe\">\n  <thead>\n    <tr style=\"text-align: right;\">\n      <th></th>\n      <th>NOrdered</th>\n      <th>NoDesignation</th>\n      <th>WeaponDescription</th>\n      <th>OrderYear</th>\n      <th>DeliveryYear</th>\n      <th>NDelivered</th>\n      <th>Comments</th>\n      <th>Supplier</th>\n      <th>Recipient</th>\n    </tr>\n  </thead>\n  <tbody>\n    <tr>\n      <th>3</th>\n      <td>12</td>\n      <td>M-43 120mm</td>\n      <td>Mortar</td>\n      <td>2011</td>\n      <td>2011</td>\n      <td>12</td>\n      <td>Probably second-hand</td>\n      <td>Albania</td>\n      <td>Burkina Faso</td>\n    </tr>\n    <tr>\n      <th>6</th>\n      <td>4</td>\n      <td>N-262 Fregate</td>\n      <td>Transport aircraft</td>\n      <td>1980</td>\n      <td>1980</td>\n      <td>4</td>\n      <td>Second-hand; incl for MP</td>\n      <td>Algeria</td>\n      <td>Angola</td>\n    </tr>\n    <tr>\n      <th>7</th>\n      <td>2</td>\n      <td>Il-28</td>\n      <td>Bomber aircraft</td>\n      <td>1967</td>\n      <td>1968</td>\n      <td>(2)</td>\n      <td>Second-hand</td>\n      <td>Algeria</td>\n      <td>Nigeria</td>\n    </tr>\n    <tr>\n      <th>8</th>\n      <td>3</td>\n      <td>BTR-60PB</td>\n      <td>APC</td>\n      <td>2016</td>\n      <td>2016</td>\n      <td>(3)</td>\n      <td>Second-hand; aid</td>\n      <td>Algeria</td>\n      <td>Western Sahara</td>\n    </tr>\n    <tr>\n      <th>11</th>\n      <td>1</td>\n      <td>Noratlas</td>\n      <td>Transport aircraft</td>\n      <td>1979</td>\n      <td>1979</td>\n      <td>1</td>\n      <td>Second-hand; aid</td>\n      <td>Angola</td>\n      <td>Congo</td>\n    </tr>\n  </tbody>\n</table>\n</div>"
     },
     "metadata": {},
     "execution_count": 51
    }
   ],
   "source": [
    "df['NOrdered'] =  df['NOrdered'].apply(lambda x: str(x).replace('(','').replace(')','')) \n",
    "\n",
    "df.head()"
   ]
  },
  {
   "cell_type": "code",
   "execution_count": 52,
   "metadata": {
    "ExecuteTime": {
     "end_time": "2021-02-01T18:01:43.113963Z",
     "start_time": "2021-02-01T18:01:43.088120Z"
    }
   },
   "outputs": [
    {
     "output_type": "execute_result",
     "data": {
      "text/plain": [
       "   NOrdered  NoDesignation   WeaponDescription OrderYear DeliveryYear  \\\n",
       "3        12     M-43 120mm              Mortar      2011         2011   \n",
       "6         4  N-262 Fregate  Transport aircraft      1980         1980   \n",
       "7         2          Il-28     Bomber aircraft      1967         1968   \n",
       "8         3       BTR-60PB                 APC      2016         2016   \n",
       "11        1       Noratlas  Transport aircraft      1979         1979   \n",
       "\n",
       "   NDelivered                  Comments Supplier            Recipient  \n",
       "3          12      Probably second-hand  Albania         Burkina Faso  \n",
       "6           4  Second-hand; incl for MP  Algeria               Angola  \n",
       "7           2               Second-hand  Algeria              Nigeria  \n",
       "8           3          Second-hand; aid  Algeria       Western Sahara  \n",
       "11          1          Second-hand; aid   Angola                Congo  "
      ],
      "text/html": "<div>\n<style scoped>\n    .dataframe tbody tr th:only-of-type {\n        vertical-align: middle;\n    }\n\n    .dataframe tbody tr th {\n        vertical-align: top;\n    }\n\n    .dataframe thead th {\n        text-align: right;\n    }\n</style>\n<table border=\"1\" class=\"dataframe\">\n  <thead>\n    <tr style=\"text-align: right;\">\n      <th></th>\n      <th>NOrdered</th>\n      <th>NoDesignation</th>\n      <th>WeaponDescription</th>\n      <th>OrderYear</th>\n      <th>DeliveryYear</th>\n      <th>NDelivered</th>\n      <th>Comments</th>\n      <th>Supplier</th>\n      <th>Recipient</th>\n    </tr>\n  </thead>\n  <tbody>\n    <tr>\n      <th>3</th>\n      <td>12</td>\n      <td>M-43 120mm</td>\n      <td>Mortar</td>\n      <td>2011</td>\n      <td>2011</td>\n      <td>12</td>\n      <td>Probably second-hand</td>\n      <td>Albania</td>\n      <td>Burkina Faso</td>\n    </tr>\n    <tr>\n      <th>6</th>\n      <td>4</td>\n      <td>N-262 Fregate</td>\n      <td>Transport aircraft</td>\n      <td>1980</td>\n      <td>1980</td>\n      <td>4</td>\n      <td>Second-hand; incl for MP</td>\n      <td>Algeria</td>\n      <td>Angola</td>\n    </tr>\n    <tr>\n      <th>7</th>\n      <td>2</td>\n      <td>Il-28</td>\n      <td>Bomber aircraft</td>\n      <td>1967</td>\n      <td>1968</td>\n      <td>2</td>\n      <td>Second-hand</td>\n      <td>Algeria</td>\n      <td>Nigeria</td>\n    </tr>\n    <tr>\n      <th>8</th>\n      <td>3</td>\n      <td>BTR-60PB</td>\n      <td>APC</td>\n      <td>2016</td>\n      <td>2016</td>\n      <td>3</td>\n      <td>Second-hand; aid</td>\n      <td>Algeria</td>\n      <td>Western Sahara</td>\n    </tr>\n    <tr>\n      <th>11</th>\n      <td>1</td>\n      <td>Noratlas</td>\n      <td>Transport aircraft</td>\n      <td>1979</td>\n      <td>1979</td>\n      <td>1</td>\n      <td>Second-hand; aid</td>\n      <td>Angola</td>\n      <td>Congo</td>\n    </tr>\n  </tbody>\n</table>\n</div>"
     },
     "metadata": {},
     "execution_count": 52
    }
   ],
   "source": [
    "df['NDelivered'] =  df['NDelivered'].apply(lambda x: str(x).replace('(','').replace(')','')) \n",
    "\n",
    "df.head()"
   ]
  },
  {
   "source": [
    "## All non-null, pretty clean"
   ],
   "cell_type": "markdown",
   "metadata": {}
  },
  {
   "cell_type": "code",
   "execution_count": 53,
   "metadata": {},
   "outputs": [
    {
     "output_type": "stream",
     "name": "stdout",
     "text": [
      "<class 'pandas.core.frame.DataFrame'>\nInt64Index: 26762 entries, 3 to 27034\nData columns (total 9 columns):\n #   Column             Non-Null Count  Dtype \n---  ------             --------------  ----- \n 0   NOrdered           26762 non-null  object\n 1   NoDesignation      26762 non-null  object\n 2   WeaponDescription  26762 non-null  object\n 3   OrderYear          26762 non-null  object\n 4   DeliveryYear       26762 non-null  object\n 5   NDelivered         26762 non-null  object\n 6   Comments           26762 non-null  object\n 7   Supplier           26762 non-null  object\n 8   Recipient          26762 non-null  object\ndtypes: object(9)\nmemory usage: 2.0+ MB\n"
     ]
    }
   ],
   "source": [
    "df.info()"
   ]
  },
  {
   "source": [
    "# Mostly-clean data here copied into \"final\"_df"
   ],
   "cell_type": "markdown",
   "metadata": {}
  },
  {
   "cell_type": "code",
   "execution_count": 54,
   "metadata": {
    "ExecuteTime": {
     "end_time": "2021-02-01T18:01:43.545333Z",
     "start_time": "2021-02-01T18:01:43.526511Z"
    }
   },
   "outputs": [
    {
     "output_type": "execute_result",
     "data": {
      "text/plain": [
       "      NOrdered  NoDesignation   WeaponDescription OrderYear DeliveryYear  \\\n",
       "3           12     M-43 120mm              Mortar      2011         2011   \n",
       "6            4  N-262 Fregate  Transport aircraft      1980         1980   \n",
       "7            2          Il-28     Bomber aircraft      1967         1968   \n",
       "8            3       BTR-60PB                 APC      2016         2016   \n",
       "11           1       Noratlas  Transport aircraft      1979         1979   \n",
       "...        ...            ...                 ...       ...          ...   \n",
       "27026        4    J-1 Jastreb    Ground attack ac      1970         1971   \n",
       "27029        1  DHC-4 Caribou  Transport aircraft      1989         1990   \n",
       "27032       10      2S1 122mm  Self-propelled gun      2000         2001   \n",
       "27033       28         Ferret                 APV      1964         1964   \n",
       "27034        2       Pembroke  Light transport ac      1964         1964   \n",
       "\n",
       "      NDelivered                                           Comments  \\\n",
       "3             12                               Probably second-hand   \n",
       "6              4                           Second-hand; incl for MP   \n",
       "7              2                                        Second-hand   \n",
       "8              3                                   Second-hand; aid   \n",
       "11             1                                   Second-hand; aid   \n",
       "...          ...                                                ...   \n",
       "27026          4  J-1E version; possibly incl 2 RJ-1E reconnaiss...   \n",
       "27029          1  Second-hand (modernized in Malta before delivery)   \n",
       "27032         10                                        Second-hand   \n",
       "27033         28    Ex-Rhodesian; taken over as aid on independence   \n",
       "27034          2  Ex-Rhodesian; taken over on independence; Pemb...   \n",
       "\n",
       "         Supplier            Recipient  \n",
       "3         Albania         Burkina Faso  \n",
       "6         Algeria               Angola  \n",
       "7         Algeria              Nigeria  \n",
       "8         Algeria       Western Sahara  \n",
       "11         Angola                Congo  \n",
       "...           ...                  ...  \n",
       "27026  Yugoslavia               Zambia  \n",
       "27029      Zambia              Liberia  \n",
       "27032    Zimbabwe              Czechia  \n",
       "27033    Zimbabwe               Zambia  \n",
       "27034    Zimbabwe               Zambia  \n",
       "\n",
       "[26762 rows x 9 columns]"
      ],
      "text/html": "<div>\n<style scoped>\n    .dataframe tbody tr th:only-of-type {\n        vertical-align: middle;\n    }\n\n    .dataframe tbody tr th {\n        vertical-align: top;\n    }\n\n    .dataframe thead th {\n        text-align: right;\n    }\n</style>\n<table border=\"1\" class=\"dataframe\">\n  <thead>\n    <tr style=\"text-align: right;\">\n      <th></th>\n      <th>NOrdered</th>\n      <th>NoDesignation</th>\n      <th>WeaponDescription</th>\n      <th>OrderYear</th>\n      <th>DeliveryYear</th>\n      <th>NDelivered</th>\n      <th>Comments</th>\n      <th>Supplier</th>\n      <th>Recipient</th>\n    </tr>\n  </thead>\n  <tbody>\n    <tr>\n      <th>3</th>\n      <td>12</td>\n      <td>M-43 120mm</td>\n      <td>Mortar</td>\n      <td>2011</td>\n      <td>2011</td>\n      <td>12</td>\n      <td>Probably second-hand</td>\n      <td>Albania</td>\n      <td>Burkina Faso</td>\n    </tr>\n    <tr>\n      <th>6</th>\n      <td>4</td>\n      <td>N-262 Fregate</td>\n      <td>Transport aircraft</td>\n      <td>1980</td>\n      <td>1980</td>\n      <td>4</td>\n      <td>Second-hand; incl for MP</td>\n      <td>Algeria</td>\n      <td>Angola</td>\n    </tr>\n    <tr>\n      <th>7</th>\n      <td>2</td>\n      <td>Il-28</td>\n      <td>Bomber aircraft</td>\n      <td>1967</td>\n      <td>1968</td>\n      <td>2</td>\n      <td>Second-hand</td>\n      <td>Algeria</td>\n      <td>Nigeria</td>\n    </tr>\n    <tr>\n      <th>8</th>\n      <td>3</td>\n      <td>BTR-60PB</td>\n      <td>APC</td>\n      <td>2016</td>\n      <td>2016</td>\n      <td>3</td>\n      <td>Second-hand; aid</td>\n      <td>Algeria</td>\n      <td>Western Sahara</td>\n    </tr>\n    <tr>\n      <th>11</th>\n      <td>1</td>\n      <td>Noratlas</td>\n      <td>Transport aircraft</td>\n      <td>1979</td>\n      <td>1979</td>\n      <td>1</td>\n      <td>Second-hand; aid</td>\n      <td>Angola</td>\n      <td>Congo</td>\n    </tr>\n    <tr>\n      <th>...</th>\n      <td>...</td>\n      <td>...</td>\n      <td>...</td>\n      <td>...</td>\n      <td>...</td>\n      <td>...</td>\n      <td>...</td>\n      <td>...</td>\n      <td>...</td>\n    </tr>\n    <tr>\n      <th>27026</th>\n      <td>4</td>\n      <td>J-1 Jastreb</td>\n      <td>Ground attack ac</td>\n      <td>1970</td>\n      <td>1971</td>\n      <td>4</td>\n      <td>J-1E version; possibly incl 2 RJ-1E reconnaiss...</td>\n      <td>Yugoslavia</td>\n      <td>Zambia</td>\n    </tr>\n    <tr>\n      <th>27029</th>\n      <td>1</td>\n      <td>DHC-4 Caribou</td>\n      <td>Transport aircraft</td>\n      <td>1989</td>\n      <td>1990</td>\n      <td>1</td>\n      <td>Second-hand (modernized in Malta before delivery)</td>\n      <td>Zambia</td>\n      <td>Liberia</td>\n    </tr>\n    <tr>\n      <th>27032</th>\n      <td>10</td>\n      <td>2S1 122mm</td>\n      <td>Self-propelled gun</td>\n      <td>2000</td>\n      <td>2001</td>\n      <td>10</td>\n      <td>Second-hand</td>\n      <td>Zimbabwe</td>\n      <td>Czechia</td>\n    </tr>\n    <tr>\n      <th>27033</th>\n      <td>28</td>\n      <td>Ferret</td>\n      <td>APV</td>\n      <td>1964</td>\n      <td>1964</td>\n      <td>28</td>\n      <td>Ex-Rhodesian; taken over as aid on independence</td>\n      <td>Zimbabwe</td>\n      <td>Zambia</td>\n    </tr>\n    <tr>\n      <th>27034</th>\n      <td>2</td>\n      <td>Pembroke</td>\n      <td>Light transport ac</td>\n      <td>1964</td>\n      <td>1964</td>\n      <td>2</td>\n      <td>Ex-Rhodesian; taken over on independence; Pemb...</td>\n      <td>Zimbabwe</td>\n      <td>Zambia</td>\n    </tr>\n  </tbody>\n</table>\n<p>26762 rows × 9 columns</p>\n</div>"
     },
     "metadata": {},
     "execution_count": 54
    }
   ],
   "source": [
    "final_df = df.copy()\n",
    "\n",
    "final_df"
   ]
  },
  {
   "cell_type": "code",
   "execution_count": 55,
   "metadata": {
    "ExecuteTime": {
     "end_time": "2021-02-01T18:01:45.161298Z",
     "start_time": "2021-02-01T18:01:45.147724Z"
    }
   },
   "outputs": [
    {
     "output_type": "stream",
     "name": "stdout",
     "text": [
      "<class 'pandas.core.frame.DataFrame'>\nInt64Index: 26762 entries, 3 to 27034\nData columns (total 9 columns):\n #   Column             Non-Null Count  Dtype \n---  ------             --------------  ----- \n 0   NOrdered           26762 non-null  object\n 1   NoDesignation      26762 non-null  object\n 2   WeaponDescription  26762 non-null  object\n 3   OrderYear          26762 non-null  object\n 4   DeliveryYear       26762 non-null  object\n 5   NDelivered         26762 non-null  object\n 6   Comments           26762 non-null  object\n 7   Supplier           26762 non-null  object\n 8   Recipient          26762 non-null  object\ndtypes: object(9)\nmemory usage: 2.0+ MB\n"
     ]
    }
   ],
   "source": [
    "final_df.info()"
   ]
  },
  {
   "source": [
    "# Create data with time index here"
   ],
   "cell_type": "markdown",
   "metadata": {}
  },
  {
   "cell_type": "code",
   "execution_count": 56,
   "metadata": {},
   "outputs": [
    {
     "output_type": "execute_result",
     "data": {
      "text/plain": [
       "          NOrdered  NoDesignation   WeaponDescription DeliveryYear NDelivered  \\\n",
       "OrderYear                                                                       \n",
       "2011            12     M-43 120mm              Mortar         2011         12   \n",
       "1980             4  N-262 Fregate  Transport aircraft         1980          4   \n",
       "1967             2          Il-28     Bomber aircraft         1968          2   \n",
       "2016             3       BTR-60PB                 APC         2016          3   \n",
       "1979             1       Noratlas  Transport aircraft         1979          1   \n",
       "...            ...            ...                 ...          ...        ...   \n",
       "1970             4    J-1 Jastreb    Ground attack ac         1971          4   \n",
       "1989             1  DHC-4 Caribou  Transport aircraft         1990          1   \n",
       "2000            10      2S1 122mm  Self-propelled gun         2001         10   \n",
       "1964            28         Ferret                 APV         1964         28   \n",
       "1964             2       Pembroke  Light transport ac         1964          2   \n",
       "\n",
       "                                                    Comments    Supplier  \\\n",
       "OrderYear                                                                  \n",
       "2011                                    Probably second-hand     Albania   \n",
       "1980                                Second-hand; incl for MP     Algeria   \n",
       "1967                                             Second-hand     Algeria   \n",
       "2016                                        Second-hand; aid     Algeria   \n",
       "1979                                        Second-hand; aid      Angola   \n",
       "...                                                      ...         ...   \n",
       "1970       J-1E version; possibly incl 2 RJ-1E reconnaiss...  Yugoslavia   \n",
       "1989       Second-hand (modernized in Malta before delivery)      Zambia   \n",
       "2000                                             Second-hand    Zimbabwe   \n",
       "1964         Ex-Rhodesian; taken over as aid on independence    Zimbabwe   \n",
       "1964       Ex-Rhodesian; taken over on independence; Pemb...    Zimbabwe   \n",
       "\n",
       "                     Recipient  \n",
       "OrderYear                       \n",
       "2011              Burkina Faso  \n",
       "1980                    Angola  \n",
       "1967                   Nigeria  \n",
       "2016            Western Sahara  \n",
       "1979                     Congo  \n",
       "...                        ...  \n",
       "1970                    Zambia  \n",
       "1989                   Liberia  \n",
       "2000                   Czechia  \n",
       "1964                    Zambia  \n",
       "1964                    Zambia  \n",
       "\n",
       "[26762 rows x 8 columns]"
      ],
      "text/html": "<div>\n<style scoped>\n    .dataframe tbody tr th:only-of-type {\n        vertical-align: middle;\n    }\n\n    .dataframe tbody tr th {\n        vertical-align: top;\n    }\n\n    .dataframe thead th {\n        text-align: right;\n    }\n</style>\n<table border=\"1\" class=\"dataframe\">\n  <thead>\n    <tr style=\"text-align: right;\">\n      <th></th>\n      <th>NOrdered</th>\n      <th>NoDesignation</th>\n      <th>WeaponDescription</th>\n      <th>DeliveryYear</th>\n      <th>NDelivered</th>\n      <th>Comments</th>\n      <th>Supplier</th>\n      <th>Recipient</th>\n    </tr>\n    <tr>\n      <th>OrderYear</th>\n      <th></th>\n      <th></th>\n      <th></th>\n      <th></th>\n      <th></th>\n      <th></th>\n      <th></th>\n      <th></th>\n    </tr>\n  </thead>\n  <tbody>\n    <tr>\n      <th>2011</th>\n      <td>12</td>\n      <td>M-43 120mm</td>\n      <td>Mortar</td>\n      <td>2011</td>\n      <td>12</td>\n      <td>Probably second-hand</td>\n      <td>Albania</td>\n      <td>Burkina Faso</td>\n    </tr>\n    <tr>\n      <th>1980</th>\n      <td>4</td>\n      <td>N-262 Fregate</td>\n      <td>Transport aircraft</td>\n      <td>1980</td>\n      <td>4</td>\n      <td>Second-hand; incl for MP</td>\n      <td>Algeria</td>\n      <td>Angola</td>\n    </tr>\n    <tr>\n      <th>1967</th>\n      <td>2</td>\n      <td>Il-28</td>\n      <td>Bomber aircraft</td>\n      <td>1968</td>\n      <td>2</td>\n      <td>Second-hand</td>\n      <td>Algeria</td>\n      <td>Nigeria</td>\n    </tr>\n    <tr>\n      <th>2016</th>\n      <td>3</td>\n      <td>BTR-60PB</td>\n      <td>APC</td>\n      <td>2016</td>\n      <td>3</td>\n      <td>Second-hand; aid</td>\n      <td>Algeria</td>\n      <td>Western Sahara</td>\n    </tr>\n    <tr>\n      <th>1979</th>\n      <td>1</td>\n      <td>Noratlas</td>\n      <td>Transport aircraft</td>\n      <td>1979</td>\n      <td>1</td>\n      <td>Second-hand; aid</td>\n      <td>Angola</td>\n      <td>Congo</td>\n    </tr>\n    <tr>\n      <th>...</th>\n      <td>...</td>\n      <td>...</td>\n      <td>...</td>\n      <td>...</td>\n      <td>...</td>\n      <td>...</td>\n      <td>...</td>\n      <td>...</td>\n    </tr>\n    <tr>\n      <th>1970</th>\n      <td>4</td>\n      <td>J-1 Jastreb</td>\n      <td>Ground attack ac</td>\n      <td>1971</td>\n      <td>4</td>\n      <td>J-1E version; possibly incl 2 RJ-1E reconnaiss...</td>\n      <td>Yugoslavia</td>\n      <td>Zambia</td>\n    </tr>\n    <tr>\n      <th>1989</th>\n      <td>1</td>\n      <td>DHC-4 Caribou</td>\n      <td>Transport aircraft</td>\n      <td>1990</td>\n      <td>1</td>\n      <td>Second-hand (modernized in Malta before delivery)</td>\n      <td>Zambia</td>\n      <td>Liberia</td>\n    </tr>\n    <tr>\n      <th>2000</th>\n      <td>10</td>\n      <td>2S1 122mm</td>\n      <td>Self-propelled gun</td>\n      <td>2001</td>\n      <td>10</td>\n      <td>Second-hand</td>\n      <td>Zimbabwe</td>\n      <td>Czechia</td>\n    </tr>\n    <tr>\n      <th>1964</th>\n      <td>28</td>\n      <td>Ferret</td>\n      <td>APV</td>\n      <td>1964</td>\n      <td>28</td>\n      <td>Ex-Rhodesian; taken over as aid on independence</td>\n      <td>Zimbabwe</td>\n      <td>Zambia</td>\n    </tr>\n    <tr>\n      <th>1964</th>\n      <td>2</td>\n      <td>Pembroke</td>\n      <td>Light transport ac</td>\n      <td>1964</td>\n      <td>2</td>\n      <td>Ex-Rhodesian; taken over on independence; Pemb...</td>\n      <td>Zimbabwe</td>\n      <td>Zambia</td>\n    </tr>\n  </tbody>\n</table>\n<p>26762 rows × 8 columns</p>\n</div>"
     },
     "metadata": {},
     "execution_count": 56
    }
   ],
   "source": [
    "time_df = df.copy()\n",
    "\n",
    "time_df.set_index(\"OrderYear\")"
   ]
  },
  {
   "cell_type": "markdown",
   "metadata": {},
   "source": [
    "# Plotting: big difference in Suppliers vs. Recipients"
   ]
  },
  {
   "cell_type": "code",
   "execution_count": 57,
   "metadata": {
    "ExecuteTime": {
     "end_time": "2021-02-01T18:01:48.531244Z",
     "start_time": "2021-02-01T18:01:48.006410Z"
    },
    "scrolled": true
   },
   "outputs": [
    {
     "output_type": "execute_result",
     "data": {
      "text/plain": [
       "Text(0.5, 0, 'Distinct recorded trades')"
      ]
     },
     "metadata": {},
     "execution_count": 57
    },
    {
     "output_type": "display_data",
     "data": {
      "text/plain": "<Figure size 576x396 with 1 Axes>",
      "image/svg+xml": "<?xml version=\"1.0\" encoding=\"utf-8\" standalone=\"no\"?>\n<!DOCTYPE svg PUBLIC \"-//W3C//DTD SVG 1.1//EN\"\n  \"http://www.w3.org/Graphics/SVG/1.1/DTD/svg11.dtd\">\n<!-- Created with matplotlib (https://matplotlib.org/) -->\n<svg height=\"401.919688pt\" version=\"1.1\" viewBox=\"0 0 662.567812 401.919688\" width=\"662.567812pt\" xmlns=\"http://www.w3.org/2000/svg\" xmlns:xlink=\"http://www.w3.org/1999/xlink\">\n <defs>\n  <style type=\"text/css\">\n*{stroke-linecap:butt;stroke-linejoin:round;}\n  </style>\n </defs>\n <g id=\"figure_1\">\n  <g id=\"patch_1\">\n   <path d=\"M 0 401.919688 \nL 662.567812 401.919688 \nL 662.567812 0 \nL 0 0 \nz\n\" style=\"fill:#ffffff;\"/>\n  </g>\n  <g id=\"axes_1\">\n   <g id=\"patch_2\">\n    <path d=\"M 208.967813 329.65125 \nL 655.367813 329.65125 \nL 655.367813 30.67125 \nL 208.967813 30.67125 \nz\n\" style=\"fill:#eaeaf2;\"/>\n   </g>\n   <g id=\"matplotlib.axis_1\">\n    <g id=\"xtick_1\">\n     <g id=\"text_1\">\n      <!-- 0 -->\n      <defs>\n       <path d=\"M 4.15625 35.296875 \nQ 4.15625 48 6.765625 55.734375 \nQ 9.375 63.484375 14.515625 67.671875 \nQ 19.671875 71.875 27.484375 71.875 \nQ 33.25 71.875 37.59375 69.546875 \nQ 41.9375 67.234375 44.765625 62.859375 \nQ 47.609375 58.5 49.21875 52.21875 \nQ 50.828125 45.953125 50.828125 35.296875 \nQ 50.828125 22.703125 48.234375 14.96875 \nQ 45.65625 7.234375 40.5 3 \nQ 35.359375 -1.21875 27.484375 -1.21875 \nQ 17.140625 -1.21875 11.234375 6.203125 \nQ 4.15625 15.140625 4.15625 35.296875 \nz\nM 13.1875 35.296875 \nQ 13.1875 17.671875 17.3125 11.828125 \nQ 21.4375 6 27.484375 6 \nQ 33.546875 6 37.671875 11.859375 \nQ 41.796875 17.71875 41.796875 35.296875 \nQ 41.796875 52.984375 37.671875 58.78125 \nQ 33.546875 64.59375 27.390625 64.59375 \nQ 21.34375 64.59375 17.71875 59.46875 \nQ 13.1875 52.9375 13.1875 35.296875 \nz\n\" id=\"ArialMT-48\"/>\n      </defs>\n      <g style=\"fill:#262626;\" transform=\"translate(202.850781 364.398438)scale(0.22 -0.22)\">\n       <use xlink:href=\"#ArialMT-48\"/>\n      </g>\n     </g>\n    </g>\n    <g id=\"xtick_2\">\n     <g id=\"text_2\">\n      <!-- 2000 -->\n      <defs>\n       <path d=\"M 50.34375 8.453125 \nL 50.34375 0 \nL 3.03125 0 \nQ 2.9375 3.171875 4.046875 6.109375 \nQ 5.859375 10.9375 9.828125 15.625 \nQ 13.8125 20.3125 21.34375 26.46875 \nQ 33.015625 36.03125 37.109375 41.625 \nQ 41.21875 47.21875 41.21875 52.203125 \nQ 41.21875 57.421875 37.46875 61 \nQ 33.734375 64.59375 27.734375 64.59375 \nQ 21.390625 64.59375 17.578125 60.78125 \nQ 13.765625 56.984375 13.71875 50.25 \nL 4.6875 51.171875 \nQ 5.609375 61.28125 11.65625 66.578125 \nQ 17.71875 71.875 27.9375 71.875 \nQ 38.234375 71.875 44.234375 66.15625 \nQ 50.25 60.453125 50.25 52 \nQ 50.25 47.703125 48.484375 43.546875 \nQ 46.734375 39.40625 42.65625 34.8125 \nQ 38.578125 30.21875 29.109375 22.21875 \nQ 21.1875 15.578125 18.9375 13.203125 \nQ 16.703125 10.84375 15.234375 8.453125 \nz\n\" id=\"ArialMT-50\"/>\n      </defs>\n      <g style=\"fill:#262626;\" transform=\"translate(282.628449 364.398438)scale(0.22 -0.22)\">\n       <use xlink:href=\"#ArialMT-50\"/>\n       <use x=\"55.615234\" xlink:href=\"#ArialMT-48\"/>\n       <use x=\"111.230469\" xlink:href=\"#ArialMT-48\"/>\n       <use x=\"166.845703\" xlink:href=\"#ArialMT-48\"/>\n      </g>\n     </g>\n    </g>\n    <g id=\"xtick_3\">\n     <g id=\"text_3\">\n      <!-- 4000 -->\n      <defs>\n       <path d=\"M 32.328125 0 \nL 32.328125 17.140625 \nL 1.265625 17.140625 \nL 1.265625 25.203125 \nL 33.9375 71.578125 \nL 41.109375 71.578125 \nL 41.109375 25.203125 \nL 50.78125 25.203125 \nL 50.78125 17.140625 \nL 41.109375 17.140625 \nL 41.109375 0 \nz\nM 32.328125 25.203125 \nL 32.328125 57.46875 \nL 9.90625 25.203125 \nz\n\" id=\"ArialMT-52\"/>\n      </defs>\n      <g style=\"fill:#262626;\" transform=\"translate(380.75721 364.398438)scale(0.22 -0.22)\">\n       <use xlink:href=\"#ArialMT-52\"/>\n       <use x=\"55.615234\" xlink:href=\"#ArialMT-48\"/>\n       <use x=\"111.230469\" xlink:href=\"#ArialMT-48\"/>\n       <use x=\"166.845703\" xlink:href=\"#ArialMT-48\"/>\n      </g>\n     </g>\n    </g>\n    <g id=\"xtick_4\">\n     <g id=\"text_4\">\n      <!-- 6000 -->\n      <defs>\n       <path d=\"M 49.75 54.046875 \nL 41.015625 53.375 \nQ 39.84375 58.546875 37.703125 60.890625 \nQ 34.125 64.65625 28.90625 64.65625 \nQ 24.703125 64.65625 21.53125 62.3125 \nQ 17.390625 59.28125 14.984375 53.46875 \nQ 12.59375 47.65625 12.5 36.921875 \nQ 15.671875 41.75 20.265625 44.09375 \nQ 24.859375 46.4375 29.890625 46.4375 \nQ 38.671875 46.4375 44.84375 39.96875 \nQ 51.03125 33.5 51.03125 23.25 \nQ 51.03125 16.5 48.125 10.71875 \nQ 45.21875 4.9375 40.140625 1.859375 \nQ 35.0625 -1.21875 28.609375 -1.21875 \nQ 17.625 -1.21875 10.6875 6.859375 \nQ 3.765625 14.9375 3.765625 33.5 \nQ 3.765625 54.25 11.421875 63.671875 \nQ 18.109375 71.875 29.4375 71.875 \nQ 37.890625 71.875 43.28125 67.140625 \nQ 48.6875 62.40625 49.75 54.046875 \nz\nM 13.875 23.1875 \nQ 13.875 18.65625 15.796875 14.5 \nQ 17.71875 10.359375 21.1875 8.171875 \nQ 24.65625 6 28.46875 6 \nQ 34.03125 6 38.03125 10.484375 \nQ 42.046875 14.984375 42.046875 22.703125 \nQ 42.046875 30.125 38.078125 34.390625 \nQ 34.125 38.671875 28.125 38.671875 \nQ 22.171875 38.671875 18.015625 34.390625 \nQ 13.875 30.125 13.875 23.1875 \nz\n\" id=\"ArialMT-54\"/>\n      </defs>\n      <g style=\"fill:#262626;\" transform=\"translate(478.885971 364.398438)scale(0.22 -0.22)\">\n       <use xlink:href=\"#ArialMT-54\"/>\n       <use x=\"55.615234\" xlink:href=\"#ArialMT-48\"/>\n       <use x=\"111.230469\" xlink:href=\"#ArialMT-48\"/>\n       <use x=\"166.845703\" xlink:href=\"#ArialMT-48\"/>\n      </g>\n     </g>\n    </g>\n    <g id=\"xtick_5\">\n     <g id=\"text_5\">\n      <!-- 8000 -->\n      <defs>\n       <path d=\"M 17.671875 38.8125 \nQ 12.203125 40.828125 9.5625 44.53125 \nQ 6.9375 48.25 6.9375 53.421875 \nQ 6.9375 61.234375 12.546875 66.546875 \nQ 18.171875 71.875 27.484375 71.875 \nQ 36.859375 71.875 42.578125 66.421875 \nQ 48.296875 60.984375 48.296875 53.171875 \nQ 48.296875 48.1875 45.671875 44.5 \nQ 43.0625 40.828125 37.75 38.8125 \nQ 44.34375 36.671875 47.78125 31.875 \nQ 51.21875 27.09375 51.21875 20.453125 \nQ 51.21875 11.28125 44.71875 5.03125 \nQ 38.234375 -1.21875 27.640625 -1.21875 \nQ 17.046875 -1.21875 10.546875 5.046875 \nQ 4.046875 11.328125 4.046875 20.703125 \nQ 4.046875 27.6875 7.59375 32.390625 \nQ 11.140625 37.109375 17.671875 38.8125 \nz\nM 15.921875 53.71875 \nQ 15.921875 48.640625 19.1875 45.40625 \nQ 22.46875 42.1875 27.6875 42.1875 \nQ 32.765625 42.1875 36.015625 45.375 \nQ 39.265625 48.578125 39.265625 53.21875 \nQ 39.265625 58.0625 35.90625 61.359375 \nQ 32.5625 64.65625 27.59375 64.65625 \nQ 22.5625 64.65625 19.234375 61.421875 \nQ 15.921875 58.203125 15.921875 53.71875 \nz\nM 13.09375 20.65625 \nQ 13.09375 16.890625 14.875 13.375 \nQ 16.65625 9.859375 20.171875 7.921875 \nQ 23.6875 6 27.734375 6 \nQ 34.03125 6 38.125 10.046875 \nQ 42.234375 14.109375 42.234375 20.359375 \nQ 42.234375 26.703125 38.015625 30.859375 \nQ 33.796875 35.015625 27.4375 35.015625 \nQ 21.234375 35.015625 17.15625 30.90625 \nQ 13.09375 26.8125 13.09375 20.65625 \nz\n\" id=\"ArialMT-56\"/>\n      </defs>\n      <g style=\"fill:#262626;\" transform=\"translate(577.014732 364.398438)scale(0.22 -0.22)\">\n       <use xlink:href=\"#ArialMT-56\"/>\n       <use x=\"55.615234\" xlink:href=\"#ArialMT-48\"/>\n       <use x=\"111.230469\" xlink:href=\"#ArialMT-48\"/>\n       <use x=\"166.845703\" xlink:href=\"#ArialMT-48\"/>\n      </g>\n     </g>\n    </g>\n    <g id=\"text_6\">\n     <!-- Distinct recorded trades -->\n     <defs>\n      <path d=\"M 7.71875 0 \nL 7.71875 71.578125 \nL 32.375 71.578125 \nQ 40.71875 71.578125 45.125 70.5625 \nQ 51.265625 69.140625 55.609375 65.4375 \nQ 61.28125 60.640625 64.078125 53.1875 \nQ 66.890625 45.75 66.890625 36.1875 \nQ 66.890625 28.03125 64.984375 21.734375 \nQ 63.09375 15.4375 60.109375 11.296875 \nQ 57.125 7.171875 53.578125 4.796875 \nQ 50.046875 2.4375 45.046875 1.21875 \nQ 40.046875 0 33.546875 0 \nz\nM 17.1875 8.453125 \nL 32.46875 8.453125 \nQ 39.546875 8.453125 43.578125 9.765625 \nQ 47.609375 11.078125 50 13.484375 \nQ 53.375 16.84375 55.25 22.53125 \nQ 57.125 28.21875 57.125 36.328125 \nQ 57.125 47.5625 53.4375 53.59375 \nQ 49.75 59.625 44.484375 61.671875 \nQ 40.671875 63.140625 32.234375 63.140625 \nL 17.1875 63.140625 \nz\n\" id=\"ArialMT-68\"/>\n      <path d=\"M 6.640625 61.46875 \nL 6.640625 71.578125 \nL 15.4375 71.578125 \nL 15.4375 61.46875 \nz\nM 6.640625 0 \nL 6.640625 51.859375 \nL 15.4375 51.859375 \nL 15.4375 0 \nz\n\" id=\"ArialMT-105\"/>\n      <path d=\"M 3.078125 15.484375 \nL 11.765625 16.84375 \nQ 12.5 11.625 15.84375 8.84375 \nQ 19.1875 6.0625 25.203125 6.0625 \nQ 31.25 6.0625 34.171875 8.515625 \nQ 37.109375 10.984375 37.109375 14.3125 \nQ 37.109375 17.28125 34.515625 19 \nQ 32.71875 20.171875 25.53125 21.96875 \nQ 15.875 24.421875 12.140625 26.203125 \nQ 8.40625 27.984375 6.46875 31.125 \nQ 4.546875 34.28125 4.546875 38.09375 \nQ 4.546875 41.546875 6.125 44.5 \nQ 7.71875 47.46875 10.453125 49.421875 \nQ 12.5 50.921875 16.03125 51.96875 \nQ 19.578125 53.03125 23.640625 53.03125 \nQ 29.734375 53.03125 34.34375 51.265625 \nQ 38.96875 49.515625 41.15625 46.5 \nQ 43.359375 43.5 44.1875 38.484375 \nL 35.59375 37.3125 \nQ 35.015625 41.3125 32.203125 43.546875 \nQ 29.390625 45.796875 24.265625 45.796875 \nQ 18.21875 45.796875 15.625 43.796875 \nQ 13.03125 41.796875 13.03125 39.109375 \nQ 13.03125 37.40625 14.109375 36.03125 \nQ 15.1875 34.625 17.484375 33.6875 \nQ 18.796875 33.203125 25.25 31.453125 \nQ 34.578125 28.953125 38.25 27.359375 \nQ 41.9375 25.78125 44.03125 22.75 \nQ 46.140625 19.734375 46.140625 15.234375 \nQ 46.140625 10.84375 43.578125 6.953125 \nQ 41.015625 3.078125 36.171875 0.953125 \nQ 31.34375 -1.171875 25.25 -1.171875 \nQ 15.140625 -1.171875 9.84375 3.03125 \nQ 4.546875 7.234375 3.078125 15.484375 \nz\n\" id=\"ArialMT-115\"/>\n      <path d=\"M 25.78125 7.859375 \nL 27.046875 0.09375 \nQ 23.34375 -0.6875 20.40625 -0.6875 \nQ 15.625 -0.6875 12.984375 0.828125 \nQ 10.359375 2.34375 9.28125 4.8125 \nQ 8.203125 7.28125 8.203125 15.1875 \nL 8.203125 45.015625 \nL 1.765625 45.015625 \nL 1.765625 51.859375 \nL 8.203125 51.859375 \nL 8.203125 64.703125 \nL 16.9375 69.96875 \nL 16.9375 51.859375 \nL 25.78125 51.859375 \nL 25.78125 45.015625 \nL 16.9375 45.015625 \nL 16.9375 14.703125 \nQ 16.9375 10.9375 17.40625 9.859375 \nQ 17.875 8.796875 18.921875 8.15625 \nQ 19.96875 7.515625 21.921875 7.515625 \nQ 23.390625 7.515625 25.78125 7.859375 \nz\n\" id=\"ArialMT-116\"/>\n      <path d=\"M 6.59375 0 \nL 6.59375 51.859375 \nL 14.5 51.859375 \nL 14.5 44.484375 \nQ 20.21875 53.03125 31 53.03125 \nQ 35.6875 53.03125 39.625 51.34375 \nQ 43.5625 49.65625 45.515625 46.921875 \nQ 47.46875 44.1875 48.25 40.4375 \nQ 48.734375 37.984375 48.734375 31.890625 \nL 48.734375 0 \nL 39.9375 0 \nL 39.9375 31.546875 \nQ 39.9375 36.921875 38.90625 39.578125 \nQ 37.890625 42.234375 35.28125 43.8125 \nQ 32.671875 45.40625 29.15625 45.40625 \nQ 23.53125 45.40625 19.453125 41.84375 \nQ 15.375 38.28125 15.375 28.328125 \nL 15.375 0 \nz\n\" id=\"ArialMT-110\"/>\n      <path d=\"M 40.4375 19 \nL 49.078125 17.875 \nQ 47.65625 8.9375 41.8125 3.875 \nQ 35.984375 -1.171875 27.484375 -1.171875 \nQ 16.84375 -1.171875 10.375 5.78125 \nQ 3.90625 12.75 3.90625 25.734375 \nQ 3.90625 34.125 6.6875 40.421875 \nQ 9.46875 46.734375 15.15625 49.875 \nQ 20.84375 53.03125 27.546875 53.03125 \nQ 35.984375 53.03125 41.359375 48.75 \nQ 46.734375 44.484375 48.25 36.625 \nL 39.703125 35.296875 \nQ 38.484375 40.53125 35.375 43.15625 \nQ 32.28125 45.796875 27.875 45.796875 \nQ 21.234375 45.796875 17.078125 41.03125 \nQ 12.9375 36.28125 12.9375 25.984375 \nQ 12.9375 15.53125 16.9375 10.796875 \nQ 20.953125 6.0625 27.390625 6.0625 \nQ 32.5625 6.0625 36.03125 9.234375 \nQ 39.5 12.40625 40.4375 19 \nz\n\" id=\"ArialMT-99\"/>\n      <path id=\"ArialMT-32\"/>\n      <path d=\"M 6.5 0 \nL 6.5 51.859375 \nL 14.40625 51.859375 \nL 14.40625 44 \nQ 17.4375 49.515625 20 51.265625 \nQ 22.5625 53.03125 25.640625 53.03125 \nQ 30.078125 53.03125 34.671875 50.203125 \nL 31.640625 42.046875 \nQ 28.421875 43.953125 25.203125 43.953125 \nQ 22.3125 43.953125 20.015625 42.21875 \nQ 17.71875 40.484375 16.75 37.40625 \nQ 15.28125 32.71875 15.28125 27.15625 \nL 15.28125 0 \nz\n\" id=\"ArialMT-114\"/>\n      <path d=\"M 42.09375 16.703125 \nL 51.171875 15.578125 \nQ 49.03125 7.625 43.21875 3.21875 \nQ 37.40625 -1.171875 28.375 -1.171875 \nQ 17 -1.171875 10.328125 5.828125 \nQ 3.65625 12.84375 3.65625 25.484375 \nQ 3.65625 38.578125 10.390625 45.796875 \nQ 17.140625 53.03125 27.875 53.03125 \nQ 38.28125 53.03125 44.875 45.953125 \nQ 51.46875 38.875 51.46875 26.03125 \nQ 51.46875 25.25 51.421875 23.6875 \nL 12.75 23.6875 \nQ 13.234375 15.140625 17.578125 10.59375 \nQ 21.921875 6.0625 28.421875 6.0625 \nQ 33.25 6.0625 36.671875 8.59375 \nQ 40.09375 11.140625 42.09375 16.703125 \nz\nM 13.234375 30.90625 \nL 42.1875 30.90625 \nQ 41.609375 37.453125 38.875 40.71875 \nQ 34.671875 45.796875 27.984375 45.796875 \nQ 21.921875 45.796875 17.796875 41.75 \nQ 13.671875 37.703125 13.234375 30.90625 \nz\n\" id=\"ArialMT-101\"/>\n      <path d=\"M 3.328125 25.921875 \nQ 3.328125 40.328125 11.328125 47.265625 \nQ 18.015625 53.03125 27.640625 53.03125 \nQ 38.328125 53.03125 45.109375 46.015625 \nQ 51.90625 39.015625 51.90625 26.65625 \nQ 51.90625 16.65625 48.90625 10.90625 \nQ 45.90625 5.171875 40.15625 2 \nQ 34.421875 -1.171875 27.640625 -1.171875 \nQ 16.75 -1.171875 10.03125 5.8125 \nQ 3.328125 12.796875 3.328125 25.921875 \nz\nM 12.359375 25.921875 \nQ 12.359375 15.96875 16.703125 11.015625 \nQ 21.046875 6.0625 27.640625 6.0625 \nQ 34.1875 6.0625 38.53125 11.03125 \nQ 42.875 16.015625 42.875 26.21875 \nQ 42.875 35.84375 38.5 40.796875 \nQ 34.125 45.75 27.640625 45.75 \nQ 21.046875 45.75 16.703125 40.8125 \nQ 12.359375 35.890625 12.359375 25.921875 \nz\n\" id=\"ArialMT-111\"/>\n      <path d=\"M 40.234375 0 \nL 40.234375 6.546875 \nQ 35.296875 -1.171875 25.734375 -1.171875 \nQ 19.53125 -1.171875 14.328125 2.25 \nQ 9.125 5.671875 6.265625 11.796875 \nQ 3.421875 17.921875 3.421875 25.875 \nQ 3.421875 33.640625 6 39.96875 \nQ 8.59375 46.296875 13.765625 49.65625 \nQ 18.953125 53.03125 25.34375 53.03125 \nQ 30.03125 53.03125 33.6875 51.046875 \nQ 37.359375 49.078125 39.65625 45.90625 \nL 39.65625 71.578125 \nL 48.390625 71.578125 \nL 48.390625 0 \nz\nM 12.453125 25.875 \nQ 12.453125 15.921875 16.640625 10.984375 \nQ 20.84375 6.0625 26.5625 6.0625 \nQ 32.328125 6.0625 36.34375 10.765625 \nQ 40.375 15.484375 40.375 25.140625 \nQ 40.375 35.796875 36.265625 40.765625 \nQ 32.171875 45.75 26.171875 45.75 \nQ 20.3125 45.75 16.375 40.96875 \nQ 12.453125 36.1875 12.453125 25.875 \nz\n\" id=\"ArialMT-100\"/>\n      <path d=\"M 40.4375 6.390625 \nQ 35.546875 2.25 31.03125 0.53125 \nQ 26.515625 -1.171875 21.34375 -1.171875 \nQ 12.796875 -1.171875 8.203125 3 \nQ 3.609375 7.171875 3.609375 13.671875 \nQ 3.609375 17.484375 5.34375 20.625 \nQ 7.078125 23.78125 9.890625 25.6875 \nQ 12.703125 27.59375 16.21875 28.5625 \nQ 18.796875 29.25 24.03125 29.890625 \nQ 34.671875 31.15625 39.703125 32.90625 \nQ 39.75 34.71875 39.75 35.203125 \nQ 39.75 40.578125 37.25 42.78125 \nQ 33.890625 45.75 27.25 45.75 \nQ 21.046875 45.75 18.09375 43.578125 \nQ 15.140625 41.40625 13.71875 35.890625 \nL 5.125 37.0625 \nQ 6.296875 42.578125 8.984375 45.96875 \nQ 11.671875 49.359375 16.75 51.1875 \nQ 21.828125 53.03125 28.515625 53.03125 \nQ 35.15625 53.03125 39.296875 51.46875 \nQ 43.453125 49.90625 45.40625 47.53125 \nQ 47.359375 45.171875 48.140625 41.546875 \nQ 48.578125 39.3125 48.578125 33.453125 \nL 48.578125 21.734375 \nQ 48.578125 9.46875 49.140625 6.21875 \nQ 49.703125 2.984375 51.375 0 \nL 42.1875 0 \nQ 40.828125 2.734375 40.4375 6.390625 \nz\nM 39.703125 26.03125 \nQ 34.90625 24.078125 25.34375 22.703125 \nQ 19.921875 21.921875 17.671875 20.9375 \nQ 15.4375 19.96875 14.203125 18.09375 \nQ 12.984375 16.21875 12.984375 13.921875 \nQ 12.984375 10.40625 15.640625 8.0625 \nQ 18.3125 5.71875 23.4375 5.71875 \nQ 28.515625 5.71875 32.46875 7.9375 \nQ 36.421875 10.15625 38.28125 14.015625 \nQ 39.703125 17 39.703125 22.796875 \nz\n\" id=\"ArialMT-97\"/>\n     </defs>\n     <g style=\"fill:#262626;\" transform=\"translate(305.455312 389.949687)scale(0.24 -0.24)\">\n      <use xlink:href=\"#ArialMT-68\"/>\n      <use x=\"72.216797\" xlink:href=\"#ArialMT-105\"/>\n      <use x=\"94.433594\" xlink:href=\"#ArialMT-115\"/>\n      <use x=\"144.433594\" xlink:href=\"#ArialMT-116\"/>\n      <use x=\"172.216797\" xlink:href=\"#ArialMT-105\"/>\n      <use x=\"194.433594\" xlink:href=\"#ArialMT-110\"/>\n      <use x=\"250.048828\" xlink:href=\"#ArialMT-99\"/>\n      <use x=\"300.048828\" xlink:href=\"#ArialMT-116\"/>\n      <use x=\"327.832031\" xlink:href=\"#ArialMT-32\"/>\n      <use x=\"355.615234\" xlink:href=\"#ArialMT-114\"/>\n      <use x=\"388.916016\" xlink:href=\"#ArialMT-101\"/>\n      <use x=\"444.53125\" xlink:href=\"#ArialMT-99\"/>\n      <use x=\"494.53125\" xlink:href=\"#ArialMT-111\"/>\n      <use x=\"550.146484\" xlink:href=\"#ArialMT-114\"/>\n      <use x=\"583.447266\" xlink:href=\"#ArialMT-100\"/>\n      <use x=\"639.0625\" xlink:href=\"#ArialMT-101\"/>\n      <use x=\"694.677734\" xlink:href=\"#ArialMT-100\"/>\n      <use x=\"750.292969\" xlink:href=\"#ArialMT-32\"/>\n      <use x=\"778.076172\" xlink:href=\"#ArialMT-116\"/>\n      <use x=\"805.859375\" xlink:href=\"#ArialMT-114\"/>\n      <use x=\"839.160156\" xlink:href=\"#ArialMT-97\"/>\n      <use x=\"894.775391\" xlink:href=\"#ArialMT-100\"/>\n      <use x=\"950.390625\" xlink:href=\"#ArialMT-101\"/>\n      <use x=\"1006.005859\" xlink:href=\"#ArialMT-115\"/>\n     </g>\n    </g>\n   </g>\n   <g id=\"matplotlib.axis_2\">\n    <g id=\"ytick_1\">\n     <g id=\"text_7\">\n      <!-- United States -->\n      <defs>\n       <path d=\"M 54.6875 71.578125 \nL 64.15625 71.578125 \nL 64.15625 30.21875 \nQ 64.15625 19.4375 61.71875 13.078125 \nQ 59.28125 6.734375 52.90625 2.75 \nQ 46.53125 -1.21875 36.1875 -1.21875 \nQ 26.125 -1.21875 19.71875 2.25 \nQ 13.328125 5.71875 10.59375 12.28125 \nQ 7.859375 18.84375 7.859375 30.21875 \nL 7.859375 71.578125 \nL 17.328125 71.578125 \nL 17.328125 30.28125 \nQ 17.328125 20.953125 19.0625 16.53125 \nQ 20.796875 12.109375 25.015625 9.71875 \nQ 29.25 7.328125 35.359375 7.328125 \nQ 45.796875 7.328125 50.234375 12.0625 \nQ 54.6875 16.796875 54.6875 30.28125 \nz\n\" id=\"ArialMT-85\"/>\n       <path d=\"M 4.5 23 \nL 13.421875 23.78125 \nQ 14.0625 18.40625 16.375 14.96875 \nQ 18.703125 11.53125 23.578125 9.40625 \nQ 28.46875 7.28125 34.578125 7.28125 \nQ 39.984375 7.28125 44.140625 8.890625 \nQ 48.296875 10.5 50.3125 13.296875 \nQ 52.34375 16.109375 52.34375 19.4375 \nQ 52.34375 22.796875 50.390625 25.3125 \nQ 48.4375 27.828125 43.953125 29.546875 \nQ 41.0625 30.671875 31.203125 33.03125 \nQ 21.34375 35.40625 17.390625 37.5 \nQ 12.25 40.1875 9.734375 44.15625 \nQ 7.234375 48.140625 7.234375 53.078125 \nQ 7.234375 58.5 10.296875 63.203125 \nQ 13.375 67.921875 19.28125 70.359375 \nQ 25.203125 72.796875 32.421875 72.796875 \nQ 40.375 72.796875 46.453125 70.234375 \nQ 52.546875 67.671875 55.8125 62.6875 \nQ 59.078125 57.71875 59.328125 51.421875 \nL 50.25 50.734375 \nQ 49.515625 57.515625 45.28125 60.984375 \nQ 41.0625 64.453125 32.8125 64.453125 \nQ 24.21875 64.453125 20.28125 61.296875 \nQ 16.359375 58.15625 16.359375 53.71875 \nQ 16.359375 49.859375 19.140625 47.359375 \nQ 21.875 44.875 33.421875 42.265625 \nQ 44.96875 39.65625 49.265625 37.703125 \nQ 55.515625 34.8125 58.484375 30.390625 \nQ 61.46875 25.984375 61.46875 20.21875 \nQ 61.46875 14.5 58.203125 9.4375 \nQ 54.9375 4.390625 48.796875 1.578125 \nQ 42.671875 -1.21875 35.015625 -1.21875 \nQ 25.296875 -1.21875 18.71875 1.609375 \nQ 12.15625 4.4375 8.421875 10.125 \nQ 4.6875 15.828125 4.5 23 \nz\n\" id=\"ArialMT-83\"/>\n      </defs>\n      <g style=\"fill:#262626;\" transform=\"translate(57.899063 53.493844)scale(0.22 -0.22)\">\n       <use xlink:href=\"#ArialMT-85\"/>\n       <use x=\"72.216797\" xlink:href=\"#ArialMT-110\"/>\n       <use x=\"127.832031\" xlink:href=\"#ArialMT-105\"/>\n       <use x=\"150.048828\" xlink:href=\"#ArialMT-116\"/>\n       <use x=\"177.832031\" xlink:href=\"#ArialMT-101\"/>\n       <use x=\"233.447266\" xlink:href=\"#ArialMT-100\"/>\n       <use x=\"289.0625\" xlink:href=\"#ArialMT-32\"/>\n       <use x=\"316.845703\" xlink:href=\"#ArialMT-83\"/>\n       <use x=\"383.544922\" xlink:href=\"#ArialMT-116\"/>\n       <use x=\"411.328125\" xlink:href=\"#ArialMT-97\"/>\n       <use x=\"466.943359\" xlink:href=\"#ArialMT-116\"/>\n       <use x=\"494.726562\" xlink:href=\"#ArialMT-101\"/>\n       <use x=\"550.341797\" xlink:href=\"#ArialMT-115\"/>\n      </g>\n     </g>\n    </g>\n    <g id=\"ytick_2\">\n     <g id=\"text_8\">\n      <!-- Soviet Union -->\n      <defs>\n       <path d=\"M 21 0 \nL 1.265625 51.859375 \nL 10.546875 51.859375 \nL 21.6875 20.796875 \nQ 23.484375 15.765625 25 10.359375 \nQ 26.171875 14.453125 28.265625 20.21875 \nL 39.796875 51.859375 \nL 48.828125 51.859375 \nL 29.203125 0 \nz\n\" id=\"ArialMT-118\"/>\n      </defs>\n      <g style=\"fill:#262626;\" transform=\"translate(65.234688 83.391844)scale(0.22 -0.22)\">\n       <use xlink:href=\"#ArialMT-83\"/>\n       <use x=\"66.699219\" xlink:href=\"#ArialMT-111\"/>\n       <use x=\"122.314453\" xlink:href=\"#ArialMT-118\"/>\n       <use x=\"172.314453\" xlink:href=\"#ArialMT-105\"/>\n       <use x=\"194.53125\" xlink:href=\"#ArialMT-101\"/>\n       <use x=\"250.146484\" xlink:href=\"#ArialMT-116\"/>\n       <use x=\"277.929688\" xlink:href=\"#ArialMT-32\"/>\n       <use x=\"305.712891\" xlink:href=\"#ArialMT-85\"/>\n       <use x=\"377.929688\" xlink:href=\"#ArialMT-110\"/>\n       <use x=\"433.544922\" xlink:href=\"#ArialMT-105\"/>\n       <use x=\"455.761719\" xlink:href=\"#ArialMT-111\"/>\n       <use x=\"511.376953\" xlink:href=\"#ArialMT-110\"/>\n      </g>\n     </g>\n    </g>\n    <g id=\"ytick_3\">\n     <g id=\"text_9\">\n      <!-- France -->\n      <defs>\n       <path d=\"M 8.203125 0 \nL 8.203125 71.578125 \nL 56.5 71.578125 \nL 56.5 63.140625 \nL 17.671875 63.140625 \nL 17.671875 40.96875 \nL 51.265625 40.96875 \nL 51.265625 32.515625 \nL 17.671875 32.515625 \nL 17.671875 0 \nz\n\" id=\"ArialMT-70\"/>\n      </defs>\n      <g style=\"fill:#262626;\" transform=\"translate(121.503125 113.289844)scale(0.22 -0.22)\">\n       <use xlink:href=\"#ArialMT-70\"/>\n       <use x=\"61.083984\" xlink:href=\"#ArialMT-114\"/>\n       <use x=\"94.384766\" xlink:href=\"#ArialMT-97\"/>\n       <use x=\"150\" xlink:href=\"#ArialMT-110\"/>\n       <use x=\"205.615234\" xlink:href=\"#ArialMT-99\"/>\n       <use x=\"255.615234\" xlink:href=\"#ArialMT-101\"/>\n      </g>\n     </g>\n    </g>\n    <g id=\"ytick_4\">\n     <g id=\"text_10\">\n      <!-- United Kingdom -->\n      <defs>\n       <path d=\"M 7.328125 0 \nL 7.328125 71.578125 \nL 16.796875 71.578125 \nL 16.796875 36.078125 \nL 52.34375 71.578125 \nL 65.1875 71.578125 \nL 35.15625 42.578125 \nL 66.5 0 \nL 54 0 \nL 28.515625 36.234375 \nL 16.796875 24.8125 \nL 16.796875 0 \nz\n\" id=\"ArialMT-75\"/>\n       <path d=\"M 4.984375 -4.296875 \nL 13.53125 -5.5625 \nQ 14.0625 -9.515625 16.5 -11.328125 \nQ 19.78125 -13.765625 25.4375 -13.765625 \nQ 31.546875 -13.765625 34.859375 -11.328125 \nQ 38.1875 -8.890625 39.359375 -4.5 \nQ 40.046875 -1.8125 39.984375 6.78125 \nQ 34.234375 0 25.640625 0 \nQ 14.9375 0 9.078125 7.71875 \nQ 3.21875 15.4375 3.21875 26.21875 \nQ 3.21875 33.640625 5.90625 39.90625 \nQ 8.59375 46.1875 13.6875 49.609375 \nQ 18.796875 53.03125 25.6875 53.03125 \nQ 34.859375 53.03125 40.828125 45.609375 \nL 40.828125 51.859375 \nL 48.921875 51.859375 \nL 48.921875 7.03125 \nQ 48.921875 -5.078125 46.453125 -10.125 \nQ 44 -15.1875 38.640625 -18.109375 \nQ 33.296875 -21.046875 25.484375 -21.046875 \nQ 16.21875 -21.046875 10.5 -16.875 \nQ 4.78125 -12.703125 4.984375 -4.296875 \nz\nM 12.25 26.859375 \nQ 12.25 16.65625 16.296875 11.96875 \nQ 20.359375 7.28125 26.46875 7.28125 \nQ 32.515625 7.28125 36.609375 11.9375 \nQ 40.71875 16.609375 40.71875 26.5625 \nQ 40.71875 36.078125 36.5 40.90625 \nQ 32.28125 45.75 26.3125 45.75 \nQ 20.453125 45.75 16.34375 40.984375 \nQ 12.25 36.234375 12.25 26.859375 \nz\n\" id=\"ArialMT-103\"/>\n       <path d=\"M 6.59375 0 \nL 6.59375 51.859375 \nL 14.453125 51.859375 \nL 14.453125 44.578125 \nQ 16.890625 48.390625 20.9375 50.703125 \nQ 25 53.03125 30.171875 53.03125 \nQ 35.9375 53.03125 39.625 50.640625 \nQ 43.3125 48.25 44.828125 43.953125 \nQ 50.984375 53.03125 60.84375 53.03125 \nQ 68.5625 53.03125 72.703125 48.75 \nQ 76.859375 44.484375 76.859375 35.59375 \nL 76.859375 0 \nL 68.109375 0 \nL 68.109375 32.671875 \nQ 68.109375 37.9375 67.25 40.25 \nQ 66.40625 42.578125 64.15625 43.984375 \nQ 61.921875 45.40625 58.890625 45.40625 \nQ 53.421875 45.40625 49.796875 41.765625 \nQ 46.1875 38.140625 46.1875 30.125 \nL 46.1875 0 \nL 37.40625 0 \nL 37.40625 33.6875 \nQ 37.40625 39.546875 35.25 42.46875 \nQ 33.109375 45.40625 28.21875 45.40625 \nQ 24.515625 45.40625 21.359375 43.453125 \nQ 18.21875 41.5 16.796875 37.734375 \nQ 15.375 33.984375 15.375 26.90625 \nL 15.375 0 \nz\n\" id=\"ArialMT-109\"/>\n      </defs>\n      <g style=\"fill:#262626;\" transform=\"translate(33.44125 143.187844)scale(0.22 -0.22)\">\n       <use xlink:href=\"#ArialMT-85\"/>\n       <use x=\"72.216797\" xlink:href=\"#ArialMT-110\"/>\n       <use x=\"127.832031\" xlink:href=\"#ArialMT-105\"/>\n       <use x=\"150.048828\" xlink:href=\"#ArialMT-116\"/>\n       <use x=\"177.832031\" xlink:href=\"#ArialMT-101\"/>\n       <use x=\"233.447266\" xlink:href=\"#ArialMT-100\"/>\n       <use x=\"289.0625\" xlink:href=\"#ArialMT-32\"/>\n       <use x=\"316.845703\" xlink:href=\"#ArialMT-75\"/>\n       <use x=\"383.544922\" xlink:href=\"#ArialMT-105\"/>\n       <use x=\"405.761719\" xlink:href=\"#ArialMT-110\"/>\n       <use x=\"461.376953\" xlink:href=\"#ArialMT-103\"/>\n       <use x=\"516.992188\" xlink:href=\"#ArialMT-100\"/>\n       <use x=\"572.607422\" xlink:href=\"#ArialMT-111\"/>\n       <use x=\"628.222656\" xlink:href=\"#ArialMT-109\"/>\n      </g>\n     </g>\n    </g>\n    <g id=\"ytick_5\">\n     <g id=\"text_11\">\n      <!-- Germany -->\n      <defs>\n       <path d=\"M 41.21875 28.078125 \nL 41.21875 36.46875 \nL 71.53125 36.53125 \nL 71.53125 9.96875 \nQ 64.546875 4.390625 57.125 1.578125 \nQ 49.703125 -1.21875 41.890625 -1.21875 \nQ 31.34375 -1.21875 22.71875 3.296875 \nQ 14.109375 7.8125 9.71875 16.359375 \nQ 5.328125 24.90625 5.328125 35.453125 \nQ 5.328125 45.90625 9.6875 54.953125 \nQ 14.0625 64.015625 22.265625 68.40625 \nQ 30.46875 72.796875 41.15625 72.796875 \nQ 48.921875 72.796875 55.1875 70.28125 \nQ 61.46875 67.78125 65.03125 63.28125 \nQ 68.609375 58.796875 70.453125 51.5625 \nL 61.921875 49.21875 \nQ 60.296875 54.6875 57.90625 57.8125 \nQ 55.515625 60.9375 51.0625 62.8125 \nQ 46.625 64.703125 41.21875 64.703125 \nQ 34.71875 64.703125 29.984375 62.71875 \nQ 25.25 60.75 22.34375 57.515625 \nQ 19.4375 54.296875 17.828125 50.4375 \nQ 15.09375 43.796875 15.09375 36.03125 \nQ 15.09375 26.46875 18.390625 20.015625 \nQ 21.6875 13.578125 27.984375 10.453125 \nQ 34.28125 7.328125 41.359375 7.328125 \nQ 47.515625 7.328125 53.375 9.6875 \nQ 59.234375 12.0625 62.25 14.75 \nL 62.25 28.078125 \nz\n\" id=\"ArialMT-71\"/>\n       <path d=\"M 6.203125 -19.96875 \nL 5.21875 -11.71875 \nQ 8.109375 -12.5 10.25 -12.5 \nQ 13.1875 -12.5 14.9375 -11.515625 \nQ 16.703125 -10.546875 17.828125 -8.796875 \nQ 18.65625 -7.46875 20.515625 -2.25 \nQ 20.75 -1.515625 21.296875 -0.09375 \nL 1.609375 51.859375 \nL 11.078125 51.859375 \nL 21.875 21.828125 \nQ 23.96875 16.109375 25.640625 9.8125 \nQ 27.15625 15.875 29.25 21.625 \nL 40.328125 51.859375 \nL 49.125 51.859375 \nL 29.390625 -0.875 \nQ 26.21875 -9.421875 24.46875 -12.640625 \nQ 22.125 -17 19.09375 -19.015625 \nQ 16.0625 -21.046875 11.859375 -21.046875 \nQ 9.328125 -21.046875 6.203125 -19.96875 \nz\n\" id=\"ArialMT-121\"/>\n      </defs>\n      <g style=\"fill:#262626;\" transform=\"translate(99.503125 173.219906)scale(0.22 -0.22)\">\n       <use xlink:href=\"#ArialMT-71\"/>\n       <use x=\"77.783203\" xlink:href=\"#ArialMT-101\"/>\n       <use x=\"133.398438\" xlink:href=\"#ArialMT-114\"/>\n       <use x=\"166.699219\" xlink:href=\"#ArialMT-109\"/>\n       <use x=\"250\" xlink:href=\"#ArialMT-97\"/>\n       <use x=\"305.615234\" xlink:href=\"#ArialMT-110\"/>\n       <use x=\"361.230469\" xlink:href=\"#ArialMT-121\"/>\n      </g>\n     </g>\n    </g>\n    <g id=\"ytick_6\">\n     <g id=\"text_12\">\n      <!-- Russia -->\n      <defs>\n       <path d=\"M 7.859375 0 \nL 7.859375 71.578125 \nL 39.59375 71.578125 \nQ 49.171875 71.578125 54.140625 69.640625 \nQ 59.125 67.71875 62.109375 62.828125 \nQ 65.09375 57.953125 65.09375 52.046875 \nQ 65.09375 44.4375 60.15625 39.203125 \nQ 55.21875 33.984375 44.921875 32.5625 \nQ 48.6875 30.765625 50.640625 29 \nQ 54.78125 25.203125 58.5 19.484375 \nL 70.953125 0 \nL 59.03125 0 \nL 49.5625 14.890625 \nQ 45.40625 21.34375 42.71875 24.75 \nQ 40.046875 28.171875 37.921875 29.53125 \nQ 35.796875 30.90625 33.59375 31.453125 \nQ 31.984375 31.78125 28.328125 31.78125 \nL 17.328125 31.78125 \nL 17.328125 0 \nz\nM 17.328125 39.984375 \nL 37.703125 39.984375 \nQ 44.1875 39.984375 47.84375 41.328125 \nQ 51.515625 42.671875 53.421875 45.625 \nQ 55.328125 48.578125 55.328125 52.046875 \nQ 55.328125 57.125 51.640625 60.390625 \nQ 47.953125 63.671875 39.984375 63.671875 \nL 17.328125 63.671875 \nz\n\" id=\"ArialMT-82\"/>\n       <path d=\"M 40.578125 0 \nL 40.578125 7.625 \nQ 34.515625 -1.171875 24.125 -1.171875 \nQ 19.53125 -1.171875 15.546875 0.578125 \nQ 11.578125 2.34375 9.640625 5 \nQ 7.71875 7.671875 6.9375 11.53125 \nQ 6.390625 14.109375 6.390625 19.734375 \nL 6.390625 51.859375 \nL 15.1875 51.859375 \nL 15.1875 23.09375 \nQ 15.1875 16.21875 15.71875 13.8125 \nQ 16.546875 10.359375 19.234375 8.375 \nQ 21.921875 6.390625 25.875 6.390625 \nQ 29.828125 6.390625 33.296875 8.421875 \nQ 36.765625 10.453125 38.203125 13.9375 \nQ 39.65625 17.4375 39.65625 24.078125 \nL 39.65625 51.859375 \nL 48.4375 51.859375 \nL 48.4375 0 \nz\n\" id=\"ArialMT-117\"/>\n      </defs>\n      <g style=\"fill:#262626;\" transform=\"translate(122.723438 202.983844)scale(0.22 -0.22)\">\n       <use xlink:href=\"#ArialMT-82\"/>\n       <use x=\"72.216797\" xlink:href=\"#ArialMT-117\"/>\n       <use x=\"127.832031\" xlink:href=\"#ArialMT-115\"/>\n       <use x=\"177.832031\" xlink:href=\"#ArialMT-115\"/>\n       <use x=\"227.832031\" xlink:href=\"#ArialMT-105\"/>\n       <use x=\"250.048828\" xlink:href=\"#ArialMT-97\"/>\n      </g>\n     </g>\n    </g>\n    <g id=\"ytick_7\">\n     <g id=\"text_13\">\n      <!-- Italy -->\n      <defs>\n       <path d=\"M 9.328125 0 \nL 9.328125 71.578125 \nL 18.796875 71.578125 \nL 18.796875 0 \nz\n\" id=\"ArialMT-73\"/>\n       <path d=\"M 6.390625 0 \nL 6.390625 71.578125 \nL 15.1875 71.578125 \nL 15.1875 0 \nz\n\" id=\"ArialMT-108\"/>\n      </defs>\n      <g style=\"fill:#262626;\" transform=\"translate(149.621875 232.881844)scale(0.22 -0.22)\">\n       <use xlink:href=\"#ArialMT-73\"/>\n       <use x=\"27.783203\" xlink:href=\"#ArialMT-116\"/>\n       <use x=\"55.566406\" xlink:href=\"#ArialMT-97\"/>\n       <use x=\"111.181641\" xlink:href=\"#ArialMT-108\"/>\n       <use x=\"133.398438\" xlink:href=\"#ArialMT-121\"/>\n      </g>\n     </g>\n    </g>\n    <g id=\"ytick_8\">\n     <g id=\"text_14\">\n      <!-- China -->\n      <defs>\n       <path d=\"M 58.796875 25.09375 \nL 68.265625 22.703125 \nQ 65.28125 11.03125 57.546875 4.90625 \nQ 49.8125 -1.21875 38.625 -1.21875 \nQ 27.046875 -1.21875 19.796875 3.484375 \nQ 12.546875 8.203125 8.765625 17.140625 \nQ 4.984375 26.078125 4.984375 36.328125 \nQ 4.984375 47.515625 9.25 55.828125 \nQ 13.53125 64.15625 21.40625 68.46875 \nQ 29.296875 72.796875 38.765625 72.796875 \nQ 49.515625 72.796875 56.828125 67.328125 \nQ 64.15625 61.859375 67.046875 51.953125 \nL 57.71875 49.75 \nQ 55.21875 57.5625 50.484375 61.125 \nQ 45.75 64.703125 38.578125 64.703125 \nQ 30.328125 64.703125 24.78125 60.734375 \nQ 19.234375 56.78125 16.984375 50.109375 \nQ 14.75 43.453125 14.75 36.375 \nQ 14.75 27.25 17.40625 20.4375 \nQ 20.0625 13.625 25.671875 10.25 \nQ 31.296875 6.890625 37.84375 6.890625 \nQ 45.796875 6.890625 51.3125 11.46875 \nQ 56.84375 16.0625 58.796875 25.09375 \nz\n\" id=\"ArialMT-67\"/>\n       <path d=\"M 6.59375 0 \nL 6.59375 71.578125 \nL 15.375 71.578125 \nL 15.375 45.90625 \nQ 21.53125 53.03125 30.90625 53.03125 \nQ 36.671875 53.03125 40.921875 50.75 \nQ 45.171875 48.484375 47 44.484375 \nQ 48.828125 40.484375 48.828125 32.859375 \nL 48.828125 0 \nL 40.046875 0 \nL 40.046875 32.859375 \nQ 40.046875 39.453125 37.1875 42.453125 \nQ 34.328125 45.453125 29.109375 45.453125 \nQ 25.203125 45.453125 21.75 43.421875 \nQ 18.3125 41.40625 16.84375 37.9375 \nQ 15.375 34.46875 15.375 28.375 \nL 15.375 0 \nz\n\" id=\"ArialMT-104\"/>\n      </defs>\n      <g style=\"fill:#262626;\" transform=\"translate(132.489375 262.779844)scale(0.22 -0.22)\">\n       <use xlink:href=\"#ArialMT-67\"/>\n       <use x=\"72.216797\" xlink:href=\"#ArialMT-104\"/>\n       <use x=\"127.832031\" xlink:href=\"#ArialMT-105\"/>\n       <use x=\"150.048828\" xlink:href=\"#ArialMT-110\"/>\n       <use x=\"205.664062\" xlink:href=\"#ArialMT-97\"/>\n      </g>\n     </g>\n    </g>\n    <g id=\"ytick_9\">\n     <g id=\"text_15\">\n      <!-- Israel -->\n      <g style=\"fill:#262626;\" transform=\"translate(136.174375 292.677844)scale(0.22 -0.22)\">\n       <use xlink:href=\"#ArialMT-73\"/>\n       <use x=\"27.783203\" xlink:href=\"#ArialMT-115\"/>\n       <use x=\"77.783203\" xlink:href=\"#ArialMT-114\"/>\n       <use x=\"111.083984\" xlink:href=\"#ArialMT-97\"/>\n       <use x=\"166.699219\" xlink:href=\"#ArialMT-101\"/>\n       <use x=\"222.314453\" xlink:href=\"#ArialMT-108\"/>\n      </g>\n     </g>\n    </g>\n    <g id=\"ytick_10\">\n     <g id=\"text_16\">\n      <!-- Netherlands -->\n      <defs>\n       <path d=\"M 7.625 0 \nL 7.625 71.578125 \nL 17.328125 71.578125 \nL 54.9375 15.375 \nL 54.9375 71.578125 \nL 64.015625 71.578125 \nL 64.015625 0 \nL 54.296875 0 \nL 16.703125 56.25 \nL 16.703125 0 \nz\n\" id=\"ArialMT-78\"/>\n      </defs>\n      <g style=\"fill:#262626;\" transform=\"translate(71.35 322.575844)scale(0.22 -0.22)\">\n       <use xlink:href=\"#ArialMT-78\"/>\n       <use x=\"72.216797\" xlink:href=\"#ArialMT-101\"/>\n       <use x=\"127.832031\" xlink:href=\"#ArialMT-116\"/>\n       <use x=\"155.615234\" xlink:href=\"#ArialMT-104\"/>\n       <use x=\"211.230469\" xlink:href=\"#ArialMT-101\"/>\n       <use x=\"266.845703\" xlink:href=\"#ArialMT-114\"/>\n       <use x=\"300.146484\" xlink:href=\"#ArialMT-108\"/>\n       <use x=\"322.363281\" xlink:href=\"#ArialMT-97\"/>\n       <use x=\"377.978516\" xlink:href=\"#ArialMT-110\"/>\n       <use x=\"433.59375\" xlink:href=\"#ArialMT-100\"/>\n       <use x=\"489.208984\" xlink:href=\"#ArialMT-115\"/>\n      </g>\n     </g>\n    </g>\n    <g id=\"text_17\">\n     <!-- Supplier -->\n     <defs>\n      <path d=\"M 6.59375 -19.875 \nL 6.59375 51.859375 \nL 14.59375 51.859375 \nL 14.59375 45.125 \nQ 17.4375 49.078125 21 51.046875 \nQ 24.5625 53.03125 29.640625 53.03125 \nQ 36.28125 53.03125 41.359375 49.609375 \nQ 46.4375 46.1875 49.015625 39.953125 \nQ 51.609375 33.734375 51.609375 26.3125 \nQ 51.609375 18.359375 48.75 11.984375 \nQ 45.90625 5.609375 40.453125 2.21875 \nQ 35.015625 -1.171875 29 -1.171875 \nQ 24.609375 -1.171875 21.109375 0.6875 \nQ 17.625 2.546875 15.375 5.375 \nL 15.375 -19.875 \nz\nM 14.546875 25.640625 \nQ 14.546875 15.625 18.59375 10.84375 \nQ 22.65625 6.0625 28.421875 6.0625 \nQ 34.28125 6.0625 38.453125 11.015625 \nQ 42.625 15.96875 42.625 26.375 \nQ 42.625 36.28125 38.546875 41.203125 \nQ 34.46875 46.140625 28.8125 46.140625 \nQ 23.1875 46.140625 18.859375 40.890625 \nQ 14.546875 35.640625 14.546875 25.640625 \nz\n\" id=\"ArialMT-112\"/>\n     </defs>\n     <g style=\"fill:#262626;\" transform=\"translate(24.67125 224.18625)rotate(-90)scale(0.24 -0.24)\">\n      <use xlink:href=\"#ArialMT-83\"/>\n      <use x=\"66.699219\" xlink:href=\"#ArialMT-117\"/>\n      <use x=\"122.314453\" xlink:href=\"#ArialMT-112\"/>\n      <use x=\"177.929688\" xlink:href=\"#ArialMT-112\"/>\n      <use x=\"233.544922\" xlink:href=\"#ArialMT-108\"/>\n      <use x=\"255.761719\" xlink:href=\"#ArialMT-105\"/>\n      <use x=\"277.978516\" xlink:href=\"#ArialMT-101\"/>\n      <use x=\"333.59375\" xlink:href=\"#ArialMT-114\"/>\n     </g>\n    </g>\n   </g>\n   <g id=\"patch_3\">\n    <path clip-path=\"url(#p6885587bde)\" d=\"M 208.967813 33.66105 \nL 634.11067 33.66105 \nL 634.11067 57.57945 \nL 208.967813 57.57945 \nz\n\" style=\"fill:#fbb4ae;stroke:#ffffff;stroke-linejoin:miter;stroke-width:2;\"/>\n   </g>\n   <g id=\"patch_4\">\n    <path clip-path=\"url(#p6885587bde)\" d=\"M 208.967813 63.55905 \nL 373.726002 63.55905 \nL 373.726002 87.47745 \nL 208.967813 87.47745 \nz\n\" style=\"fill:#b3cde3;stroke:#ffffff;stroke-linejoin:miter;stroke-width:2;\"/>\n   </g>\n   <g id=\"patch_5\">\n    <path clip-path=\"url(#p6885587bde)\" d=\"M 208.967813 93.45705 \nL 327.703613 93.45705 \nL 327.703613 117.37545 \nL 208.967813 117.37545 \nz\n\" style=\"fill:#ccebc5;stroke:#ffffff;stroke-linejoin:miter;stroke-width:2;\"/>\n   </g>\n   <g id=\"patch_6\">\n    <path clip-path=\"url(#p6885587bde)\" d=\"M 208.967813 123.35505 \nL 302.778908 123.35505 \nL 302.778908 147.27345 \nL 208.967813 147.27345 \nz\n\" style=\"fill:#decbe4;stroke:#ffffff;stroke-linejoin:miter;stroke-width:2;\"/>\n   </g>\n   <g id=\"patch_7\">\n    <path clip-path=\"url(#p6885587bde)\" d=\"M 208.967813 153.25305 \nL 268.090391 153.25305 \nL 268.090391 177.17145 \nL 208.967813 177.17145 \nz\n\" style=\"fill:#fed9a6;stroke:#ffffff;stroke-linejoin:miter;stroke-width:2;\"/>\n   </g>\n   <g id=\"patch_8\">\n    <path clip-path=\"url(#p6885587bde)\" d=\"M 208.967813 183.15105 \nL 264.852142 183.15105 \nL 264.852142 207.06945 \nL 208.967813 207.06945 \nz\n\" style=\"fill:#ffffcc;stroke:#ffffff;stroke-linejoin:miter;stroke-width:2;\"/>\n   </g>\n   <g id=\"patch_9\">\n    <path clip-path=\"url(#p6885587bde)\" d=\"M 208.967813 213.04905 \nL 254.450493 213.04905 \nL 254.450493 236.96745 \nL 208.967813 236.96745 \nz\n\" style=\"fill:#e5d8bd;stroke:#ffffff;stroke-linejoin:miter;stroke-width:2;\"/>\n   </g>\n   <g id=\"patch_10\">\n    <path clip-path=\"url(#p6885587bde)\" d=\"M 208.967813 242.94705 \nL 253.469206 242.94705 \nL 253.469206 266.86545 \nL 208.967813 266.86545 \nz\n\" style=\"fill:#fddaec;stroke:#ffffff;stroke-linejoin:miter;stroke-width:2;\"/>\n   </g>\n   <g id=\"patch_11\">\n    <path clip-path=\"url(#p6885587bde)\" d=\"M 208.967813 272.84505 \nL 241.006853 272.84505 \nL 241.006853 296.76345 \nL 208.967813 296.76345 \nz\n\" style=\"fill:#f2f2f2;stroke:#ffffff;stroke-linejoin:miter;stroke-width:2;\"/>\n   </g>\n   <g id=\"patch_12\">\n    <path clip-path=\"url(#p6885587bde)\" d=\"M 208.967813 302.74305 \nL 236.149479 302.74305 \nL 236.149479 326.66145 \nL 208.967813 326.66145 \nz\n\" style=\"fill:#fbb4ae;stroke:#ffffff;stroke-linejoin:miter;stroke-width:2;\"/>\n   </g>\n   <g id=\"patch_13\">\n    <path d=\"M 208.967813 329.65125 \nL 208.967813 30.67125 \n\" style=\"fill:none;stroke:#ffffff;stroke-linecap:square;stroke-linejoin:miter;stroke-width:2.5;\"/>\n   </g>\n   <g id=\"patch_14\">\n    <path d=\"M 655.367813 329.65125 \nL 655.367813 30.67125 \n\" style=\"fill:none;stroke:#ffffff;stroke-linecap:square;stroke-linejoin:miter;stroke-width:2.5;\"/>\n   </g>\n   <g id=\"patch_15\">\n    <path d=\"M 208.967813 329.65125 \nL 655.367813 329.65125 \n\" style=\"fill:none;stroke:#ffffff;stroke-linecap:square;stroke-linejoin:miter;stroke-width:2.5;\"/>\n   </g>\n   <g id=\"patch_16\">\n    <path d=\"M 208.967813 30.67125 \nL 655.367813 30.67125 \n\" style=\"fill:none;stroke:#ffffff;stroke-linecap:square;stroke-linejoin:miter;stroke-width:2.5;\"/>\n   </g>\n   <g id=\"text_18\">\n    <!-- Arms Trades By Supplier 1950-2019 -->\n    <defs>\n     <path d=\"M -0.140625 0 \nL 27.34375 71.578125 \nL 37.546875 71.578125 \nL 66.84375 0 \nL 56.0625 0 \nL 47.703125 21.6875 \nL 17.78125 21.6875 \nL 9.90625 0 \nz\nM 20.515625 29.390625 \nL 44.78125 29.390625 \nL 37.3125 49.21875 \nQ 33.890625 58.25 32.234375 64.0625 \nQ 30.859375 57.171875 28.375 50.390625 \nz\n\" id=\"ArialMT-65\"/>\n     <path d=\"M 25.921875 0 \nL 25.921875 63.140625 \nL 2.34375 63.140625 \nL 2.34375 71.578125 \nL 59.078125 71.578125 \nL 59.078125 63.140625 \nL 35.40625 63.140625 \nL 35.40625 0 \nz\n\" id=\"ArialMT-84\"/>\n     <path d=\"M 7.328125 0 \nL 7.328125 71.578125 \nL 34.1875 71.578125 \nQ 42.390625 71.578125 47.34375 69.40625 \nQ 52.296875 67.234375 55.09375 62.71875 \nQ 57.90625 58.203125 57.90625 53.265625 \nQ 57.90625 48.6875 55.421875 44.625 \nQ 52.9375 40.578125 47.90625 38.09375 \nQ 54.390625 36.1875 57.875 31.59375 \nQ 61.375 27 61.375 20.75 \nQ 61.375 15.71875 59.25 11.390625 \nQ 57.125 7.078125 54 4.734375 \nQ 50.875 2.390625 46.15625 1.1875 \nQ 41.453125 0 34.625 0 \nz\nM 16.796875 41.5 \nL 32.28125 41.5 \nQ 38.578125 41.5 41.3125 42.328125 \nQ 44.921875 43.40625 46.75 45.890625 \nQ 48.578125 48.390625 48.578125 52.15625 \nQ 48.578125 55.71875 46.875 58.421875 \nQ 45.171875 61.140625 41.984375 62.140625 \nQ 38.8125 63.140625 31.109375 63.140625 \nL 16.796875 63.140625 \nz\nM 16.796875 8.453125 \nL 34.625 8.453125 \nQ 39.203125 8.453125 41.0625 8.796875 \nQ 44.34375 9.375 46.53125 10.734375 \nQ 48.734375 12.109375 50.140625 14.71875 \nQ 51.5625 17.328125 51.5625 20.75 \nQ 51.5625 24.75 49.515625 27.703125 \nQ 47.46875 30.671875 43.828125 31.859375 \nQ 40.1875 33.0625 33.34375 33.0625 \nL 16.796875 33.0625 \nz\n\" id=\"ArialMT-66\"/>\n     <path d=\"M 37.25 0 \nL 28.46875 0 \nL 28.46875 56 \nQ 25.296875 52.984375 20.140625 49.953125 \nQ 14.984375 46.921875 10.890625 45.40625 \nL 10.890625 53.90625 \nQ 18.265625 57.375 23.78125 62.296875 \nQ 29.296875 67.234375 31.59375 71.875 \nL 37.25 71.875 \nz\n\" id=\"ArialMT-49\"/>\n     <path d=\"M 5.46875 16.546875 \nL 13.921875 17.328125 \nQ 14.984375 11.375 18.015625 8.6875 \nQ 21.046875 6 25.78125 6 \nQ 29.828125 6 32.875 7.859375 \nQ 35.9375 9.71875 37.890625 12.8125 \nQ 39.84375 15.921875 41.15625 21.1875 \nQ 42.484375 26.46875 42.484375 31.9375 \nQ 42.484375 32.515625 42.4375 33.6875 \nQ 39.796875 29.5 35.234375 26.875 \nQ 30.671875 24.265625 25.34375 24.265625 \nQ 16.453125 24.265625 10.296875 30.703125 \nQ 4.15625 37.15625 4.15625 47.703125 \nQ 4.15625 58.59375 10.578125 65.234375 \nQ 17 71.875 26.65625 71.875 \nQ 33.640625 71.875 39.421875 68.109375 \nQ 45.21875 64.359375 48.21875 57.390625 \nQ 51.21875 50.4375 51.21875 37.25 \nQ 51.21875 23.53125 48.234375 15.40625 \nQ 45.265625 7.28125 39.375 3.03125 \nQ 33.5 -1.21875 25.59375 -1.21875 \nQ 17.1875 -1.21875 11.859375 3.4375 \nQ 6.546875 8.109375 5.46875 16.546875 \nz\nM 41.453125 48.140625 \nQ 41.453125 55.71875 37.421875 60.15625 \nQ 33.40625 64.59375 27.734375 64.59375 \nQ 21.875 64.59375 17.53125 59.8125 \nQ 13.1875 55.03125 13.1875 47.40625 \nQ 13.1875 40.578125 17.3125 36.296875 \nQ 21.4375 32.03125 27.484375 32.03125 \nQ 33.59375 32.03125 37.515625 36.296875 \nQ 41.453125 40.578125 41.453125 48.140625 \nz\n\" id=\"ArialMT-57\"/>\n     <path d=\"M 4.15625 18.75 \nL 13.375 19.53125 \nQ 14.40625 12.796875 18.140625 9.390625 \nQ 21.875 6 27.15625 6 \nQ 33.5 6 37.890625 10.78125 \nQ 42.28125 15.578125 42.28125 23.484375 \nQ 42.28125 31 38.0625 35.34375 \nQ 33.84375 39.703125 27 39.703125 \nQ 22.75 39.703125 19.328125 37.765625 \nQ 15.921875 35.84375 13.96875 32.765625 \nL 5.71875 33.84375 \nL 12.640625 70.609375 \nL 48.25 70.609375 \nL 48.25 62.203125 \nL 19.671875 62.203125 \nL 15.828125 42.96875 \nQ 22.265625 47.46875 29.34375 47.46875 \nQ 38.71875 47.46875 45.15625 40.96875 \nQ 51.609375 34.46875 51.609375 24.265625 \nQ 51.609375 14.546875 45.953125 7.46875 \nQ 39.0625 -1.21875 27.15625 -1.21875 \nQ 17.390625 -1.21875 11.203125 4.25 \nQ 5.03125 9.71875 4.15625 18.75 \nz\n\" id=\"ArialMT-53\"/>\n     <path d=\"M 3.171875 21.484375 \nL 3.171875 30.328125 \nL 30.171875 30.328125 \nL 30.171875 21.484375 \nz\n\" id=\"ArialMT-45\"/>\n    </defs>\n    <g style=\"fill:#262626;\" transform=\"translate(238.742812 24.67125)scale(0.24 -0.24)\">\n     <use xlink:href=\"#ArialMT-65\"/>\n     <use x=\"66.699219\" xlink:href=\"#ArialMT-114\"/>\n     <use x=\"100\" xlink:href=\"#ArialMT-109\"/>\n     <use x=\"183.300781\" xlink:href=\"#ArialMT-115\"/>\n     <use x=\"233.300781\" xlink:href=\"#ArialMT-32\"/>\n     <use x=\"259.333984\" xlink:href=\"#ArialMT-84\"/>\n     <use x=\"316.667969\" xlink:href=\"#ArialMT-114\"/>\n     <use x=\"349.96875\" xlink:href=\"#ArialMT-97\"/>\n     <use x=\"405.583984\" xlink:href=\"#ArialMT-100\"/>\n     <use x=\"461.199219\" xlink:href=\"#ArialMT-101\"/>\n     <use x=\"516.814453\" xlink:href=\"#ArialMT-115\"/>\n     <use x=\"566.814453\" xlink:href=\"#ArialMT-32\"/>\n     <use x=\"594.597656\" xlink:href=\"#ArialMT-66\"/>\n     <use x=\"661.296875\" xlink:href=\"#ArialMT-121\"/>\n     <use x=\"711.296875\" xlink:href=\"#ArialMT-32\"/>\n     <use x=\"739.080078\" xlink:href=\"#ArialMT-83\"/>\n     <use x=\"805.779297\" xlink:href=\"#ArialMT-117\"/>\n     <use x=\"861.394531\" xlink:href=\"#ArialMT-112\"/>\n     <use x=\"917.009766\" xlink:href=\"#ArialMT-112\"/>\n     <use x=\"972.625\" xlink:href=\"#ArialMT-108\"/>\n     <use x=\"994.841797\" xlink:href=\"#ArialMT-105\"/>\n     <use x=\"1017.058594\" xlink:href=\"#ArialMT-101\"/>\n     <use x=\"1072.673828\" xlink:href=\"#ArialMT-114\"/>\n     <use x=\"1105.974609\" xlink:href=\"#ArialMT-32\"/>\n     <use x=\"1133.757812\" xlink:href=\"#ArialMT-49\"/>\n     <use x=\"1189.373047\" xlink:href=\"#ArialMT-57\"/>\n     <use x=\"1244.988281\" xlink:href=\"#ArialMT-53\"/>\n     <use x=\"1300.603516\" xlink:href=\"#ArialMT-48\"/>\n     <use x=\"1356.21875\" xlink:href=\"#ArialMT-45\"/>\n     <use x=\"1389.519531\" xlink:href=\"#ArialMT-50\"/>\n     <use x=\"1445.134766\" xlink:href=\"#ArialMT-48\"/>\n     <use x=\"1500.75\" xlink:href=\"#ArialMT-49\"/>\n     <use x=\"1556.365234\" xlink:href=\"#ArialMT-57\"/>\n    </g>\n   </g>\n  </g>\n </g>\n <defs>\n  <clipPath id=\"p6885587bde\">\n   <rect height=\"298.98\" width=\"446.4\" x=\"208.967813\" y=\"30.67125\"/>\n  </clipPath>\n </defs>\n</svg>\n",
      "image/png": "[encoded data removed]"
     },
     "metadata": {}
    }
   ],
   "source": [
    "sns.countplot(y=\"Supplier\", saturation=2, data=time_df, palette=\"Pastel1\",\n",
    "              order=time_df['Supplier'].value_counts().iloc[:10].index)\n",
    "fig = plt.gcf()\n",
    "ax = plt.gca()\n",
    "ax.set_title(\"Arms Trades By Supplier 1950-2019\")\n",
    "ax.set_xlabel(\"Distinct recorded trades\")\n",
    "# fig.savefig('./images/top_10_suppliers.png',bbox_inches='tight')"
   ]
  },
  {
   "cell_type": "code",
   "execution_count": 58,
   "metadata": {
    "ExecuteTime": {
     "end_time": "2021-02-01T18:01:49.581299Z",
     "start_time": "2021-02-01T18:01:49.112041Z"
    }
   },
   "outputs": [
    {
     "output_type": "execute_result",
     "data": {
      "text/plain": [
       "Text(0.5, 0, 'Distinct recorded trades')"
      ]
     },
     "metadata": {},
     "execution_count": 58
    },
    {
     "output_type": "display_data",
     "data": {
      "text/plain": "<Figure size 576x396 with 1 Axes>",
      "image/svg+xml": "<?xml version=\"1.0\" encoding=\"utf-8\" standalone=\"no\"?>\n<!DOCTYPE svg PUBLIC \"-//W3C//DTD SVG 1.1//EN\"\n  \"http://www.w3.org/Graphics/SVG/1.1/DTD/svg11.dtd\">\n<!-- Created with matplotlib (https://matplotlib.org/) -->\n<svg height=\"401.698437pt\" version=\"1.1\" viewBox=\"0 0 661.065312 401.698437\" width=\"661.065312pt\" xmlns=\"http://www.w3.org/2000/svg\" xmlns:xlink=\"http://www.w3.org/1999/xlink\">\n <defs>\n  <style type=\"text/css\">\n*{stroke-linecap:butt;stroke-linejoin:round;}\n  </style>\n </defs>\n <g id=\"figure_1\">\n  <g id=\"patch_1\">\n   <path d=\"M 0 401.698437 \nL 661.065312 401.698437 \nL 661.065312 0 \nL 0 0 \nz\n\" style=\"fill:#ffffff;\"/>\n  </g>\n  <g id=\"axes_1\">\n   <g id=\"patch_2\">\n    <path d=\"M 207.465313 329.43 \nL 653.865312 329.43 \nL 653.865312 30.45 \nL 207.465313 30.45 \nz\n\" style=\"fill:#eaeaf2;\"/>\n   </g>\n   <g id=\"matplotlib.axis_1\">\n    <g id=\"xtick_1\">\n     <g id=\"text_1\">\n      <!-- 0 -->\n      <defs>\n       <path d=\"M 4.15625 35.296875 \nQ 4.15625 48 6.765625 55.734375 \nQ 9.375 63.484375 14.515625 67.671875 \nQ 19.671875 71.875 27.484375 71.875 \nQ 33.25 71.875 37.59375 69.546875 \nQ 41.9375 67.234375 44.765625 62.859375 \nQ 47.609375 58.5 49.21875 52.21875 \nQ 50.828125 45.953125 50.828125 35.296875 \nQ 50.828125 22.703125 48.234375 14.96875 \nQ 45.65625 7.234375 40.5 3 \nQ 35.359375 -1.21875 27.484375 -1.21875 \nQ 17.140625 -1.21875 11.234375 6.203125 \nQ 4.15625 15.140625 4.15625 35.296875 \nz\nM 13.1875 35.296875 \nQ 13.1875 17.671875 17.3125 11.828125 \nQ 21.4375 6 27.484375 6 \nQ 33.546875 6 37.671875 11.859375 \nQ 41.796875 17.71875 41.796875 35.296875 \nQ 41.796875 52.984375 37.671875 58.78125 \nQ 33.546875 64.59375 27.390625 64.59375 \nQ 21.34375 64.59375 17.71875 59.46875 \nQ 13.1875 52.9375 13.1875 35.296875 \nz\n\" id=\"ArialMT-48\"/>\n      </defs>\n      <g style=\"fill:#262626;\" transform=\"translate(201.348281 364.177187)scale(0.22 -0.22)\">\n       <use xlink:href=\"#ArialMT-48\"/>\n      </g>\n     </g>\n    </g>\n    <g id=\"xtick_2\">\n     <g id=\"text_2\">\n      <!-- 200 -->\n      <defs>\n       <path d=\"M 50.34375 8.453125 \nL 50.34375 0 \nL 3.03125 0 \nQ 2.9375 3.171875 4.046875 6.109375 \nQ 5.859375 10.9375 9.828125 15.625 \nQ 13.8125 20.3125 21.34375 26.46875 \nQ 33.015625 36.03125 37.109375 41.625 \nQ 41.21875 47.21875 41.21875 52.203125 \nQ 41.21875 57.421875 37.46875 61 \nQ 33.734375 64.59375 27.734375 64.59375 \nQ 21.390625 64.59375 17.578125 60.78125 \nQ 13.765625 56.984375 13.71875 50.25 \nL 4.6875 51.171875 \nQ 5.609375 61.28125 11.65625 66.578125 \nQ 17.71875 71.875 27.9375 71.875 \nQ 38.234375 71.875 44.234375 66.15625 \nQ 50.25 60.453125 50.25 52 \nQ 50.25 47.703125 48.484375 43.546875 \nQ 46.734375 39.40625 42.65625 34.8125 \nQ 38.578125 30.21875 29.109375 22.21875 \nQ 21.1875 15.578125 18.9375 13.203125 \nQ 16.703125 10.84375 15.234375 8.453125 \nz\n\" id=\"ArialMT-50\"/>\n      </defs>\n      <g style=\"fill:#262626;\" transform=\"translate(308.201854 364.177187)scale(0.22 -0.22)\">\n       <use xlink:href=\"#ArialMT-50\"/>\n       <use x=\"55.615234\" xlink:href=\"#ArialMT-48\"/>\n       <use x=\"111.230469\" xlink:href=\"#ArialMT-48\"/>\n      </g>\n     </g>\n    </g>\n    <g id=\"xtick_3\">\n     <g id=\"text_3\">\n      <!-- 400 -->\n      <defs>\n       <path d=\"M 32.328125 0 \nL 32.328125 17.140625 \nL 1.265625 17.140625 \nL 1.265625 25.203125 \nL 33.9375 71.578125 \nL 41.109375 71.578125 \nL 41.109375 25.203125 \nL 50.78125 25.203125 \nL 50.78125 17.140625 \nL 41.109375 17.140625 \nL 41.109375 0 \nz\nM 32.328125 25.203125 \nL 32.328125 57.46875 \nL 9.90625 25.203125 \nz\n\" id=\"ArialMT-52\"/>\n      </defs>\n      <g style=\"fill:#262626;\" transform=\"translate(427.289489 364.177187)scale(0.22 -0.22)\">\n       <use xlink:href=\"#ArialMT-52\"/>\n       <use x=\"55.615234\" xlink:href=\"#ArialMT-48\"/>\n       <use x=\"111.230469\" xlink:href=\"#ArialMT-48\"/>\n      </g>\n     </g>\n    </g>\n    <g id=\"xtick_4\">\n     <g id=\"text_4\">\n      <!-- 600 -->\n      <defs>\n       <path d=\"M 49.75 54.046875 \nL 41.015625 53.375 \nQ 39.84375 58.546875 37.703125 60.890625 \nQ 34.125 64.65625 28.90625 64.65625 \nQ 24.703125 64.65625 21.53125 62.3125 \nQ 17.390625 59.28125 14.984375 53.46875 \nQ 12.59375 47.65625 12.5 36.921875 \nQ 15.671875 41.75 20.265625 44.09375 \nQ 24.859375 46.4375 29.890625 46.4375 \nQ 38.671875 46.4375 44.84375 39.96875 \nQ 51.03125 33.5 51.03125 23.25 \nQ 51.03125 16.5 48.125 10.71875 \nQ 45.21875 4.9375 40.140625 1.859375 \nQ 35.0625 -1.21875 28.609375 -1.21875 \nQ 17.625 -1.21875 10.6875 6.859375 \nQ 3.765625 14.9375 3.765625 33.5 \nQ 3.765625 54.25 11.421875 63.671875 \nQ 18.109375 71.875 29.4375 71.875 \nQ 37.890625 71.875 43.28125 67.140625 \nQ 48.6875 62.40625 49.75 54.046875 \nz\nM 13.875 23.1875 \nQ 13.875 18.65625 15.796875 14.5 \nQ 17.71875 10.359375 21.1875 8.171875 \nQ 24.65625 6 28.46875 6 \nQ 34.03125 6 38.03125 10.484375 \nQ 42.046875 14.984375 42.046875 22.703125 \nQ 42.046875 30.125 38.078125 34.390625 \nQ 34.125 38.671875 28.125 38.671875 \nQ 22.171875 38.671875 18.015625 34.390625 \nQ 13.875 30.125 13.875 23.1875 \nz\n\" id=\"ArialMT-54\"/>\n      </defs>\n      <g style=\"fill:#262626;\" transform=\"translate(546.377124 364.177187)scale(0.22 -0.22)\">\n       <use xlink:href=\"#ArialMT-54\"/>\n       <use x=\"55.615234\" xlink:href=\"#ArialMT-48\"/>\n       <use x=\"111.230469\" xlink:href=\"#ArialMT-48\"/>\n      </g>\n     </g>\n    </g>\n    <g id=\"text_5\">\n     <!-- Distinct recorded trades -->\n     <defs>\n      <path d=\"M 7.71875 0 \nL 7.71875 71.578125 \nL 32.375 71.578125 \nQ 40.71875 71.578125 45.125 70.5625 \nQ 51.265625 69.140625 55.609375 65.4375 \nQ 61.28125 60.640625 64.078125 53.1875 \nQ 66.890625 45.75 66.890625 36.1875 \nQ 66.890625 28.03125 64.984375 21.734375 \nQ 63.09375 15.4375 60.109375 11.296875 \nQ 57.125 7.171875 53.578125 4.796875 \nQ 50.046875 2.4375 45.046875 1.21875 \nQ 40.046875 0 33.546875 0 \nz\nM 17.1875 8.453125 \nL 32.46875 8.453125 \nQ 39.546875 8.453125 43.578125 9.765625 \nQ 47.609375 11.078125 50 13.484375 \nQ 53.375 16.84375 55.25 22.53125 \nQ 57.125 28.21875 57.125 36.328125 \nQ 57.125 47.5625 53.4375 53.59375 \nQ 49.75 59.625 44.484375 61.671875 \nQ 40.671875 63.140625 32.234375 63.140625 \nL 17.1875 63.140625 \nz\n\" id=\"ArialMT-68\"/>\n      <path d=\"M 6.640625 61.46875 \nL 6.640625 71.578125 \nL 15.4375 71.578125 \nL 15.4375 61.46875 \nz\nM 6.640625 0 \nL 6.640625 51.859375 \nL 15.4375 51.859375 \nL 15.4375 0 \nz\n\" id=\"ArialMT-105\"/>\n      <path d=\"M 3.078125 15.484375 \nL 11.765625 16.84375 \nQ 12.5 11.625 15.84375 8.84375 \nQ 19.1875 6.0625 25.203125 6.0625 \nQ 31.25 6.0625 34.171875 8.515625 \nQ 37.109375 10.984375 37.109375 14.3125 \nQ 37.109375 17.28125 34.515625 19 \nQ 32.71875 20.171875 25.53125 21.96875 \nQ 15.875 24.421875 12.140625 26.203125 \nQ 8.40625 27.984375 6.46875 31.125 \nQ 4.546875 34.28125 4.546875 38.09375 \nQ 4.546875 41.546875 6.125 44.5 \nQ 7.71875 47.46875 10.453125 49.421875 \nQ 12.5 50.921875 16.03125 51.96875 \nQ 19.578125 53.03125 23.640625 53.03125 \nQ 29.734375 53.03125 34.34375 51.265625 \nQ 38.96875 49.515625 41.15625 46.5 \nQ 43.359375 43.5 44.1875 38.484375 \nL 35.59375 37.3125 \nQ 35.015625 41.3125 32.203125 43.546875 \nQ 29.390625 45.796875 24.265625 45.796875 \nQ 18.21875 45.796875 15.625 43.796875 \nQ 13.03125 41.796875 13.03125 39.109375 \nQ 13.03125 37.40625 14.109375 36.03125 \nQ 15.1875 34.625 17.484375 33.6875 \nQ 18.796875 33.203125 25.25 31.453125 \nQ 34.578125 28.953125 38.25 27.359375 \nQ 41.9375 25.78125 44.03125 22.75 \nQ 46.140625 19.734375 46.140625 15.234375 \nQ 46.140625 10.84375 43.578125 6.953125 \nQ 41.015625 3.078125 36.171875 0.953125 \nQ 31.34375 -1.171875 25.25 -1.171875 \nQ 15.140625 -1.171875 9.84375 3.03125 \nQ 4.546875 7.234375 3.078125 15.484375 \nz\n\" id=\"ArialMT-115\"/>\n      <path d=\"M 25.78125 7.859375 \nL 27.046875 0.09375 \nQ 23.34375 -0.6875 20.40625 -0.6875 \nQ 15.625 -0.6875 12.984375 0.828125 \nQ 10.359375 2.34375 9.28125 4.8125 \nQ 8.203125 7.28125 8.203125 15.1875 \nL 8.203125 45.015625 \nL 1.765625 45.015625 \nL 1.765625 51.859375 \nL 8.203125 51.859375 \nL 8.203125 64.703125 \nL 16.9375 69.96875 \nL 16.9375 51.859375 \nL 25.78125 51.859375 \nL 25.78125 45.015625 \nL 16.9375 45.015625 \nL 16.9375 14.703125 \nQ 16.9375 10.9375 17.40625 9.859375 \nQ 17.875 8.796875 18.921875 8.15625 \nQ 19.96875 7.515625 21.921875 7.515625 \nQ 23.390625 7.515625 25.78125 7.859375 \nz\n\" id=\"ArialMT-116\"/>\n      <path d=\"M 6.59375 0 \nL 6.59375 51.859375 \nL 14.5 51.859375 \nL 14.5 44.484375 \nQ 20.21875 53.03125 31 53.03125 \nQ 35.6875 53.03125 39.625 51.34375 \nQ 43.5625 49.65625 45.515625 46.921875 \nQ 47.46875 44.1875 48.25 40.4375 \nQ 48.734375 37.984375 48.734375 31.890625 \nL 48.734375 0 \nL 39.9375 0 \nL 39.9375 31.546875 \nQ 39.9375 36.921875 38.90625 39.578125 \nQ 37.890625 42.234375 35.28125 43.8125 \nQ 32.671875 45.40625 29.15625 45.40625 \nQ 23.53125 45.40625 19.453125 41.84375 \nQ 15.375 38.28125 15.375 28.328125 \nL 15.375 0 \nz\n\" id=\"ArialMT-110\"/>\n      <path d=\"M 40.4375 19 \nL 49.078125 17.875 \nQ 47.65625 8.9375 41.8125 3.875 \nQ 35.984375 -1.171875 27.484375 -1.171875 \nQ 16.84375 -1.171875 10.375 5.78125 \nQ 3.90625 12.75 3.90625 25.734375 \nQ 3.90625 34.125 6.6875 40.421875 \nQ 9.46875 46.734375 15.15625 49.875 \nQ 20.84375 53.03125 27.546875 53.03125 \nQ 35.984375 53.03125 41.359375 48.75 \nQ 46.734375 44.484375 48.25 36.625 \nL 39.703125 35.296875 \nQ 38.484375 40.53125 35.375 43.15625 \nQ 32.28125 45.796875 27.875 45.796875 \nQ 21.234375 45.796875 17.078125 41.03125 \nQ 12.9375 36.28125 12.9375 25.984375 \nQ 12.9375 15.53125 16.9375 10.796875 \nQ 20.953125 6.0625 27.390625 6.0625 \nQ 32.5625 6.0625 36.03125 9.234375 \nQ 39.5 12.40625 40.4375 19 \nz\n\" id=\"ArialMT-99\"/>\n      <path id=\"ArialMT-32\"/>\n      <path d=\"M 6.5 0 \nL 6.5 51.859375 \nL 14.40625 51.859375 \nL 14.40625 44 \nQ 17.4375 49.515625 20 51.265625 \nQ 22.5625 53.03125 25.640625 53.03125 \nQ 30.078125 53.03125 34.671875 50.203125 \nL 31.640625 42.046875 \nQ 28.421875 43.953125 25.203125 43.953125 \nQ 22.3125 43.953125 20.015625 42.21875 \nQ 17.71875 40.484375 16.75 37.40625 \nQ 15.28125 32.71875 15.28125 27.15625 \nL 15.28125 0 \nz\n\" id=\"ArialMT-114\"/>\n      <path d=\"M 42.09375 16.703125 \nL 51.171875 15.578125 \nQ 49.03125 7.625 43.21875 3.21875 \nQ 37.40625 -1.171875 28.375 -1.171875 \nQ 17 -1.171875 10.328125 5.828125 \nQ 3.65625 12.84375 3.65625 25.484375 \nQ 3.65625 38.578125 10.390625 45.796875 \nQ 17.140625 53.03125 27.875 53.03125 \nQ 38.28125 53.03125 44.875 45.953125 \nQ 51.46875 38.875 51.46875 26.03125 \nQ 51.46875 25.25 51.421875 23.6875 \nL 12.75 23.6875 \nQ 13.234375 15.140625 17.578125 10.59375 \nQ 21.921875 6.0625 28.421875 6.0625 \nQ 33.25 6.0625 36.671875 8.59375 \nQ 40.09375 11.140625 42.09375 16.703125 \nz\nM 13.234375 30.90625 \nL 42.1875 30.90625 \nQ 41.609375 37.453125 38.875 40.71875 \nQ 34.671875 45.796875 27.984375 45.796875 \nQ 21.921875 45.796875 17.796875 41.75 \nQ 13.671875 37.703125 13.234375 30.90625 \nz\n\" id=\"ArialMT-101\"/>\n      <path d=\"M 3.328125 25.921875 \nQ 3.328125 40.328125 11.328125 47.265625 \nQ 18.015625 53.03125 27.640625 53.03125 \nQ 38.328125 53.03125 45.109375 46.015625 \nQ 51.90625 39.015625 51.90625 26.65625 \nQ 51.90625 16.65625 48.90625 10.90625 \nQ 45.90625 5.171875 40.15625 2 \nQ 34.421875 -1.171875 27.640625 -1.171875 \nQ 16.75 -1.171875 10.03125 5.8125 \nQ 3.328125 12.796875 3.328125 25.921875 \nz\nM 12.359375 25.921875 \nQ 12.359375 15.96875 16.703125 11.015625 \nQ 21.046875 6.0625 27.640625 6.0625 \nQ 34.1875 6.0625 38.53125 11.03125 \nQ 42.875 16.015625 42.875 26.21875 \nQ 42.875 35.84375 38.5 40.796875 \nQ 34.125 45.75 27.640625 45.75 \nQ 21.046875 45.75 16.703125 40.8125 \nQ 12.359375 35.890625 12.359375 25.921875 \nz\n\" id=\"ArialMT-111\"/>\n      <path d=\"M 40.234375 0 \nL 40.234375 6.546875 \nQ 35.296875 -1.171875 25.734375 -1.171875 \nQ 19.53125 -1.171875 14.328125 2.25 \nQ 9.125 5.671875 6.265625 11.796875 \nQ 3.421875 17.921875 3.421875 25.875 \nQ 3.421875 33.640625 6 39.96875 \nQ 8.59375 46.296875 13.765625 49.65625 \nQ 18.953125 53.03125 25.34375 53.03125 \nQ 30.03125 53.03125 33.6875 51.046875 \nQ 37.359375 49.078125 39.65625 45.90625 \nL 39.65625 71.578125 \nL 48.390625 71.578125 \nL 48.390625 0 \nz\nM 12.453125 25.875 \nQ 12.453125 15.921875 16.640625 10.984375 \nQ 20.84375 6.0625 26.5625 6.0625 \nQ 32.328125 6.0625 36.34375 10.765625 \nQ 40.375 15.484375 40.375 25.140625 \nQ 40.375 35.796875 36.265625 40.765625 \nQ 32.171875 45.75 26.171875 45.75 \nQ 20.3125 45.75 16.375 40.96875 \nQ 12.453125 36.1875 12.453125 25.875 \nz\n\" id=\"ArialMT-100\"/>\n      <path d=\"M 40.4375 6.390625 \nQ 35.546875 2.25 31.03125 0.53125 \nQ 26.515625 -1.171875 21.34375 -1.171875 \nQ 12.796875 -1.171875 8.203125 3 \nQ 3.609375 7.171875 3.609375 13.671875 \nQ 3.609375 17.484375 5.34375 20.625 \nQ 7.078125 23.78125 9.890625 25.6875 \nQ 12.703125 27.59375 16.21875 28.5625 \nQ 18.796875 29.25 24.03125 29.890625 \nQ 34.671875 31.15625 39.703125 32.90625 \nQ 39.75 34.71875 39.75 35.203125 \nQ 39.75 40.578125 37.25 42.78125 \nQ 33.890625 45.75 27.25 45.75 \nQ 21.046875 45.75 18.09375 43.578125 \nQ 15.140625 41.40625 13.71875 35.890625 \nL 5.125 37.0625 \nQ 6.296875 42.578125 8.984375 45.96875 \nQ 11.671875 49.359375 16.75 51.1875 \nQ 21.828125 53.03125 28.515625 53.03125 \nQ 35.15625 53.03125 39.296875 51.46875 \nQ 43.453125 49.90625 45.40625 47.53125 \nQ 47.359375 45.171875 48.140625 41.546875 \nQ 48.578125 39.3125 48.578125 33.453125 \nL 48.578125 21.734375 \nQ 48.578125 9.46875 49.140625 6.21875 \nQ 49.703125 2.984375 51.375 0 \nL 42.1875 0 \nQ 40.828125 2.734375 40.4375 6.390625 \nz\nM 39.703125 26.03125 \nQ 34.90625 24.078125 25.34375 22.703125 \nQ 19.921875 21.921875 17.671875 20.9375 \nQ 15.4375 19.96875 14.203125 18.09375 \nQ 12.984375 16.21875 12.984375 13.921875 \nQ 12.984375 10.40625 15.640625 8.0625 \nQ 18.3125 5.71875 23.4375 5.71875 \nQ 28.515625 5.71875 32.46875 7.9375 \nQ 36.421875 10.15625 38.28125 14.015625 \nQ 39.703125 17 39.703125 22.796875 \nz\n\" id=\"ArialMT-97\"/>\n     </defs>\n     <g style=\"fill:#262626;\" transform=\"translate(303.952813 389.728437)scale(0.24 -0.24)\">\n      <use xlink:href=\"#ArialMT-68\"/>\n      <use x=\"72.216797\" xlink:href=\"#ArialMT-105\"/>\n      <use x=\"94.433594\" xlink:href=\"#ArialMT-115\"/>\n      <use x=\"144.433594\" xlink:href=\"#ArialMT-116\"/>\n      <use x=\"172.216797\" xlink:href=\"#ArialMT-105\"/>\n      <use x=\"194.433594\" xlink:href=\"#ArialMT-110\"/>\n      <use x=\"250.048828\" xlink:href=\"#ArialMT-99\"/>\n      <use x=\"300.048828\" xlink:href=\"#ArialMT-116\"/>\n      <use x=\"327.832031\" xlink:href=\"#ArialMT-32\"/>\n      <use x=\"355.615234\" xlink:href=\"#ArialMT-114\"/>\n      <use x=\"388.916016\" xlink:href=\"#ArialMT-101\"/>\n      <use x=\"444.53125\" xlink:href=\"#ArialMT-99\"/>\n      <use x=\"494.53125\" xlink:href=\"#ArialMT-111\"/>\n      <use x=\"550.146484\" xlink:href=\"#ArialMT-114\"/>\n      <use x=\"583.447266\" xlink:href=\"#ArialMT-100\"/>\n      <use x=\"639.0625\" xlink:href=\"#ArialMT-101\"/>\n      <use x=\"694.677734\" xlink:href=\"#ArialMT-100\"/>\n      <use x=\"750.292969\" xlink:href=\"#ArialMT-32\"/>\n      <use x=\"778.076172\" xlink:href=\"#ArialMT-116\"/>\n      <use x=\"805.859375\" xlink:href=\"#ArialMT-114\"/>\n      <use x=\"839.160156\" xlink:href=\"#ArialMT-97\"/>\n      <use x=\"894.775391\" xlink:href=\"#ArialMT-100\"/>\n      <use x=\"950.390625\" xlink:href=\"#ArialMT-101\"/>\n      <use x=\"1006.005859\" xlink:href=\"#ArialMT-115\"/>\n     </g>\n    </g>\n   </g>\n   <g id=\"matplotlib.axis_2\">\n    <g id=\"ytick_1\">\n     <g id=\"text_6\">\n      <!--      India -->\n      <defs>\n       <path d=\"M 9.328125 0 \nL 9.328125 71.578125 \nL 18.796875 71.578125 \nL 18.796875 0 \nz\n\" id=\"ArialMT-73\"/>\n      </defs>\n      <g style=\"fill:#262626;\" transform=\"translate(110.20375 53.272594)scale(0.22 -0.22)\">\n       <use xlink:href=\"#ArialMT-32\"/>\n       <use x=\"27.783203\" xlink:href=\"#ArialMT-32\"/>\n       <use x=\"55.566406\" xlink:href=\"#ArialMT-32\"/>\n       <use x=\"83.349609\" xlink:href=\"#ArialMT-32\"/>\n       <use x=\"111.132812\" xlink:href=\"#ArialMT-32\"/>\n       <use x=\"138.916016\" xlink:href=\"#ArialMT-73\"/>\n       <use x=\"166.699219\" xlink:href=\"#ArialMT-110\"/>\n       <use x=\"222.314453\" xlink:href=\"#ArialMT-100\"/>\n       <use x=\"277.929688\" xlink:href=\"#ArialMT-105\"/>\n       <use x=\"300.146484\" xlink:href=\"#ArialMT-97\"/>\n      </g>\n     </g>\n    </g>\n    <g id=\"ytick_2\">\n     <g id=\"text_7\">\n      <!--      Egypt -->\n      <defs>\n       <path d=\"M 7.90625 0 \nL 7.90625 71.578125 \nL 59.671875 71.578125 \nL 59.671875 63.140625 \nL 17.390625 63.140625 \nL 17.390625 41.21875 \nL 56.984375 41.21875 \nL 56.984375 32.8125 \nL 17.390625 32.8125 \nL 17.390625 8.453125 \nL 61.328125 8.453125 \nL 61.328125 0 \nz\n\" id=\"ArialMT-69\"/>\n       <path d=\"M 4.984375 -4.296875 \nL 13.53125 -5.5625 \nQ 14.0625 -9.515625 16.5 -11.328125 \nQ 19.78125 -13.765625 25.4375 -13.765625 \nQ 31.546875 -13.765625 34.859375 -11.328125 \nQ 38.1875 -8.890625 39.359375 -4.5 \nQ 40.046875 -1.8125 39.984375 6.78125 \nQ 34.234375 0 25.640625 0 \nQ 14.9375 0 9.078125 7.71875 \nQ 3.21875 15.4375 3.21875 26.21875 \nQ 3.21875 33.640625 5.90625 39.90625 \nQ 8.59375 46.1875 13.6875 49.609375 \nQ 18.796875 53.03125 25.6875 53.03125 \nQ 34.859375 53.03125 40.828125 45.609375 \nL 40.828125 51.859375 \nL 48.921875 51.859375 \nL 48.921875 7.03125 \nQ 48.921875 -5.078125 46.453125 -10.125 \nQ 44 -15.1875 38.640625 -18.109375 \nQ 33.296875 -21.046875 25.484375 -21.046875 \nQ 16.21875 -21.046875 10.5 -16.875 \nQ 4.78125 -12.703125 4.984375 -4.296875 \nz\nM 12.25 26.859375 \nQ 12.25 16.65625 16.296875 11.96875 \nQ 20.359375 7.28125 26.46875 7.28125 \nQ 32.515625 7.28125 36.609375 11.9375 \nQ 40.71875 16.609375 40.71875 26.5625 \nQ 40.71875 36.078125 36.5 40.90625 \nQ 32.28125 45.75 26.3125 45.75 \nQ 20.453125 45.75 16.34375 40.984375 \nQ 12.25 36.234375 12.25 26.859375 \nz\n\" id=\"ArialMT-103\"/>\n       <path d=\"M 6.203125 -19.96875 \nL 5.21875 -11.71875 \nQ 8.109375 -12.5 10.25 -12.5 \nQ 13.1875 -12.5 14.9375 -11.515625 \nQ 16.703125 -10.546875 17.828125 -8.796875 \nQ 18.65625 -7.46875 20.515625 -2.25 \nQ 20.75 -1.515625 21.296875 -0.09375 \nL 1.609375 51.859375 \nL 11.078125 51.859375 \nL 21.875 21.828125 \nQ 23.96875 16.109375 25.640625 9.8125 \nQ 27.15625 15.875 29.25 21.625 \nL 40.328125 51.859375 \nL 49.125 51.859375 \nL 29.390625 -0.875 \nQ 26.21875 -9.421875 24.46875 -12.640625 \nQ 22.125 -17 19.09375 -19.015625 \nQ 16.0625 -21.046875 11.859375 -21.046875 \nQ 9.328125 -21.046875 6.203125 -19.96875 \nz\n\" id=\"ArialMT-121\"/>\n       <path d=\"M 6.59375 -19.875 \nL 6.59375 51.859375 \nL 14.59375 51.859375 \nL 14.59375 45.125 \nQ 17.4375 49.078125 21 51.046875 \nQ 24.5625 53.03125 29.640625 53.03125 \nQ 36.28125 53.03125 41.359375 49.609375 \nQ 46.4375 46.1875 49.015625 39.953125 \nQ 51.609375 33.734375 51.609375 26.3125 \nQ 51.609375 18.359375 48.75 11.984375 \nQ 45.90625 5.609375 40.453125 2.21875 \nQ 35.015625 -1.171875 29 -1.171875 \nQ 24.609375 -1.171875 21.109375 0.6875 \nQ 17.625 2.546875 15.375 5.375 \nL 15.375 -19.875 \nz\nM 14.546875 25.640625 \nQ 14.546875 15.625 18.59375 10.84375 \nQ 22.65625 6.0625 28.421875 6.0625 \nQ 34.28125 6.0625 38.453125 11.015625 \nQ 42.625 15.96875 42.625 26.375 \nQ 42.625 36.28125 38.546875 41.203125 \nQ 34.46875 46.140625 28.8125 46.140625 \nQ 23.1875 46.140625 18.859375 40.890625 \nQ 14.546875 35.640625 14.546875 25.640625 \nz\n\" id=\"ArialMT-112\"/>\n      </defs>\n      <g style=\"fill:#262626;\" transform=\"translate(101.65125 83.170594)scale(0.22 -0.22)\">\n       <use xlink:href=\"#ArialMT-32\"/>\n       <use x=\"27.783203\" xlink:href=\"#ArialMT-32\"/>\n       <use x=\"55.566406\" xlink:href=\"#ArialMT-32\"/>\n       <use x=\"83.349609\" xlink:href=\"#ArialMT-32\"/>\n       <use x=\"111.132812\" xlink:href=\"#ArialMT-32\"/>\n       <use x=\"138.916016\" xlink:href=\"#ArialMT-69\"/>\n       <use x=\"205.615234\" xlink:href=\"#ArialMT-103\"/>\n       <use x=\"261.230469\" xlink:href=\"#ArialMT-121\"/>\n       <use x=\"311.230469\" xlink:href=\"#ArialMT-112\"/>\n       <use x=\"366.845703\" xlink:href=\"#ArialMT-116\"/>\n      </g>\n     </g>\n    </g>\n    <g id=\"ytick_3\">\n     <g id=\"text_8\">\n      <!--      Thailand -->\n      <defs>\n       <path d=\"M 25.921875 0 \nL 25.921875 63.140625 \nL 2.34375 63.140625 \nL 2.34375 71.578125 \nL 59.078125 71.578125 \nL 59.078125 63.140625 \nL 35.40625 63.140625 \nL 35.40625 0 \nz\n\" id=\"ArialMT-84\"/>\n       <path d=\"M 6.59375 0 \nL 6.59375 71.578125 \nL 15.375 71.578125 \nL 15.375 45.90625 \nQ 21.53125 53.03125 30.90625 53.03125 \nQ 36.671875 53.03125 40.921875 50.75 \nQ 45.171875 48.484375 47 44.484375 \nQ 48.828125 40.484375 48.828125 32.859375 \nL 48.828125 0 \nL 40.046875 0 \nL 40.046875 32.859375 \nQ 40.046875 39.453125 37.1875 42.453125 \nQ 34.328125 45.453125 29.109375 45.453125 \nQ 25.203125 45.453125 21.75 43.421875 \nQ 18.3125 41.40625 16.84375 37.9375 \nQ 15.375 34.46875 15.375 28.375 \nL 15.375 0 \nz\n\" id=\"ArialMT-104\"/>\n       <path d=\"M 6.390625 0 \nL 6.390625 71.578125 \nL 15.1875 71.578125 \nL 15.1875 0 \nz\n\" id=\"ArialMT-108\"/>\n      </defs>\n      <g style=\"fill:#262626;\" transform=\"translate(73.907188 113.068594)scale(0.22 -0.22)\">\n       <use xlink:href=\"#ArialMT-32\"/>\n       <use x=\"27.783203\" xlink:href=\"#ArialMT-32\"/>\n       <use x=\"55.566406\" xlink:href=\"#ArialMT-32\"/>\n       <use x=\"83.349609\" xlink:href=\"#ArialMT-32\"/>\n       <use x=\"111.132812\" xlink:href=\"#ArialMT-32\"/>\n       <use x=\"137.166016\" xlink:href=\"#ArialMT-84\"/>\n       <use x=\"198.25\" xlink:href=\"#ArialMT-104\"/>\n       <use x=\"253.865234\" xlink:href=\"#ArialMT-97\"/>\n       <use x=\"309.480469\" xlink:href=\"#ArialMT-105\"/>\n       <use x=\"331.697266\" xlink:href=\"#ArialMT-108\"/>\n       <use x=\"353.914062\" xlink:href=\"#ArialMT-97\"/>\n       <use x=\"409.529297\" xlink:href=\"#ArialMT-110\"/>\n       <use x=\"465.144531\" xlink:href=\"#ArialMT-100\"/>\n      </g>\n     </g>\n    </g>\n    <g id=\"ytick_4\">\n     <g id=\"text_9\">\n      <!--      Turkey -->\n      <defs>\n       <path d=\"M 40.578125 0 \nL 40.578125 7.625 \nQ 34.515625 -1.171875 24.125 -1.171875 \nQ 19.53125 -1.171875 15.546875 0.578125 \nQ 11.578125 2.34375 9.640625 5 \nQ 7.71875 7.671875 6.9375 11.53125 \nQ 6.390625 14.109375 6.390625 19.734375 \nL 6.390625 51.859375 \nL 15.1875 51.859375 \nL 15.1875 23.09375 \nQ 15.1875 16.21875 15.71875 13.8125 \nQ 16.546875 10.359375 19.234375 8.375 \nQ 21.921875 6.390625 25.875 6.390625 \nQ 29.828125 6.390625 33.296875 8.421875 \nQ 36.765625 10.453125 38.203125 13.9375 \nQ 39.65625 17.4375 39.65625 24.078125 \nL 39.65625 51.859375 \nL 48.4375 51.859375 \nL 48.4375 0 \nz\n\" id=\"ArialMT-117\"/>\n       <path d=\"M 6.640625 0 \nL 6.640625 71.578125 \nL 15.4375 71.578125 \nL 15.4375 30.765625 \nL 36.234375 51.859375 \nL 47.609375 51.859375 \nL 27.78125 32.625 \nL 49.609375 0 \nL 38.765625 0 \nL 21.625 26.515625 \nL 15.4375 20.5625 \nL 15.4375 0 \nz\n\" id=\"ArialMT-107\"/>\n      </defs>\n      <g style=\"fill:#262626;\" transform=\"translate(91.885313 142.966594)scale(0.22 -0.22)\">\n       <use xlink:href=\"#ArialMT-32\"/>\n       <use x=\"27.783203\" xlink:href=\"#ArialMT-32\"/>\n       <use x=\"55.566406\" xlink:href=\"#ArialMT-32\"/>\n       <use x=\"83.349609\" xlink:href=\"#ArialMT-32\"/>\n       <use x=\"111.132812\" xlink:href=\"#ArialMT-32\"/>\n       <use x=\"137.166016\" xlink:href=\"#ArialMT-84\"/>\n       <use x=\"194.5\" xlink:href=\"#ArialMT-117\"/>\n       <use x=\"250.115234\" xlink:href=\"#ArialMT-114\"/>\n       <use x=\"283.416016\" xlink:href=\"#ArialMT-107\"/>\n       <use x=\"333.416016\" xlink:href=\"#ArialMT-101\"/>\n       <use x=\"389.03125\" xlink:href=\"#ArialMT-121\"/>\n      </g>\n     </g>\n    </g>\n    <g id=\"ytick_5\">\n     <g id=\"text_10\">\n      <!--      Greece -->\n      <defs>\n       <path d=\"M 41.21875 28.078125 \nL 41.21875 36.46875 \nL 71.53125 36.53125 \nL 71.53125 9.96875 \nQ 64.546875 4.390625 57.125 1.578125 \nQ 49.703125 -1.21875 41.890625 -1.21875 \nQ 31.34375 -1.21875 22.71875 3.296875 \nQ 14.109375 7.8125 9.71875 16.359375 \nQ 5.328125 24.90625 5.328125 35.453125 \nQ 5.328125 45.90625 9.6875 54.953125 \nQ 14.0625 64.015625 22.265625 68.40625 \nQ 30.46875 72.796875 41.15625 72.796875 \nQ 48.921875 72.796875 55.1875 70.28125 \nQ 61.46875 67.78125 65.03125 63.28125 \nQ 68.609375 58.796875 70.453125 51.5625 \nL 61.921875 49.21875 \nQ 60.296875 54.6875 57.90625 57.8125 \nQ 55.515625 60.9375 51.0625 62.8125 \nQ 46.625 64.703125 41.21875 64.703125 \nQ 34.71875 64.703125 29.984375 62.71875 \nQ 25.25 60.75 22.34375 57.515625 \nQ 19.4375 54.296875 17.828125 50.4375 \nQ 15.09375 43.796875 15.09375 36.03125 \nQ 15.09375 26.46875 18.390625 20.015625 \nQ 21.6875 13.578125 27.984375 10.453125 \nQ 34.28125 7.328125 41.359375 7.328125 \nQ 47.515625 7.328125 53.375 9.6875 \nQ 59.234375 12.0625 62.25 14.75 \nL 62.25 28.078125 \nz\n\" id=\"ArialMT-71\"/>\n      </defs>\n      <g style=\"fill:#262626;\" transform=\"translate(85.766563 172.864594)scale(0.22 -0.22)\">\n       <use xlink:href=\"#ArialMT-32\"/>\n       <use x=\"27.783203\" xlink:href=\"#ArialMT-32\"/>\n       <use x=\"55.566406\" xlink:href=\"#ArialMT-32\"/>\n       <use x=\"83.349609\" xlink:href=\"#ArialMT-32\"/>\n       <use x=\"111.132812\" xlink:href=\"#ArialMT-32\"/>\n       <use x=\"138.916016\" xlink:href=\"#ArialMT-71\"/>\n       <use x=\"216.699219\" xlink:href=\"#ArialMT-114\"/>\n       <use x=\"250\" xlink:href=\"#ArialMT-101\"/>\n       <use x=\"305.615234\" xlink:href=\"#ArialMT-101\"/>\n       <use x=\"361.230469\" xlink:href=\"#ArialMT-99\"/>\n       <use x=\"411.230469\" xlink:href=\"#ArialMT-101\"/>\n      </g>\n     </g>\n    </g>\n    <g id=\"ytick_6\">\n     <g id=\"text_11\">\n      <!--      Saudi Arabia -->\n      <defs>\n       <path d=\"M 4.5 23 \nL 13.421875 23.78125 \nQ 14.0625 18.40625 16.375 14.96875 \nQ 18.703125 11.53125 23.578125 9.40625 \nQ 28.46875 7.28125 34.578125 7.28125 \nQ 39.984375 7.28125 44.140625 8.890625 \nQ 48.296875 10.5 50.3125 13.296875 \nQ 52.34375 16.109375 52.34375 19.4375 \nQ 52.34375 22.796875 50.390625 25.3125 \nQ 48.4375 27.828125 43.953125 29.546875 \nQ 41.0625 30.671875 31.203125 33.03125 \nQ 21.34375 35.40625 17.390625 37.5 \nQ 12.25 40.1875 9.734375 44.15625 \nQ 7.234375 48.140625 7.234375 53.078125 \nQ 7.234375 58.5 10.296875 63.203125 \nQ 13.375 67.921875 19.28125 70.359375 \nQ 25.203125 72.796875 32.421875 72.796875 \nQ 40.375 72.796875 46.453125 70.234375 \nQ 52.546875 67.671875 55.8125 62.6875 \nQ 59.078125 57.71875 59.328125 51.421875 \nL 50.25 50.734375 \nQ 49.515625 57.515625 45.28125 60.984375 \nQ 41.0625 64.453125 32.8125 64.453125 \nQ 24.21875 64.453125 20.28125 61.296875 \nQ 16.359375 58.15625 16.359375 53.71875 \nQ 16.359375 49.859375 19.140625 47.359375 \nQ 21.875 44.875 33.421875 42.265625 \nQ 44.96875 39.65625 49.265625 37.703125 \nQ 55.515625 34.8125 58.484375 30.390625 \nQ 61.46875 25.984375 61.46875 20.21875 \nQ 61.46875 14.5 58.203125 9.4375 \nQ 54.9375 4.390625 48.796875 1.578125 \nQ 42.671875 -1.21875 35.015625 -1.21875 \nQ 25.296875 -1.21875 18.71875 1.609375 \nQ 12.15625 4.4375 8.421875 10.125 \nQ 4.6875 15.828125 4.5 23 \nz\n\" id=\"ArialMT-83\"/>\n       <path d=\"M -0.140625 0 \nL 27.34375 71.578125 \nL 37.546875 71.578125 \nL 66.84375 0 \nL 56.0625 0 \nL 47.703125 21.6875 \nL 17.78125 21.6875 \nL 9.90625 0 \nz\nM 20.515625 29.390625 \nL 44.78125 29.390625 \nL 37.3125 49.21875 \nQ 33.890625 58.25 32.234375 64.0625 \nQ 30.859375 57.171875 28.375 50.390625 \nz\n\" id=\"ArialMT-65\"/>\n       <path d=\"M 14.703125 0 \nL 6.546875 0 \nL 6.546875 71.578125 \nL 15.328125 71.578125 \nL 15.328125 46.046875 \nQ 20.90625 53.03125 29.546875 53.03125 \nQ 34.328125 53.03125 38.59375 51.09375 \nQ 42.875 49.171875 45.625 45.671875 \nQ 48.390625 42.1875 49.953125 37.25 \nQ 51.515625 32.328125 51.515625 26.703125 \nQ 51.515625 13.375 44.921875 6.09375 \nQ 38.328125 -1.171875 29.109375 -1.171875 \nQ 19.921875 -1.171875 14.703125 6.5 \nz\nM 14.59375 26.3125 \nQ 14.59375 17 17.140625 12.84375 \nQ 21.296875 6.0625 28.375 6.0625 \nQ 34.125 6.0625 38.328125 11.0625 \nQ 42.53125 16.0625 42.53125 25.984375 \nQ 42.53125 36.140625 38.5 40.96875 \nQ 34.46875 45.796875 28.765625 45.796875 \nQ 23 45.796875 18.796875 40.796875 \nQ 14.59375 35.796875 14.59375 26.3125 \nz\n\" id=\"ArialMT-98\"/>\n      </defs>\n      <g style=\"fill:#262626;\" transform=\"translate(33.14875 202.762594)scale(0.22 -0.22)\">\n       <use xlink:href=\"#ArialMT-32\"/>\n       <use x=\"27.783203\" xlink:href=\"#ArialMT-32\"/>\n       <use x=\"55.566406\" xlink:href=\"#ArialMT-32\"/>\n       <use x=\"83.349609\" xlink:href=\"#ArialMT-32\"/>\n       <use x=\"111.132812\" xlink:href=\"#ArialMT-32\"/>\n       <use x=\"138.916016\" xlink:href=\"#ArialMT-83\"/>\n       <use x=\"205.615234\" xlink:href=\"#ArialMT-97\"/>\n       <use x=\"261.230469\" xlink:href=\"#ArialMT-117\"/>\n       <use x=\"316.845703\" xlink:href=\"#ArialMT-100\"/>\n       <use x=\"372.460938\" xlink:href=\"#ArialMT-105\"/>\n       <use x=\"394.677734\" xlink:href=\"#ArialMT-32\"/>\n       <use x=\"416.960938\" xlink:href=\"#ArialMT-65\"/>\n       <use x=\"483.660156\" xlink:href=\"#ArialMT-114\"/>\n       <use x=\"516.960938\" xlink:href=\"#ArialMT-97\"/>\n       <use x=\"572.576172\" xlink:href=\"#ArialMT-98\"/>\n       <use x=\"628.191406\" xlink:href=\"#ArialMT-105\"/>\n       <use x=\"650.408203\" xlink:href=\"#ArialMT-97\"/>\n      </g>\n     </g>\n    </g>\n    <g id=\"ytick_7\">\n     <g id=\"text_12\">\n      <!--      Indonesia -->\n      <g style=\"fill:#262626;\" transform=\"translate(62.501563 232.660594)scale(0.22 -0.22)\">\n       <use xlink:href=\"#ArialMT-32\"/>\n       <use x=\"27.783203\" xlink:href=\"#ArialMT-32\"/>\n       <use x=\"55.566406\" xlink:href=\"#ArialMT-32\"/>\n       <use x=\"83.349609\" xlink:href=\"#ArialMT-32\"/>\n       <use x=\"111.132812\" xlink:href=\"#ArialMT-32\"/>\n       <use x=\"138.916016\" xlink:href=\"#ArialMT-73\"/>\n       <use x=\"166.699219\" xlink:href=\"#ArialMT-110\"/>\n       <use x=\"222.314453\" xlink:href=\"#ArialMT-100\"/>\n       <use x=\"277.929688\" xlink:href=\"#ArialMT-111\"/>\n       <use x=\"333.544922\" xlink:href=\"#ArialMT-110\"/>\n       <use x=\"389.160156\" xlink:href=\"#ArialMT-101\"/>\n       <use x=\"444.775391\" xlink:href=\"#ArialMT-115\"/>\n       <use x=\"494.775391\" xlink:href=\"#ArialMT-105\"/>\n       <use x=\"516.992188\" xlink:href=\"#ArialMT-97\"/>\n      </g>\n     </g>\n    </g>\n    <g id=\"ytick_8\">\n     <g id=\"text_13\">\n      <!--      Pakistan -->\n      <defs>\n       <path d=\"M 7.71875 0 \nL 7.71875 71.578125 \nL 34.71875 71.578125 \nQ 41.84375 71.578125 45.609375 70.90625 \nQ 50.875 70.015625 54.4375 67.546875 \nQ 58.015625 65.09375 60.1875 60.640625 \nQ 62.359375 56.203125 62.359375 50.875 \nQ 62.359375 41.75 56.546875 35.421875 \nQ 50.734375 29.109375 35.546875 29.109375 \nL 17.1875 29.109375 \nL 17.1875 0 \nz\nM 17.1875 37.546875 \nL 35.6875 37.546875 \nQ 44.875 37.546875 48.734375 40.96875 \nQ 52.59375 44.390625 52.59375 50.59375 \nQ 52.59375 55.078125 50.3125 58.265625 \nQ 48.046875 61.46875 44.34375 62.5 \nQ 41.9375 63.140625 35.5 63.140625 \nL 17.1875 63.140625 \nz\n\" id=\"ArialMT-80\"/>\n      </defs>\n      <g style=\"fill:#262626;\" transform=\"translate(73.529063 262.558594)scale(0.22 -0.22)\">\n       <use xlink:href=\"#ArialMT-32\"/>\n       <use x=\"27.783203\" xlink:href=\"#ArialMT-32\"/>\n       <use x=\"55.566406\" xlink:href=\"#ArialMT-32\"/>\n       <use x=\"83.349609\" xlink:href=\"#ArialMT-32\"/>\n       <use x=\"111.132812\" xlink:href=\"#ArialMT-32\"/>\n       <use x=\"138.916016\" xlink:href=\"#ArialMT-80\"/>\n       <use x=\"205.615234\" xlink:href=\"#ArialMT-97\"/>\n       <use x=\"261.230469\" xlink:href=\"#ArialMT-107\"/>\n       <use x=\"311.230469\" xlink:href=\"#ArialMT-105\"/>\n       <use x=\"333.447266\" xlink:href=\"#ArialMT-115\"/>\n       <use x=\"383.447266\" xlink:href=\"#ArialMT-116\"/>\n       <use x=\"411.230469\" xlink:href=\"#ArialMT-97\"/>\n       <use x=\"466.845703\" xlink:href=\"#ArialMT-110\"/>\n      </g>\n     </g>\n    </g>\n    <g id=\"ytick_9\">\n     <g id=\"text_14\">\n      <!--      South Korea -->\n      <defs>\n       <path d=\"M 7.328125 0 \nL 7.328125 71.578125 \nL 16.796875 71.578125 \nL 16.796875 36.078125 \nL 52.34375 71.578125 \nL 65.1875 71.578125 \nL 35.15625 42.578125 \nL 66.5 0 \nL 54 0 \nL 28.515625 36.234375 \nL 16.796875 24.8125 \nL 16.796875 0 \nz\n\" id=\"ArialMT-75\"/>\n      </defs>\n      <g style=\"fill:#262626;\" transform=\"translate(35.603125 292.456594)scale(0.22 -0.22)\">\n       <use xlink:href=\"#ArialMT-32\"/>\n       <use x=\"27.783203\" xlink:href=\"#ArialMT-32\"/>\n       <use x=\"55.566406\" xlink:href=\"#ArialMT-32\"/>\n       <use x=\"83.349609\" xlink:href=\"#ArialMT-32\"/>\n       <use x=\"111.132812\" xlink:href=\"#ArialMT-32\"/>\n       <use x=\"138.916016\" xlink:href=\"#ArialMT-83\"/>\n       <use x=\"205.615234\" xlink:href=\"#ArialMT-111\"/>\n       <use x=\"261.230469\" xlink:href=\"#ArialMT-117\"/>\n       <use x=\"316.845703\" xlink:href=\"#ArialMT-116\"/>\n       <use x=\"344.628906\" xlink:href=\"#ArialMT-104\"/>\n       <use x=\"400.244141\" xlink:href=\"#ArialMT-32\"/>\n       <use x=\"428.027344\" xlink:href=\"#ArialMT-75\"/>\n       <use x=\"494.726562\" xlink:href=\"#ArialMT-111\"/>\n       <use x=\"550.341797\" xlink:href=\"#ArialMT-114\"/>\n       <use x=\"583.642578\" xlink:href=\"#ArialMT-101\"/>\n       <use x=\"639.257812\" xlink:href=\"#ArialMT-97\"/>\n      </g>\n     </g>\n    </g>\n    <g id=\"ytick_10\">\n     <g id=\"text_15\">\n      <!--      Iraq -->\n      <defs>\n       <path d=\"M 39.65625 -19.875 \nL 39.65625 5.515625 \nQ 37.59375 2.640625 33.90625 0.734375 \nQ 30.21875 -1.171875 26.078125 -1.171875 \nQ 16.84375 -1.171875 10.171875 6.203125 \nQ 3.515625 13.578125 3.515625 26.421875 \nQ 3.515625 34.234375 6.21875 40.421875 \nQ 8.9375 46.625 14.078125 49.828125 \nQ 19.234375 53.03125 25.390625 53.03125 \nQ 35.015625 53.03125 40.53125 44.921875 \nL 40.53125 51.859375 \nL 48.4375 51.859375 \nL 48.4375 -19.875 \nz\nM 12.546875 26.078125 \nQ 12.546875 16.0625 16.75 11.0625 \nQ 20.953125 6.0625 26.8125 6.0625 \nQ 32.421875 6.0625 36.46875 10.8125 \nQ 40.53125 15.578125 40.53125 25.296875 \nQ 40.53125 35.640625 36.25 40.859375 \nQ 31.984375 46.09375 26.21875 46.09375 \nQ 20.515625 46.09375 16.53125 41.234375 \nQ 12.546875 36.375 12.546875 26.078125 \nz\n\" id=\"ArialMT-113\"/>\n      </defs>\n      <g style=\"fill:#262626;\" transform=\"translate(120.000625 322.354594)scale(0.22 -0.22)\">\n       <use xlink:href=\"#ArialMT-32\"/>\n       <use x=\"27.783203\" xlink:href=\"#ArialMT-32\"/>\n       <use x=\"55.566406\" xlink:href=\"#ArialMT-32\"/>\n       <use x=\"83.349609\" xlink:href=\"#ArialMT-32\"/>\n       <use x=\"111.132812\" xlink:href=\"#ArialMT-32\"/>\n       <use x=\"138.916016\" xlink:href=\"#ArialMT-73\"/>\n       <use x=\"166.699219\" xlink:href=\"#ArialMT-114\"/>\n       <use x=\"200\" xlink:href=\"#ArialMT-97\"/>\n       <use x=\"255.615234\" xlink:href=\"#ArialMT-113\"/>\n      </g>\n     </g>\n    </g>\n    <g id=\"text_16\">\n     <!-- Recipient -->\n     <defs>\n      <path d=\"M 7.859375 0 \nL 7.859375 71.578125 \nL 39.59375 71.578125 \nQ 49.171875 71.578125 54.140625 69.640625 \nQ 59.125 67.71875 62.109375 62.828125 \nQ 65.09375 57.953125 65.09375 52.046875 \nQ 65.09375 44.4375 60.15625 39.203125 \nQ 55.21875 33.984375 44.921875 32.5625 \nQ 48.6875 30.765625 50.640625 29 \nQ 54.78125 25.203125 58.5 19.484375 \nL 70.953125 0 \nL 59.03125 0 \nL 49.5625 14.890625 \nQ 45.40625 21.34375 42.71875 24.75 \nQ 40.046875 28.171875 37.921875 29.53125 \nQ 35.796875 30.90625 33.59375 31.453125 \nQ 31.984375 31.78125 28.328125 31.78125 \nL 17.328125 31.78125 \nL 17.328125 0 \nz\nM 17.328125 39.984375 \nL 37.703125 39.984375 \nQ 44.1875 39.984375 47.84375 41.328125 \nQ 51.515625 42.671875 53.421875 45.625 \nQ 55.328125 48.578125 55.328125 52.046875 \nQ 55.328125 57.125 51.640625 60.390625 \nQ 47.953125 63.671875 39.984375 63.671875 \nL 17.328125 63.671875 \nz\n\" id=\"ArialMT-82\"/>\n     </defs>\n     <g style=\"fill:#262626;\" transform=\"translate(24.37875 229.965)rotate(-90)scale(0.24 -0.24)\">\n      <use xlink:href=\"#ArialMT-82\"/>\n      <use x=\"72.216797\" xlink:href=\"#ArialMT-101\"/>\n      <use x=\"127.832031\" xlink:href=\"#ArialMT-99\"/>\n      <use x=\"177.832031\" xlink:href=\"#ArialMT-105\"/>\n      <use x=\"200.048828\" xlink:href=\"#ArialMT-112\"/>\n      <use x=\"255.664062\" xlink:href=\"#ArialMT-105\"/>\n      <use x=\"277.880859\" xlink:href=\"#ArialMT-101\"/>\n      <use x=\"333.496094\" xlink:href=\"#ArialMT-110\"/>\n      <use x=\"389.111328\" xlink:href=\"#ArialMT-116\"/>\n     </g>\n    </g>\n   </g>\n   <g id=\"patch_3\">\n    <path clip-path=\"url(#pd786440242)\" d=\"M 207.465313 33.4398 \nL 632.60817 33.4398 \nL 632.60817 57.3582 \nL 207.465313 57.3582 \nz\n\" style=\"fill:#fbb4ae;stroke:#ffffff;stroke-linejoin:miter;stroke-width:2;\"/>\n   </g>\n   <g id=\"patch_4\">\n    <path clip-path=\"url(#pd786440242)\" d=\"M 207.465313 63.3378 \nL 574.255228 63.3378 \nL 574.255228 87.2562 \nL 207.465313 87.2562 \nz\n\" style=\"fill:#b3cde3;stroke:#ffffff;stroke-linejoin:miter;stroke-width:2;\"/>\n   </g>\n   <g id=\"patch_5\">\n    <path clip-path=\"url(#pd786440242)\" d=\"M 207.465313 93.2358 \nL 543.887882 93.2358 \nL 543.887882 117.1542 \nL 207.465313 117.1542 \nz\n\" style=\"fill:#ccebc5;stroke:#ffffff;stroke-linejoin:miter;stroke-width:2;\"/>\n   </g>\n   <g id=\"patch_6\">\n    <path clip-path=\"url(#pd786440242)\" d=\"M 207.465313 123.1338 \nL 540.910691 123.1338 \nL 540.910691 147.0522 \nL 207.465313 147.0522 \nz\n\" style=\"fill:#decbe4;stroke:#ffffff;stroke-linejoin:miter;stroke-width:2;\"/>\n   </g>\n   <g id=\"patch_7\">\n    <path clip-path=\"url(#pd786440242)\" d=\"M 207.465313 153.0318 \nL 530.192803 153.0318 \nL 530.192803 176.9502 \nL 207.465313 176.9502 \nz\n\" style=\"fill:#fed9a6;stroke:#ffffff;stroke-linejoin:miter;stroke-width:2;\"/>\n   </g>\n   <g id=\"patch_8\">\n    <path clip-path=\"url(#pd786440242)\" d=\"M 207.465313 182.9298 \nL 509.352467 182.9298 \nL 509.352467 206.8482 \nL 207.465313 206.8482 \nz\n\" style=\"fill:#ffffcc;stroke:#ffffff;stroke-linejoin:miter;stroke-width:2;\"/>\n   </g>\n   <g id=\"patch_9\">\n    <path clip-path=\"url(#pd786440242)\" d=\"M 207.465313 212.8278 \nL 505.1844 212.8278 \nL 505.1844 236.7462 \nL 207.465313 236.7462 \nz\n\" style=\"fill:#e5d8bd;stroke:#ffffff;stroke-linejoin:miter;stroke-width:2;\"/>\n   </g>\n   <g id=\"patch_10\">\n    <path clip-path=\"url(#pd786440242)\" d=\"M 207.465313 242.7258 \nL 496.848266 242.7258 \nL 496.848266 266.6442 \nL 207.465313 266.6442 \nz\n\" style=\"fill:#fddaec;stroke:#ffffff;stroke-linejoin:miter;stroke-width:2;\"/>\n   </g>\n   <g id=\"patch_11\">\n    <path clip-path=\"url(#pd786440242)\" d=\"M 207.465313 272.6238 \nL 490.893884 272.6238 \nL 490.893884 296.5422 \nL 207.465313 296.5422 \nz\n\" style=\"fill:#f2f2f2;stroke:#ffffff;stroke-linejoin:miter;stroke-width:2;\"/>\n   </g>\n   <g id=\"patch_12\">\n    <path clip-path=\"url(#pd786440242)\" d=\"M 207.465313 302.5218 \nL 476.603368 302.5218 \nL 476.603368 326.4402 \nL 207.465313 326.4402 \nz\n\" style=\"fill:#fbb4ae;stroke:#ffffff;stroke-linejoin:miter;stroke-width:2;\"/>\n   </g>\n   <g id=\"patch_13\">\n    <path d=\"M 207.465313 329.43 \nL 207.465313 30.45 \n\" style=\"fill:none;stroke:#ffffff;stroke-linecap:square;stroke-linejoin:miter;stroke-width:2.5;\"/>\n   </g>\n   <g id=\"patch_14\">\n    <path d=\"M 653.865312 329.43 \nL 653.865312 30.45 \n\" style=\"fill:none;stroke:#ffffff;stroke-linecap:square;stroke-linejoin:miter;stroke-width:2.5;\"/>\n   </g>\n   <g id=\"patch_15\">\n    <path d=\"M 207.465313 329.43 \nL 653.865312 329.43 \n\" style=\"fill:none;stroke:#ffffff;stroke-linecap:square;stroke-linejoin:miter;stroke-width:2.5;\"/>\n   </g>\n   <g id=\"patch_16\">\n    <path d=\"M 207.465313 30.45 \nL 653.865312 30.45 \n\" style=\"fill:none;stroke:#ffffff;stroke-linecap:square;stroke-linejoin:miter;stroke-width:2.5;\"/>\n   </g>\n   <g id=\"text_17\">\n    <!-- Arms Trade By Recipient 1950-2019 -->\n    <defs>\n     <path d=\"M 6.59375 0 \nL 6.59375 51.859375 \nL 14.453125 51.859375 \nL 14.453125 44.578125 \nQ 16.890625 48.390625 20.9375 50.703125 \nQ 25 53.03125 30.171875 53.03125 \nQ 35.9375 53.03125 39.625 50.640625 \nQ 43.3125 48.25 44.828125 43.953125 \nQ 50.984375 53.03125 60.84375 53.03125 \nQ 68.5625 53.03125 72.703125 48.75 \nQ 76.859375 44.484375 76.859375 35.59375 \nL 76.859375 0 \nL 68.109375 0 \nL 68.109375 32.671875 \nQ 68.109375 37.9375 67.25 40.25 \nQ 66.40625 42.578125 64.15625 43.984375 \nQ 61.921875 45.40625 58.890625 45.40625 \nQ 53.421875 45.40625 49.796875 41.765625 \nQ 46.1875 38.140625 46.1875 30.125 \nL 46.1875 0 \nL 37.40625 0 \nL 37.40625 33.6875 \nQ 37.40625 39.546875 35.25 42.46875 \nQ 33.109375 45.40625 28.21875 45.40625 \nQ 24.515625 45.40625 21.359375 43.453125 \nQ 18.21875 41.5 16.796875 37.734375 \nQ 15.375 33.984375 15.375 26.90625 \nL 15.375 0 \nz\n\" id=\"ArialMT-109\"/>\n     <path d=\"M 7.328125 0 \nL 7.328125 71.578125 \nL 34.1875 71.578125 \nQ 42.390625 71.578125 47.34375 69.40625 \nQ 52.296875 67.234375 55.09375 62.71875 \nQ 57.90625 58.203125 57.90625 53.265625 \nQ 57.90625 48.6875 55.421875 44.625 \nQ 52.9375 40.578125 47.90625 38.09375 \nQ 54.390625 36.1875 57.875 31.59375 \nQ 61.375 27 61.375 20.75 \nQ 61.375 15.71875 59.25 11.390625 \nQ 57.125 7.078125 54 4.734375 \nQ 50.875 2.390625 46.15625 1.1875 \nQ 41.453125 0 34.625 0 \nz\nM 16.796875 41.5 \nL 32.28125 41.5 \nQ 38.578125 41.5 41.3125 42.328125 \nQ 44.921875 43.40625 46.75 45.890625 \nQ 48.578125 48.390625 48.578125 52.15625 \nQ 48.578125 55.71875 46.875 58.421875 \nQ 45.171875 61.140625 41.984375 62.140625 \nQ 38.8125 63.140625 31.109375 63.140625 \nL 16.796875 63.140625 \nz\nM 16.796875 8.453125 \nL 34.625 8.453125 \nQ 39.203125 8.453125 41.0625 8.796875 \nQ 44.34375 9.375 46.53125 10.734375 \nQ 48.734375 12.109375 50.140625 14.71875 \nQ 51.5625 17.328125 51.5625 20.75 \nQ 51.5625 24.75 49.515625 27.703125 \nQ 47.46875 30.671875 43.828125 31.859375 \nQ 40.1875 33.0625 33.34375 33.0625 \nL 16.796875 33.0625 \nz\n\" id=\"ArialMT-66\"/>\n     <path d=\"M 37.25 0 \nL 28.46875 0 \nL 28.46875 56 \nQ 25.296875 52.984375 20.140625 49.953125 \nQ 14.984375 46.921875 10.890625 45.40625 \nL 10.890625 53.90625 \nQ 18.265625 57.375 23.78125 62.296875 \nQ 29.296875 67.234375 31.59375 71.875 \nL 37.25 71.875 \nz\n\" id=\"ArialMT-49\"/>\n     <path d=\"M 5.46875 16.546875 \nL 13.921875 17.328125 \nQ 14.984375 11.375 18.015625 8.6875 \nQ 21.046875 6 25.78125 6 \nQ 29.828125 6 32.875 7.859375 \nQ 35.9375 9.71875 37.890625 12.8125 \nQ 39.84375 15.921875 41.15625 21.1875 \nQ 42.484375 26.46875 42.484375 31.9375 \nQ 42.484375 32.515625 42.4375 33.6875 \nQ 39.796875 29.5 35.234375 26.875 \nQ 30.671875 24.265625 25.34375 24.265625 \nQ 16.453125 24.265625 10.296875 30.703125 \nQ 4.15625 37.15625 4.15625 47.703125 \nQ 4.15625 58.59375 10.578125 65.234375 \nQ 17 71.875 26.65625 71.875 \nQ 33.640625 71.875 39.421875 68.109375 \nQ 45.21875 64.359375 48.21875 57.390625 \nQ 51.21875 50.4375 51.21875 37.25 \nQ 51.21875 23.53125 48.234375 15.40625 \nQ 45.265625 7.28125 39.375 3.03125 \nQ 33.5 -1.21875 25.59375 -1.21875 \nQ 17.1875 -1.21875 11.859375 3.4375 \nQ 6.546875 8.109375 5.46875 16.546875 \nz\nM 41.453125 48.140625 \nQ 41.453125 55.71875 37.421875 60.15625 \nQ 33.40625 64.59375 27.734375 64.59375 \nQ 21.875 64.59375 17.53125 59.8125 \nQ 13.1875 55.03125 13.1875 47.40625 \nQ 13.1875 40.578125 17.3125 36.296875 \nQ 21.4375 32.03125 27.484375 32.03125 \nQ 33.59375 32.03125 37.515625 36.296875 \nQ 41.453125 40.578125 41.453125 48.140625 \nz\n\" id=\"ArialMT-57\"/>\n     <path d=\"M 4.15625 18.75 \nL 13.375 19.53125 \nQ 14.40625 12.796875 18.140625 9.390625 \nQ 21.875 6 27.15625 6 \nQ 33.5 6 37.890625 10.78125 \nQ 42.28125 15.578125 42.28125 23.484375 \nQ 42.28125 31 38.0625 35.34375 \nQ 33.84375 39.703125 27 39.703125 \nQ 22.75 39.703125 19.328125 37.765625 \nQ 15.921875 35.84375 13.96875 32.765625 \nL 5.71875 33.84375 \nL 12.640625 70.609375 \nL 48.25 70.609375 \nL 48.25 62.203125 \nL 19.671875 62.203125 \nL 15.828125 42.96875 \nQ 22.265625 47.46875 29.34375 47.46875 \nQ 38.71875 47.46875 45.15625 40.96875 \nQ 51.609375 34.46875 51.609375 24.265625 \nQ 51.609375 14.546875 45.953125 7.46875 \nQ 39.0625 -1.21875 27.15625 -1.21875 \nQ 17.390625 -1.21875 11.203125 4.25 \nQ 5.03125 9.71875 4.15625 18.75 \nz\n\" id=\"ArialMT-53\"/>\n     <path d=\"M 3.171875 21.484375 \nL 3.171875 30.328125 \nL 30.171875 30.328125 \nL 30.171875 21.484375 \nz\n\" id=\"ArialMT-45\"/>\n    </defs>\n    <g style=\"fill:#262626;\" transform=\"translate(237.240313 24.45)scale(0.24 -0.24)\">\n     <use xlink:href=\"#ArialMT-65\"/>\n     <use x=\"66.699219\" xlink:href=\"#ArialMT-114\"/>\n     <use x=\"100\" xlink:href=\"#ArialMT-109\"/>\n     <use x=\"183.300781\" xlink:href=\"#ArialMT-115\"/>\n     <use x=\"233.300781\" xlink:href=\"#ArialMT-32\"/>\n     <use x=\"259.333984\" xlink:href=\"#ArialMT-84\"/>\n     <use x=\"316.667969\" xlink:href=\"#ArialMT-114\"/>\n     <use x=\"349.96875\" xlink:href=\"#ArialMT-97\"/>\n     <use x=\"405.583984\" xlink:href=\"#ArialMT-100\"/>\n     <use x=\"461.199219\" xlink:href=\"#ArialMT-101\"/>\n     <use x=\"516.814453\" xlink:href=\"#ArialMT-32\"/>\n     <use x=\"544.597656\" xlink:href=\"#ArialMT-66\"/>\n     <use x=\"611.296875\" xlink:href=\"#ArialMT-121\"/>\n     <use x=\"661.296875\" xlink:href=\"#ArialMT-32\"/>\n     <use x=\"689.080078\" xlink:href=\"#ArialMT-82\"/>\n     <use x=\"761.296875\" xlink:href=\"#ArialMT-101\"/>\n     <use x=\"816.912109\" xlink:href=\"#ArialMT-99\"/>\n     <use x=\"866.912109\" xlink:href=\"#ArialMT-105\"/>\n     <use x=\"889.128906\" xlink:href=\"#ArialMT-112\"/>\n     <use x=\"944.744141\" xlink:href=\"#ArialMT-105\"/>\n     <use x=\"966.960938\" xlink:href=\"#ArialMT-101\"/>\n     <use x=\"1022.576172\" xlink:href=\"#ArialMT-110\"/>\n     <use x=\"1078.191406\" xlink:href=\"#ArialMT-116\"/>\n     <use x=\"1105.974609\" xlink:href=\"#ArialMT-32\"/>\n     <use x=\"1133.757812\" xlink:href=\"#ArialMT-49\"/>\n     <use x=\"1189.373047\" xlink:href=\"#ArialMT-57\"/>\n     <use x=\"1244.988281\" xlink:href=\"#ArialMT-53\"/>\n     <use x=\"1300.603516\" xlink:href=\"#ArialMT-48\"/>\n     <use x=\"1356.21875\" xlink:href=\"#ArialMT-45\"/>\n     <use x=\"1389.519531\" xlink:href=\"#ArialMT-50\"/>\n     <use x=\"1445.134766\" xlink:href=\"#ArialMT-48\"/>\n     <use x=\"1500.75\" xlink:href=\"#ArialMT-49\"/>\n     <use x=\"1556.365234\" xlink:href=\"#ArialMT-57\"/>\n    </g>\n   </g>\n  </g>\n </g>\n <defs>\n  <clipPath id=\"pd786440242\">\n   <rect height=\"298.98\" width=\"446.4\" x=\"207.465313\" y=\"30.45\"/>\n  </clipPath>\n </defs>\n</svg>\n",
      "image/png": "[encoded data removed]"
     },
     "metadata": {}
    }
   ],
   "source": [
    "sns.countplot(y=\"Recipient\", saturation=2, data=time_df, palette=\"Pastel1\",\n",
    "              order=time_df['Recipient'].value_counts().iloc[:10].index)\n",
    "\n",
    "fig = plt.gcf()\n",
    "ax = plt.gca()\n",
    "ax.set_title(\"Arms Trade By Recipient 1950-2019\")\n",
    "ax.set_xlabel(\"Distinct recorded trades\")\n",
    "# fig.savefig('./images/top_10_recipients.png',bbox_inches='tight')"
   ]
  },
  {
   "cell_type": "code",
   "execution_count": 59,
   "metadata": {
    "ExecuteTime": {
     "end_time": "2021-02-01T18:01:58.864136Z",
     "start_time": "2021-02-01T18:01:58.856099Z"
    }
   },
   "outputs": [
    {
     "output_type": "execute_result",
     "data": {
      "text/plain": [
       "United States       8665\n",
       "Soviet Union        3358\n",
       "France              2420\n",
       "United Kingdom      1912\n",
       "Germany             1205\n",
       "                    ... \n",
       "European Union**       1\n",
       "Bangladesh             1\n",
       "Armenia                1\n",
       "South Vietnam          1\n",
       "Zambia                 1\n",
       "Name: Supplier, Length: 136, dtype: int64"
      ]
     },
     "metadata": {},
     "execution_count": 59
    }
   ],
   "source": [
    "time_df.Supplier.value_counts()"
   ]
  },
  {
   "cell_type": "code",
   "execution_count": 60,
   "metadata": {
    "ExecuteTime": {
     "end_time": "2021-02-01T18:01:59.175301Z",
     "start_time": "2021-02-01T18:01:59.105685Z"
    }
   },
   "outputs": [
    {
     "output_type": "execute_result",
     "data": {
      "text/plain": [
       "       NOrdered NoDesignation WeaponDescription OrderYear DeliveryYear  \\\n",
       "count     26762         26762             26762     26762        26762   \n",
       "unique      788          3999               266       156          883   \n",
       "top           2  Mi-8MT/Mi-17               APC      2015      Pending   \n",
       "freq       2938           216              1495       367          764   \n",
       "\n",
       "       NDelivered     Comments       Supplier   Recipient  \n",
       "count       26762        26762          26762       26762  \n",
       "unique        775        14969            136         335  \n",
       "top             2  Second-hand  United States       India  \n",
       "freq         2874         2068           8665         714  "
      ],
      "text/html": "<div>\n<style scoped>\n    .dataframe tbody tr th:only-of-type {\n        vertical-align: middle;\n    }\n\n    .dataframe tbody tr th {\n        vertical-align: top;\n    }\n\n    .dataframe thead th {\n        text-align: right;\n    }\n</style>\n<table border=\"1\" class=\"dataframe\">\n  <thead>\n    <tr style=\"text-align: right;\">\n      <th></th>\n      <th>NOrdered</th>\n      <th>NoDesignation</th>\n      <th>WeaponDescription</th>\n      <th>OrderYear</th>\n      <th>DeliveryYear</th>\n      <th>NDelivered</th>\n      <th>Comments</th>\n      <th>Supplier</th>\n      <th>Recipient</th>\n    </tr>\n  </thead>\n  <tbody>\n    <tr>\n      <th>count</th>\n      <td>26762</td>\n      <td>26762</td>\n      <td>26762</td>\n      <td>26762</td>\n      <td>26762</td>\n      <td>26762</td>\n      <td>26762</td>\n      <td>26762</td>\n      <td>26762</td>\n    </tr>\n    <tr>\n      <th>unique</th>\n      <td>788</td>\n      <td>3999</td>\n      <td>266</td>\n      <td>156</td>\n      <td>883</td>\n      <td>775</td>\n      <td>14969</td>\n      <td>136</td>\n      <td>335</td>\n    </tr>\n    <tr>\n      <th>top</th>\n      <td>2</td>\n      <td>Mi-8MT/Mi-17</td>\n      <td>APC</td>\n      <td>2015</td>\n      <td>Pending</td>\n      <td>2</td>\n      <td>Second-hand</td>\n      <td>United States</td>\n      <td>India</td>\n    </tr>\n    <tr>\n      <th>freq</th>\n      <td>2938</td>\n      <td>216</td>\n      <td>1495</td>\n      <td>367</td>\n      <td>764</td>\n      <td>2874</td>\n      <td>2068</td>\n      <td>8665</td>\n      <td>714</td>\n    </tr>\n  </tbody>\n</table>\n</div>"
     },
     "metadata": {},
     "execution_count": 60
    }
   ],
   "source": [
    "time_df.describe()"
   ]
  },
  {
   "cell_type": "code",
   "execution_count": 61,
   "metadata": {
    "ExecuteTime": {
     "end_time": "2021-02-01T18:01:59.407431Z",
     "start_time": "2021-02-01T18:01:59.389832Z"
    }
   },
   "outputs": [
    {
     "output_type": "stream",
     "name": "stdout",
     "text": [
      "<class 'pandas.core.frame.DataFrame'>\nInt64Index: 26762 entries, 3 to 27034\nData columns (total 9 columns):\n #   Column             Non-Null Count  Dtype \n---  ------             --------------  ----- \n 0   NOrdered           26762 non-null  object\n 1   NoDesignation      26762 non-null  object\n 2   WeaponDescription  26762 non-null  object\n 3   OrderYear          26762 non-null  object\n 4   DeliveryYear       26762 non-null  object\n 5   NDelivered         26762 non-null  object\n 6   Comments           26762 non-null  object\n 7   Supplier           26762 non-null  object\n 8   Recipient          26762 non-null  object\ndtypes: object(9)\nmemory usage: 3.3+ MB\n"
     ]
    }
   ],
   "source": [
    "time_df.info()"
   ]
  },
  {
   "cell_type": "markdown",
   "metadata": {
    "ExecuteTime": {
     "end_time": "2021-01-25T10:00:51.019661Z",
     "start_time": "2021-01-25T10:00:51.017913Z"
    }
   },
   "source": [
    "## Recipient + supplier combos df"
   ]
  },
  {
   "cell_type": "code",
   "execution_count": 62,
   "metadata": {
    "ExecuteTime": {
     "end_time": "2021-02-01T18:02:00.259395Z",
     "start_time": "2021-02-01T18:02:00.255047Z"
    }
   },
   "outputs": [],
   "source": [
    "rec_sup_df = final_df.copy()"
   ]
  },
  {
   "cell_type": "code",
   "execution_count": 63,
   "metadata": {
    "ExecuteTime": {
     "end_time": "2021-02-01T18:02:00.738994Z",
     "start_time": "2021-02-01T18:02:00.709856Z"
    }
   },
   "outputs": [
    {
     "output_type": "execute_result",
     "data": {
      "text/plain": [
       "   NOrdered  NoDesignation   WeaponDescription OrderYear DeliveryYear  \\\n",
       "3        12     M-43 120mm              Mortar      2011         2011   \n",
       "6         4  N-262 Fregate  Transport aircraft      1980         1980   \n",
       "7         2          Il-28     Bomber aircraft      1967         1968   \n",
       "8         3       BTR-60PB                 APC      2016         2016   \n",
       "11        1       Noratlas  Transport aircraft      1979         1979   \n",
       "\n",
       "   NDelivered                  Comments Supplier            Recipient  \\\n",
       "3          12      Probably second-hand  Albania         Burkina Faso   \n",
       "6           4  Second-hand; incl for MP  Algeria               Angola   \n",
       "7           2               Second-hand  Algeria              Nigeria   \n",
       "8           3          Second-hand; aid  Algeria       Western Sahara   \n",
       "11          1          Second-hand; aid   Angola                Congo   \n",
       "\n",
       "                            RecSup  \n",
       "3          Albania -> Burkina Faso  \n",
       "6                Algeria -> Angola  \n",
       "7          Algeria ->      Nigeria  \n",
       "8   Algeria ->      Western Sahara  \n",
       "11                 Angola -> Congo  "
      ],
      "text/html": "<div>\n<style scoped>\n    .dataframe tbody tr th:only-of-type {\n        vertical-align: middle;\n    }\n\n    .dataframe tbody tr th {\n        vertical-align: top;\n    }\n\n    .dataframe thead th {\n        text-align: right;\n    }\n</style>\n<table border=\"1\" class=\"dataframe\">\n  <thead>\n    <tr style=\"text-align: right;\">\n      <th></th>\n      <th>NOrdered</th>\n      <th>NoDesignation</th>\n      <th>WeaponDescription</th>\n      <th>OrderYear</th>\n      <th>DeliveryYear</th>\n      <th>NDelivered</th>\n      <th>Comments</th>\n      <th>Supplier</th>\n      <th>Recipient</th>\n      <th>RecSup</th>\n    </tr>\n  </thead>\n  <tbody>\n    <tr>\n      <th>3</th>\n      <td>12</td>\n      <td>M-43 120mm</td>\n      <td>Mortar</td>\n      <td>2011</td>\n      <td>2011</td>\n      <td>12</td>\n      <td>Probably second-hand</td>\n      <td>Albania</td>\n      <td>Burkina Faso</td>\n      <td>Albania -&gt; Burkina Faso</td>\n    </tr>\n    <tr>\n      <th>6</th>\n      <td>4</td>\n      <td>N-262 Fregate</td>\n      <td>Transport aircraft</td>\n      <td>1980</td>\n      <td>1980</td>\n      <td>4</td>\n      <td>Second-hand; incl for MP</td>\n      <td>Algeria</td>\n      <td>Angola</td>\n      <td>Algeria -&gt; Angola</td>\n    </tr>\n    <tr>\n      <th>7</th>\n      <td>2</td>\n      <td>Il-28</td>\n      <td>Bomber aircraft</td>\n      <td>1967</td>\n      <td>1968</td>\n      <td>2</td>\n      <td>Second-hand</td>\n      <td>Algeria</td>\n      <td>Nigeria</td>\n      <td>Algeria -&gt;      Nigeria</td>\n    </tr>\n    <tr>\n      <th>8</th>\n      <td>3</td>\n      <td>BTR-60PB</td>\n      <td>APC</td>\n      <td>2016</td>\n      <td>2016</td>\n      <td>3</td>\n      <td>Second-hand; aid</td>\n      <td>Algeria</td>\n      <td>Western Sahara</td>\n      <td>Algeria -&gt;      Western Sahara</td>\n    </tr>\n    <tr>\n      <th>11</th>\n      <td>1</td>\n      <td>Noratlas</td>\n      <td>Transport aircraft</td>\n      <td>1979</td>\n      <td>1979</td>\n      <td>1</td>\n      <td>Second-hand; aid</td>\n      <td>Angola</td>\n      <td>Congo</td>\n      <td>Angola -&gt; Congo</td>\n    </tr>\n  </tbody>\n</table>\n</div>"
     },
     "metadata": {},
     "execution_count": 63
    }
   ],
   "source": [
    "rec_sup_df['RecSup'] = rec_sup_df[\"Supplier\"] + \" -> \" + rec_sup_df['Recipient']\n",
    "\n",
    "rec_sup_df.head()"
   ]
  },
  {
   "cell_type": "markdown",
   "metadata": {},
   "source": [
    "# Top trading partners plot, the US is the biggest supplier"
   ]
  },
  {
   "cell_type": "code",
   "execution_count": 64,
   "metadata": {
    "ExecuteTime": {
     "end_time": "2021-02-01T18:02:02.592951Z",
     "start_time": "2021-02-01T18:02:02.091682Z"
    }
   },
   "outputs": [
    {
     "output_type": "execute_result",
     "data": {
      "text/plain": [
       "Text(0.5, 0, 'Total trades between partners')"
      ]
     },
     "metadata": {},
     "execution_count": 64
    },
    {
     "output_type": "display_data",
     "data": {
      "text/plain": "<Figure size 576x396 with 1 Axes>",
      "image/svg+xml": "<?xml version=\"1.0\" encoding=\"utf-8\" standalone=\"no\"?>\n<!DOCTYPE svg PUBLIC \"-//W3C//DTD SVG 1.1//EN\"\n  \"http://www.w3.org/Graphics/SVG/1.1/DTD/svg11.dtd\">\n<!-- Created with matplotlib (https://matplotlib.org/) -->\n<svg height=\"401.698437pt\" version=\"1.1\" viewBox=\"0 0 825.825 401.698437\" width=\"825.825pt\" xmlns=\"http://www.w3.org/2000/svg\" xmlns:xlink=\"http://www.w3.org/1999/xlink\">\n <defs>\n  <style type=\"text/css\">\n*{stroke-linecap:butt;stroke-linejoin:round;}\n  </style>\n </defs>\n <g id=\"figure_1\">\n  <g id=\"patch_1\">\n   <path d=\"M 0 401.698437 \nL 825.825 401.698437 \nL 825.825 0 \nL 0 0 \nz\n\" style=\"fill:#ffffff;\"/>\n  </g>\n  <g id=\"axes_1\">\n   <g id=\"patch_2\">\n    <path d=\"M 372.225 329.43 \nL 818.625 329.43 \nL 818.625 30.45 \nL 372.225 30.45 \nz\n\" style=\"fill:#eaeaf2;\"/>\n   </g>\n   <g id=\"matplotlib.axis_1\">\n    <g id=\"xtick_1\">\n     <g id=\"text_1\">\n      <!-- 0 -->\n      <defs>\n       <path d=\"M 4.15625 35.296875 \nQ 4.15625 48 6.765625 55.734375 \nQ 9.375 63.484375 14.515625 67.671875 \nQ 19.671875 71.875 27.484375 71.875 \nQ 33.25 71.875 37.59375 69.546875 \nQ 41.9375 67.234375 44.765625 62.859375 \nQ 47.609375 58.5 49.21875 52.21875 \nQ 50.828125 45.953125 50.828125 35.296875 \nQ 50.828125 22.703125 48.234375 14.96875 \nQ 45.65625 7.234375 40.5 3 \nQ 35.359375 -1.21875 27.484375 -1.21875 \nQ 17.140625 -1.21875 11.234375 6.203125 \nQ 4.15625 15.140625 4.15625 35.296875 \nz\nM 13.1875 35.296875 \nQ 13.1875 17.671875 17.3125 11.828125 \nQ 21.4375 6 27.484375 6 \nQ 33.546875 6 37.671875 11.859375 \nQ 41.796875 17.71875 41.796875 35.296875 \nQ 41.796875 52.984375 37.671875 58.78125 \nQ 33.546875 64.59375 27.390625 64.59375 \nQ 21.34375 64.59375 17.71875 59.46875 \nQ 13.1875 52.9375 13.1875 35.296875 \nz\n\" id=\"ArialMT-48\"/>\n      </defs>\n      <g style=\"fill:#262626;\" transform=\"translate(366.107969 364.177187)scale(0.22 -0.22)\">\n       <use xlink:href=\"#ArialMT-48\"/>\n      </g>\n     </g>\n    </g>\n    <g id=\"xtick_2\">\n     <g id=\"text_2\">\n      <!-- 100 -->\n      <defs>\n       <path d=\"M 37.25 0 \nL 28.46875 0 \nL 28.46875 56 \nQ 25.296875 52.984375 20.140625 49.953125 \nQ 14.984375 46.921875 10.890625 45.40625 \nL 10.890625 53.90625 \nQ 18.265625 57.375 23.78125 62.296875 \nQ 29.296875 67.234375 31.59375 71.875 \nL 37.25 71.875 \nz\n\" id=\"ArialMT-49\"/>\n      </defs>\n      <g style=\"fill:#262626;\" transform=\"translate(472.628894 364.177187)scale(0.22 -0.22)\">\n       <use xlink:href=\"#ArialMT-49\"/>\n       <use x=\"55.615234\" xlink:href=\"#ArialMT-48\"/>\n       <use x=\"111.230469\" xlink:href=\"#ArialMT-48\"/>\n      </g>\n     </g>\n    </g>\n    <g id=\"xtick_3\">\n     <g id=\"text_3\">\n      <!-- 200 -->\n      <defs>\n       <path d=\"M 50.34375 8.453125 \nL 50.34375 0 \nL 3.03125 0 \nQ 2.9375 3.171875 4.046875 6.109375 \nQ 5.859375 10.9375 9.828125 15.625 \nQ 13.8125 20.3125 21.34375 26.46875 \nQ 33.015625 36.03125 37.109375 41.625 \nQ 41.21875 47.21875 41.21875 52.203125 \nQ 41.21875 57.421875 37.46875 61 \nQ 33.734375 64.59375 27.734375 64.59375 \nQ 21.390625 64.59375 17.578125 60.78125 \nQ 13.765625 56.984375 13.71875 50.25 \nL 4.6875 51.171875 \nQ 5.609375 61.28125 11.65625 66.578125 \nQ 17.71875 71.875 27.9375 71.875 \nQ 38.234375 71.875 44.234375 66.15625 \nQ 50.25 60.453125 50.25 52 \nQ 50.25 47.703125 48.484375 43.546875 \nQ 46.734375 39.40625 42.65625 34.8125 \nQ 38.578125 30.21875 29.109375 22.21875 \nQ 21.1875 15.578125 18.9375 13.203125 \nQ 16.703125 10.84375 15.234375 8.453125 \nz\n\" id=\"ArialMT-50\"/>\n      </defs>\n      <g style=\"fill:#262626;\" transform=\"translate(591.383882 364.177187)scale(0.22 -0.22)\">\n       <use xlink:href=\"#ArialMT-50\"/>\n       <use x=\"55.615234\" xlink:href=\"#ArialMT-48\"/>\n       <use x=\"111.230469\" xlink:href=\"#ArialMT-48\"/>\n      </g>\n     </g>\n    </g>\n    <g id=\"xtick_4\">\n     <g id=\"text_4\">\n      <!-- 300 -->\n      <defs>\n       <path d=\"M 4.203125 18.890625 \nL 12.984375 20.0625 \nQ 14.5 12.59375 18.140625 9.296875 \nQ 21.78125 6 27 6 \nQ 33.203125 6 37.46875 10.296875 \nQ 41.75 14.59375 41.75 20.953125 \nQ 41.75 27 37.796875 30.921875 \nQ 33.84375 34.859375 27.734375 34.859375 \nQ 25.25 34.859375 21.53125 33.890625 \nL 22.515625 41.609375 \nQ 23.390625 41.5 23.921875 41.5 \nQ 29.546875 41.5 34.03125 44.421875 \nQ 38.53125 47.359375 38.53125 53.46875 \nQ 38.53125 58.296875 35.25 61.46875 \nQ 31.984375 64.65625 26.8125 64.65625 \nQ 21.6875 64.65625 18.265625 61.421875 \nQ 14.84375 58.203125 13.875 51.765625 \nL 5.078125 53.328125 \nQ 6.6875 62.15625 12.390625 67.015625 \nQ 18.109375 71.875 26.609375 71.875 \nQ 32.46875 71.875 37.390625 69.359375 \nQ 42.328125 66.84375 44.9375 62.5 \nQ 47.5625 58.15625 47.5625 53.265625 \nQ 47.5625 48.640625 45.0625 44.828125 \nQ 42.578125 41.015625 37.703125 38.765625 \nQ 44.046875 37.3125 47.5625 32.6875 \nQ 51.078125 28.078125 51.078125 21.140625 \nQ 51.078125 11.765625 44.234375 5.25 \nQ 37.40625 -1.265625 26.953125 -1.265625 \nQ 17.53125 -1.265625 11.296875 4.34375 \nQ 5.078125 9.96875 4.203125 18.890625 \nz\n\" id=\"ArialMT-51\"/>\n      </defs>\n      <g style=\"fill:#262626;\" transform=\"translate(710.13887 364.177187)scale(0.22 -0.22)\">\n       <use xlink:href=\"#ArialMT-51\"/>\n       <use x=\"55.615234\" xlink:href=\"#ArialMT-48\"/>\n       <use x=\"111.230469\" xlink:href=\"#ArialMT-48\"/>\n      </g>\n     </g>\n    </g>\n    <g id=\"text_5\">\n     <!-- Total trades between partners -->\n     <defs>\n      <path d=\"M 25.921875 0 \nL 25.921875 63.140625 \nL 2.34375 63.140625 \nL 2.34375 71.578125 \nL 59.078125 71.578125 \nL 59.078125 63.140625 \nL 35.40625 63.140625 \nL 35.40625 0 \nz\n\" id=\"ArialMT-84\"/>\n      <path d=\"M 3.328125 25.921875 \nQ 3.328125 40.328125 11.328125 47.265625 \nQ 18.015625 53.03125 27.640625 53.03125 \nQ 38.328125 53.03125 45.109375 46.015625 \nQ 51.90625 39.015625 51.90625 26.65625 \nQ 51.90625 16.65625 48.90625 10.90625 \nQ 45.90625 5.171875 40.15625 2 \nQ 34.421875 -1.171875 27.640625 -1.171875 \nQ 16.75 -1.171875 10.03125 5.8125 \nQ 3.328125 12.796875 3.328125 25.921875 \nz\nM 12.359375 25.921875 \nQ 12.359375 15.96875 16.703125 11.015625 \nQ 21.046875 6.0625 27.640625 6.0625 \nQ 34.1875 6.0625 38.53125 11.03125 \nQ 42.875 16.015625 42.875 26.21875 \nQ 42.875 35.84375 38.5 40.796875 \nQ 34.125 45.75 27.640625 45.75 \nQ 21.046875 45.75 16.703125 40.8125 \nQ 12.359375 35.890625 12.359375 25.921875 \nz\n\" id=\"ArialMT-111\"/>\n      <path d=\"M 25.78125 7.859375 \nL 27.046875 0.09375 \nQ 23.34375 -0.6875 20.40625 -0.6875 \nQ 15.625 -0.6875 12.984375 0.828125 \nQ 10.359375 2.34375 9.28125 4.8125 \nQ 8.203125 7.28125 8.203125 15.1875 \nL 8.203125 45.015625 \nL 1.765625 45.015625 \nL 1.765625 51.859375 \nL 8.203125 51.859375 \nL 8.203125 64.703125 \nL 16.9375 69.96875 \nL 16.9375 51.859375 \nL 25.78125 51.859375 \nL 25.78125 45.015625 \nL 16.9375 45.015625 \nL 16.9375 14.703125 \nQ 16.9375 10.9375 17.40625 9.859375 \nQ 17.875 8.796875 18.921875 8.15625 \nQ 19.96875 7.515625 21.921875 7.515625 \nQ 23.390625 7.515625 25.78125 7.859375 \nz\n\" id=\"ArialMT-116\"/>\n      <path d=\"M 40.4375 6.390625 \nQ 35.546875 2.25 31.03125 0.53125 \nQ 26.515625 -1.171875 21.34375 -1.171875 \nQ 12.796875 -1.171875 8.203125 3 \nQ 3.609375 7.171875 3.609375 13.671875 \nQ 3.609375 17.484375 5.34375 20.625 \nQ 7.078125 23.78125 9.890625 25.6875 \nQ 12.703125 27.59375 16.21875 28.5625 \nQ 18.796875 29.25 24.03125 29.890625 \nQ 34.671875 31.15625 39.703125 32.90625 \nQ 39.75 34.71875 39.75 35.203125 \nQ 39.75 40.578125 37.25 42.78125 \nQ 33.890625 45.75 27.25 45.75 \nQ 21.046875 45.75 18.09375 43.578125 \nQ 15.140625 41.40625 13.71875 35.890625 \nL 5.125 37.0625 \nQ 6.296875 42.578125 8.984375 45.96875 \nQ 11.671875 49.359375 16.75 51.1875 \nQ 21.828125 53.03125 28.515625 53.03125 \nQ 35.15625 53.03125 39.296875 51.46875 \nQ 43.453125 49.90625 45.40625 47.53125 \nQ 47.359375 45.171875 48.140625 41.546875 \nQ 48.578125 39.3125 48.578125 33.453125 \nL 48.578125 21.734375 \nQ 48.578125 9.46875 49.140625 6.21875 \nQ 49.703125 2.984375 51.375 0 \nL 42.1875 0 \nQ 40.828125 2.734375 40.4375 6.390625 \nz\nM 39.703125 26.03125 \nQ 34.90625 24.078125 25.34375 22.703125 \nQ 19.921875 21.921875 17.671875 20.9375 \nQ 15.4375 19.96875 14.203125 18.09375 \nQ 12.984375 16.21875 12.984375 13.921875 \nQ 12.984375 10.40625 15.640625 8.0625 \nQ 18.3125 5.71875 23.4375 5.71875 \nQ 28.515625 5.71875 32.46875 7.9375 \nQ 36.421875 10.15625 38.28125 14.015625 \nQ 39.703125 17 39.703125 22.796875 \nz\n\" id=\"ArialMT-97\"/>\n      <path d=\"M 6.390625 0 \nL 6.390625 71.578125 \nL 15.1875 71.578125 \nL 15.1875 0 \nz\n\" id=\"ArialMT-108\"/>\n      <path id=\"ArialMT-32\"/>\n      <path d=\"M 6.5 0 \nL 6.5 51.859375 \nL 14.40625 51.859375 \nL 14.40625 44 \nQ 17.4375 49.515625 20 51.265625 \nQ 22.5625 53.03125 25.640625 53.03125 \nQ 30.078125 53.03125 34.671875 50.203125 \nL 31.640625 42.046875 \nQ 28.421875 43.953125 25.203125 43.953125 \nQ 22.3125 43.953125 20.015625 42.21875 \nQ 17.71875 40.484375 16.75 37.40625 \nQ 15.28125 32.71875 15.28125 27.15625 \nL 15.28125 0 \nz\n\" id=\"ArialMT-114\"/>\n      <path d=\"M 40.234375 0 \nL 40.234375 6.546875 \nQ 35.296875 -1.171875 25.734375 -1.171875 \nQ 19.53125 -1.171875 14.328125 2.25 \nQ 9.125 5.671875 6.265625 11.796875 \nQ 3.421875 17.921875 3.421875 25.875 \nQ 3.421875 33.640625 6 39.96875 \nQ 8.59375 46.296875 13.765625 49.65625 \nQ 18.953125 53.03125 25.34375 53.03125 \nQ 30.03125 53.03125 33.6875 51.046875 \nQ 37.359375 49.078125 39.65625 45.90625 \nL 39.65625 71.578125 \nL 48.390625 71.578125 \nL 48.390625 0 \nz\nM 12.453125 25.875 \nQ 12.453125 15.921875 16.640625 10.984375 \nQ 20.84375 6.0625 26.5625 6.0625 \nQ 32.328125 6.0625 36.34375 10.765625 \nQ 40.375 15.484375 40.375 25.140625 \nQ 40.375 35.796875 36.265625 40.765625 \nQ 32.171875 45.75 26.171875 45.75 \nQ 20.3125 45.75 16.375 40.96875 \nQ 12.453125 36.1875 12.453125 25.875 \nz\n\" id=\"ArialMT-100\"/>\n      <path d=\"M 42.09375 16.703125 \nL 51.171875 15.578125 \nQ 49.03125 7.625 43.21875 3.21875 \nQ 37.40625 -1.171875 28.375 -1.171875 \nQ 17 -1.171875 10.328125 5.828125 \nQ 3.65625 12.84375 3.65625 25.484375 \nQ 3.65625 38.578125 10.390625 45.796875 \nQ 17.140625 53.03125 27.875 53.03125 \nQ 38.28125 53.03125 44.875 45.953125 \nQ 51.46875 38.875 51.46875 26.03125 \nQ 51.46875 25.25 51.421875 23.6875 \nL 12.75 23.6875 \nQ 13.234375 15.140625 17.578125 10.59375 \nQ 21.921875 6.0625 28.421875 6.0625 \nQ 33.25 6.0625 36.671875 8.59375 \nQ 40.09375 11.140625 42.09375 16.703125 \nz\nM 13.234375 30.90625 \nL 42.1875 30.90625 \nQ 41.609375 37.453125 38.875 40.71875 \nQ 34.671875 45.796875 27.984375 45.796875 \nQ 21.921875 45.796875 17.796875 41.75 \nQ 13.671875 37.703125 13.234375 30.90625 \nz\n\" id=\"ArialMT-101\"/>\n      <path d=\"M 3.078125 15.484375 \nL 11.765625 16.84375 \nQ 12.5 11.625 15.84375 8.84375 \nQ 19.1875 6.0625 25.203125 6.0625 \nQ 31.25 6.0625 34.171875 8.515625 \nQ 37.109375 10.984375 37.109375 14.3125 \nQ 37.109375 17.28125 34.515625 19 \nQ 32.71875 20.171875 25.53125 21.96875 \nQ 15.875 24.421875 12.140625 26.203125 \nQ 8.40625 27.984375 6.46875 31.125 \nQ 4.546875 34.28125 4.546875 38.09375 \nQ 4.546875 41.546875 6.125 44.5 \nQ 7.71875 47.46875 10.453125 49.421875 \nQ 12.5 50.921875 16.03125 51.96875 \nQ 19.578125 53.03125 23.640625 53.03125 \nQ 29.734375 53.03125 34.34375 51.265625 \nQ 38.96875 49.515625 41.15625 46.5 \nQ 43.359375 43.5 44.1875 38.484375 \nL 35.59375 37.3125 \nQ 35.015625 41.3125 32.203125 43.546875 \nQ 29.390625 45.796875 24.265625 45.796875 \nQ 18.21875 45.796875 15.625 43.796875 \nQ 13.03125 41.796875 13.03125 39.109375 \nQ 13.03125 37.40625 14.109375 36.03125 \nQ 15.1875 34.625 17.484375 33.6875 \nQ 18.796875 33.203125 25.25 31.453125 \nQ 34.578125 28.953125 38.25 27.359375 \nQ 41.9375 25.78125 44.03125 22.75 \nQ 46.140625 19.734375 46.140625 15.234375 \nQ 46.140625 10.84375 43.578125 6.953125 \nQ 41.015625 3.078125 36.171875 0.953125 \nQ 31.34375 -1.171875 25.25 -1.171875 \nQ 15.140625 -1.171875 9.84375 3.03125 \nQ 4.546875 7.234375 3.078125 15.484375 \nz\n\" id=\"ArialMT-115\"/>\n      <path d=\"M 14.703125 0 \nL 6.546875 0 \nL 6.546875 71.578125 \nL 15.328125 71.578125 \nL 15.328125 46.046875 \nQ 20.90625 53.03125 29.546875 53.03125 \nQ 34.328125 53.03125 38.59375 51.09375 \nQ 42.875 49.171875 45.625 45.671875 \nQ 48.390625 42.1875 49.953125 37.25 \nQ 51.515625 32.328125 51.515625 26.703125 \nQ 51.515625 13.375 44.921875 6.09375 \nQ 38.328125 -1.171875 29.109375 -1.171875 \nQ 19.921875 -1.171875 14.703125 6.5 \nz\nM 14.59375 26.3125 \nQ 14.59375 17 17.140625 12.84375 \nQ 21.296875 6.0625 28.375 6.0625 \nQ 34.125 6.0625 38.328125 11.0625 \nQ 42.53125 16.0625 42.53125 25.984375 \nQ 42.53125 36.140625 38.5 40.96875 \nQ 34.46875 45.796875 28.765625 45.796875 \nQ 23 45.796875 18.796875 40.796875 \nQ 14.59375 35.796875 14.59375 26.3125 \nz\n\" id=\"ArialMT-98\"/>\n      <path d=\"M 16.15625 0 \nL 0.296875 51.859375 \nL 9.375 51.859375 \nL 17.625 21.921875 \nL 20.703125 10.796875 \nQ 20.90625 11.625 23.390625 21.484375 \nL 31.640625 51.859375 \nL 40.671875 51.859375 \nL 48.4375 21.78125 \nL 51.03125 11.859375 \nL 54 21.875 \nL 62.890625 51.859375 \nL 71.4375 51.859375 \nL 55.21875 0 \nL 46.09375 0 \nL 37.84375 31.0625 \nL 35.84375 39.890625 \nL 25.34375 0 \nz\n\" id=\"ArialMT-119\"/>\n      <path d=\"M 6.59375 0 \nL 6.59375 51.859375 \nL 14.5 51.859375 \nL 14.5 44.484375 \nQ 20.21875 53.03125 31 53.03125 \nQ 35.6875 53.03125 39.625 51.34375 \nQ 43.5625 49.65625 45.515625 46.921875 \nQ 47.46875 44.1875 48.25 40.4375 \nQ 48.734375 37.984375 48.734375 31.890625 \nL 48.734375 0 \nL 39.9375 0 \nL 39.9375 31.546875 \nQ 39.9375 36.921875 38.90625 39.578125 \nQ 37.890625 42.234375 35.28125 43.8125 \nQ 32.671875 45.40625 29.15625 45.40625 \nQ 23.53125 45.40625 19.453125 41.84375 \nQ 15.375 38.28125 15.375 28.328125 \nL 15.375 0 \nz\n\" id=\"ArialMT-110\"/>\n      <path d=\"M 6.59375 -19.875 \nL 6.59375 51.859375 \nL 14.59375 51.859375 \nL 14.59375 45.125 \nQ 17.4375 49.078125 21 51.046875 \nQ 24.5625 53.03125 29.640625 53.03125 \nQ 36.28125 53.03125 41.359375 49.609375 \nQ 46.4375 46.1875 49.015625 39.953125 \nQ 51.609375 33.734375 51.609375 26.3125 \nQ 51.609375 18.359375 48.75 11.984375 \nQ 45.90625 5.609375 40.453125 2.21875 \nQ 35.015625 -1.171875 29 -1.171875 \nQ 24.609375 -1.171875 21.109375 0.6875 \nQ 17.625 2.546875 15.375 5.375 \nL 15.375 -19.875 \nz\nM 14.546875 25.640625 \nQ 14.546875 15.625 18.59375 10.84375 \nQ 22.65625 6.0625 28.421875 6.0625 \nQ 34.28125 6.0625 38.453125 11.015625 \nQ 42.625 15.96875 42.625 26.375 \nQ 42.625 36.28125 38.546875 41.203125 \nQ 34.46875 46.140625 28.8125 46.140625 \nQ 23.1875 46.140625 18.859375 40.890625 \nQ 14.546875 35.640625 14.546875 25.640625 \nz\n\" id=\"ArialMT-112\"/>\n     </defs>\n     <g style=\"fill:#262626;\" transform=\"translate(437.35125 389.728437)scale(0.24 -0.24)\">\n      <use xlink:href=\"#ArialMT-84\"/>\n      <use x=\"49.958984\" xlink:href=\"#ArialMT-111\"/>\n      <use x=\"105.574219\" xlink:href=\"#ArialMT-116\"/>\n      <use x=\"133.357422\" xlink:href=\"#ArialMT-97\"/>\n      <use x=\"188.972656\" xlink:href=\"#ArialMT-108\"/>\n      <use x=\"211.189453\" xlink:href=\"#ArialMT-32\"/>\n      <use x=\"238.972656\" xlink:href=\"#ArialMT-116\"/>\n      <use x=\"266.755859\" xlink:href=\"#ArialMT-114\"/>\n      <use x=\"300.056641\" xlink:href=\"#ArialMT-97\"/>\n      <use x=\"355.671875\" xlink:href=\"#ArialMT-100\"/>\n      <use x=\"411.287109\" xlink:href=\"#ArialMT-101\"/>\n      <use x=\"466.902344\" xlink:href=\"#ArialMT-115\"/>\n      <use x=\"516.902344\" xlink:href=\"#ArialMT-32\"/>\n      <use x=\"544.685547\" xlink:href=\"#ArialMT-98\"/>\n      <use x=\"600.300781\" xlink:href=\"#ArialMT-101\"/>\n      <use x=\"655.916016\" xlink:href=\"#ArialMT-116\"/>\n      <use x=\"683.699219\" xlink:href=\"#ArialMT-119\"/>\n      <use x=\"755.916016\" xlink:href=\"#ArialMT-101\"/>\n      <use x=\"811.53125\" xlink:href=\"#ArialMT-101\"/>\n      <use x=\"867.146484\" xlink:href=\"#ArialMT-110\"/>\n      <use x=\"922.761719\" xlink:href=\"#ArialMT-32\"/>\n      <use x=\"950.544922\" xlink:href=\"#ArialMT-112\"/>\n      <use x=\"1006.160156\" xlink:href=\"#ArialMT-97\"/>\n      <use x=\"1061.775391\" xlink:href=\"#ArialMT-114\"/>\n      <use x=\"1095.076172\" xlink:href=\"#ArialMT-116\"/>\n      <use x=\"1122.859375\" xlink:href=\"#ArialMT-110\"/>\n      <use x=\"1178.474609\" xlink:href=\"#ArialMT-101\"/>\n      <use x=\"1234.089844\" xlink:href=\"#ArialMT-114\"/>\n      <use x=\"1267.390625\" xlink:href=\"#ArialMT-115\"/>\n     </g>\n    </g>\n   </g>\n   <g id=\"matplotlib.axis_2\">\n    <g id=\"ytick_1\">\n     <g id=\"text_6\">\n      <!-- United States -&gt;      South Korea -->\n      <defs>\n       <path d=\"M 54.6875 71.578125 \nL 64.15625 71.578125 \nL 64.15625 30.21875 \nQ 64.15625 19.4375 61.71875 13.078125 \nQ 59.28125 6.734375 52.90625 2.75 \nQ 46.53125 -1.21875 36.1875 -1.21875 \nQ 26.125 -1.21875 19.71875 2.25 \nQ 13.328125 5.71875 10.59375 12.28125 \nQ 7.859375 18.84375 7.859375 30.21875 \nL 7.859375 71.578125 \nL 17.328125 71.578125 \nL 17.328125 30.28125 \nQ 17.328125 20.953125 19.0625 16.53125 \nQ 20.796875 12.109375 25.015625 9.71875 \nQ 29.25 7.328125 35.359375 7.328125 \nQ 45.796875 7.328125 50.234375 12.0625 \nQ 54.6875 16.796875 54.6875 30.28125 \nz\n\" id=\"ArialMT-85\"/>\n       <path d=\"M 6.640625 61.46875 \nL 6.640625 71.578125 \nL 15.4375 71.578125 \nL 15.4375 61.46875 \nz\nM 6.640625 0 \nL 6.640625 51.859375 \nL 15.4375 51.859375 \nL 15.4375 0 \nz\n\" id=\"ArialMT-105\"/>\n       <path d=\"M 4.5 23 \nL 13.421875 23.78125 \nQ 14.0625 18.40625 16.375 14.96875 \nQ 18.703125 11.53125 23.578125 9.40625 \nQ 28.46875 7.28125 34.578125 7.28125 \nQ 39.984375 7.28125 44.140625 8.890625 \nQ 48.296875 10.5 50.3125 13.296875 \nQ 52.34375 16.109375 52.34375 19.4375 \nQ 52.34375 22.796875 50.390625 25.3125 \nQ 48.4375 27.828125 43.953125 29.546875 \nQ 41.0625 30.671875 31.203125 33.03125 \nQ 21.34375 35.40625 17.390625 37.5 \nQ 12.25 40.1875 9.734375 44.15625 \nQ 7.234375 48.140625 7.234375 53.078125 \nQ 7.234375 58.5 10.296875 63.203125 \nQ 13.375 67.921875 19.28125 70.359375 \nQ 25.203125 72.796875 32.421875 72.796875 \nQ 40.375 72.796875 46.453125 70.234375 \nQ 52.546875 67.671875 55.8125 62.6875 \nQ 59.078125 57.71875 59.328125 51.421875 \nL 50.25 50.734375 \nQ 49.515625 57.515625 45.28125 60.984375 \nQ 41.0625 64.453125 32.8125 64.453125 \nQ 24.21875 64.453125 20.28125 61.296875 \nQ 16.359375 58.15625 16.359375 53.71875 \nQ 16.359375 49.859375 19.140625 47.359375 \nQ 21.875 44.875 33.421875 42.265625 \nQ 44.96875 39.65625 49.265625 37.703125 \nQ 55.515625 34.8125 58.484375 30.390625 \nQ 61.46875 25.984375 61.46875 20.21875 \nQ 61.46875 14.5 58.203125 9.4375 \nQ 54.9375 4.390625 48.796875 1.578125 \nQ 42.671875 -1.21875 35.015625 -1.21875 \nQ 25.296875 -1.21875 18.71875 1.609375 \nQ 12.15625 4.4375 8.421875 10.125 \nQ 4.6875 15.828125 4.5 23 \nz\n\" id=\"ArialMT-83\"/>\n       <path d=\"M 3.171875 21.484375 \nL 3.171875 30.328125 \nL 30.171875 30.328125 \nL 30.171875 21.484375 \nz\n\" id=\"ArialMT-45\"/>\n       <path d=\"M 52.875 31.296875 \nL 5.46875 11.03125 \nL 5.46875 19.78125 \nL 43.015625 35.359375 \nL 5.46875 50.78125 \nL 5.46875 59.515625 \nL 52.875 39.5 \nz\n\" id=\"ArialMT-62\"/>\n       <path d=\"M 40.578125 0 \nL 40.578125 7.625 \nQ 34.515625 -1.171875 24.125 -1.171875 \nQ 19.53125 -1.171875 15.546875 0.578125 \nQ 11.578125 2.34375 9.640625 5 \nQ 7.71875 7.671875 6.9375 11.53125 \nQ 6.390625 14.109375 6.390625 19.734375 \nL 6.390625 51.859375 \nL 15.1875 51.859375 \nL 15.1875 23.09375 \nQ 15.1875 16.21875 15.71875 13.8125 \nQ 16.546875 10.359375 19.234375 8.375 \nQ 21.921875 6.390625 25.875 6.390625 \nQ 29.828125 6.390625 33.296875 8.421875 \nQ 36.765625 10.453125 38.203125 13.9375 \nQ 39.65625 17.4375 39.65625 24.078125 \nL 39.65625 51.859375 \nL 48.4375 51.859375 \nL 48.4375 0 \nz\n\" id=\"ArialMT-117\"/>\n       <path d=\"M 6.59375 0 \nL 6.59375 71.578125 \nL 15.375 71.578125 \nL 15.375 45.90625 \nQ 21.53125 53.03125 30.90625 53.03125 \nQ 36.671875 53.03125 40.921875 50.75 \nQ 45.171875 48.484375 47 44.484375 \nQ 48.828125 40.484375 48.828125 32.859375 \nL 48.828125 0 \nL 40.046875 0 \nL 40.046875 32.859375 \nQ 40.046875 39.453125 37.1875 42.453125 \nQ 34.328125 45.453125 29.109375 45.453125 \nQ 25.203125 45.453125 21.75 43.421875 \nQ 18.3125 41.40625 16.84375 37.9375 \nQ 15.375 34.46875 15.375 28.375 \nL 15.375 0 \nz\n\" id=\"ArialMT-104\"/>\n       <path d=\"M 7.328125 0 \nL 7.328125 71.578125 \nL 16.796875 71.578125 \nL 16.796875 36.078125 \nL 52.34375 71.578125 \nL 65.1875 71.578125 \nL 35.15625 42.578125 \nL 66.5 0 \nL 54 0 \nL 28.515625 36.234375 \nL 16.796875 24.8125 \nL 16.796875 0 \nz\n\" id=\"ArialMT-75\"/>\n      </defs>\n      <g style=\"fill:#262626;\" transform=\"translate(35.895625 53.272594)scale(0.22 -0.22)\">\n       <use xlink:href=\"#ArialMT-85\"/>\n       <use x=\"72.216797\" xlink:href=\"#ArialMT-110\"/>\n       <use x=\"127.832031\" xlink:href=\"#ArialMT-105\"/>\n       <use x=\"150.048828\" xlink:href=\"#ArialMT-116\"/>\n       <use x=\"177.832031\" xlink:href=\"#ArialMT-101\"/>\n       <use x=\"233.447266\" xlink:href=\"#ArialMT-100\"/>\n       <use x=\"289.0625\" xlink:href=\"#ArialMT-32\"/>\n       <use x=\"316.845703\" xlink:href=\"#ArialMT-83\"/>\n       <use x=\"383.544922\" xlink:href=\"#ArialMT-116\"/>\n       <use x=\"411.328125\" xlink:href=\"#ArialMT-97\"/>\n       <use x=\"466.943359\" xlink:href=\"#ArialMT-116\"/>\n       <use x=\"494.726562\" xlink:href=\"#ArialMT-101\"/>\n       <use x=\"550.341797\" xlink:href=\"#ArialMT-115\"/>\n       <use x=\"600.341797\" xlink:href=\"#ArialMT-32\"/>\n       <use x=\"628.125\" xlink:href=\"#ArialMT-45\"/>\n       <use x=\"661.425781\" xlink:href=\"#ArialMT-62\"/>\n       <use x=\"719.824219\" xlink:href=\"#ArialMT-32\"/>\n       <use x=\"747.607422\" xlink:href=\"#ArialMT-32\"/>\n       <use x=\"775.390625\" xlink:href=\"#ArialMT-32\"/>\n       <use x=\"803.173828\" xlink:href=\"#ArialMT-32\"/>\n       <use x=\"830.957031\" xlink:href=\"#ArialMT-32\"/>\n       <use x=\"858.740234\" xlink:href=\"#ArialMT-32\"/>\n       <use x=\"886.523438\" xlink:href=\"#ArialMT-83\"/>\n       <use x=\"953.222656\" xlink:href=\"#ArialMT-111\"/>\n       <use x=\"1008.837891\" xlink:href=\"#ArialMT-117\"/>\n       <use x=\"1064.453125\" xlink:href=\"#ArialMT-116\"/>\n       <use x=\"1092.236328\" xlink:href=\"#ArialMT-104\"/>\n       <use x=\"1147.851562\" xlink:href=\"#ArialMT-32\"/>\n       <use x=\"1175.634766\" xlink:href=\"#ArialMT-75\"/>\n       <use x=\"1242.333984\" xlink:href=\"#ArialMT-111\"/>\n       <use x=\"1297.949219\" xlink:href=\"#ArialMT-114\"/>\n       <use x=\"1331.25\" xlink:href=\"#ArialMT-101\"/>\n       <use x=\"1386.865234\" xlink:href=\"#ArialMT-97\"/>\n      </g>\n     </g>\n    </g>\n    <g id=\"ytick_2\">\n     <g id=\"text_7\">\n      <!-- United States -&gt;      Japan -->\n      <defs>\n       <path d=\"M 2.875 20.3125 \nL 11.421875 21.484375 \nQ 11.765625 13.28125 14.5 10.25 \nQ 17.234375 7.234375 22.078125 7.234375 \nQ 25.640625 7.234375 28.21875 8.859375 \nQ 30.8125 10.5 31.78125 13.296875 \nQ 32.765625 16.109375 32.765625 22.265625 \nL 32.765625 71.578125 \nL 42.234375 71.578125 \nL 42.234375 22.796875 \nQ 42.234375 13.8125 40.0625 8.875 \nQ 37.890625 3.953125 33.171875 1.359375 \nQ 28.46875 -1.21875 22.125 -1.21875 \nQ 12.703125 -1.21875 7.6875 4.203125 \nQ 2.6875 9.625 2.875 20.3125 \nz\n\" id=\"ArialMT-74\"/>\n      </defs>\n      <g style=\"fill:#262626;\" transform=\"translate(98.262187 83.304656)scale(0.22 -0.22)\">\n       <use xlink:href=\"#ArialMT-85\"/>\n       <use x=\"72.216797\" xlink:href=\"#ArialMT-110\"/>\n       <use x=\"127.832031\" xlink:href=\"#ArialMT-105\"/>\n       <use x=\"150.048828\" xlink:href=\"#ArialMT-116\"/>\n       <use x=\"177.832031\" xlink:href=\"#ArialMT-101\"/>\n       <use x=\"233.447266\" xlink:href=\"#ArialMT-100\"/>\n       <use x=\"289.0625\" xlink:href=\"#ArialMT-32\"/>\n       <use x=\"316.845703\" xlink:href=\"#ArialMT-83\"/>\n       <use x=\"383.544922\" xlink:href=\"#ArialMT-116\"/>\n       <use x=\"411.328125\" xlink:href=\"#ArialMT-97\"/>\n       <use x=\"466.943359\" xlink:href=\"#ArialMT-116\"/>\n       <use x=\"494.726562\" xlink:href=\"#ArialMT-101\"/>\n       <use x=\"550.341797\" xlink:href=\"#ArialMT-115\"/>\n       <use x=\"600.341797\" xlink:href=\"#ArialMT-32\"/>\n       <use x=\"628.125\" xlink:href=\"#ArialMT-45\"/>\n       <use x=\"661.425781\" xlink:href=\"#ArialMT-62\"/>\n       <use x=\"719.824219\" xlink:href=\"#ArialMT-32\"/>\n       <use x=\"747.607422\" xlink:href=\"#ArialMT-32\"/>\n       <use x=\"775.390625\" xlink:href=\"#ArialMT-32\"/>\n       <use x=\"803.173828\" xlink:href=\"#ArialMT-32\"/>\n       <use x=\"830.957031\" xlink:href=\"#ArialMT-32\"/>\n       <use x=\"858.740234\" xlink:href=\"#ArialMT-32\"/>\n       <use x=\"886.523438\" xlink:href=\"#ArialMT-74\"/>\n       <use x=\"936.523438\" xlink:href=\"#ArialMT-97\"/>\n       <use x=\"992.138672\" xlink:href=\"#ArialMT-112\"/>\n       <use x=\"1047.753906\" xlink:href=\"#ArialMT-97\"/>\n       <use x=\"1103.369141\" xlink:href=\"#ArialMT-110\"/>\n      </g>\n     </g>\n    </g>\n    <g id=\"ytick_3\">\n     <g id=\"text_8\">\n      <!-- United States -&gt;      Taiwan -->\n      <g style=\"fill:#262626;\" transform=\"translate(90.115312 113.068594)scale(0.22 -0.22)\">\n       <use xlink:href=\"#ArialMT-85\"/>\n       <use x=\"72.216797\" xlink:href=\"#ArialMT-110\"/>\n       <use x=\"127.832031\" xlink:href=\"#ArialMT-105\"/>\n       <use x=\"150.048828\" xlink:href=\"#ArialMT-116\"/>\n       <use x=\"177.832031\" xlink:href=\"#ArialMT-101\"/>\n       <use x=\"233.447266\" xlink:href=\"#ArialMT-100\"/>\n       <use x=\"289.0625\" xlink:href=\"#ArialMT-32\"/>\n       <use x=\"316.845703\" xlink:href=\"#ArialMT-83\"/>\n       <use x=\"383.544922\" xlink:href=\"#ArialMT-116\"/>\n       <use x=\"411.328125\" xlink:href=\"#ArialMT-97\"/>\n       <use x=\"466.943359\" xlink:href=\"#ArialMT-116\"/>\n       <use x=\"494.726562\" xlink:href=\"#ArialMT-101\"/>\n       <use x=\"550.341797\" xlink:href=\"#ArialMT-115\"/>\n       <use x=\"600.341797\" xlink:href=\"#ArialMT-32\"/>\n       <use x=\"628.125\" xlink:href=\"#ArialMT-45\"/>\n       <use x=\"661.425781\" xlink:href=\"#ArialMT-62\"/>\n       <use x=\"719.824219\" xlink:href=\"#ArialMT-32\"/>\n       <use x=\"747.607422\" xlink:href=\"#ArialMT-32\"/>\n       <use x=\"775.390625\" xlink:href=\"#ArialMT-32\"/>\n       <use x=\"803.173828\" xlink:href=\"#ArialMT-32\"/>\n       <use x=\"830.957031\" xlink:href=\"#ArialMT-32\"/>\n       <use x=\"858.740234\" xlink:href=\"#ArialMT-32\"/>\n       <use x=\"884.773438\" xlink:href=\"#ArialMT-84\"/>\n       <use x=\"934.732422\" xlink:href=\"#ArialMT-97\"/>\n       <use x=\"990.347656\" xlink:href=\"#ArialMT-105\"/>\n       <use x=\"1012.564453\" xlink:href=\"#ArialMT-119\"/>\n       <use x=\"1084.78125\" xlink:href=\"#ArialMT-97\"/>\n       <use x=\"1140.396484\" xlink:href=\"#ArialMT-110\"/>\n      </g>\n     </g>\n    </g>\n    <g id=\"ytick_4\">\n     <g id=\"text_9\">\n      <!-- United States -&gt;      Turkey -->\n      <defs>\n       <path d=\"M 6.640625 0 \nL 6.640625 71.578125 \nL 15.4375 71.578125 \nL 15.4375 30.765625 \nL 36.234375 51.859375 \nL 47.609375 51.859375 \nL 27.78125 32.625 \nL 49.609375 0 \nL 38.765625 0 \nL 21.625 26.515625 \nL 15.4375 20.5625 \nL 15.4375 0 \nz\n\" id=\"ArialMT-107\"/>\n       <path d=\"M 6.203125 -19.96875 \nL 5.21875 -11.71875 \nQ 8.109375 -12.5 10.25 -12.5 \nQ 13.1875 -12.5 14.9375 -11.515625 \nQ 16.703125 -10.546875 17.828125 -8.796875 \nQ 18.65625 -7.46875 20.515625 -2.25 \nQ 20.75 -1.515625 21.296875 -0.09375 \nL 1.609375 51.859375 \nL 11.078125 51.859375 \nL 21.875 21.828125 \nQ 23.96875 16.109375 25.640625 9.8125 \nQ 27.15625 15.875 29.25 21.625 \nL 40.328125 51.859375 \nL 49.125 51.859375 \nL 29.390625 -0.875 \nQ 26.21875 -9.421875 24.46875 -12.640625 \nQ 22.125 -17 19.09375 -19.015625 \nQ 16.0625 -21.046875 11.859375 -21.046875 \nQ 9.328125 -21.046875 6.203125 -19.96875 \nz\n\" id=\"ArialMT-121\"/>\n      </defs>\n      <g style=\"fill:#262626;\" transform=\"translate(92.177812 143.100656)scale(0.22 -0.22)\">\n       <use xlink:href=\"#ArialMT-85\"/>\n       <use x=\"72.216797\" xlink:href=\"#ArialMT-110\"/>\n       <use x=\"127.832031\" xlink:href=\"#ArialMT-105\"/>\n       <use x=\"150.048828\" xlink:href=\"#ArialMT-116\"/>\n       <use x=\"177.832031\" xlink:href=\"#ArialMT-101\"/>\n       <use x=\"233.447266\" xlink:href=\"#ArialMT-100\"/>\n       <use x=\"289.0625\" xlink:href=\"#ArialMT-32\"/>\n       <use x=\"316.845703\" xlink:href=\"#ArialMT-83\"/>\n       <use x=\"383.544922\" xlink:href=\"#ArialMT-116\"/>\n       <use x=\"411.328125\" xlink:href=\"#ArialMT-97\"/>\n       <use x=\"466.943359\" xlink:href=\"#ArialMT-116\"/>\n       <use x=\"494.726562\" xlink:href=\"#ArialMT-101\"/>\n       <use x=\"550.341797\" xlink:href=\"#ArialMT-115\"/>\n       <use x=\"600.341797\" xlink:href=\"#ArialMT-32\"/>\n       <use x=\"628.125\" xlink:href=\"#ArialMT-45\"/>\n       <use x=\"661.425781\" xlink:href=\"#ArialMT-62\"/>\n       <use x=\"719.824219\" xlink:href=\"#ArialMT-32\"/>\n       <use x=\"747.607422\" xlink:href=\"#ArialMT-32\"/>\n       <use x=\"775.390625\" xlink:href=\"#ArialMT-32\"/>\n       <use x=\"803.173828\" xlink:href=\"#ArialMT-32\"/>\n       <use x=\"830.957031\" xlink:href=\"#ArialMT-32\"/>\n       <use x=\"858.740234\" xlink:href=\"#ArialMT-32\"/>\n       <use x=\"884.773438\" xlink:href=\"#ArialMT-84\"/>\n       <use x=\"942.107422\" xlink:href=\"#ArialMT-117\"/>\n       <use x=\"997.722656\" xlink:href=\"#ArialMT-114\"/>\n       <use x=\"1031.023438\" xlink:href=\"#ArialMT-107\"/>\n       <use x=\"1081.023438\" xlink:href=\"#ArialMT-101\"/>\n       <use x=\"1136.638672\" xlink:href=\"#ArialMT-121\"/>\n      </g>\n     </g>\n    </g>\n    <g id=\"ytick_5\">\n     <g id=\"text_10\">\n      <!-- United States -&gt;      Greece -->\n      <defs>\n       <path d=\"M 41.21875 28.078125 \nL 41.21875 36.46875 \nL 71.53125 36.53125 \nL 71.53125 9.96875 \nQ 64.546875 4.390625 57.125 1.578125 \nQ 49.703125 -1.21875 41.890625 -1.21875 \nQ 31.34375 -1.21875 22.71875 3.296875 \nQ 14.109375 7.8125 9.71875 16.359375 \nQ 5.328125 24.90625 5.328125 35.453125 \nQ 5.328125 45.90625 9.6875 54.953125 \nQ 14.0625 64.015625 22.265625 68.40625 \nQ 30.46875 72.796875 41.15625 72.796875 \nQ 48.921875 72.796875 55.1875 70.28125 \nQ 61.46875 67.78125 65.03125 63.28125 \nQ 68.609375 58.796875 70.453125 51.5625 \nL 61.921875 49.21875 \nQ 60.296875 54.6875 57.90625 57.8125 \nQ 55.515625 60.9375 51.0625 62.8125 \nQ 46.625 64.703125 41.21875 64.703125 \nQ 34.71875 64.703125 29.984375 62.71875 \nQ 25.25 60.75 22.34375 57.515625 \nQ 19.4375 54.296875 17.828125 50.4375 \nQ 15.09375 43.796875 15.09375 36.03125 \nQ 15.09375 26.46875 18.390625 20.015625 \nQ 21.6875 13.578125 27.984375 10.453125 \nQ 34.28125 7.328125 41.359375 7.328125 \nQ 47.515625 7.328125 53.375 9.6875 \nQ 59.234375 12.0625 62.25 14.75 \nL 62.25 28.078125 \nz\n\" id=\"ArialMT-71\"/>\n       <path d=\"M 40.4375 19 \nL 49.078125 17.875 \nQ 47.65625 8.9375 41.8125 3.875 \nQ 35.984375 -1.171875 27.484375 -1.171875 \nQ 16.84375 -1.171875 10.375 5.78125 \nQ 3.90625 12.75 3.90625 25.734375 \nQ 3.90625 34.125 6.6875 40.421875 \nQ 9.46875 46.734375 15.15625 49.875 \nQ 20.84375 53.03125 27.546875 53.03125 \nQ 35.984375 53.03125 41.359375 48.75 \nQ 46.734375 44.484375 48.25 36.625 \nL 39.703125 35.296875 \nQ 38.484375 40.53125 35.375 43.15625 \nQ 32.28125 45.796875 27.875 45.796875 \nQ 21.234375 45.796875 17.078125 41.03125 \nQ 12.9375 36.28125 12.9375 25.984375 \nQ 12.9375 15.53125 16.9375 10.796875 \nQ 20.953125 6.0625 27.390625 6.0625 \nQ 32.5625 6.0625 36.03125 9.234375 \nQ 39.5 12.40625 40.4375 19 \nz\n\" id=\"ArialMT-99\"/>\n      </defs>\n      <g style=\"fill:#262626;\" transform=\"translate(86.059062 172.864594)scale(0.22 -0.22)\">\n       <use xlink:href=\"#ArialMT-85\"/>\n       <use x=\"72.216797\" xlink:href=\"#ArialMT-110\"/>\n       <use x=\"127.832031\" xlink:href=\"#ArialMT-105\"/>\n       <use x=\"150.048828\" xlink:href=\"#ArialMT-116\"/>\n       <use x=\"177.832031\" xlink:href=\"#ArialMT-101\"/>\n       <use x=\"233.447266\" xlink:href=\"#ArialMT-100\"/>\n       <use x=\"289.0625\" xlink:href=\"#ArialMT-32\"/>\n       <use x=\"316.845703\" xlink:href=\"#ArialMT-83\"/>\n       <use x=\"383.544922\" xlink:href=\"#ArialMT-116\"/>\n       <use x=\"411.328125\" xlink:href=\"#ArialMT-97\"/>\n       <use x=\"466.943359\" xlink:href=\"#ArialMT-116\"/>\n       <use x=\"494.726562\" xlink:href=\"#ArialMT-101\"/>\n       <use x=\"550.341797\" xlink:href=\"#ArialMT-115\"/>\n       <use x=\"600.341797\" xlink:href=\"#ArialMT-32\"/>\n       <use x=\"628.125\" xlink:href=\"#ArialMT-45\"/>\n       <use x=\"661.425781\" xlink:href=\"#ArialMT-62\"/>\n       <use x=\"719.824219\" xlink:href=\"#ArialMT-32\"/>\n       <use x=\"747.607422\" xlink:href=\"#ArialMT-32\"/>\n       <use x=\"775.390625\" xlink:href=\"#ArialMT-32\"/>\n       <use x=\"803.173828\" xlink:href=\"#ArialMT-32\"/>\n       <use x=\"830.957031\" xlink:href=\"#ArialMT-32\"/>\n       <use x=\"858.740234\" xlink:href=\"#ArialMT-32\"/>\n       <use x=\"886.523438\" xlink:href=\"#ArialMT-71\"/>\n       <use x=\"964.306641\" xlink:href=\"#ArialMT-114\"/>\n       <use x=\"997.607422\" xlink:href=\"#ArialMT-101\"/>\n       <use x=\"1053.222656\" xlink:href=\"#ArialMT-101\"/>\n       <use x=\"1108.837891\" xlink:href=\"#ArialMT-99\"/>\n       <use x=\"1158.837891\" xlink:href=\"#ArialMT-101\"/>\n      </g>\n     </g>\n    </g>\n    <g id=\"ytick_6\">\n     <g id=\"text_11\">\n      <!-- United States -&gt;      Israel -->\n      <defs>\n       <path d=\"M 9.328125 0 \nL 9.328125 71.578125 \nL 18.796875 71.578125 \nL 18.796875 0 \nz\n\" id=\"ArialMT-73\"/>\n      </defs>\n      <g style=\"fill:#262626;\" transform=\"translate(104.405 202.762594)scale(0.22 -0.22)\">\n       <use xlink:href=\"#ArialMT-85\"/>\n       <use x=\"72.216797\" xlink:href=\"#ArialMT-110\"/>\n       <use x=\"127.832031\" xlink:href=\"#ArialMT-105\"/>\n       <use x=\"150.048828\" xlink:href=\"#ArialMT-116\"/>\n       <use x=\"177.832031\" xlink:href=\"#ArialMT-101\"/>\n       <use x=\"233.447266\" xlink:href=\"#ArialMT-100\"/>\n       <use x=\"289.0625\" xlink:href=\"#ArialMT-32\"/>\n       <use x=\"316.845703\" xlink:href=\"#ArialMT-83\"/>\n       <use x=\"383.544922\" xlink:href=\"#ArialMT-116\"/>\n       <use x=\"411.328125\" xlink:href=\"#ArialMT-97\"/>\n       <use x=\"466.943359\" xlink:href=\"#ArialMT-116\"/>\n       <use x=\"494.726562\" xlink:href=\"#ArialMT-101\"/>\n       <use x=\"550.341797\" xlink:href=\"#ArialMT-115\"/>\n       <use x=\"600.341797\" xlink:href=\"#ArialMT-32\"/>\n       <use x=\"628.125\" xlink:href=\"#ArialMT-45\"/>\n       <use x=\"661.425781\" xlink:href=\"#ArialMT-62\"/>\n       <use x=\"719.824219\" xlink:href=\"#ArialMT-32\"/>\n       <use x=\"747.607422\" xlink:href=\"#ArialMT-32\"/>\n       <use x=\"775.390625\" xlink:href=\"#ArialMT-32\"/>\n       <use x=\"803.173828\" xlink:href=\"#ArialMT-32\"/>\n       <use x=\"830.957031\" xlink:href=\"#ArialMT-32\"/>\n       <use x=\"858.740234\" xlink:href=\"#ArialMT-32\"/>\n       <use x=\"886.523438\" xlink:href=\"#ArialMT-73\"/>\n       <use x=\"914.306641\" xlink:href=\"#ArialMT-115\"/>\n       <use x=\"964.306641\" xlink:href=\"#ArialMT-114\"/>\n       <use x=\"997.607422\" xlink:href=\"#ArialMT-97\"/>\n       <use x=\"1053.222656\" xlink:href=\"#ArialMT-101\"/>\n       <use x=\"1108.837891\" xlink:href=\"#ArialMT-108\"/>\n      </g>\n     </g>\n    </g>\n    <g id=\"ytick_7\">\n     <g id=\"text_12\">\n      <!-- United States -&gt;      Thailand -->\n      <g style=\"fill:#262626;\" transform=\"translate(74.199687 232.660594)scale(0.22 -0.22)\">\n       <use xlink:href=\"#ArialMT-85\"/>\n       <use x=\"72.216797\" xlink:href=\"#ArialMT-110\"/>\n       <use x=\"127.832031\" xlink:href=\"#ArialMT-105\"/>\n       <use x=\"150.048828\" xlink:href=\"#ArialMT-116\"/>\n       <use x=\"177.832031\" xlink:href=\"#ArialMT-101\"/>\n       <use x=\"233.447266\" xlink:href=\"#ArialMT-100\"/>\n       <use x=\"289.0625\" xlink:href=\"#ArialMT-32\"/>\n       <use x=\"316.845703\" xlink:href=\"#ArialMT-83\"/>\n       <use x=\"383.544922\" xlink:href=\"#ArialMT-116\"/>\n       <use x=\"411.328125\" xlink:href=\"#ArialMT-97\"/>\n       <use x=\"466.943359\" xlink:href=\"#ArialMT-116\"/>\n       <use x=\"494.726562\" xlink:href=\"#ArialMT-101\"/>\n       <use x=\"550.341797\" xlink:href=\"#ArialMT-115\"/>\n       <use x=\"600.341797\" xlink:href=\"#ArialMT-32\"/>\n       <use x=\"628.125\" xlink:href=\"#ArialMT-45\"/>\n       <use x=\"661.425781\" xlink:href=\"#ArialMT-62\"/>\n       <use x=\"719.824219\" xlink:href=\"#ArialMT-32\"/>\n       <use x=\"747.607422\" xlink:href=\"#ArialMT-32\"/>\n       <use x=\"775.390625\" xlink:href=\"#ArialMT-32\"/>\n       <use x=\"803.173828\" xlink:href=\"#ArialMT-32\"/>\n       <use x=\"830.957031\" xlink:href=\"#ArialMT-32\"/>\n       <use x=\"858.740234\" xlink:href=\"#ArialMT-32\"/>\n       <use x=\"884.773438\" xlink:href=\"#ArialMT-84\"/>\n       <use x=\"945.857422\" xlink:href=\"#ArialMT-104\"/>\n       <use x=\"1001.472656\" xlink:href=\"#ArialMT-97\"/>\n       <use x=\"1057.087891\" xlink:href=\"#ArialMT-105\"/>\n       <use x=\"1079.304688\" xlink:href=\"#ArialMT-108\"/>\n       <use x=\"1101.521484\" xlink:href=\"#ArialMT-97\"/>\n       <use x=\"1157.136719\" xlink:href=\"#ArialMT-110\"/>\n       <use x=\"1212.751953\" xlink:href=\"#ArialMT-100\"/>\n      </g>\n     </g>\n    </g>\n    <g id=\"ytick_8\">\n     <g id=\"text_13\">\n      <!-- United States -&gt;      Saudi Arabia -->\n      <defs>\n       <path d=\"M -0.140625 0 \nL 27.34375 71.578125 \nL 37.546875 71.578125 \nL 66.84375 0 \nL 56.0625 0 \nL 47.703125 21.6875 \nL 17.78125 21.6875 \nL 9.90625 0 \nz\nM 20.515625 29.390625 \nL 44.78125 29.390625 \nL 37.3125 49.21875 \nQ 33.890625 58.25 32.234375 64.0625 \nQ 30.859375 57.171875 28.375 50.390625 \nz\n\" id=\"ArialMT-65\"/>\n      </defs>\n      <g style=\"fill:#262626;\" transform=\"translate(33.44125 262.558594)scale(0.22 -0.22)\">\n       <use xlink:href=\"#ArialMT-85\"/>\n       <use x=\"72.216797\" xlink:href=\"#ArialMT-110\"/>\n       <use x=\"127.832031\" xlink:href=\"#ArialMT-105\"/>\n       <use x=\"150.048828\" xlink:href=\"#ArialMT-116\"/>\n       <use x=\"177.832031\" xlink:href=\"#ArialMT-101\"/>\n       <use x=\"233.447266\" xlink:href=\"#ArialMT-100\"/>\n       <use x=\"289.0625\" xlink:href=\"#ArialMT-32\"/>\n       <use x=\"316.845703\" xlink:href=\"#ArialMT-83\"/>\n       <use x=\"383.544922\" xlink:href=\"#ArialMT-116\"/>\n       <use x=\"411.328125\" xlink:href=\"#ArialMT-97\"/>\n       <use x=\"466.943359\" xlink:href=\"#ArialMT-116\"/>\n       <use x=\"494.726562\" xlink:href=\"#ArialMT-101\"/>\n       <use x=\"550.341797\" xlink:href=\"#ArialMT-115\"/>\n       <use x=\"600.341797\" xlink:href=\"#ArialMT-32\"/>\n       <use x=\"628.125\" xlink:href=\"#ArialMT-45\"/>\n       <use x=\"661.425781\" xlink:href=\"#ArialMT-62\"/>\n       <use x=\"719.824219\" xlink:href=\"#ArialMT-32\"/>\n       <use x=\"747.607422\" xlink:href=\"#ArialMT-32\"/>\n       <use x=\"775.390625\" xlink:href=\"#ArialMT-32\"/>\n       <use x=\"803.173828\" xlink:href=\"#ArialMT-32\"/>\n       <use x=\"830.957031\" xlink:href=\"#ArialMT-32\"/>\n       <use x=\"858.740234\" xlink:href=\"#ArialMT-32\"/>\n       <use x=\"886.523438\" xlink:href=\"#ArialMT-83\"/>\n       <use x=\"953.222656\" xlink:href=\"#ArialMT-97\"/>\n       <use x=\"1008.837891\" xlink:href=\"#ArialMT-117\"/>\n       <use x=\"1064.453125\" xlink:href=\"#ArialMT-100\"/>\n       <use x=\"1120.068359\" xlink:href=\"#ArialMT-105\"/>\n       <use x=\"1142.285156\" xlink:href=\"#ArialMT-32\"/>\n       <use x=\"1164.568359\" xlink:href=\"#ArialMT-65\"/>\n       <use x=\"1231.267578\" xlink:href=\"#ArialMT-114\"/>\n       <use x=\"1264.568359\" xlink:href=\"#ArialMT-97\"/>\n       <use x=\"1320.183594\" xlink:href=\"#ArialMT-98\"/>\n       <use x=\"1375.798828\" xlink:href=\"#ArialMT-105\"/>\n       <use x=\"1398.015625\" xlink:href=\"#ArialMT-97\"/>\n      </g>\n     </g>\n    </g>\n    <g id=\"ytick_9\">\n     <g id=\"text_14\">\n      <!-- United States -&gt;      Italy -->\n      <g style=\"fill:#262626;\" transform=\"translate(117.8525 292.590656)scale(0.22 -0.22)\">\n       <use xlink:href=\"#ArialMT-85\"/>\n       <use x=\"72.216797\" xlink:href=\"#ArialMT-110\"/>\n       <use x=\"127.832031\" xlink:href=\"#ArialMT-105\"/>\n       <use x=\"150.048828\" xlink:href=\"#ArialMT-116\"/>\n       <use x=\"177.832031\" xlink:href=\"#ArialMT-101\"/>\n       <use x=\"233.447266\" xlink:href=\"#ArialMT-100\"/>\n       <use x=\"289.0625\" xlink:href=\"#ArialMT-32\"/>\n       <use x=\"316.845703\" xlink:href=\"#ArialMT-83\"/>\n       <use x=\"383.544922\" xlink:href=\"#ArialMT-116\"/>\n       <use x=\"411.328125\" xlink:href=\"#ArialMT-97\"/>\n       <use x=\"466.943359\" xlink:href=\"#ArialMT-116\"/>\n       <use x=\"494.726562\" xlink:href=\"#ArialMT-101\"/>\n       <use x=\"550.341797\" xlink:href=\"#ArialMT-115\"/>\n       <use x=\"600.341797\" xlink:href=\"#ArialMT-32\"/>\n       <use x=\"628.125\" xlink:href=\"#ArialMT-45\"/>\n       <use x=\"661.425781\" xlink:href=\"#ArialMT-62\"/>\n       <use x=\"719.824219\" xlink:href=\"#ArialMT-32\"/>\n       <use x=\"747.607422\" xlink:href=\"#ArialMT-32\"/>\n       <use x=\"775.390625\" xlink:href=\"#ArialMT-32\"/>\n       <use x=\"803.173828\" xlink:href=\"#ArialMT-32\"/>\n       <use x=\"830.957031\" xlink:href=\"#ArialMT-32\"/>\n       <use x=\"858.740234\" xlink:href=\"#ArialMT-32\"/>\n       <use x=\"886.523438\" xlink:href=\"#ArialMT-73\"/>\n       <use x=\"914.306641\" xlink:href=\"#ArialMT-116\"/>\n       <use x=\"942.089844\" xlink:href=\"#ArialMT-97\"/>\n       <use x=\"997.705078\" xlink:href=\"#ArialMT-108\"/>\n       <use x=\"1019.921875\" xlink:href=\"#ArialMT-121\"/>\n      </g>\n     </g>\n    </g>\n    <g id=\"ytick_10\">\n     <g id=\"text_15\">\n      <!-- United States -&gt;      Egypt -->\n      <defs>\n       <path d=\"M 7.90625 0 \nL 7.90625 71.578125 \nL 59.671875 71.578125 \nL 59.671875 63.140625 \nL 17.390625 63.140625 \nL 17.390625 41.21875 \nL 56.984375 41.21875 \nL 56.984375 32.8125 \nL 17.390625 32.8125 \nL 17.390625 8.453125 \nL 61.328125 8.453125 \nL 61.328125 0 \nz\n\" id=\"ArialMT-69\"/>\n       <path d=\"M 4.984375 -4.296875 \nL 13.53125 -5.5625 \nQ 14.0625 -9.515625 16.5 -11.328125 \nQ 19.78125 -13.765625 25.4375 -13.765625 \nQ 31.546875 -13.765625 34.859375 -11.328125 \nQ 38.1875 -8.890625 39.359375 -4.5 \nQ 40.046875 -1.8125 39.984375 6.78125 \nQ 34.234375 0 25.640625 0 \nQ 14.9375 0 9.078125 7.71875 \nQ 3.21875 15.4375 3.21875 26.21875 \nQ 3.21875 33.640625 5.90625 39.90625 \nQ 8.59375 46.1875 13.6875 49.609375 \nQ 18.796875 53.03125 25.6875 53.03125 \nQ 34.859375 53.03125 40.828125 45.609375 \nL 40.828125 51.859375 \nL 48.921875 51.859375 \nL 48.921875 7.03125 \nQ 48.921875 -5.078125 46.453125 -10.125 \nQ 44 -15.1875 38.640625 -18.109375 \nQ 33.296875 -21.046875 25.484375 -21.046875 \nQ 16.21875 -21.046875 10.5 -16.875 \nQ 4.78125 -12.703125 4.984375 -4.296875 \nz\nM 12.25 26.859375 \nQ 12.25 16.65625 16.296875 11.96875 \nQ 20.359375 7.28125 26.46875 7.28125 \nQ 32.515625 7.28125 36.609375 11.9375 \nQ 40.71875 16.609375 40.71875 26.5625 \nQ 40.71875 36.078125 36.5 40.90625 \nQ 32.28125 45.75 26.3125 45.75 \nQ 20.453125 45.75 16.34375 40.984375 \nQ 12.25 36.234375 12.25 26.859375 \nz\n\" id=\"ArialMT-103\"/>\n      </defs>\n      <g style=\"fill:#262626;\" transform=\"translate(101.94375 322.488656)scale(0.22 -0.22)\">\n       <use xlink:href=\"#ArialMT-85\"/>\n       <use x=\"72.216797\" xlink:href=\"#ArialMT-110\"/>\n       <use x=\"127.832031\" xlink:href=\"#ArialMT-105\"/>\n       <use x=\"150.048828\" xlink:href=\"#ArialMT-116\"/>\n       <use x=\"177.832031\" xlink:href=\"#ArialMT-101\"/>\n       <use x=\"233.447266\" xlink:href=\"#ArialMT-100\"/>\n       <use x=\"289.0625\" xlink:href=\"#ArialMT-32\"/>\n       <use x=\"316.845703\" xlink:href=\"#ArialMT-83\"/>\n       <use x=\"383.544922\" xlink:href=\"#ArialMT-116\"/>\n       <use x=\"411.328125\" xlink:href=\"#ArialMT-97\"/>\n       <use x=\"466.943359\" xlink:href=\"#ArialMT-116\"/>\n       <use x=\"494.726562\" xlink:href=\"#ArialMT-101\"/>\n       <use x=\"550.341797\" xlink:href=\"#ArialMT-115\"/>\n       <use x=\"600.341797\" xlink:href=\"#ArialMT-32\"/>\n       <use x=\"628.125\" xlink:href=\"#ArialMT-45\"/>\n       <use x=\"661.425781\" xlink:href=\"#ArialMT-62\"/>\n       <use x=\"719.824219\" xlink:href=\"#ArialMT-32\"/>\n       <use x=\"747.607422\" xlink:href=\"#ArialMT-32\"/>\n       <use x=\"775.390625\" xlink:href=\"#ArialMT-32\"/>\n       <use x=\"803.173828\" xlink:href=\"#ArialMT-32\"/>\n       <use x=\"830.957031\" xlink:href=\"#ArialMT-32\"/>\n       <use x=\"858.740234\" xlink:href=\"#ArialMT-32\"/>\n       <use x=\"886.523438\" xlink:href=\"#ArialMT-69\"/>\n       <use x=\"953.222656\" xlink:href=\"#ArialMT-103\"/>\n       <use x=\"1008.837891\" xlink:href=\"#ArialMT-121\"/>\n       <use x=\"1058.837891\" xlink:href=\"#ArialMT-112\"/>\n       <use x=\"1114.453125\" xlink:href=\"#ArialMT-116\"/>\n      </g>\n     </g>\n    </g>\n    <g id=\"text_16\">\n     <!-- RecSup -->\n     <defs>\n      <path d=\"M 7.859375 0 \nL 7.859375 71.578125 \nL 39.59375 71.578125 \nQ 49.171875 71.578125 54.140625 69.640625 \nQ 59.125 67.71875 62.109375 62.828125 \nQ 65.09375 57.953125 65.09375 52.046875 \nQ 65.09375 44.4375 60.15625 39.203125 \nQ 55.21875 33.984375 44.921875 32.5625 \nQ 48.6875 30.765625 50.640625 29 \nQ 54.78125 25.203125 58.5 19.484375 \nL 70.953125 0 \nL 59.03125 0 \nL 49.5625 14.890625 \nQ 45.40625 21.34375 42.71875 24.75 \nQ 40.046875 28.171875 37.921875 29.53125 \nQ 35.796875 30.90625 33.59375 31.453125 \nQ 31.984375 31.78125 28.328125 31.78125 \nL 17.328125 31.78125 \nL 17.328125 0 \nz\nM 17.328125 39.984375 \nL 37.703125 39.984375 \nQ 44.1875 39.984375 47.84375 41.328125 \nQ 51.515625 42.671875 53.421875 45.625 \nQ 55.328125 48.578125 55.328125 52.046875 \nQ 55.328125 57.125 51.640625 60.390625 \nQ 47.953125 63.671875 39.984375 63.671875 \nL 17.328125 63.671875 \nz\n\" id=\"ArialMT-82\"/>\n     </defs>\n     <g style=\"fill:#262626;\" transform=\"translate(24.67125 222.63)rotate(-90)scale(0.24 -0.24)\">\n      <use xlink:href=\"#ArialMT-82\"/>\n      <use x=\"72.216797\" xlink:href=\"#ArialMT-101\"/>\n      <use x=\"127.832031\" xlink:href=\"#ArialMT-99\"/>\n      <use x=\"177.832031\" xlink:href=\"#ArialMT-83\"/>\n      <use x=\"244.53125\" xlink:href=\"#ArialMT-117\"/>\n      <use x=\"300.146484\" xlink:href=\"#ArialMT-112\"/>\n     </g>\n    </g>\n   </g>\n   <g id=\"patch_3\">\n    <path clip-path=\"url(#pade9c84b3b)\" d=\"M 372.225 33.4398 \nL 797.367857 33.4398 \nL 797.367857 57.3582 \nL 372.225 57.3582 \nz\n\" style=\"fill:#fbb4ae;stroke:#ffffff;stroke-linejoin:miter;stroke-width:2;\"/>\n   </g>\n   <g id=\"patch_4\">\n    <path clip-path=\"url(#pade9c84b3b)\" d=\"M 372.225 63.3378 \nL 779.554609 63.3378 \nL 779.554609 87.2562 \nL 372.225 87.2562 \nz\n\" style=\"fill:#b3cde3;stroke:#ffffff;stroke-linejoin:miter;stroke-width:2;\"/>\n   </g>\n   <g id=\"patch_5\">\n    <path clip-path=\"url(#pade9c84b3b)\" d=\"M 372.225 93.2358 \nL 759.366261 93.2358 \nL 759.366261 117.1542 \nL 372.225 117.1542 \nz\n\" style=\"fill:#ccebc5;stroke:#ffffff;stroke-linejoin:miter;stroke-width:2;\"/>\n   </g>\n   <g id=\"patch_6\">\n    <path clip-path=\"url(#pade9c84b3b)\" d=\"M 372.225 123.1338 \nL 713.051816 123.1338 \nL 713.051816 147.0522 \nL 372.225 147.0522 \nz\n\" style=\"fill:#decbe4;stroke:#ffffff;stroke-linejoin:miter;stroke-width:2;\"/>\n   </g>\n   <g id=\"patch_7\">\n    <path clip-path=\"url(#pade9c84b3b)\" d=\"M 372.225 153.0318 \nL 698.801217 153.0318 \nL 698.801217 176.9502 \nL 372.225 176.9502 \nz\n\" style=\"fill:#fed9a6;stroke:#ffffff;stroke-linejoin:miter;stroke-width:2;\"/>\n   </g>\n   <g id=\"patch_8\">\n    <path clip-path=\"url(#pade9c84b3b)\" d=\"M 372.225 182.9298 \nL 695.238567 182.9298 \nL 695.238567 206.8482 \nL 372.225 206.8482 \nz\n\" style=\"fill:#ffffcc;stroke:#ffffff;stroke-linejoin:miter;stroke-width:2;\"/>\n   </g>\n   <g id=\"patch_9\">\n    <path clip-path=\"url(#pade9c84b3b)\" d=\"M 372.225 212.8278 \nL 683.363069 212.8278 \nL 683.363069 236.7462 \nL 372.225 236.7462 \nz\n\" style=\"fill:#e5d8bd;stroke:#ffffff;stroke-linejoin:miter;stroke-width:2;\"/>\n   </g>\n   <g id=\"patch_10\">\n    <path clip-path=\"url(#pade9c84b3b)\" d=\"M 372.225 242.7258 \nL 673.86267 242.7258 \nL 673.86267 266.6442 \nL 372.225 266.6442 \nz\n\" style=\"fill:#fddaec;stroke:#ffffff;stroke-linejoin:miter;stroke-width:2;\"/>\n   </g>\n   <g id=\"patch_11\">\n    <path clip-path=\"url(#pade9c84b3b)\" d=\"M 372.225 272.6238 \nL 642.986373 272.6238 \nL 642.986373 296.5422 \nL 372.225 296.5422 \nz\n\" style=\"fill:#f2f2f2;stroke:#ffffff;stroke-linejoin:miter;stroke-width:2;\"/>\n   </g>\n   <g id=\"patch_12\">\n    <path clip-path=\"url(#pade9c84b3b)\" d=\"M 372.225 302.5218 \nL 631.110874 302.5218 \nL 631.110874 326.4402 \nL 372.225 326.4402 \nz\n\" style=\"fill:#fbb4ae;stroke:#ffffff;stroke-linejoin:miter;stroke-width:2;\"/>\n   </g>\n   <g id=\"patch_13\">\n    <path d=\"M 372.225 329.43 \nL 372.225 30.45 \n\" style=\"fill:none;stroke:#ffffff;stroke-linecap:square;stroke-linejoin:miter;stroke-width:2.5;\"/>\n   </g>\n   <g id=\"patch_14\">\n    <path d=\"M 818.625 329.43 \nL 818.625 30.45 \n\" style=\"fill:none;stroke:#ffffff;stroke-linecap:square;stroke-linejoin:miter;stroke-width:2.5;\"/>\n   </g>\n   <g id=\"patch_15\">\n    <path d=\"M 372.225 329.43 \nL 818.625 329.43 \n\" style=\"fill:none;stroke:#ffffff;stroke-linecap:square;stroke-linejoin:miter;stroke-width:2.5;\"/>\n   </g>\n   <g id=\"patch_16\">\n    <path d=\"M 372.225 30.45 \nL 818.625 30.45 \n\" style=\"fill:none;stroke:#ffffff;stroke-linecap:square;stroke-linejoin:miter;stroke-width:2.5;\"/>\n   </g>\n   <g id=\"text_17\">\n    <!-- Top Arms Trading Partners 1950-2019 -->\n    <defs>\n     <path d=\"M 6.59375 0 \nL 6.59375 51.859375 \nL 14.453125 51.859375 \nL 14.453125 44.578125 \nQ 16.890625 48.390625 20.9375 50.703125 \nQ 25 53.03125 30.171875 53.03125 \nQ 35.9375 53.03125 39.625 50.640625 \nQ 43.3125 48.25 44.828125 43.953125 \nQ 50.984375 53.03125 60.84375 53.03125 \nQ 68.5625 53.03125 72.703125 48.75 \nQ 76.859375 44.484375 76.859375 35.59375 \nL 76.859375 0 \nL 68.109375 0 \nL 68.109375 32.671875 \nQ 68.109375 37.9375 67.25 40.25 \nQ 66.40625 42.578125 64.15625 43.984375 \nQ 61.921875 45.40625 58.890625 45.40625 \nQ 53.421875 45.40625 49.796875 41.765625 \nQ 46.1875 38.140625 46.1875 30.125 \nL 46.1875 0 \nL 37.40625 0 \nL 37.40625 33.6875 \nQ 37.40625 39.546875 35.25 42.46875 \nQ 33.109375 45.40625 28.21875 45.40625 \nQ 24.515625 45.40625 21.359375 43.453125 \nQ 18.21875 41.5 16.796875 37.734375 \nQ 15.375 33.984375 15.375 26.90625 \nL 15.375 0 \nz\n\" id=\"ArialMT-109\"/>\n     <path d=\"M 7.71875 0 \nL 7.71875 71.578125 \nL 34.71875 71.578125 \nQ 41.84375 71.578125 45.609375 70.90625 \nQ 50.875 70.015625 54.4375 67.546875 \nQ 58.015625 65.09375 60.1875 60.640625 \nQ 62.359375 56.203125 62.359375 50.875 \nQ 62.359375 41.75 56.546875 35.421875 \nQ 50.734375 29.109375 35.546875 29.109375 \nL 17.1875 29.109375 \nL 17.1875 0 \nz\nM 17.1875 37.546875 \nL 35.6875 37.546875 \nQ 44.875 37.546875 48.734375 40.96875 \nQ 52.59375 44.390625 52.59375 50.59375 \nQ 52.59375 55.078125 50.3125 58.265625 \nQ 48.046875 61.46875 44.34375 62.5 \nQ 41.9375 63.140625 35.5 63.140625 \nL 17.1875 63.140625 \nz\n\" id=\"ArialMT-80\"/>\n     <path d=\"M 5.46875 16.546875 \nL 13.921875 17.328125 \nQ 14.984375 11.375 18.015625 8.6875 \nQ 21.046875 6 25.78125 6 \nQ 29.828125 6 32.875 7.859375 \nQ 35.9375 9.71875 37.890625 12.8125 \nQ 39.84375 15.921875 41.15625 21.1875 \nQ 42.484375 26.46875 42.484375 31.9375 \nQ 42.484375 32.515625 42.4375 33.6875 \nQ 39.796875 29.5 35.234375 26.875 \nQ 30.671875 24.265625 25.34375 24.265625 \nQ 16.453125 24.265625 10.296875 30.703125 \nQ 4.15625 37.15625 4.15625 47.703125 \nQ 4.15625 58.59375 10.578125 65.234375 \nQ 17 71.875 26.65625 71.875 \nQ 33.640625 71.875 39.421875 68.109375 \nQ 45.21875 64.359375 48.21875 57.390625 \nQ 51.21875 50.4375 51.21875 37.25 \nQ 51.21875 23.53125 48.234375 15.40625 \nQ 45.265625 7.28125 39.375 3.03125 \nQ 33.5 -1.21875 25.59375 -1.21875 \nQ 17.1875 -1.21875 11.859375 3.4375 \nQ 6.546875 8.109375 5.46875 16.546875 \nz\nM 41.453125 48.140625 \nQ 41.453125 55.71875 37.421875 60.15625 \nQ 33.40625 64.59375 27.734375 64.59375 \nQ 21.875 64.59375 17.53125 59.8125 \nQ 13.1875 55.03125 13.1875 47.40625 \nQ 13.1875 40.578125 17.3125 36.296875 \nQ 21.4375 32.03125 27.484375 32.03125 \nQ 33.59375 32.03125 37.515625 36.296875 \nQ 41.453125 40.578125 41.453125 48.140625 \nz\n\" id=\"ArialMT-57\"/>\n     <path d=\"M 4.15625 18.75 \nL 13.375 19.53125 \nQ 14.40625 12.796875 18.140625 9.390625 \nQ 21.875 6 27.15625 6 \nQ 33.5 6 37.890625 10.78125 \nQ 42.28125 15.578125 42.28125 23.484375 \nQ 42.28125 31 38.0625 35.34375 \nQ 33.84375 39.703125 27 39.703125 \nQ 22.75 39.703125 19.328125 37.765625 \nQ 15.921875 35.84375 13.96875 32.765625 \nL 5.71875 33.84375 \nL 12.640625 70.609375 \nL 48.25 70.609375 \nL 48.25 62.203125 \nL 19.671875 62.203125 \nL 15.828125 42.96875 \nQ 22.265625 47.46875 29.34375 47.46875 \nQ 38.71875 47.46875 45.15625 40.96875 \nQ 51.609375 34.46875 51.609375 24.265625 \nQ 51.609375 14.546875 45.953125 7.46875 \nQ 39.0625 -1.21875 27.15625 -1.21875 \nQ 17.390625 -1.21875 11.203125 4.25 \nQ 5.03125 9.71875 4.15625 18.75 \nz\n\" id=\"ArialMT-53\"/>\n    </defs>\n    <g style=\"fill:#262626;\" transform=\"translate(392.660625 24.45)scale(0.24 -0.24)\">\n     <use xlink:href=\"#ArialMT-84\"/>\n     <use x=\"49.958984\" xlink:href=\"#ArialMT-111\"/>\n     <use x=\"105.574219\" xlink:href=\"#ArialMT-112\"/>\n     <use x=\"161.189453\" xlink:href=\"#ArialMT-32\"/>\n     <use x=\"183.472656\" xlink:href=\"#ArialMT-65\"/>\n     <use x=\"250.171875\" xlink:href=\"#ArialMT-114\"/>\n     <use x=\"283.472656\" xlink:href=\"#ArialMT-109\"/>\n     <use x=\"366.773438\" xlink:href=\"#ArialMT-115\"/>\n     <use x=\"416.773438\" xlink:href=\"#ArialMT-32\"/>\n     <use x=\"442.806641\" xlink:href=\"#ArialMT-84\"/>\n     <use x=\"500.140625\" xlink:href=\"#ArialMT-114\"/>\n     <use x=\"533.441406\" xlink:href=\"#ArialMT-97\"/>\n     <use x=\"589.056641\" xlink:href=\"#ArialMT-100\"/>\n     <use x=\"644.671875\" xlink:href=\"#ArialMT-105\"/>\n     <use x=\"666.888672\" xlink:href=\"#ArialMT-110\"/>\n     <use x=\"722.503906\" xlink:href=\"#ArialMT-103\"/>\n     <use x=\"778.119141\" xlink:href=\"#ArialMT-32\"/>\n     <use x=\"805.902344\" xlink:href=\"#ArialMT-80\"/>\n     <use x=\"872.601562\" xlink:href=\"#ArialMT-97\"/>\n     <use x=\"928.216797\" xlink:href=\"#ArialMT-114\"/>\n     <use x=\"961.517578\" xlink:href=\"#ArialMT-116\"/>\n     <use x=\"989.300781\" xlink:href=\"#ArialMT-110\"/>\n     <use x=\"1044.916016\" xlink:href=\"#ArialMT-101\"/>\n     <use x=\"1100.53125\" xlink:href=\"#ArialMT-114\"/>\n     <use x=\"1133.832031\" xlink:href=\"#ArialMT-115\"/>\n     <use x=\"1183.832031\" xlink:href=\"#ArialMT-32\"/>\n     <use x=\"1211.615234\" xlink:href=\"#ArialMT-49\"/>\n     <use x=\"1267.230469\" xlink:href=\"#ArialMT-57\"/>\n     <use x=\"1322.845703\" xlink:href=\"#ArialMT-53\"/>\n     <use x=\"1378.460938\" xlink:href=\"#ArialMT-48\"/>\n     <use x=\"1434.076172\" xlink:href=\"#ArialMT-45\"/>\n     <use x=\"1467.376953\" xlink:href=\"#ArialMT-50\"/>\n     <use x=\"1522.992188\" xlink:href=\"#ArialMT-48\"/>\n     <use x=\"1578.607422\" xlink:href=\"#ArialMT-49\"/>\n     <use x=\"1634.222656\" xlink:href=\"#ArialMT-57\"/>\n    </g>\n   </g>\n  </g>\n </g>\n <defs>\n  <clipPath id=\"pade9c84b3b\">\n   <rect height=\"298.98\" width=\"446.4\" x=\"372.225\" y=\"30.45\"/>\n  </clipPath>\n </defs>\n</svg>\n",
      "image/png": "[encoded data removed]"
     },
     "metadata": {}
    }
   ],
   "source": [
    "sns.countplot(y=\"RecSup\", saturation=2, data=rec_sup_df, palette=\"Pastel1\",\n",
    "              order=rec_sup_df['RecSup'].value_counts().iloc[:10].index)\n",
    "\n",
    "fig = plt.gcf()\n",
    "ax = plt.gca()\n",
    "ax.set_title(\"Top Arms Trading Partners 1950-2019\")\n",
    "ax.set_xlabel(\"Total trades between partners\")\n",
    "# fig.savefig('./images/top_10_partners.png',bbox_inches='tight')"
   ]
  },
  {
   "cell_type": "markdown",
   "metadata": {},
   "source": [
    "# TBDs:\n",
    "- Make some tough data wrangling decisions \n",
    "    - Dealing with Delivery Year issues (possibly by estimated delivery years?)\n",
    "- Data prep overall\n",
    "    - Remove anything like trailing whitespace, other character issues \n",
    "- Further EDA of numeric and categorical/unstructured data \n",
    "- Dataframe of the US vs. all other Suppliers to frame classification task \n",
    "- Focus on Cold War era for an EDA sweep \n",
    "- NLP examination of Comments\n",
    "    - Ex: T-SNE and UMAP, n-gram analysis, wordclouds, LDA/other topic modeling\n",
    "    - Esp. clustering and examining clusters\n",
    "    - Feature engineer off predominant phrases/n-grams in Comments corpus \n",
    "    - Word --> Node embedding(see below re: graphs)\n",
    "- Neo4j/nx graphing of data \n",
    "    - Exploration of directed graph (direction being Supplying by Suppliers to Recipients as Actors in the arms trade)\n",
    "    - Centrality and communities analysis(betweenness centrality, PageRank, propogation communities, etc...)\n",
    "    - Viz of graph, everyone loves a good graph viz \n",
    "        - Likely allows for a good alluvial graph of flows of goods\n",
    "        - Temporal graphing of importance in metrics like centrality of Actors \n",
    "- Geospatial work \n",
    "    - Preferably try to link to network/graph work \n",
    "    - Heatmap over time of traders \n",
    "- Modeling for classification task(s): US. vs. other supplier, much more difficult multiclass and multilabel tasks as well\n",
    "    - Naive Bayes, gradient boosting trees/boosting like catboost, neural nets(incld. GNNs) seem good cnadidates for modeling \n",
    "- Modeling for prediction task(s): Amount/preponderance of types of trading by actors in the future ie. time series modeling \n",
    "    - Would be good to get some experience with DeepAR, more work with Prophet, etc. "
   ]
  }
 ],
 "metadata": {
  "kernelspec": {
   "name": "python369jvsc74a57bd06b91386c26e1b70db4d4cd8b49d2e434d142bbd873f1ab11ed019d5f1c41d9fb",
   "display_name": "Python 3.6.9 64-bit ('learn-env': conda)"
  },
  "language_info": {
   "codemirror_mode": {
    "name": "ipython",
    "version": 3
   },
   "file_extension": ".py",
   "mimetype": "text/x-python",
   "name": "python",
   "nbconvert_exporter": "python",
   "pygments_lexer": "ipython3",
   "version": "3.6.9"
  },
  "toc": {
   "base_numbering": 1,
   "nav_menu": {},
   "number_sections": true,
   "sideBar": true,
   "skip_h1_title": false,
   "title_cell": "Table of Contents",
   "title_sidebar": "Contents",
   "toc_cell": true,
   "toc_position": {
    "height": "calc(100% - 180px)",
    "left": "10px",
    "top": "150px",
    "width": "1075.17px"
   },
   "toc_section_display": true,
   "toc_window_display": false
  }
 },
 "nbformat": 4,
 "nbformat_minor": 2
}